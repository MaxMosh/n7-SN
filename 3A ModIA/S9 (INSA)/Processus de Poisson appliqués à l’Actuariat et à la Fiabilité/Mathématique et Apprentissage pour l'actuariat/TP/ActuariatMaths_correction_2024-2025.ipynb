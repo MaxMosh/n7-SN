{
 "cells": [
  {
   "cell_type": "markdown",
   "metadata": {},
   "source": [
    "The aim of this Notebook is to compute numerically premium of contracts and risk measures of contracts in the Cramér-Lundberg model."
   ]
  },
  {
   "cell_type": "code",
   "execution_count": 2,
   "metadata": {},
   "outputs": [],
   "source": [
    "import os\n",
    "import numpy as np\n",
    "import scipy as scp\n",
    "import pylab\n",
    "import math\n",
    "import matplotlib.pyplot as plt\n",
    "%matplotlib inline\n",
    "import numpy.random as rd\n",
    "import scipy.stats as st\n",
    "from scipy.stats import halfnorm\n",
    "l=2     #Parameter lambda of the Poisson process\n",
    "T=365   #Maturity of the contract"
   ]
  },
  {
   "cell_type": "markdown",
   "metadata": {},
   "source": [
    "# Part 1 : An example of important sampling using Monte-Carlo"
   ]
  },
  {
   "cell_type": "markdown",
   "metadata": {},
   "source": [
    "We want to compare the naive MC method and the important sampling one for computing $p:=\\mathbb P[X>4]$ with $X \\sim \\mathcal N(0,1)$"
   ]
  },
  {
   "cell_type": "code",
   "execution_count": 3,
   "metadata": {},
   "outputs": [
    {
     "name": "stdout",
     "output_type": "stream",
     "text": [
      "The exact value of p using the integral representation is 3.167124183311998e-05\n"
     ]
    }
   ],
   "source": [
    "# Print using scipy the numerical approximation of p\n",
    "# p=\n",
    "p = 1 - st.norm.cdf(4)\n",
    "print(\"The exact value of p using the integral representation is\",p)"
   ]
  },
  {
   "cell_type": "markdown",
   "metadata": {},
   "source": [
    "We implement the naive estimator $\\hat{\\mu}_n^{(1)} := \\frac1n \\sum_{i=1}^n 1_{X_i > 4}$, $X_i \\sim \\mathcal N(0,1)$"
   ]
  },
  {
   "cell_type": "code",
   "execution_count": 4,
   "metadata": {},
   "outputs": [
    {
     "name": "stdout",
     "output_type": "stream",
     "text": [
      "Estimateur naif 0.001\n",
      "Erreur de l'estimateur naif 0.00096832875816688\n"
     ]
    }
   ],
   "source": [
    "# Compute using Monte-Carlo algorithm the approximated value a of p\n",
    "#\n",
    "n = 1000 #\n",
    "a = 0 #\n",
    "for i in range(n):\n",
    "    X = rd.normal(0,1)\n",
    "    if X >= 4:\n",
    "        a +=1\n",
    "a = a/n\n",
    "print(\"Estimateur naif\",a)\n",
    "print(\"Erreur de l'estimateur naif\",abs(a-p))"
   ]
  },
  {
   "cell_type": "markdown",
   "metadata": {},
   "source": [
    "We implement the important sampling method $\\hat{\\mu}_2^{(n)} := \\frac1n \\sum_{i=1}^n 1_{X_i >4} e^{-\\theta X_i+\\theta^2/2}$, $X_i \\sim \\mathcal N(\\theta,1)$"
   ]
  },
  {
   "cell_type": "code",
   "execution_count": 5,
   "metadata": {},
   "outputs": [
    {
     "name": "stdout",
     "output_type": "stream",
     "text": [
      "Estimateur important sampling 3.3732983700034354e-05\n",
      "Erreur de l'estimateur IS 2.0617418669143756e-06\n"
     ]
    }
   ],
   "source": [
    "# Implement b; compare with a\n",
    "n = 1000 #\n",
    "b = 0 #\n",
    "theta = 4 #\n",
    "for i in range(n):\n",
    "    X = rd.normal(theta,1)\n",
    "    if X >= 4:\n",
    "        b += np.exp(-theta*X + theta**2/2)\n",
    "b = b/n\n",
    "print(\"Estimateur important sampling\",b)\n",
    "print(\"Erreur de l'estimateur IS\",abs(b-p))"
   ]
  },
  {
   "cell_type": "markdown",
   "metadata": {},
   "source": [
    "# Part 1 : The Poisson process"
   ]
  },
  {
   "cell_type": "code",
   "execution_count": 6,
   "metadata": {},
   "outputs": [],
   "source": [
    "def Jump_Times_Poisson(lam,Te):\n",
    "    tau=[]\n",
    "    tau.append(rd.exponential(1/lam))\n",
    "    while tau[-1] < Te:\n",
    "        tau.append(tau[-1] + rd.exponential(1/lam))\n",
    "    #tau is the ordered list of jumps the Poisson process \n",
    "    return tau"
   ]
  },
  {
   "cell_type": "code",
   "execution_count": 7,
   "metadata": {},
   "outputs": [],
   "source": [
    "def plot_Poisson(lam,Te):\n",
    "    tau=Jump_Times_Poisson(lam,Te)\n",
    "    N=[0]\n",
    "    for i in range(1,len(tau)):\n",
    "        N.append(i)\n",
    "    plt.step(tau,N,where='post')\n",
    "    plt.plot(tau,N, 'C0o', alpha=0.5)"
   ]
  },
  {
   "cell_type": "code",
   "execution_count": 8,
   "metadata": {},
   "outputs": [
    {
     "data": {
      "image/png": "[encoded data removed]",
      "text/plain": [
       "<Figure size 640x480 with 1 Axes>"
      ]
     },
     "metadata": {},
     "output_type": "display_data"
    }
   ],
   "source": [
    "plot_Poisson(l,10)"
   ]
  },
  {
   "cell_type": "markdown",
   "metadata": {},
   "source": [
    "We compute using the Monte-Carlo algorithm the quantity $\\mathbb{E}[N_T]$"
   ]
  },
  {
   "cell_type": "code",
   "execution_count": 9,
   "metadata": {},
   "outputs": [],
   "source": [
    "def ExpPoisson(lam,T):\n",
    "    M=3000\n",
    "    e=0\n",
    "    # Write e the estimator of the expectation of N_T\n",
    "    for i in range(M):\n",
    "        tau = Jump_Times_Poisson(lam,T)\n",
    "        e += len(tau)\n",
    "    e = e/M #\n",
    "    return e"
   ]
  },
  {
   "cell_type": "code",
   "execution_count": 10,
   "metadata": {},
   "outputs": [
    {
     "name": "stdout",
     "output_type": "stream",
     "text": [
      "Error= 0.9556666666666658\n"
     ]
    }
   ],
   "source": [
    "print('Error=',ExpPoisson(2,10)-2*10)"
   ]
  },
  {
   "cell_type": "markdown",
   "metadata": {},
   "source": [
    "# Part II : Simulation and study of the claims"
   ]
  },
  {
   "cell_type": "markdown",
   "metadata": {},
   "source": [
    "## 1) Small claims case"
   ]
  },
  {
   "cell_type": "markdown",
   "metadata": {},
   "source": [
    "Half normal distribution"
   ]
  },
  {
   "cell_type": "code",
   "execution_count": 11,
   "metadata": {},
   "outputs": [
    {
     "data": {
      "image/png": "[encoded data removed]",
      "text/plain": [
       "<Figure size 640x480 with 1 Axes>"
      ]
     },
     "metadata": {},
     "output_type": "display_data"
    }
   ],
   "source": [
    "m=0\n",
    "sig2=1\n",
    "N=100000\n",
    "G=st.halfnorm.rvs(m,np.sqrt(sig2),N)\n",
    "\n",
    "n=10\n",
    "pb=[]\n",
    "c=[]\n",
    "mi=0\n",
    "ma=mi+5*sig2\n",
    "\n",
    "for k in range(0,2*(n+1)):\n",
    "    tk=mi+k*(ma-mi)/(2*n+1)\n",
    "    c.append(tk)\n",
    "    pb.append((np.sqrt(2)/np.sqrt(sig2*math.pi))*np.exp(-(tk)**2/(2*sig2)))    \n",
    "fig=plt.figure()\n",
    "ax = fig.add_subplot(1,1,1)\n",
    "ax.hist(G, bins=c, density=True, edgecolor='k')\n",
    "ax.plot(c,pb, '-')\n",
    "plt.show()"
   ]
  },
  {
   "cell_type": "markdown",
   "metadata": {},
   "source": [
    "Lognormal distribution"
   ]
  },
  {
   "cell_type": "code",
   "execution_count": 12,
   "metadata": {},
   "outputs": [
    {
     "name": "stderr",
     "output_type": "stream",
     "text": [
      "/tmp/ipykernel_4814/3212836077.py:15: RuntimeWarning: divide by zero encountered in scalar divide\n",
      "  pb.append( (1/(tk*np.sqrt(2*math.pi*sig2)))*np.exp(-((np.log(tk-m))**2)/(2*sig2)))\n",
      "/tmp/ipykernel_4814/3212836077.py:15: RuntimeWarning: divide by zero encountered in log\n",
      "  pb.append( (1/(tk*np.sqrt(2*math.pi*sig2)))*np.exp(-((np.log(tk-m))**2)/(2*sig2)))\n",
      "/tmp/ipykernel_4814/3212836077.py:15: RuntimeWarning: invalid value encountered in scalar multiply\n",
      "  pb.append( (1/(tk*np.sqrt(2*math.pi*sig2)))*np.exp(-((np.log(tk-m))**2)/(2*sig2)))\n"
     ]
    },
    {
     "data": {
      "image/png": "[encoded data removed]",
      "text/plain": [
       "<Figure size 640x480 with 1 Axes>"
      ]
     },
     "metadata": {},
     "output_type": "display_data"
    }
   ],
   "source": [
    "m=0\n",
    "sig2=1\n",
    "N=100000\n",
    "G=np.random.lognormal(m,np.sqrt(sig2),N)\n",
    "\n",
    "n=10\n",
    "pb=[]\n",
    "c=[]\n",
    "mi=0\n",
    "ma=mi+5*sig2\n",
    "\n",
    "for k in range(0,2*(n+1)):\n",
    "    tk=mi+k*(ma-mi)/(2*n+1)\n",
    "    c.append(tk)\n",
    "    pb.append( (1/(tk*np.sqrt(2*math.pi*sig2)))*np.exp(-((np.log(tk-m))**2)/(2*sig2)))\n",
    "    \n",
    "fig=plt.figure()\n",
    "ax = fig.add_subplot(1,1,1)\n",
    "ax.hist(G, bins=c, density=True, edgecolor='k')\n",
    "ax.plot(c,pb, '-')\n",
    "plt.show()"
   ]
  },
  {
   "cell_type": "markdown",
   "metadata": {},
   "source": [
    "A Discrete Random variables taking two values"
   ]
  },
  {
   "cell_type": "code",
   "execution_count": 13,
   "metadata": {},
   "outputs": [],
   "source": [
    "def TwoClaim(N):\n",
    "    p=0.3\n",
    "    G= np.random.binomial(1,p,N)\n",
    "    X=[]\n",
    "    for i in range (0,len(G)):\n",
    "        if G[i]==0:\n",
    "            X.append(1)\n",
    "        else:\n",
    "            X.append(5)\n",
    "    return X"
   ]
  },
  {
   "cell_type": "markdown",
   "metadata": {},
   "source": [
    "## 2) Large claims case"
   ]
  },
  {
   "cell_type": "markdown",
   "metadata": {},
   "source": [
    "Weibull distribution"
   ]
  },
  {
   "cell_type": "code",
   "execution_count": 14,
   "metadata": {},
   "outputs": [
    {
     "data": {
      "image/png": "[encoded data removed]",
      "text/plain": [
       "<Figure size 640x480 with 1 Axes>"
      ]
     },
     "metadata": {},
     "output_type": "display_data"
    }
   ],
   "source": [
    "# Coefficient must satisfy : 0 < k < 1 and lambda=1\n",
    "k=0.3\n",
    "N=100000\n",
    "G=np.random.weibull(k,N)\n",
    "\n",
    "n=10\n",
    "pb=[]\n",
    "c=[]\n",
    "mi=0\n",
    "ma=mi+5\n",
    "\n",
    "for l in range(0,2*(n+1)):\n",
    "    tk=mi+l*(ma-mi)/(2*n+1)\n",
    "    c.append(tk)\n",
    "    if tk==0:\n",
    "        pb.append(0)\n",
    "    else:\n",
    "        pb.append(k*(tk)**(k-1)*np.exp(-(tk)**k))    \n",
    "fig=plt.figure()\n",
    "ax = fig.add_subplot(1,1,1)\n",
    "ax.hist(G, bins=c, density=True, edgecolor='k')\n",
    "ax.plot(c,pb, '-')\n",
    "plt.show()"
   ]
  },
  {
   "cell_type": "markdown",
   "metadata": {},
   "source": [
    "Pareto distribution"
   ]
  },
  {
   "cell_type": "code",
   "execution_count": 15,
   "metadata": {},
   "outputs": [
    {
     "data": {
      "image/png": "[encoded data removed]",
      "text/plain": [
       "<Figure size 640x480 with 1 Axes>"
      ]
     },
     "metadata": {},
     "output_type": "display_data"
    }
   ],
   "source": [
    "# Here location coefficient is assumed to be 1\n",
    "k=0.5\n",
    "N=100000\n",
    "G=np.random.pareto(k,N)\n",
    "\n",
    "n=10\n",
    "pb=[]\n",
    "c=[]\n",
    "mi=1\n",
    "ma=mi+5\n",
    "\n",
    "for l in range(0,2*(n+1)):\n",
    "    tk=mi+l*(ma-mi)/(2*n+1)\n",
    "    c.append(tk)\n",
    "    if tk==1:\n",
    "        pb.append(1)\n",
    "    else:\n",
    "        pb.append(k/(tk**(k+1)))    \n",
    "fig=plt.figure()\n",
    "ax = fig.add_subplot(1,1,1)\n",
    "ax.hist(G, bins=c, density=True, edgecolor='k')\n",
    "ax.plot(c,pb, '-')\n",
    "plt.show()"
   ]
  },
  {
   "cell_type": "markdown",
   "metadata": {},
   "source": [
    "# Part III : Simulation of the risk process"
   ]
  },
  {
   "cell_type": "markdown",
   "metadata": {},
   "source": [
    "## 1) Simulation "
   ]
  },
  {
   "cell_type": "markdown",
   "metadata": {},
   "source": [
    "#### A plot function"
   ]
  },
  {
   "cell_type": "code",
   "execution_count": 16,
   "metadata": {},
   "outputs": [],
   "source": [
    "# A plot function (p is a two dimensional array of points on a grid and their value)\n",
    "def plot_Process(p):\n",
    "        \n",
    "    tk=[i[0] for i in p] # We recover the times\n",
    "    vk=[i[1] for i in p] # We recover the values of R\n",
    "    \n",
    "    v0=[0 for i in p]\n",
    "    Ok=[tk,v0]\n",
    " \n",
    "    plt.plot(tk,vk)\n",
    "    plt.plot(tk,v0)\n",
    "    plt.show()"
   ]
  },
  {
   "cell_type": "markdown",
   "metadata": {},
   "source": [
    "#### Simulation of the claims"
   ]
  },
  {
   "cell_type": "code",
   "execution_count": 17,
   "metadata": {},
   "outputs": [],
   "source": [
    "Np =100 # N is the number of points on [0,T]"
   ]
  },
  {
   "cell_type": "code",
   "execution_count": 18,
   "metadata": {},
   "outputs": [],
   "source": [
    "def claim(a,N):\n",
    "    # N is the number of claims\n",
    "    # p = 0 : Log normal\n",
    "    # p = 1 : Bernouilli\n",
    "    # p = 2 : Weibull\n",
    "    # p = 3 : Pareto\n",
    "    # p = 4 : 1 (so that we just study the Poisson process)\n",
    "    # p = 5 : Gaussian (in order to test the case of a continuous cdf)\n",
    "    if a==0:\n",
    "        return np.random.lognormal(0,1,N)\n",
    "    elif a==1:\n",
    "        return TwoClaim(N)\n",
    "    elif a==2:\n",
    "        return np.random.weibull(0.3,N)\n",
    "    elif a==3: \n",
    "        return np.random.pareto(0.5,N)\n",
    "    elif a==5:\n",
    "        return np.random.normal(0,1,N)\n",
    "    else:\n",
    "        return np.ones(N)"
   ]
  },
  {
   "cell_type": "markdown",
   "metadata": {},
   "source": [
    "#### Simulation of the value $N_t$ given the jump times J (as simulated in \"Jump_Times_Poisson\")"
   ]
  },
  {
   "cell_type": "code",
   "execution_count": 19,
   "metadata": {},
   "outputs": [],
   "source": [
    "def N(t,Te,J):\n",
    "    K=[]\n",
    "    n=len(J)\n",
    "    for j in range(0,n):\n",
    "        K.append(J[j])\n",
    "    if t==Te:\n",
    "        return n-1\n",
    "    K.append(Te)\n",
    "    for i in range(0,n):\n",
    "        if t >=K[i] and t <K[i+1]:\n",
    "            return i"
   ]
  },
  {
   "cell_type": "markdown",
   "metadata": {},
   "source": [
    "#### Simulation of the C process (given the jump times J and the claims Cl)"
   ]
  },
  {
   "cell_type": "markdown",
   "metadata": {},
   "source": [
    "$$ C_t = \\sum_{i=1}^{N_t} X_i, \\; t \\geq 0$$"
   ]
  },
  {
   "cell_type": "code",
   "execution_count": 20,
   "metadata": {},
   "outputs": [],
   "source": [
    "def C(t,Te,J,Cl):\n",
    "    K=[]\n",
    "    D=[]\n",
    "    n=len(J)\n",
    "    \n",
    "    for j in range(0,n):\n",
    "        K.append(J[j])\n",
    "        D.append(Cl[j])\n",
    "    \n",
    "    n=N(t,Te,K)\n",
    "    r=0\n",
    "    for i in range(0,n+1):\n",
    "        r=r+D[i]\n",
    "    return r"
   ]
  },
  {
   "cell_type": "markdown",
   "metadata": {},
   "source": [
    "#### Simulation of the Risk process (returns the discretization of the path)"
   ]
  },
  {
   "cell_type": "markdown",
   "metadata": {},
   "source": [
    "$$ R_t = u + pt -C_t; \\quad C_t = \\sum_{i=1}^{N_t} X_i, \\; t \\geq 0.$$"
   ]
  },
  {
   "cell_type": "code",
   "execution_count": 21,
   "metadata": {},
   "outputs": [],
   "source": [
    "def Rprocess(u,p,a,Te,lam):\n",
    "    \n",
    "    #Discretization grid without the jump times\n",
    "    Np=100 # Number of time discretization\n",
    "    tk=[]\n",
    "    for i in range(0,Np+1):\n",
    "        tk.append(i*Te/Np)\n",
    "    \n",
    "    J=Jump_Times_Poisson(lam,Te) # We generate the jump times of the Poisson process\n",
    "    \n",
    "    temp=claim(a,len(J))\n",
    "    Cl=[0]\n",
    "    for k in range(0,len(J)):\n",
    "        Cl.append(temp[k])\n",
    "    \n",
    "    for t in J:\n",
    "        if t!=0:\n",
    "            tk.append(t)\n",
    "    \n",
    "    tk.sort()\n",
    "    \n",
    "    pk=[]\n",
    "    \n",
    "    K=[]\n",
    "    for t in J:\n",
    "        K.append(t)\n",
    "        \n",
    "    L=[]\n",
    "    for f in Cl:\n",
    "        L.append(f)\n",
    "    \n",
    "    for t in tk:\n",
    "        pk.append([t,u+p*t-C(t,Te,K,L)])\n",
    "        \n",
    "    return(pk)"
   ]
  },
  {
   "cell_type": "markdown",
   "metadata": {},
   "source": [
    "Recall the Net Profit Condition : $\\rho:=\\frac{\\lambda \\mathbb{E}[X_1]}{p} < 1$.\n",
    "This condition is necessary for $\\theta(u)>0$ for some $u$ where :\n",
    "$$ \\varphi(u):=\\mathbb{P}[\\tau(u)=+\\infty], \\quad \\tau(u):=\\inf\\{t>0, \\; R_t<0\\}; $$\n",
    "$$ R_t = u + pt -C_t; \\quad C_t = \\sum_{i=1}^{N_t} X_i.$$\n",
    "$\\varphi(u)$ is the survival probability given $u$."
   ]
  },
  {
   "cell_type": "code",
   "execution_count": 22,
   "metadata": {},
   "outputs": [],
   "source": [
    "def Ruin(u,p,a,Te,lam):\n",
    "    pk=Rprocess(u,p,a,Te,lam)\n",
    "    tk=[i[0] for i in pk] # We recover the times\n",
    "    \n",
    "    plot_Process(pk)\n",
    "    \n",
    "    t=0 # Ruin time (if 0 then no ruin, else is the ruin time)\n",
    "    \n",
    "    for temp in pk:\n",
    "        if temp[1]<0:\n",
    "            t=temp[0]\n",
    "            return t\n",
    "    return t"
   ]
  },
  {
   "cell_type": "code",
   "execution_count": 23,
   "metadata": {},
   "outputs": [
    {
     "ename": "TypeError",
     "evalue": "unsupported operand type(s) for +: 'NoneType' and 'int'",
     "output_type": "error",
     "traceback": [
      "\u001b[0;31m---------------------------------------------------------------------------\u001b[0m",
      "\u001b[0;31mTypeError\u001b[0m                                 Traceback (most recent call last)",
      "Cell \u001b[0;32mIn[23], line 1\u001b[0m\n\u001b[0;32m----> 1\u001b[0m t\u001b[38;5;241m=\u001b[39m\u001b[43mRuin\u001b[49m\u001b[43m(\u001b[49m\u001b[38;5;241;43m10\u001b[39;49m\u001b[43m,\u001b[49m\u001b[38;5;241;43m3\u001b[39;49m\u001b[43m,\u001b[49m\u001b[38;5;241;43m1\u001b[39;49m\u001b[43m,\u001b[49m\u001b[38;5;241;43m10\u001b[39;49m\u001b[43m,\u001b[49m\u001b[38;5;241;43m2\u001b[39;49m\u001b[43m)\u001b[49m\n\u001b[1;32m      2\u001b[0m \u001b[38;5;28;01mif\u001b[39;00m t\u001b[38;5;241m==\u001b[39m\u001b[38;5;241m0\u001b[39m:\n\u001b[1;32m      3\u001b[0m     \u001b[38;5;28mprint\u001b[39m(\u001b[38;5;124m'\u001b[39m\u001b[38;5;124mNo ruin\u001b[39m\u001b[38;5;124m'\u001b[39m)\n",
      "Cell \u001b[0;32mIn[22], line 2\u001b[0m, in \u001b[0;36mRuin\u001b[0;34m(u, p, a, Te, lam)\u001b[0m\n\u001b[1;32m      1\u001b[0m \u001b[38;5;28;01mdef\u001b[39;00m \u001b[38;5;21mRuin\u001b[39m(u,p,a,Te,lam):\n\u001b[0;32m----> 2\u001b[0m     pk\u001b[38;5;241m=\u001b[39m\u001b[43mRprocess\u001b[49m\u001b[43m(\u001b[49m\u001b[43mu\u001b[49m\u001b[43m,\u001b[49m\u001b[43mp\u001b[49m\u001b[43m,\u001b[49m\u001b[43ma\u001b[49m\u001b[43m,\u001b[49m\u001b[43mTe\u001b[49m\u001b[43m,\u001b[49m\u001b[43mlam\u001b[49m\u001b[43m)\u001b[49m\n\u001b[1;32m      3\u001b[0m     tk\u001b[38;5;241m=\u001b[39m[i[\u001b[38;5;241m0\u001b[39m] \u001b[38;5;28;01mfor\u001b[39;00m i \u001b[38;5;129;01min\u001b[39;00m pk] \u001b[38;5;66;03m# We recover the times\u001b[39;00m\n\u001b[1;32m      5\u001b[0m     plot_Process(pk)\n",
      "Cell \u001b[0;32mIn[21], line 33\u001b[0m, in \u001b[0;36mRprocess\u001b[0;34m(u, p, a, Te, lam)\u001b[0m\n\u001b[1;32m     30\u001b[0m     L\u001b[38;5;241m.\u001b[39mappend(f)\n\u001b[1;32m     32\u001b[0m \u001b[38;5;28;01mfor\u001b[39;00m t \u001b[38;5;129;01min\u001b[39;00m tk:\n\u001b[0;32m---> 33\u001b[0m     pk\u001b[38;5;241m.\u001b[39mappend([t,u\u001b[38;5;241m+\u001b[39mp\u001b[38;5;241m*\u001b[39mt\u001b[38;5;241m-\u001b[39m\u001b[43mC\u001b[49m\u001b[43m(\u001b[49m\u001b[43mt\u001b[49m\u001b[43m,\u001b[49m\u001b[43mTe\u001b[49m\u001b[43m,\u001b[49m\u001b[43mK\u001b[49m\u001b[43m,\u001b[49m\u001b[43mL\u001b[49m\u001b[43m)\u001b[49m])\n\u001b[1;32m     35\u001b[0m \u001b[38;5;28;01mreturn\u001b[39;00m(pk)\n",
      "Cell \u001b[0;32mIn[20], line 12\u001b[0m, in \u001b[0;36mC\u001b[0;34m(t, Te, J, Cl)\u001b[0m\n\u001b[1;32m     10\u001b[0m n\u001b[38;5;241m=\u001b[39mN(t,Te,K)\n\u001b[1;32m     11\u001b[0m r\u001b[38;5;241m=\u001b[39m\u001b[38;5;241m0\u001b[39m\n\u001b[0;32m---> 12\u001b[0m \u001b[38;5;28;01mfor\u001b[39;00m i \u001b[38;5;129;01min\u001b[39;00m \u001b[38;5;28mrange\u001b[39m(\u001b[38;5;241m0\u001b[39m,\u001b[43mn\u001b[49m\u001b[38;5;241;43m+\u001b[39;49m\u001b[38;5;241;43m1\u001b[39;49m):\n\u001b[1;32m     13\u001b[0m     r\u001b[38;5;241m=\u001b[39mr\u001b[38;5;241m+\u001b[39mD[i]\n\u001b[1;32m     14\u001b[0m \u001b[38;5;28;01mreturn\u001b[39;00m r\n",
      "\u001b[0;31mTypeError\u001b[0m: unsupported operand type(s) for +: 'NoneType' and 'int'"
     ]
    }
   ],
   "source": [
    "t=Ruin(10,3,1,10,2)\n",
    "if t==0:\n",
    "    print('No ruin')\n",
    "else:\n",
    "    print('The ruin time is : ',t)"
   ]
  },
  {
   "cell_type": "markdown",
   "metadata": {},
   "source": [
    "Recall that for any jump time $\\tau_k$ of the Poisson process \n",
    "$$R_{\\tau_k} = u + p \\tau_k -\\sum_{i=1}^k X_i = u + \\sum_{i=1}^k Y_i,$$\n",
    "with $Y_i := p W_i - X_i$ and $W_i:=\\tau_i -\\tau_{i-1}$.\n",
    "We set \n",
    "$$ \\kappa:=\\inf\\{k\\geq 1, \\; R_{\\tau_k} <0\\}. $$"
   ]
  },
  {
   "cell_type": "markdown",
   "metadata": {},
   "source": [
    "## 2) Cramér-Lundberg coefficient and ruin analysis"
   ]
  },
  {
   "cell_type": "markdown",
   "metadata": {},
   "source": [
    "#### The small claims case"
   ]
  },
  {
   "cell_type": "markdown",
   "metadata": {},
   "source": [
    "Study the condition studied during the lectures for insuring no ruin"
   ]
  },
  {
   "cell_type": "code",
   "execution_count": 23,
   "metadata": {},
   "outputs": [
    {
     "name": "stdout",
     "output_type": "stream",
     "text": [
      "The coefficent rho= 0.6594885082800512\n",
      "NPC is in force\n"
     ]
    },
    {
     "name": "stderr",
     "output_type": "stream",
     "text": [
      "/var/folders/cy/ql3mr0_547nbng6blc9pp0h9ltycfl/T/ipykernel_26964/3131313151.py:7: DeprecationWarning: Conversion of an array with ndim > 0 to a scalar is deprecated, and will error in future. Ensure you extract a single element from your array before performing this operation. (Deprecated NumPy 1.25.)\n",
      "  tau.append(float(e))\n"
     ]
    },
    {
     "data": {
      "image/png": "[encoded data removed]",
      "text/plain": [
       "<Figure size 640x480 with 1 Axes>"
      ]
     },
     "metadata": {},
     "output_type": "display_data"
    },
    {
     "name": "stdout",
     "output_type": "stream",
     "text": [
      "The ruin time is :  0.38717959336616065\n"
     ]
    }
   ],
   "source": [
    "#We study the lognormal case \n",
    "# \\mu = E[X_1] = exp(1/2) as we considered the lognormal with mean 0 and variance 1\n",
    "mu=np.exp(0.5)\n",
    "lam=2\n",
    "u=5\n",
    "c=5\n",
    "rho=(lam*mu)/c\n",
    "print('The coefficent rho=',rho)\n",
    "if rho<1:\n",
    "    print('NPC is in force')\n",
    "else:\n",
    "    print('NPC fails')\n",
    "t=Ruin(u,c,0,10,lam)\n",
    "\n",
    "if t==0:\n",
    "    print('No ruin')\n",
    "else:\n",
    "    print('The ruin time is : ',t)"
   ]
  },
  {
   "cell_type": "markdown",
   "metadata": {},
   "source": [
    "#### The large claims case"
   ]
  },
  {
   "cell_type": "markdown",
   "metadata": {},
   "source": [
    "Study the condition studied during the lectures for insuring no ruin"
   ]
  },
  {
   "cell_type": "markdown",
   "metadata": {},
   "source": [
    "Recall that if $\\tau_k$ denotes a jump time of the Poisson process $N$ that \n",
    "$$ R_{\\tau_k} = u + p \\tau_k - \\sum_{i=1}^{k} X_i = u - \\sum_{i=1}^{k} Y_i,$$\n",
    "$Y_i:=X_i-p W_i$, with $W_i:=\\tau_i-\\tau_{i-1}$, $\\tau_0:=0$."
   ]
  },
  {
   "cell_type": "markdown",
   "metadata": {},
   "source": [
    "## Ruin as a rare event"
   ]
  },
  {
   "cell_type": "markdown",
   "metadata": {},
   "source": [
    "We now consider a new family of claims the so-called Gamma distribution \n",
    "A random variable $X \\sim \\Gamma(\\alpha,\\beta)$ if it admits as a density : \n",
    "$$ x \\mapsto \\frac{\\beta^\\alpha}{\\Gamma(\\alpha)} x^{\\alpha-1} e^{-\\beta x}, \\; x\\geq 0, \\quad \\Gamma(\\alpha):=\\int_0^{+\\infty} y^{\\alpha-1} e^{-y} dy.$$\n",
    "In Python the `np.random.gamma(alpha,theta)` with $\\theta:=\\beta^-1$ to simulate a sample of $\\Gamma(\\alpha,\\beta)$."
   ]
  },
  {
   "cell_type": "markdown",
   "metadata": {},
   "source": [
    "We consider the CL model as above, with $N$ a Poisson process with paramater $\\lambda$ refered as `lam` and with claims $X_i \\sim \\Gamma(\\alpha,\\beta)$.  "
   ]
  },
  {
   "cell_type": "code",
   "execution_count": 31,
   "metadata": {},
   "outputs": [],
   "source": [
    "p=1; alpha=1; lam=0.5; beta=1; T =500; be=1/beta"
   ]
  },
  {
   "cell_type": "code",
   "execution_count": 32,
   "metadata": {},
   "outputs": [],
   "source": [
    "def Y(p=1,alpha=2.5,beta=0.03,lam=0.005):\n",
    "    return -p*np.random.exponential(1/lam)+np.random.gamma(alpha,1/beta)"
   ]
  },
  {
   "cell_type": "code",
   "execution_count": 1,
   "metadata": {},
   "outputs": [
    {
     "ename": "NameError",
     "evalue": "name 'T' is not defined",
     "output_type": "error",
     "traceback": [
      "\u001b[0;31m---------------------------------------------------------------------------\u001b[0m",
      "\u001b[0;31mNameError\u001b[0m                                 Traceback (most recent call last)",
      "Cell \u001b[0;32mIn[1], line 16\u001b[0m\n\u001b[1;32m     14\u001b[0m                 somme\u001b[38;5;241m+\u001b[39m\u001b[38;5;241m=\u001b[39m\u001b[38;5;241m1\u001b[39m \n\u001b[1;32m     15\u001b[0m     \u001b[38;5;28;01mreturn\u001b[39;00m somme\u001b[38;5;241m/\u001b[39mn\n\u001b[0;32m---> 16\u001b[0m \u001b[43mMCruin\u001b[49m\u001b[43m(\u001b[49m\u001b[38;5;241;43m30\u001b[39;49m\u001b[43m,\u001b[49m\u001b[38;5;241;43m10\u001b[39;49m\u001b[43m)\u001b[49m\n",
      "Cell \u001b[0;32mIn[1], line 9\u001b[0m, in \u001b[0;36mMCruin\u001b[0;34m(u, n)\u001b[0m\n\u001b[1;32m      7\u001b[0m r\u001b[38;5;241m=\u001b[39mu\n\u001b[1;32m      8\u001b[0m go\u001b[38;5;241m=\u001b[39m\u001b[38;5;28;01mFalse\u001b[39;00m \u001b[38;5;66;03m# go is a boolean that is FALSE is there is no ruin\u001b[39;00m\n\u001b[0;32m----> 9\u001b[0m \u001b[38;5;28;01mwhile\u001b[39;00m (temp \u001b[38;5;241m<\u001b[39m\u001b[38;5;241m=\u001b[39m \u001b[43mT\u001b[49m \u001b[38;5;241m&\u001b[39m go \u001b[38;5;241m==\u001b[39m \u001b[38;5;28;01mFalse\u001b[39;00m):\n\u001b[1;32m     10\u001b[0m     temp\u001b[38;5;241m+\u001b[39m\u001b[38;5;241m=\u001b[39mnp\u001b[38;5;241m.\u001b[39mrandom\u001b[38;5;241m.\u001b[39mexponential(lam) \u001b[38;5;66;03m#temp is the inter-jump\u001b[39;00m\n\u001b[1;32m     11\u001b[0m     r\u001b[38;5;241m+\u001b[39m\u001b[38;5;241m=\u001b[39mp\u001b[38;5;241m*\u001b[39mtemp\u001b[38;5;241m-\u001b[39mnp\u001b[38;5;241m.\u001b[39mrandom\u001b[38;5;241m.\u001b[39mgamma(alpha,be)\n",
      "\u001b[0;31mNameError\u001b[0m: name 'T' is not defined"
     ]
    }
   ],
   "source": [
    "# Create a function MCruin that gives an estimate of the ruin probability over [0,T] as a function of u and n the size of the MC sample\n",
    "def MCruin(u,n):\n",
    "    somme=0\n",
    "    for i in range(n):\n",
    "        # We simulate R_t for t <= T and see if there is ruin\n",
    "        temp=0 \n",
    "        r=u\n",
    "        go=False # go is a boolean that is FALSE is there is no ruin\n",
    "        while (temp <= T & go == False):\n",
    "            temp+=np.random.exponential(lam) #temp is the inter-jump\n",
    "            r+=p*temp-np.random.gamma(alpha,be)\n",
    "            if r<0:\n",
    "                go = True\n",
    "                somme+=1 \n",
    "    return somme/n\n",
    "MCruin(30,10)"
   ]
  },
  {
   "cell_type": "code",
   "execution_count": 63,
   "metadata": {},
   "outputs": [
    {
     "data": {
      "text/plain": [
       "0.0"
      ]
     },
     "execution_count": 63,
     "metadata": {},
     "output_type": "execute_result"
    }
   ],
   "source": [
    "# Choose u so that MCruin(u,10000) is a rare event\n",
    "MCruin(10,1000)"
   ]
  },
  {
   "cell_type": "markdown",
   "metadata": {},
   "source": [
    "## Shifting the window of sampling\n",
    "With our choice of random variables $Y$ admits a density $f_Y$. We set $\\rho_Y$ the cumulant generating function associated to $Y$,\n",
    "$$ \\rho_Y(\\theta):=\\ln \\int_{\\mathbb{R}} \\exp(\\theta y) f_Y(y) dy.$$\n",
    "We set $P_\\theta$ the measure with respect to which $Y$ has density $\\exp(\\theta y-\\rho(\\theta)) f_Y(y)$. Prove that for any non-negative maps $(h_k)_{k\\geq 1}$\n",
    "$$ \\mathbb{E}\\left[\\textbf{1}_{\\kappa<+\\infty}\\prod_{k=1}^{\\kappa} h_k(Y_k)\\right] = \\mathbb{E}_\\theta\\left[\\textbf{1}_{\\kappa<+\\infty}\\prod_{k=1}^{\\kappa} h_k(Y_k) \\left(\\prod_{\\ell=1}^{\\kappa} \\exp(-Y_\\ell \\theta+\\rho(\\theta)\\right)\\right], \\quad (\\ast) $$"
   ]
  },
  {
   "cell_type": "markdown",
   "metadata": {},
   "source": [
    "Show that for any $\\theta$ in the domain of $\\rho_Y$, $\\rho_Y'(0) = \\mathbb{E}[Y]$ and $\\rho_Y'(\\theta) = \\mathbb{E}_\\theta[Y]$.\n",
    "$$ \\rho_Y'(\\theta) = \\frac{\\int y \\exp(y \\theta) f_Y(y) dy}{\\int \\exp(y \\theta) f_Y(y) dy} = \\int y \\exp(y \\theta-\\rho_Y(\\theta)) f_Y(y) dy = E_\\theta[Y].$$"
   ]
  },
  {
   "cell_type": "markdown",
   "metadata": {},
   "source": [
    "Deduce that $\\theta$ such that $\\rho'(\\theta) >0$\n",
    "$$ P_\\theta[\\tau<+\\infty]=1.$$\n",
    "Recall that $\\kappa = \\inf\\{k\\geq 1, \\; R_{\\tau_{\\kappa}}<0\\} = \\inf\\{k\\geq 1, \\; \\sum_{i=1}^k Y_i >u\\}$ as \n",
    "$ R_{\\tau_k} = u - \\sum_{i=1}^k Y_i$. Hence\n",
    "$$ P_\\theta[\\kappa=+\\infty] = P_\\theta[\\forall k; \\; \\sum_{i=1}^k Y_i < u] $$"
   ]
  },
  {
   "cell_type": "markdown",
   "metadata": {},
   "source": [
    "Deduce that for $\\theta$ such that $\\rho_Y'(\\theta)>0$\n",
    "$$ P[\\kappa<+\\infty] = \\mathbb{E}_\\theta\\left[\\exp\\left(\\rho_Y(\\theta) \\tau -\\theta\\sum_{\\ell=1}^{\\kappa} Y_\\ell\\right)\\right], \\quad (**).$$"
   ]
  },
  {
   "cell_type": "markdown",
   "metadata": {},
   "source": [
    "Indeed take $h_k \\equiv 1$ in $(\\ast)$ to get that\n",
    "$$ P[\\kappa<+\\infty] = \\mathbb{E}_\\theta\\left[\\textbf{1}_{\\kappa<+\\infty}\\left(\\prod_{\\ell=1}^{\\kappa} \\exp(-Y_\\ell \\theta+\\rho(\\theta)\\right)\\right] = \\mathbb{E}_\\theta\\left[\\exp\\left(\\rho_Y(\\theta)\\kappa -\\theta\\sum_{\\ell=1}^{\\kappa} Y_\\ell\\right)\\right]$$"
   ]
  },
  {
   "cell_type": "markdown",
   "metadata": {},
   "source": [
    "Let $Z$ a random variable with intensity $\\exp(\\theta z-\\rho_Y(\\theta)) f_Y(z)$ and let $\\tilde{\\rho}$ its cumulant generating function. Prove that \n",
    "$$ \\tilde{\\rho}(a) = \\rho_Y(a+\\theta)-\\rho_Y(a).$$"
   ]
  },
  {
   "cell_type": "markdown",
   "metadata": {},
   "source": [
    "$$ \\tilde{\\rho}(a) = \\ln \\int_{\\mathbb R} \\exp(a x) \\exp(\\theta x -\\rho_Y(\\theta)) f_Y(a) da = \\ln \\left(\\exp(-\\rho_Y(\\theta)) \\int_{\\mathbb R} \\exp((a+\\theta) x) f_Y(a) da\\right) = \\rho_Y(a+\\theta)-\\rho_Y(\\theta).$$"
   ]
  },
  {
   "cell_type": "markdown",
   "metadata": {},
   "source": [
    "Prove that for $Z \\sim \\Gamma(\\alpha,\\beta)$\n",
    "$$ \\rho_Z(\\theta) = -\\alpha \\ln\\left(1-\\frac{\\theta}{\\beta}\\right), \\; \\theta \\in (-\\infty,\\beta).$$"
   ]
  },
  {
   "cell_type": "markdown",
   "metadata": {},
   "source": [
    "\\begin{align*}\n",
    "\\rho_Z(\\theta) &= \\ln \\int \\exp(\\theta y) \\frac{\\beta^\\alpha}{\\Gamma(\\alpha)} y^{\\alpha-1} e^{-\\beta y} dy\\\\\n",
    "&= \\ln \\frac{\\beta^\\alpha}{\\Gamma(\\alpha)} + \\ln \\int y^{\\alpha-1} e^{(\\theta-\\beta) y} dy \\\\\n",
    "&= \\ln \\frac{\\beta^\\alpha}{\\Gamma(\\alpha)} + \\ln (\\beta-\\theta)^{-\\alpha} + \\ln \\int z^{\\alpha-1} e^{-z} dz, \\; z = - (\\theta-\\beta) y \\\\\n",
    "&= \\ln \\frac{\\beta^\\alpha}{\\Gamma(\\alpha)} + \\ln (\\beta-\\theta)^{-\\alpha} + \\ln \\Gamma(\\alpha) \\\\\n",
    "&= \\ln \\beta^\\alpha + \\ln (\\beta-\\theta)^{-\\alpha}\\\\\n",
    "&= \\alpha \\ln \\left(\\frac{\\beta}{\\beta-\\theta}\\right)\\\\\n",
    "&= -\\alpha \\ln \\left(\\frac{\\beta-\\theta}{\\beta}\\right)\\\\\n",
    "&= -\\alpha \\ln \\left(1-\\frac{\\theta}{\\beta}\\right).\n",
    "\\end{align*}"
   ]
  },
  {
   "cell_type": "markdown",
   "metadata": {},
   "source": [
    "Prove that for $Z \\sim \\mathcal{E}(\\lambda)$, \n",
    "$$ \\rho_Z(\\theta) = -\\ln\\left(1-\\frac{\\theta}{\\lambda}\\right), \\; \\theta \\in (-\\infty,\\lambda).$$"
   ]
  },
  {
   "cell_type": "markdown",
   "metadata": {},
   "source": [
    "\\begin{align*}\n",
    "\\rho_Z(\\theta) &= \\ln \\lambda + \\ln \\int \\exp(\\theta y) \\exp(-\\lambda y) dy\\\\\n",
    "&= \\ln \\lambda + \\ln \\int \\exp((\\theta-\\lambda) y)dy\\\\\n",
    "&= \\ln \\lambda - \\ln (\\lambda-\\theta) + \\ln \\int \\exp(-z)dz, \\; z = -(\\theta-\\lambda) y\\\\\n",
    "&= \\ln \\frac{\\lambda}{\\lambda-\\theta}\\\\\n",
    "&= -\\ln \\frac{\\lambda-\\theta}{\\lambda}\\\\\n",
    "&= -\\ln \\left(1-\\frac{\\theta}{\\lambda}\\right).\n",
    "\\end{align*}"
   ]
  },
  {
   "cell_type": "markdown",
   "metadata": {},
   "source": [
    "Prove that for $Y = X - p W$ (with $X$ and $W$ independent) \n",
    "$$\\rho_Y(\\theta) = -\\alpha \\ln\\left(1-\\frac{\\theta}{\\beta}\\right) - \\ln\\left(1+\\frac{\\theta p}{\\lambda}\\right).$$"
   ]
  },
  {
   "cell_type": "markdown",
   "metadata": {},
   "source": [
    "\\begin{align*}\n",
    "\\rho_Y(\\theta) &= \\ln \\int \\exp(\\theta y) (f_\\Gamma \\ast f_{-p\\mathcal E})(y) dy \\\\\n",
    "&= \\ln \\int \\exp(\\theta y) \\int \\textbf{1}_{y-z \\geq 0} f_\\Gamma(y-z) \\textbf{1}_{z\\leq 0} f_{-p\\mathcal E}(z) dz dy \\\\\n",
    "&= \\ln \\int \\exp(\\theta (y-z)) \\int \\textbf{1}_{y-z \\geq 0} \\exp(\\theta z) f_\\Gamma(y-z) \\textbf{1}_{z\\leq 0} f_{-p\\mathcal E}(z) dz dy \\\\\n",
    "&= \\ln \\int \\textbf{1}_{z\\leq 0} f_{-p\\mathcal E}(z) \\exp(\\theta z) \\int \\exp(\\theta (y-z)) \\textbf{1}_{y-z \\geq 0} f_\\Gamma(y-z)  dy dz \\\\\n",
    "&= -\\alpha \\ln\\left(1-\\frac{\\theta}{\\beta}\\right) +\\ln \\int \\textbf{1}_{z\\leq 0} f_{-p\\mathcal E}(z) \\exp(\\theta z) dz \\\\\n",
    "&= -\\alpha \\ln\\left(1-\\frac{\\theta}{\\beta}\\right) - \\ln\\left(1+\\frac{\\theta p}{\\lambda}\\right).\n",
    "\\end{align*}\n",
    "\n",
    "$c<d<0$,\n",
    "$$P[-E \\in [c,d]] = P[E \\in [-d,-c]] = \\lambda \\int_{-d}^{-c} e^{-\\lambda x} dx = \\lambda \\int_{c}^{d} e^{\\lambda y} dy.$$\n",
    "Donc $f_{-\\mathcal E}(x) = \\textbf{1}_{x\\leq 0} \\lambda \\exp(\\lambda x)$."
   ]
  },
  {
   "cell_type": "markdown",
   "metadata": {},
   "source": [
    "Deduce that the cumulant generating function of $Y$ under $P_\\theta$ is \n",
    "$$ \\tilde{\\rho}(a)= -\\alpha \\ln\\left(1-\\frac{a}{\\beta-\\theta}\\right)-\\ln\\left(1+\\frac{a p}{\\lambda+\\theta p}\\right).$$"
   ]
  },
  {
   "cell_type": "markdown",
   "metadata": {},
   "source": [
    "\\begin{align*}\n",
    "\\tilde{\\rho}(a) &= \\rho_Y(a+\\theta)-\\rho_Y(\\theta) \\\\\n",
    "&=-\\alpha \\ln\\left(1-\\frac{a+\\theta}{\\beta}\\right) - \\ln\\left(1+\\frac{(a+\\theta) p}{\\lambda}\\right) - \\left(-\\alpha \\ln\\left(1-\\frac{\\theta}{\\beta}\\right) - \\ln\\left(1+\\frac{\\theta p}{\\lambda}\\right)\\right)\\\\\n",
    "&=-\\alpha \\left[ \\ln\\left(\\frac{\\beta-a-\\theta}{\\beta}\\right) - \\ln\\left(\\frac{\\beta-\\theta}{\\beta}\\right) \\right]-\\left[\\ln\\left(\\frac{\\lambda+(a+\\theta) p}{\\lambda}\\right) - \\ln\\left(\\frac{\\lambda+\\theta p}{\\lambda}\\right)\\right]\\\\\n",
    "&=-\\alpha \\ln\\left(\\frac{\\beta-a-\\theta}{\\beta-\\theta}\\right)-\\ln\\left(\\frac{\\lambda+(a+\\theta) p}{\\lambda+\\theta p}\\right) \\\\\n",
    "&=-\\alpha \\ln\\left(1-\\frac{a}{\\beta-\\theta}\\right)-\\ln\\left(1+\\frac{a p}{\\lambda+\\theta p}\\right) \\\\\n",
    "\\end{align*}"
   ]
  },
  {
   "cell_type": "markdown",
   "metadata": {},
   "source": [
    "Hence, under $P_\\theta$, $Y$ has the same law than $\\tilde X - p\\tilde W$ with $\\tilde X \\sim \\Gamma(\\alpha,\\beta-\\theta)$ and $W \\sim \\mathcal{E}(\\lambda +p\\theta)$ with $\\tilde X$ and $\\tilde W$ independent. "
   ]
  },
  {
   "cell_type": "markdown",
   "metadata": {},
   "source": [
    "## Optimal choice of parameter $\\theta$"
   ]
  },
  {
   "cell_type": "markdown",
   "metadata": {},
   "source": [
    "One can show that $\\rho_Y$ is a convex mapping and that if $\\rho_Y'(0)<0$ (that is $E[Y]<0$) then there exists a unique $\\theta^* \\in (0,\\beta)$ such that $\\rho_Y(\\theta^*)=0$. This value can be proved to be optimal for the importance sampling method."
   ]
  },
  {
   "cell_type": "markdown",
   "metadata": {},
   "source": [
    "## Monte-Carlo importance sampling of the ruin probabiliy"
   ]
  },
  {
   "cell_type": "code",
   "execution_count": 64,
   "metadata": {},
   "outputs": [
    {
     "data": {
      "text/plain": [
       "0.00035353382792986036"
      ]
     },
     "execution_count": 64,
     "metadata": {},
     "output_type": "execute_result"
    }
   ],
   "source": [
    "# Create the function MCIS(u,n,\\theta) that implements the ruin probability using Expression (**)\n",
    "def rho(alpha,beta,lam,theta):\n",
    "    return -alpha*np.log(1-theta/beta)+np.log(1+theta*p/lam)\n",
    "\n",
    "def MCIS(u,n,theta,p=1, alpha=1, lam=0.5, beta=1, T =500):\n",
    "    somme=0\n",
    "    for i in range(n):\n",
    "        kap=0\n",
    "        go=False\n",
    "        S=0 #S is the sum of claims S =\\sum Y_i\n",
    "        while (go==False):\n",
    "            S+=np.random.gamma(alpha,1/(beta-theta)) - p*np.random.exponential(1/(lam+p*theta))\n",
    "            if S > u:\n",
    "                go = True\n",
    "                kap+=1\n",
    "                somme+=np.exp(-theta*S+rho(alpha,beta,lam,theta)*kap)\n",
    "    return somme/n\n",
    "\n",
    "MCIS(10,100,0.9)"
   ]
  },
  {
   "cell_type": "code",
   "execution_count": null,
   "metadata": {},
   "outputs": [],
   "source": [
    "# Plot the mapping \\theta -> \\rho_Y(\\theta)"
   ]
  },
  {
   "cell_type": "markdown",
   "metadata": {},
   "source": [
    "# Part IV : Risk measures"
   ]
  },
  {
   "cell_type": "markdown",
   "metadata": {},
   "source": [
    "We are going to use Monte-Carlo simulation; in what follows $M$ denotes the number of simulations in M-C. Recall that the precision of the approximation $10^{-p}$ requires $M$ to be of order $M=10^{2p}$."
   ]
  },
  {
   "cell_type": "code",
   "execution_count": 24,
   "metadata": {},
   "outputs": [],
   "source": [
    "M=100000"
   ]
  },
  {
   "cell_type": "markdown",
   "metadata": {},
   "source": [
    "## 1) V@R"
   ]
  },
  {
   "cell_type": "markdown",
   "metadata": {},
   "source": [
    "Write a function that computes the V@R of a Risk process"
   ]
  },
  {
   "cell_type": "code",
   "execution_count": 25,
   "metadata": {},
   "outputs": [],
   "source": [
    "def SimulR_T(u,p,a,Te,lam):\n",
    "    P=np.random.poisson(lam*Te,1) # We simulate the number of claims N_T\n",
    "    Cl=claim(a,P)\n",
    "    return u+p*Te-sum(Cl)"
   ]
  },
  {
   "cell_type": "code",
   "execution_count": 26,
   "metadata": {},
   "outputs": [],
   "source": [
    "def VaR(alpha,u,p,a,Te,lam):\n",
    "    # alpha is so that we compute V@R_\\alpha\n",
    "    X=[]\n",
    "    for i in range(0,M):\n",
    "        X.append(SimulR_T(u,p,a,Te,lam))\n",
    "    return -np.quantile(X,alpha,interpolation='higher')"
   ]
  },
  {
   "cell_type": "code",
   "execution_count": 27,
   "metadata": {},
   "outputs": [
    {
     "name": "stdout",
     "output_type": "stream",
     "text": [
      "Alpha= 0.1 Var at level alpha= 2.0\n"
     ]
    }
   ],
   "source": [
    "alpha=0.1\n",
    "u=1\n",
    "p=2\n",
    "Te=3\n",
    "lam=2\n",
    "print('Alpha=',alpha,'Var at level alpha=',VaR(alpha,u,p,4,Te,lam))"
   ]
  },
  {
   "cell_type": "markdown",
   "metadata": {},
   "source": [
    "## 2) Beyond V@R"
   ]
  },
  {
   "cell_type": "markdown",
   "metadata": {},
   "source": [
    "According to the lecture study other risk measures and compare them with V@R"
   ]
  },
  {
   "cell_type": "markdown",
   "metadata": {},
   "source": [
    "Here one can simulate all the risk measures studied in the Lecture Notes pages 12 and 13 and especially check the inequalities presented in Proposition 3.12"
   ]
  },
  {
   "cell_type": "code",
   "execution_count": 28,
   "metadata": {},
   "outputs": [],
   "source": [
    "def mplus(x):\n",
    "    if x >= 0: \n",
    "        return x\n",
    "    else: \n",
    "        return 0\n",
    "\n",
    "def AVaR(alpha,u,p,a,Te,lam):    \n",
    "    X=[]\n",
    "    Z=[]\n",
    "    \n",
    "    for i in range(0,M):\n",
    "        X.append(SimulR_T(u,p,a,Te,lam))\n",
    "        Z.append(SimulR_T(u,p,a,Te,lam))\n",
    "        \n",
    "    v=np.quantile(X,alpha,interpolation='higher')\n",
    "    \n",
    "    r=0\n",
    "    for i in range(1,M):\n",
    "        r=r+mplus(v-Z[i])\n",
    "    r=(r/(alpha*M))-v\n",
    "    \n",
    "    return r"
   ]
  },
  {
   "cell_type": "code",
   "execution_count": 29,
   "metadata": {},
   "outputs": [],
   "source": [
    "def LeL(alpha,u,p,a,Te,lam):\n",
    "    \n",
    "    X=[]\n",
    "    Z=[]\n",
    "    for i in range(0,M):\n",
    "        X.append(SimulR_T(u,p,a,Te,lam))\n",
    "        Z.append(SimulR_T(u,p,a,Te,lam))\n",
    "        \n",
    "    v=-np.quantile(X,alpha,interpolation='higher')\n",
    "    n=0\n",
    "    Y=0\n",
    "    for k in range(0,M):\n",
    "        if -Z[k]>=v:\n",
    "            n=n+1\n",
    "            Y=Y-Z[k]   \n",
    "    Y=Y/n\n",
    "    return Y "
   ]
  },
  {
   "cell_type": "code",
   "execution_count": 30,
   "metadata": {},
   "outputs": [
    {
     "name": "stdout",
     "output_type": "stream",
     "text": [
      "Alpha= 0.1\n",
      "Avar at level alpha= 101527.46813378428\n",
      "LeL at level alpha= 55870.4189519894\n",
      "Var at level alpha= 21.554341988252425\n"
     ]
    }
   ],
   "source": [
    "alpha=0.1\n",
    "u=1\n",
    "p=1\n",
    "Te=1\n",
    "lam=0.5\n",
    "a=3\n",
    "r1=AVaR(alpha,u,p,a,Te,lam)\n",
    "r2=LeL(alpha,u,p,a,Te,lam)\n",
    "r3=VaR(alpha,u,p,a,Te,lam)\n",
    "print('Alpha=',alpha)\n",
    "print('Avar at level alpha=',r1)\n",
    "print('LeL at level alpha=',r2)\n",
    "print('Var at level alpha=',r3) "
   ]
  },
  {
   "cell_type": "markdown",
   "metadata": {},
   "source": [
    "Remark : we should have that : \n",
    "AVaR >= LeL >= VaR \n",
    "but you see that for large claims (Pareto and Weibull) the simulation is very unstable. This means that the computation of the quantile and the Monte-Carlo simulations would require much more simulations. \n",
    "One can check already that for these laws the computation of VaR is unstable.\n",
    "One see has well that the quantities LeL and AVaR do not coincide which is usually knwon to be true for random variables with continuous CDF which is not the case for $R_T$ and it is usually wrong already for the Poisson law $N_T$ as shown below (this corresponds to the claims $X_i=1$)."
   ]
  },
  {
   "cell_type": "code",
   "execution_count": 31,
   "metadata": {},
   "outputs": [
    {
     "name": "stdout",
     "output_type": "stream",
     "text": [
      "Alpha= 0.1\n",
      "Avar at level alpha= 3.037\n",
      "LeL at level alpha= 2.39046103723908\n",
      "Var at level alpha= 2.0\n"
     ]
    }
   ],
   "source": [
    "# Take X_i=1 and u=p=0 so that S_T=-N_T and check that VaR does not agree with LeL\n",
    "alpha=0.1\n",
    "u=0\n",
    "p=0\n",
    "Te=2\n",
    "lam=0.5\n",
    "r1=AVaR(alpha,u,p,4,Te,lam)\n",
    "r2=LeL(alpha,u,p,4,Te,lam)\n",
    "r3=VaR(alpha,u,p,4,Te,lam)\n",
    "print('Alpha=',alpha)\n",
    "print('Avar at level alpha=',r1)\n",
    "print('LeL at level alpha=',r2)\n",
    "print('Var at level alpha=',r3) "
   ]
  },
  {
   "cell_type": "code",
   "execution_count": null,
   "metadata": {},
   "outputs": [],
   "source": []
  },
  {
   "cell_type": "code",
   "execution_count": null,
   "metadata": {},
   "outputs": [],
   "source": []
  }
 ],
 "metadata": {
  "kernelspec": {
   "display_name": "modia_py_mathsapp",
   "language": "python",
   "name": "modia_py_mathsapp"
  },
  "language_info": {
   "codemirror_mode": {
    "name": "ipython",
    "version": 3
   },
   "file_extension": ".py",
   "mimetype": "text/x-python",
   "name": "python",
   "nbconvert_exporter": "python",
   "pygments_lexer": "ipython3",
   "version": "3.9.18"
  }
 },
 "nbformat": 4,
 "nbformat_minor": 4
}

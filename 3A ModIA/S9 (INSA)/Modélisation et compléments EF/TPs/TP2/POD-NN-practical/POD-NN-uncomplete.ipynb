{
 "cells": [
  {
   "cell_type": "markdown",
   "id": "a7d05498",
   "metadata": {},
   "source": [
    "# POD-NN method"
   ]
  },
  {
   "cell_type": "markdown",
   "id": "efe4881b",
   "metadata": {},
   "source": [
    "## The advection-diffusion problem"
   ]
  },
  {
   "cell_type": "markdown",
   "id": "8ab245f5",
   "metadata": {},
   "source": [
    "Let us  considere the following BVP. It is based on the 2D stationary advection-diffusion. It is here parametrized by the diffusivity coefficient $\\lambda(\\mu)$. The equations read: "
   ]
  },
  {
   "cell_type": "markdown",
   "id": "1d83a1fd",
   "metadata": {},
   "source": [
    "$$\\begin{equation}\n",
    "\\begin{cases}\n",
    "-div(\\lambda(\\mu)\\nabla u)+w\\nabla u=f & in~~\\Omega\\\\\n",
    "~~~~~~\\hfill~~~~~~~~~~~~~~~~~~u=g & in~~\\varGamma_{in}\\\\\n",
    "~~~\\hfill~~~~-\\lambda(\\mu)\\nabla u.n=0 & in~~\\varGamma_{wall}\\\\\n",
    "~~~\\hfill~~~~-\\lambda(\\mu)\\nabla u.n=0 & in~~\\varGamma_{out}\n",
    "\\end{cases}\n",
    "\\label{eq:Advection-non-affine}\n",
    "\\end{equation}$$"
   ]
  },
  {
   "cell_type": "markdown",
   "id": "aafe68ad",
   "metadata": {},
   "source": [
    "with $\\lambda(\\mu)=\\exp(\\mu_{0}(\\mu + 1))$. The scalar $\\mu_{0}=0.7$ and $\\mu\\in\\textbf{P}=[\\mu_{min},{~}\\mu_{max}],{~}  \\mu_{min}=1,{~} \\mu_{max}=10$."
   ]
  },
  {
   "cell_type": "markdown",
   "id": "749b312a",
   "metadata": {},
   "source": [
    "### Modules  import and initializations"
   ]
  },
  {
   "cell_type": "code",
   "execution_count": 1,
   "id": "2eca8a3e",
   "metadata": {},
   "outputs": [
    {
     "name": "stderr",
     "output_type": "stream",
     "text": [
      "2024-12-12 08:50:27.157488: I tensorflow/core/util/port.cc:113] oneDNN custom operations are on. You may see slightly different numerical results due to floating-point round-off errors from different computation orders. To turn them off, set the environment variable `TF_ENABLE_ONEDNN_OPTS=0`.\n",
      "2024-12-12 08:50:27.216404: I tensorflow/core/platform/cpu_feature_guard.cc:210] This TensorFlow binary is optimized to use available CPU instructions in performance-critical operations.\n",
      "To enable the following instructions: AVX2 AVX_VNNI FMA, in other operations, rebuild TensorFlow with the appropriate compiler flags.\n",
      "2024-12-12 08:50:28.079157: W tensorflow/compiler/tf2tensorrt/utils/py_utils.cc:38] TF-TRT Warning: Could not find TensorRT\n"
     ]
    }
   ],
   "source": [
    "### Modules importation\n",
    "import tensorflow as tf\n",
    "import tensorflow.keras as k\n",
    "from tensorflow.keras.datasets import mnist\n",
    "import tensorflow.keras.preprocessing.image as kpi\n",
    "import tensorflow.keras.models as km\n",
    "import tensorflow.keras.layers as kl\n",
    "import tensorflow.keras.losses as kloss\n",
    "import tensorflow.keras.regularizers as kr\n",
    "import tensorflow.keras.backend as K\n",
    "import tensorflow.keras.utils as ku\n",
    "from tensorflow.keras import callbacks\n",
    "import scipy as sc\n",
    "import numpy as np\n",
    "import numpy.linalg as npl\n",
    "import matplotlib.pyplot as plt\n",
    "import sys,os\n",
    "import random \n",
    "#import pandas as pd\n",
    "import sklearn.utils\n",
    "# Verbosity\n",
    "fit_verbosity = 1"
   ]
  },
  {
   "cell_type": "markdown",
   "id": "59f683bc",
   "metadata": {},
   "source": [
    "### Normalization and non-affine functions "
   ]
  },
  {
   "cell_type": "code",
   "execution_count": 2,
   "id": "daa43431",
   "metadata": {},
   "outputs": [],
   "source": [
    "# The scaling function for data normalisation\n",
    "# Scaling function\n",
    "def scaling(S, S_max, S_min):\n",
    "    S[ : ] = (S - S_min)/(S_max - S_min)\n",
    "    \n",
    "# Inverse scaling function\n",
    "def inverse_scaling(S, S_max, S_min):\n",
    "    S[ : ] = (S_max - S_min) * S + S_min\n",
    "    \n",
    "# The non-affinity function\n",
    "def Lambda(mu):\n",
    "    return np.exp(mu0*(mu+1.))"
   ]
  },
  {
   "cell_type": "markdown",
   "id": "75d79df0",
   "metadata": {},
   "source": [
    "## The offline phase"
   ]
  },
  {
   "cell_type": "markdown",
   "id": "c62f3018",
   "metadata": {},
   "source": [
    "### Preparing the data"
   ]
  },
  {
   "cell_type": "markdown",
   "id": "cdb02148",
   "metadata": {},
   "source": [
    "The RB POD matrix $Brb=[\\xi_{1},\\dots,\\xi_{M}]\\in\\mathbb{R}^{NN\\times N_{rb}}$. The RB matrix is constructed by POD method. It is computed for 100 snapshots of Problem (1). The reduced matrix here is of size $N_{rb}=5$. $$\\$$\n",
    "For the training step of the NN, the snapshots matrix $S=[U_{h}(\\mu_{1}),\\dots,U_{h}(\\mu_{M})]\\in\\mathbb{R}^{NN\\times M}$ has already been computed with $M=10000$."
   ]
  },
  {
   "cell_type": "markdown",
   "id": "8b953859",
   "metadata": {},
   "source": [
    "#### Load the data from numpy files"
   ]
  },
  {
   "cell_type": "code",
   "execution_count": 3,
   "id": "a5d416a6",
   "metadata": {},
   "outputs": [],
   "source": [
    "# Prepare the data\n",
    "# Load the data from the numpy file\n",
    "# Snaphots matrix\n",
    "S =  np.load('Snapshots_non_affine.npy') # of size M*NN\n",
    "S = S.transpose() # of size NN*M\n",
    "\n",
    "# The reduced POD basis\n",
    "Brb = np.load('Brb.npy') # of size NN*Nrb#\n",
    "Brb = Brb.real\n",
    "Nrb = len(Brb.transpose())\n",
    "\n",
    "# The parameter matrix\n",
    "P = np.load('parameter_non_affine.npy') # of size M x 1\n",
    "P = P.reshape(len(P),1)"
   ]
  },
  {
   "cell_type": "markdown",
   "id": "e2a5e1c7",
   "metadata": {},
   "source": [
    "#### Computation of the reduced outputs for the NN and randomly shuffle the data"
   ]
  },
  {
   "cell_type": "markdown",
   "id": "017eeb36",
   "metadata": {},
   "source": [
    "The reduced outputs are computed by the formula: $$\\begin{equation}Urb = Brb^{T}U_{h}(\\mu)\\in\\mathbb{R}^{N_{rb}}\\end{equation}$$ with $\\mu\\in\\textbf{P}=[\\mu_{min},{~}\\mu_{max}]$. $\\\\$\n",
    "We denote by $Urb_{POD}=Brb^{T}S$."
   ]
  },
  {
   "cell_type": "code",
   "execution_count": 4,
   "id": "03537ae8",
   "metadata": {},
   "outputs": [
    {
     "name": "stdout",
     "output_type": "stream",
     "text": [
      "Urb_POD size= (10000, 5)\n",
      "Urb_POD before normalization [[-3.83013819e+01 -1.07669587e+00 -9.61673815e-02  6.78112175e-02\n",
      "   1.65031134e-02]\n",
      " [-3.69161934e+01 -1.54285081e+00  3.01990532e-01 -2.08789233e-02\n",
      "  -3.53065280e-04]\n",
      " [-3.65307743e+01 -1.65873121e+00  4.11256301e-01 -4.97503877e-02\n",
      "  -7.42885140e-03]\n",
      " ...\n",
      " [-3.65500215e+01 -1.65305450e+00  4.05816405e-01 -4.82754838e-02\n",
      "  -7.05482843e-03]\n",
      " [-3.62787075e+01 -1.73208650e+00  4.82336901e-01 -6.93619134e-02\n",
      "  -1.25169073e-02]\n",
      " [-3.98853965e+01 -3.53343469e-01 -5.52477554e-01  1.11643943e-01\n",
      "   1.04988947e-02]]\n",
      "P before normalization [[ 169.43904563]\n",
      " [ 498.27947586]\n",
      " [ 865.31734253]\n",
      " ...\n",
      " [ 835.84471171]\n",
      " [1568.50119198]\n",
      " [  71.51712945]]\n"
     ]
    }
   ],
   "source": [
    "# Computation of the reduced solutions: Brb^T*Uh(mu)\n",
    "Urb_POD = np.dot(Brb.transpose(),S) # of size Nrb*M\n",
    "#print(\"Urb_POD size=\",Urb_POD.shape)\n",
    "\n",
    "# Transpose \n",
    "Urb_POD = Urb_POD.transpose() # of size M*Nrb\n",
    "print(\"Urb_POD size=\",Urb_POD.shape)\n",
    "\n",
    "# Randomy shufl the data set\n",
    "shuffle = np.arange(len(Urb_POD))\n",
    "np.random.shuffle(shuffle)\n",
    "Urb_POD = Urb_POD[shuffle]\n",
    "P = P[shuffle]\n",
    "print(\"Urb_POD before normalization\",Urb_POD)\n",
    "print(\"P before normalization\",P)"
   ]
  },
  {
   "cell_type": "markdown",
   "id": "00570cb3",
   "metadata": {},
   "source": [
    "#### Data normalization"
   ]
  },
  {
   "cell_type": "markdown",
   "id": "a5d4f8f5",
   "metadata": {},
   "source": [
    "The normalization of the data is done as follows: $$\\\\$$\n",
    "The input parameters for the NN are such that: $$\\begin{equation}\\tilde{\\mu_{i}} = \\frac{\\mu_{i}}{\\mu_{max}}\\end{equation}$$ for $1\\leq i\\leq M$ $$\\$$\n",
    "The outputs (RB solutions) for the NN are normalized as follows:$$\\begin{equation}(\\tilde{Urb}_{POD})_{ij} = \\frac{(Urb_{POD})_{ij}-\\underset{i,j}{\\min}(Urb_{POD})_{ij}}{\\underset{i,j}{\\max}(Urb_{POD})_{ij}-\\underset{i,j}{\\min}(Urb_{POD})_{ij}}\\end{equation}$$ for $1\\leq i\\leq M$ and $1\\leq j\\leq N_{rb}$ $$\\\\$$"
   ]
  },
  {
   "cell_type": "code",
   "execution_count": 5,
   "id": "ff538d10",
   "metadata": {},
   "outputs": [
    {
     "name": "stdout",
     "output_type": "stream",
     "text": [
      "P after normalization [[0.07672661]\n",
      " [0.22563449]\n",
      " [0.39183921]\n",
      " ...\n",
      " [0.37849321]\n",
      " [0.71025998]\n",
      " [0.0323849 ]]\n",
      "Urb_POD after normalization [[0.06069094 0.9045865  0.92681539 0.93053284 0.92936967]\n",
      " [0.09209361 0.89401861 0.93584176 0.9285222  0.92898753]\n",
      " [0.10083118 0.89139157 0.93831885 0.92786768 0.92882712]\n",
      " ...\n",
      " [0.10039484 0.89152026 0.93819552 0.92790112 0.9288356 ]\n",
      " [0.10654562 0.88972858 0.93993027 0.92742308 0.92871177]\n",
      " [0.02478082 0.92098513 0.91647069 0.93152654 0.92923355]]\n"
     ]
    }
   ],
   "source": [
    "# Data normalization\n",
    "# Normalization of the parameter set\n",
    "# Obtain the min and the max of P\n",
    "P_max = np.max(P); P_min = np.min(P)\n",
    "# Normalize the parameter vector P\n",
    "P = P/P_max\n",
    "\n",
    "# Normalization of the reduced matrix\n",
    "# Obtain the min and the max of the reduced outputs BrbUh\n",
    "Urb_POD_max = np.max(Urb_POD); Urb_POD_min = np.min(Urb_POD)\n",
    "scaling(Urb_POD, Urb_POD_max, Urb_POD_min)\n",
    "\n",
    "print(\"P after normalization\",P)\n",
    "print(\"Urb_POD after normalization\",Urb_POD)"
   ]
  },
  {
   "cell_type": "markdown",
   "id": "b4cfed79",
   "metadata": {},
   "source": [
    "#### Load the already trained NN"
   ]
  },
  {
   "cell_type": "code",
   "execution_count": 7,
   "id": "d65b990d",
   "metadata": {},
   "outputs": [
    {
     "name": "stderr",
     "output_type": "stream",
     "text": [
      "/home/n7student/miniforge3/envs/env_tensorflow/lib/python3.10/site-packages/keras/src/layers/core/dense.py:87: UserWarning: Do not pass an `input_shape`/`input_dim` argument to a layer. When using Sequential models, prefer using an `Input(shape)` object as the first layer in the model instead.\n",
      "  super().__init__(activity_regularizer=activity_regularizer, **kwargs)\n",
      "2024-12-12 08:59:40.250817: I external/local_xla/xla/stream_executor/cuda/cuda_executor.cc:998] successful NUMA node read from SysFS had negative value (-1), but there must be at least one NUMA node, so returning NUMA node zero. See more at https://github.com/torvalds/linux/blob/v6.0/Documentation/ABI/testing/sysfs-bus-pci#L344-L355\n",
      "2024-12-12 08:59:40.344339: I external/local_xla/xla/stream_executor/cuda/cuda_executor.cc:998] successful NUMA node read from SysFS had negative value (-1), but there must be at least one NUMA node, so returning NUMA node zero. See more at https://github.com/torvalds/linux/blob/v6.0/Documentation/ABI/testing/sysfs-bus-pci#L344-L355\n",
      "2024-12-12 08:59:40.344766: I external/local_xla/xla/stream_executor/cuda/cuda_executor.cc:998] successful NUMA node read from SysFS had negative value (-1), but there must be at least one NUMA node, so returning NUMA node zero. See more at https://github.com/torvalds/linux/blob/v6.0/Documentation/ABI/testing/sysfs-bus-pci#L344-L355\n",
      "2024-12-12 08:59:40.347529: I external/local_xla/xla/stream_executor/cuda/cuda_executor.cc:998] successful NUMA node read from SysFS had negative value (-1), but there must be at least one NUMA node, so returning NUMA node zero. See more at https://github.com/torvalds/linux/blob/v6.0/Documentation/ABI/testing/sysfs-bus-pci#L344-L355\n",
      "2024-12-12 08:59:40.347862: I external/local_xla/xla/stream_executor/cuda/cuda_executor.cc:998] successful NUMA node read from SysFS had negative value (-1), but there must be at least one NUMA node, so returning NUMA node zero. See more at https://github.com/torvalds/linux/blob/v6.0/Documentation/ABI/testing/sysfs-bus-pci#L344-L355\n",
      "2024-12-12 08:59:40.348082: I external/local_xla/xla/stream_executor/cuda/cuda_executor.cc:998] successful NUMA node read from SysFS had negative value (-1), but there must be at least one NUMA node, so returning NUMA node zero. See more at https://github.com/torvalds/linux/blob/v6.0/Documentation/ABI/testing/sysfs-bus-pci#L344-L355\n",
      "2024-12-12 08:59:40.436839: I external/local_xla/xla/stream_executor/cuda/cuda_executor.cc:998] successful NUMA node read from SysFS had negative value (-1), but there must be at least one NUMA node, so returning NUMA node zero. See more at https://github.com/torvalds/linux/blob/v6.0/Documentation/ABI/testing/sysfs-bus-pci#L344-L355\n",
      "2024-12-12 08:59:40.437130: I external/local_xla/xla/stream_executor/cuda/cuda_executor.cc:998] successful NUMA node read from SysFS had negative value (-1), but there must be at least one NUMA node, so returning NUMA node zero. See more at https://github.com/torvalds/linux/blob/v6.0/Documentation/ABI/testing/sysfs-bus-pci#L344-L355\n",
      "2024-12-12 08:59:40.437317: I external/local_xla/xla/stream_executor/cuda/cuda_executor.cc:998] successful NUMA node read from SysFS had negative value (-1), but there must be at least one NUMA node, so returning NUMA node zero. See more at https://github.com/torvalds/linux/blob/v6.0/Documentation/ABI/testing/sysfs-bus-pci#L344-L355\n",
      "2024-12-12 08:59:40.437483: I tensorflow/core/common_runtime/gpu/gpu_device.cc:1928] Created device /job:localhost/replica:0/task:0/device:GPU:0 with 1978 MB memory:  -> device: 0, name: NVIDIA RTX A500 Laptop GPU, pci bus id: 0000:01:00.0, compute capability: 8.6\n",
      "/home/n7student/miniforge3/envs/env_tensorflow/lib/python3.10/site-packages/keras/src/optimizers/base_optimizer.py:33: UserWarning: Argument `decay` is no longer supported and will be ignored.\n",
      "  warnings.warn(\n",
      "WARNING:absl:Compiled the loaded model, but the compiled metrics have yet to be built. `model.compile_metrics` will be empty until you train or evaluate the model.\n",
      "WARNING:absl:Error in loading the saved optimizer state. As a result, your model is starting with a freshly initialized optimizer.\n"
     ]
    },
    {
     "data": {
      "text/html": [
       "<pre style=\"white-space:pre;overflow-x:auto;line-height:normal;font-family:Menlo,'DejaVu Sans Mono',consolas,'Courier New',monospace\"><span style=\"font-weight: bold\">Model: \"sequential\"</span>\n",
       "</pre>\n"
      ],
      "text/plain": [
       "\u001b[1mModel: \"sequential\"\u001b[0m\n"
      ]
     },
     "metadata": {},
     "output_type": "display_data"
    },
    {
     "data": {
      "text/html": [
       "<pre style=\"white-space:pre;overflow-x:auto;line-height:normal;font-family:Menlo,'DejaVu Sans Mono',consolas,'Courier New',monospace\">┏━━━━━━━━━━━━━━━━━━━━━━━━━━━━━━━━━┳━━━━━━━━━━━━━━━━━━━━━━━━┳━━━━━━━━━━━━━━━┓\n",
       "┃<span style=\"font-weight: bold\"> Layer (type)                    </span>┃<span style=\"font-weight: bold\"> Output Shape           </span>┃<span style=\"font-weight: bold\">       Param # </span>┃\n",
       "┡━━━━━━━━━━━━━━━━━━━━━━━━━━━━━━━━━╇━━━━━━━━━━━━━━━━━━━━━━━━╇━━━━━━━━━━━━━━━┩\n",
       "│ dense (<span style=\"color: #0087ff; text-decoration-color: #0087ff\">Dense</span>)                   │ (<span style=\"color: #00d7ff; text-decoration-color: #00d7ff\">None</span>, <span style=\"color: #00af00; text-decoration-color: #00af00\">17</span>)             │            <span style=\"color: #00af00; text-decoration-color: #00af00\">34</span> │\n",
       "├─────────────────────────────────┼────────────────────────┼───────────────┤\n",
       "│ dense_1 (<span style=\"color: #0087ff; text-decoration-color: #0087ff\">Dense</span>)                 │ (<span style=\"color: #00d7ff; text-decoration-color: #00d7ff\">None</span>, <span style=\"color: #00af00; text-decoration-color: #00af00\">17</span>)             │           <span style=\"color: #00af00; text-decoration-color: #00af00\">306</span> │\n",
       "├─────────────────────────────────┼────────────────────────┼───────────────┤\n",
       "│ dense_2 (<span style=\"color: #0087ff; text-decoration-color: #0087ff\">Dense</span>)                 │ (<span style=\"color: #00d7ff; text-decoration-color: #00d7ff\">None</span>, <span style=\"color: #00af00; text-decoration-color: #00af00\">17</span>)             │           <span style=\"color: #00af00; text-decoration-color: #00af00\">306</span> │\n",
       "├─────────────────────────────────┼────────────────────────┼───────────────┤\n",
       "│ dense_3 (<span style=\"color: #0087ff; text-decoration-color: #0087ff\">Dense</span>)                 │ (<span style=\"color: #00d7ff; text-decoration-color: #00d7ff\">None</span>, <span style=\"color: #00af00; text-decoration-color: #00af00\">17</span>)             │           <span style=\"color: #00af00; text-decoration-color: #00af00\">306</span> │\n",
       "├─────────────────────────────────┼────────────────────────┼───────────────┤\n",
       "│ dense_4 (<span style=\"color: #0087ff; text-decoration-color: #0087ff\">Dense</span>)                 │ (<span style=\"color: #00d7ff; text-decoration-color: #00d7ff\">None</span>, <span style=\"color: #00af00; text-decoration-color: #00af00\">17</span>)             │           <span style=\"color: #00af00; text-decoration-color: #00af00\">306</span> │\n",
       "├─────────────────────────────────┼────────────────────────┼───────────────┤\n",
       "│ dense_5 (<span style=\"color: #0087ff; text-decoration-color: #0087ff\">Dense</span>)                 │ (<span style=\"color: #00d7ff; text-decoration-color: #00d7ff\">None</span>, <span style=\"color: #00af00; text-decoration-color: #00af00\">17</span>)             │           <span style=\"color: #00af00; text-decoration-color: #00af00\">306</span> │\n",
       "├─────────────────────────────────┼────────────────────────┼───────────────┤\n",
       "│ dense_6 (<span style=\"color: #0087ff; text-decoration-color: #0087ff\">Dense</span>)                 │ (<span style=\"color: #00d7ff; text-decoration-color: #00d7ff\">None</span>, <span style=\"color: #00af00; text-decoration-color: #00af00\">17</span>)             │           <span style=\"color: #00af00; text-decoration-color: #00af00\">306</span> │\n",
       "├─────────────────────────────────┼────────────────────────┼───────────────┤\n",
       "│ dense_7 (<span style=\"color: #0087ff; text-decoration-color: #0087ff\">Dense</span>)                 │ (<span style=\"color: #00d7ff; text-decoration-color: #00d7ff\">None</span>, <span style=\"color: #00af00; text-decoration-color: #00af00\">17</span>)             │           <span style=\"color: #00af00; text-decoration-color: #00af00\">306</span> │\n",
       "├─────────────────────────────────┼────────────────────────┼───────────────┤\n",
       "│ dense_8 (<span style=\"color: #0087ff; text-decoration-color: #0087ff\">Dense</span>)                 │ (<span style=\"color: #00d7ff; text-decoration-color: #00d7ff\">None</span>, <span style=\"color: #00af00; text-decoration-color: #00af00\">17</span>)             │           <span style=\"color: #00af00; text-decoration-color: #00af00\">306</span> │\n",
       "├─────────────────────────────────┼────────────────────────┼───────────────┤\n",
       "│ dense_9 (<span style=\"color: #0087ff; text-decoration-color: #0087ff\">Dense</span>)                 │ (<span style=\"color: #00d7ff; text-decoration-color: #00d7ff\">None</span>, <span style=\"color: #00af00; text-decoration-color: #00af00\">17</span>)             │           <span style=\"color: #00af00; text-decoration-color: #00af00\">306</span> │\n",
       "├─────────────────────────────────┼────────────────────────┼───────────────┤\n",
       "│ dense_10 (<span style=\"color: #0087ff; text-decoration-color: #0087ff\">Dense</span>)                │ (<span style=\"color: #00d7ff; text-decoration-color: #00d7ff\">None</span>, <span style=\"color: #00af00; text-decoration-color: #00af00\">17</span>)             │           <span style=\"color: #00af00; text-decoration-color: #00af00\">306</span> │\n",
       "├─────────────────────────────────┼────────────────────────┼───────────────┤\n",
       "│ dense_11 (<span style=\"color: #0087ff; text-decoration-color: #0087ff\">Dense</span>)                │ (<span style=\"color: #00d7ff; text-decoration-color: #00d7ff\">None</span>, <span style=\"color: #00af00; text-decoration-color: #00af00\">17</span>)             │           <span style=\"color: #00af00; text-decoration-color: #00af00\">306</span> │\n",
       "├─────────────────────────────────┼────────────────────────┼───────────────┤\n",
       "│ dense_12 (<span style=\"color: #0087ff; text-decoration-color: #0087ff\">Dense</span>)                │ (<span style=\"color: #00d7ff; text-decoration-color: #00d7ff\">None</span>, <span style=\"color: #00af00; text-decoration-color: #00af00\">17</span>)             │           <span style=\"color: #00af00; text-decoration-color: #00af00\">306</span> │\n",
       "├─────────────────────────────────┼────────────────────────┼───────────────┤\n",
       "│ dense_13 (<span style=\"color: #0087ff; text-decoration-color: #0087ff\">Dense</span>)                │ (<span style=\"color: #00d7ff; text-decoration-color: #00d7ff\">None</span>, <span style=\"color: #00af00; text-decoration-color: #00af00\">17</span>)             │           <span style=\"color: #00af00; text-decoration-color: #00af00\">306</span> │\n",
       "├─────────────────────────────────┼────────────────────────┼───────────────┤\n",
       "│ dense_14 (<span style=\"color: #0087ff; text-decoration-color: #0087ff\">Dense</span>)                │ (<span style=\"color: #00d7ff; text-decoration-color: #00d7ff\">None</span>, <span style=\"color: #00af00; text-decoration-color: #00af00\">5</span>)              │            <span style=\"color: #00af00; text-decoration-color: #00af00\">90</span> │\n",
       "└─────────────────────────────────┴────────────────────────┴───────────────┘\n",
       "</pre>\n"
      ],
      "text/plain": [
       "┏━━━━━━━━━━━━━━━━━━━━━━━━━━━━━━━━━┳━━━━━━━━━━━━━━━━━━━━━━━━┳━━━━━━━━━━━━━━━┓\n",
       "┃\u001b[1m \u001b[0m\u001b[1mLayer (type)                   \u001b[0m\u001b[1m \u001b[0m┃\u001b[1m \u001b[0m\u001b[1mOutput Shape          \u001b[0m\u001b[1m \u001b[0m┃\u001b[1m \u001b[0m\u001b[1m      Param #\u001b[0m\u001b[1m \u001b[0m┃\n",
       "┡━━━━━━━━━━━━━━━━━━━━━━━━━━━━━━━━━╇━━━━━━━━━━━━━━━━━━━━━━━━╇━━━━━━━━━━━━━━━┩\n",
       "│ dense (\u001b[38;5;33mDense\u001b[0m)                   │ (\u001b[38;5;45mNone\u001b[0m, \u001b[38;5;34m17\u001b[0m)             │            \u001b[38;5;34m34\u001b[0m │\n",
       "├─────────────────────────────────┼────────────────────────┼───────────────┤\n",
       "│ dense_1 (\u001b[38;5;33mDense\u001b[0m)                 │ (\u001b[38;5;45mNone\u001b[0m, \u001b[38;5;34m17\u001b[0m)             │           \u001b[38;5;34m306\u001b[0m │\n",
       "├─────────────────────────────────┼────────────────────────┼───────────────┤\n",
       "│ dense_2 (\u001b[38;5;33mDense\u001b[0m)                 │ (\u001b[38;5;45mNone\u001b[0m, \u001b[38;5;34m17\u001b[0m)             │           \u001b[38;5;34m306\u001b[0m │\n",
       "├─────────────────────────────────┼────────────────────────┼───────────────┤\n",
       "│ dense_3 (\u001b[38;5;33mDense\u001b[0m)                 │ (\u001b[38;5;45mNone\u001b[0m, \u001b[38;5;34m17\u001b[0m)             │           \u001b[38;5;34m306\u001b[0m │\n",
       "├─────────────────────────────────┼────────────────────────┼───────────────┤\n",
       "│ dense_4 (\u001b[38;5;33mDense\u001b[0m)                 │ (\u001b[38;5;45mNone\u001b[0m, \u001b[38;5;34m17\u001b[0m)             │           \u001b[38;5;34m306\u001b[0m │\n",
       "├─────────────────────────────────┼────────────────────────┼───────────────┤\n",
       "│ dense_5 (\u001b[38;5;33mDense\u001b[0m)                 │ (\u001b[38;5;45mNone\u001b[0m, \u001b[38;5;34m17\u001b[0m)             │           \u001b[38;5;34m306\u001b[0m │\n",
       "├─────────────────────────────────┼────────────────────────┼───────────────┤\n",
       "│ dense_6 (\u001b[38;5;33mDense\u001b[0m)                 │ (\u001b[38;5;45mNone\u001b[0m, \u001b[38;5;34m17\u001b[0m)             │           \u001b[38;5;34m306\u001b[0m │\n",
       "├─────────────────────────────────┼────────────────────────┼───────────────┤\n",
       "│ dense_7 (\u001b[38;5;33mDense\u001b[0m)                 │ (\u001b[38;5;45mNone\u001b[0m, \u001b[38;5;34m17\u001b[0m)             │           \u001b[38;5;34m306\u001b[0m │\n",
       "├─────────────────────────────────┼────────────────────────┼───────────────┤\n",
       "│ dense_8 (\u001b[38;5;33mDense\u001b[0m)                 │ (\u001b[38;5;45mNone\u001b[0m, \u001b[38;5;34m17\u001b[0m)             │           \u001b[38;5;34m306\u001b[0m │\n",
       "├─────────────────────────────────┼────────────────────────┼───────────────┤\n",
       "│ dense_9 (\u001b[38;5;33mDense\u001b[0m)                 │ (\u001b[38;5;45mNone\u001b[0m, \u001b[38;5;34m17\u001b[0m)             │           \u001b[38;5;34m306\u001b[0m │\n",
       "├─────────────────────────────────┼────────────────────────┼───────────────┤\n",
       "│ dense_10 (\u001b[38;5;33mDense\u001b[0m)                │ (\u001b[38;5;45mNone\u001b[0m, \u001b[38;5;34m17\u001b[0m)             │           \u001b[38;5;34m306\u001b[0m │\n",
       "├─────────────────────────────────┼────────────────────────┼───────────────┤\n",
       "│ dense_11 (\u001b[38;5;33mDense\u001b[0m)                │ (\u001b[38;5;45mNone\u001b[0m, \u001b[38;5;34m17\u001b[0m)             │           \u001b[38;5;34m306\u001b[0m │\n",
       "├─────────────────────────────────┼────────────────────────┼───────────────┤\n",
       "│ dense_12 (\u001b[38;5;33mDense\u001b[0m)                │ (\u001b[38;5;45mNone\u001b[0m, \u001b[38;5;34m17\u001b[0m)             │           \u001b[38;5;34m306\u001b[0m │\n",
       "├─────────────────────────────────┼────────────────────────┼───────────────┤\n",
       "│ dense_13 (\u001b[38;5;33mDense\u001b[0m)                │ (\u001b[38;5;45mNone\u001b[0m, \u001b[38;5;34m17\u001b[0m)             │           \u001b[38;5;34m306\u001b[0m │\n",
       "├─────────────────────────────────┼────────────────────────┼───────────────┤\n",
       "│ dense_14 (\u001b[38;5;33mDense\u001b[0m)                │ (\u001b[38;5;45mNone\u001b[0m, \u001b[38;5;34m5\u001b[0m)              │            \u001b[38;5;34m90\u001b[0m │\n",
       "└─────────────────────────────────┴────────────────────────┴───────────────┘\n"
      ]
     },
     "metadata": {},
     "output_type": "display_data"
    },
    {
     "data": {
      "text/html": [
       "<pre style=\"white-space:pre;overflow-x:auto;line-height:normal;font-family:Menlo,'DejaVu Sans Mono',consolas,'Courier New',monospace\"><span style=\"font-weight: bold\"> Total params: </span><span style=\"color: #00af00; text-decoration-color: #00af00\">4,104</span> (16.04 KB)\n",
       "</pre>\n"
      ],
      "text/plain": [
       "\u001b[1m Total params: \u001b[0m\u001b[38;5;34m4,104\u001b[0m (16.04 KB)\n"
      ]
     },
     "metadata": {},
     "output_type": "display_data"
    },
    {
     "data": {
      "text/html": [
       "<pre style=\"white-space:pre;overflow-x:auto;line-height:normal;font-family:Menlo,'DejaVu Sans Mono',consolas,'Courier New',monospace\"><span style=\"font-weight: bold\"> Trainable params: </span><span style=\"color: #00af00; text-decoration-color: #00af00\">4,102</span> (16.02 KB)\n",
       "</pre>\n"
      ],
      "text/plain": [
       "\u001b[1m Trainable params: \u001b[0m\u001b[38;5;34m4,102\u001b[0m (16.02 KB)\n"
      ]
     },
     "metadata": {},
     "output_type": "display_data"
    },
    {
     "data": {
      "text/html": [
       "<pre style=\"white-space:pre;overflow-x:auto;line-height:normal;font-family:Menlo,'DejaVu Sans Mono',consolas,'Courier New',monospace\"><span style=\"font-weight: bold\"> Non-trainable params: </span><span style=\"color: #00af00; text-decoration-color: #00af00\">0</span> (0.00 B)\n",
       "</pre>\n"
      ],
      "text/plain": [
       "\u001b[1m Non-trainable params: \u001b[0m\u001b[38;5;34m0\u001b[0m (0.00 B)\n"
      ]
     },
     "metadata": {},
     "output_type": "display_data"
    },
    {
     "data": {
      "text/html": [
       "<pre style=\"white-space:pre;overflow-x:auto;line-height:normal;font-family:Menlo,'DejaVu Sans Mono',consolas,'Courier New',monospace\"><span style=\"font-weight: bold\"> Optimizer params: </span><span style=\"color: #00af00; text-decoration-color: #00af00\">2</span> (12.00 B)\n",
       "</pre>\n"
      ],
      "text/plain": [
       "\u001b[1m Optimizer params: \u001b[0m\u001b[38;5;34m2\u001b[0m (12.00 B)\n"
      ]
     },
     "metadata": {},
     "output_type": "display_data"
    }
   ],
   "source": [
    "# Load the pre-trained NN stored in h5 format\n",
    "Model = km.load_model('Neural-network.h5', custom_objects={'mse': tf.keras.losses.MeanSquaredError()})\n",
    "\n",
    "# Summary of the model: layers and number of parameters \n",
    "Model.summary()"
   ]
  },
  {
   "cell_type": "markdown",
   "id": "472a6edd",
   "metadata": {},
   "source": [
    "## The online phase"
   ]
  },
  {
   "cell_type": "markdown",
   "id": "69dc5b1e",
   "metadata": {},
   "source": [
    "### New parameter value"
   ]
  },
  {
   "cell_type": "code",
   "execution_count": 8,
   "id": "4e3e92bd",
   "metadata": {},
   "outputs": [
    {
     "name": "stdout",
     "output_type": "stream",
     "text": [
      "New value for mu \n",
      "mu= [[1.]]\n",
      "diffus= [[4.05519997]]\n",
      "diffus after normalization= [[0.0018363]]\n"
     ]
    }
   ],
   "source": [
    "# The onlinbe phase \n",
    "# Predict the new solution U_POD_NN\n",
    "# The constant mu_0\n",
    "mu0 = 0.7\n",
    "\n",
    "# New value of the physical parameter mu\n",
    "print('New value for mu ')\n",
    "# The parameter input for the NN\n",
    "mu = np.array([[float(input())]])\n",
    "print(\"mu=\",mu)\n",
    "\n",
    "# The non-affine parameter\n",
    "# TO BE COMPLETED ...\n",
    "diffus = Lambda(mu)\n",
    "print(\"diffus=\",diffus)\n",
    "\n",
    "# Normalization of the non-affine parameter\n",
    "# TO BE COMPLETED ...\n",
    "diffus = diffus/P_max\n",
    "print(\"diffus after normalization=\",diffus)"
   ]
  },
  {
   "cell_type": "markdown",
   "id": "cce3e0d6",
   "metadata": {},
   "source": [
    "### Compute the RB solution for the new parameter value by performing the NN"
   ]
  },
  {
   "cell_type": "code",
   "execution_count": 9,
   "id": "52a775b7",
   "metadata": {},
   "outputs": [
    {
     "name": "stderr",
     "output_type": "stream",
     "text": [
      "WARNING: All log messages before absl::InitializeLog() is called are written to STDERR\n",
      "I0000 00:00:1733990388.529098   24050 service.cc:145] XLA service 0x72dfa0009990 initialized for platform CUDA (this does not guarantee that XLA will be used). Devices:\n",
      "I0000 00:00:1733990388.529157   24050 service.cc:153]   StreamExecutor device (0): NVIDIA RTX A500 Laptop GPU, Compute Capability 8.6\n",
      "2024-12-12 08:59:48.543857: I tensorflow/compiler/mlir/tensorflow/utils/dump_mlir_util.cc:268] disabling MLIR crash reproducer, set env var `MLIR_CRASH_REPRODUCER_DIRECTORY` to enable.\n",
      "2024-12-12 08:59:48.630533: I external/local_xla/xla/stream_executor/cuda/cuda_dnn.cc:465] Loaded cuDNN version 8907\n"
     ]
    },
    {
     "name": "stdout",
     "output_type": "stream",
     "text": [
      "\u001b[1m1/1\u001b[0m \u001b[32m━━━━━━━━━━━━━━━━━━━━\u001b[0m\u001b[37m\u001b[0m \u001b[1m0s\u001b[0m 372ms/step\n",
      "U_POD_NN= [[0.01293175 0.99968356 0.95092124 0.93194085 0.9298653 ]]\n",
      "U_POD_NN after rescaling= [[-4.0408066e+01  3.1180878e+00  9.6715546e-01  1.2992096e-01\n",
      "   3.8368225e-02]]\n",
      "U_FE_NN= [[0.9949374 ]\n",
      " [0.9949374 ]\n",
      " [0.99569553]\n",
      " ...\n",
      " [1.0759354 ]\n",
      " [1.08006299]\n",
      " [1.07737008]]\n"
     ]
    },
    {
     "name": "stderr",
     "output_type": "stream",
     "text": [
      "I0000 00:00:1733990388.738963   24050 device_compiler.h:188] Compiled cluster using XLA!  This line is logged at most once for the lifetime of the process.\n"
     ]
    }
   ],
   "source": [
    "# Predict the reduced basis solution of the new parameter\n",
    "# TO BE COMPLETED ...\n",
    "U_POD_NN = Model.predict(diffus)\n",
    "print(\"U_POD_NN=\",U_POD_NN)\n",
    "\n",
    "# Rescaling the predicted reduced basis solution\n",
    "# TO BE COMPLETED ...\n",
    "inverse_scaling(U_POD_NN, Urb_POD_max, Urb_POD_min)\n",
    "print(\"U_POD_NN after rescaling=\",U_POD_NN)\n",
    "\n",
    "# The change of variable from the RB basis to complete FE one.\n",
    "# TO BE COMPLETED ...\n",
    "U_FE_NN = np.dot(Brb,U_POD_NN.transpose())\n",
    "print(\"U_FE_NN=\",U_FE_NN)"
   ]
  },
  {
   "cell_type": "markdown",
   "id": "86610189",
   "metadata": {},
   "source": [
    "### Save the POD-NN solution in numpy file"
   ]
  },
  {
   "cell_type": "code",
   "execution_count": 15,
   "id": "e6e857f1",
   "metadata": {},
   "outputs": [
    {
     "data": {
      "text/plain": [
       "(1296, 1)"
      ]
     },
     "execution_count": 15,
     "metadata": {},
     "output_type": "execute_result"
    }
   ],
   "source": [
    "U_FE_NN.shape"
   ]
  },
  {
   "cell_type": "code",
   "execution_count": 17,
   "id": "8e77d2b9",
   "metadata": {},
   "outputs": [
    {
     "data": {
      "text/plain": [
       "[<matplotlib.lines.Line2D at 0x72e10ff09e70>]"
      ]
     },
     "execution_count": 17,
     "metadata": {},
     "output_type": "execute_result"
    },
    {
     "data": {
      "image/png": "[encoded data removed]",
      "text/plain": [
       "<Figure size 640x480 with 1 Axes>"
      ]
     },
     "metadata": {},
     "output_type": "display_data"
    }
   ],
   "source": [
    "plt.plot(U_FE_NN)"
   ]
  },
  {
   "cell_type": "code",
   "execution_count": 18,
   "id": "ebf2c470",
   "metadata": {},
   "outputs": [],
   "source": [
    "Uh_POD_NN = U_POD_NN\n",
    "np.save('Uh_POD_NN',Uh_POD_NN)"
   ]
  }
 ],
 "metadata": {
  "kernelspec": {
   "display_name": "env_tensorflow",
   "language": "python",
   "name": "env_tensorflow"
  },
  "language_info": {
   "codemirror_mode": {
    "name": "ipython",
    "version": 3
   },
   "file_extension": ".py",
   "mimetype": "text/x-python",
   "name": "python",
   "nbconvert_exporter": "python",
   "pygments_lexer": "ipython3",
   "version": "3.10.12"
  }
 },
 "nbformat": 4,
 "nbformat_minor": 5
}

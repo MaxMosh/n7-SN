{
 "cells": [
  {
   "cell_type": "markdown",
   "id": "a7d05498",
   "metadata": {},
   "source": [
    "# POD-NN method"
   ]
  },
  {
   "cell_type": "markdown",
   "id": "efe4881b",
   "metadata": {},
   "source": [
    "## The advection-diffusion problem"
   ]
  },
  {
   "cell_type": "markdown",
   "id": "8ab245f5",
   "metadata": {},
   "source": [
    "Let us  considere the following BVP. It is based on the 2D stationary advection-diffusion. It is here parametrized by the diffusivity coefficient $\\lambda(\\mu)$. The equations read: "
   ]
  },
  {
   "cell_type": "markdown",
   "id": "1d83a1fd",
   "metadata": {},
   "source": [
    "$$\\begin{equation}\n",
    "\\begin{cases}\n",
    "-div(\\lambda(\\mu)\\nabla u)+w\\nabla u=f & in~~\\Omega\\\\\n",
    "~~~~~~\\hfill~~~~~~~~~~~~~~~~~~u=g & in~~\\varGamma_{in}\\\\\n",
    "~~~\\hfill~~~~-\\lambda(\\mu)\\nabla u.n=0 & in~~\\varGamma_{wall}\\\\\n",
    "~~~\\hfill~~~~-\\lambda(\\mu)\\nabla u.n=0 & in~~\\varGamma_{out}\n",
    "\\end{cases}\n",
    "\\label{eq:Advection-non-affine}\n",
    "\\end{equation}$$"
   ]
  },
  {
   "cell_type": "markdown",
   "id": "aafe68ad",
   "metadata": {},
   "source": [
    "with $\\lambda(\\mu)=\\exp(\\mu_{0}(\\mu + 1))$. The scalar $\\mu_{0}=0.7$ and $\\mu\\in\\textbf{P}=[\\mu_{min},{~}\\mu_{max}],{~}  \\mu_{min}=1,{~} \\mu_{max}=10$."
   ]
  },
  {
   "cell_type": "markdown",
   "id": "749b312a",
   "metadata": {},
   "source": [
    "### Modules  import and initializations"
   ]
  },
  {
   "cell_type": "code",
   "execution_count": null,
   "id": "2eca8a3e",
   "metadata": {},
   "outputs": [],
   "source": [
    "### Modules importation\n",
    "import tensorflow as tf\n",
    "import tensorflow.keras as k\n",
    "from tensorflow.keras.datasets import mnist\n",
    "import tensorflow.keras.preprocessing.image as kpi\n",
    "import tensorflow.keras.models as km\n",
    "import tensorflow.keras.layers as kl\n",
    "import tensorflow.keras.losses as kloss\n",
    "import tensorflow.keras.regularizers as kr\n",
    "import tensorflow.keras.backend as K\n",
    "import tensorflow.keras.utils as ku\n",
    "from tensorflow.keras import callbacks\n",
    "import scipy as sc\n",
    "import numpy as np\n",
    "import numpy.linalg as npl\n",
    "import matplotlib.pyplot as plt\n",
    "import sys,os\n",
    "import random \n",
    "#import pandas as pd\n",
    "import sklearn.utils\n",
    "# Verbosity\n",
    "fit_verbosity = 1"
   ]
  },
  {
   "cell_type": "markdown",
   "id": "59f683bc",
   "metadata": {},
   "source": [
    "### Normalization and non-affine functions "
   ]
  },
  {
   "cell_type": "code",
   "execution_count": 2,
   "id": "daa43431",
   "metadata": {},
   "outputs": [],
   "source": [
    "# The scaling function for data normalisation\n",
    "# Scaling function\n",
    "def scaling(S, S_max, S_min):\n",
    "    S[ : ] = (S - S_min)/(S_max - S_min)\n",
    "    \n",
    "# Inverse scaling function\n",
    "def inverse_scaling(S, S_max, S_min):\n",
    "    S[ : ] = (S_max - S_min) * S + S_min\n",
    "    \n",
    "# The non-affinity function\n",
    "def Lambda(mu):\n",
    "    return np.exp(mu0*(mu+1.))"
   ]
  },
  {
   "cell_type": "markdown",
   "id": "75d79df0",
   "metadata": {},
   "source": [
    "## The offline phase"
   ]
  },
  {
   "cell_type": "markdown",
   "id": "c62f3018",
   "metadata": {},
   "source": [
    "### Preparing the data"
   ]
  },
  {
   "cell_type": "markdown",
   "id": "cdb02148",
   "metadata": {},
   "source": [
    "The RB POD matrix $Brb=[\\xi_{1},\\dots,\\xi_{M}]\\in\\mathbb{R}^{NN\\times N_{rb}}$. The RB matrix is constructed by POD method. It is computed for 100 snapshots of Problem (1). The reduced matrix here is of size $N_{rb}=5$. $$\\$$\n",
    "For the training step of the NN, the snapshots matrix $S=[U_{h}(\\mu_{1}),\\dots,U_{h}(\\mu_{M})]\\in\\mathbb{R}^{NN\\times M}$ has already been computed with $M=10000$."
   ]
  },
  {
   "cell_type": "markdown",
   "id": "8b953859",
   "metadata": {},
   "source": [
    "#### Load the data from numpy files"
   ]
  },
  {
   "cell_type": "code",
   "execution_count": 3,
   "id": "a5d416a6",
   "metadata": {},
   "outputs": [],
   "source": [
    "# Prepare the data\n",
    "# Load the data from the numpy file\n",
    "# Snaphots matrix\n",
    "S =  np.load('Snapshots_non_affine.npy') # of size M*NN\n",
    "S = S.transpose() # of size NN*M\n",
    "\n",
    "# The reduced POD basis\n",
    "Brb = np.load('Brb.npy') # of size NN*Nrb#\n",
    "Brb = Brb.real\n",
    "Nrb = len(Brb.transpose())\n",
    "\n",
    "# The parameter matrix\n",
    "P = np.load('parameter_non_affine.npy') # of size M x 1\n",
    "P = P.reshape(len(P),1)"
   ]
  },
  {
   "cell_type": "markdown",
   "id": "e2a5e1c7",
   "metadata": {},
   "source": [
    "#### Computation of the reduced outputs for the NN and randomly shuffle the data"
   ]
  },
  {
   "cell_type": "markdown",
   "id": "017eeb36",
   "metadata": {},
   "source": [
    "The reduced outputs are computed by the formula: $$\\begin{equation}Urb = Brb^{T}U_{h}(\\mu)\\in\\mathbb{R}^{N_{rb}}\\end{equation}$$ with $\\mu\\in\\textbf{P}=[\\mu_{min},{~}\\mu_{max}]$. $\\\\$\n",
    "We denote by $Urb_{POD}=Brb^{T}S$."
   ]
  },
  {
   "cell_type": "code",
   "execution_count": null,
   "id": "03537ae8",
   "metadata": {},
   "outputs": [],
   "source": [
    "# Computation of the reduced solutions: Brb^T*Uh(mu)\n",
    "Urb_POD = np.dot(Brb.transpose(),S) # of size Nrb*M\n",
    "#print(\"Urb_POD size=\",Urb_POD.shape)\n",
    "\n",
    "# Transpose \n",
    "Urb_POD = Urb_POD.transpose() # of size M*Nrb\n",
    "print(\"Urb_POD size=\",Urb_POD.shape)\n",
    "\n",
    "# Randomy shufl the data set\n",
    "shuffle = np.arange(len(Urb_POD))\n",
    "np.random.shuffle(shuffle)\n",
    "Urb_POD = Urb_POD[shuffle]\n",
    "P = P[shuffle]\n",
    "print(\"Urb_POD before normalization\",Urb_POD)\n",
    "print(\"P before normalization\",P)"
   ]
  },
  {
   "cell_type": "markdown",
   "id": "00570cb3",
   "metadata": {},
   "source": [
    "#### Data normalization"
   ]
  },
  {
   "cell_type": "markdown",
   "id": "a5d4f8f5",
   "metadata": {},
   "source": [
    "The normalization of the data is done as follows: $$\\\\$$\n",
    "The input parameters for the NN are such that: $$\\begin{equation}\\tilde{\\mu_{i}} = \\frac{\\mu_{i}}{\\mu_{max}}\\end{equation}$$ for $1\\leq i\\leq M$ $$\\$$\n",
    "The outputs (RB solutions) for the NN are normalized as follows:$$\\begin{equation}(\\tilde{Urb}_{POD})_{ij} = \\frac{(Urb_{POD})_{ij}-\\underset{i,j}{\\min}(Urb_{POD})_{ij}}{\\underset{i,j}{\\max}(Urb_{POD})_{ij}-\\underset{i,j}{\\min}(Urb_{POD})_{ij}}\\end{equation}$$ for $1\\leq i\\leq M$ and $1\\leq j\\leq N_{rb}$ $$\\\\$$"
   ]
  },
  {
   "cell_type": "code",
   "execution_count": null,
   "id": "ff538d10",
   "metadata": {},
   "outputs": [],
   "source": [
    "# Data normalization\n",
    "# Normalization of the parameter set\n",
    "# Obtain the min and the max of P\n",
    "P_max = np.max(P); P_min = np.min(P)\n",
    "# Normalize the parameter vector P\n",
    "P = P/P_max\n",
    "\n",
    "# Normalization of the reduced matrix\n",
    "# Obtain the min and the max of the reduced outputs BrbUh\n",
    "Urb_POD_max = np.max(Urb_POD); Urb_POD_min = np.min(Urb_POD)\n",
    "scaling(Urb_POD, Urb_POD_max, Urb_POD_min)\n",
    "\n",
    "print(\"P after normalization\",P)\n",
    "print(\"Urb_POD after normalization\",Urb_POD)"
   ]
  },
  {
   "cell_type": "markdown",
   "id": "b4cfed79",
   "metadata": {},
   "source": [
    "#### Load the already trained NN"
   ]
  },
  {
   "cell_type": "code",
   "execution_count": null,
   "id": "d65b990d",
   "metadata": {},
   "outputs": [],
   "source": [
    "# Load the pre-trained NN stored in h5 format\n",
    "Model = km.load_model('Neural-network.h5', custom_objects={'mse': tf.keras.losses.MeanSquaredError()})\n",
    "\n",
    "# Summary of the model: layers and number of parameters \n",
    "Model.summary()"
   ]
  },
  {
   "cell_type": "markdown",
   "id": "472a6edd",
   "metadata": {},
   "source": [
    "## The online phase"
   ]
  },
  {
   "cell_type": "markdown",
   "id": "69dc5b1e",
   "metadata": {},
   "source": [
    "### New parameter value"
   ]
  },
  {
   "cell_type": "code",
   "execution_count": null,
   "id": "4e3e92bd",
   "metadata": {},
   "outputs": [],
   "source": [
    "# The onlinbe phase \n",
    "# Predict the new solution U_POD_NN\n",
    "# The constant mu_0\n",
    "mu0 = 0.7\n",
    "\n",
    "# New value of the physical parameter mu\n",
    "print('New value for mu ')\n",
    "# The parameter input for the NN\n",
    "mu = np.array([[float(input())]])\n",
    "print(\"mu=\",mu)\n",
    "\n",
    "# The non-affine parameter\n",
    "# TO BE COMPLETED ...\n",
    "diffus = Lambda(mu)\n",
    "print(\"diffus=\",diffus)\n",
    "\n",
    "# Normalization of the non-affine parameter\n",
    "# TO BE COMPLETED ...\n",
    "diffus = diffus/P_max\n",
    "print(\"diffus after normalization=\",diffus)"
   ]
  },
  {
   "cell_type": "markdown",
   "id": "cce3e0d6",
   "metadata": {},
   "source": [
    "### Compute the RB solution for the new parameter value by performing the NN"
   ]
  },
  {
   "cell_type": "code",
   "execution_count": null,
   "id": "52a775b7",
   "metadata": {},
   "outputs": [],
   "source": [
    "# Predict the reduced basis solution of the new parameter\n",
    "# TO BE COMPLETED ...\n",
    "U_POD_NN = Model.predict(diffus)\n",
    "print(\"U_POD_NN=\",U_POD_NN)\n",
    "\n",
    "# Rescaling the predicted reduced basis solution\n",
    "# TO BE COMPLETED ...\n",
    "inverse_scaling(U_POD_NN, Urb_POD_max, Urb_POD_min)\n",
    "print(\"U_POD_NN after rescaling=\",U_POD_NN)\n",
    "\n",
    "# The change of variable from the RB basis to complete FE one.\n",
    "# TO BE COMPLETED ...\n",
    "U_FE_NN = np.dot(Brb,U_POD_NN.transpose())\n",
    "print(\"U_FE_NN=\",U_FE_NN)"
   ]
  },
  {
   "cell_type": "markdown",
   "id": "86610189",
   "metadata": {},
   "source": [
    "### Save the POD-NN solution in numpy file"
   ]
  },
  {
   "cell_type": "code",
   "execution_count": null,
   "id": "ebf2c470",
   "metadata": {},
   "outputs": [],
   "source": [
    "np.save('Uh_POD_NN',Uh_POD_NN)"
   ]
  }
 ],
 "metadata": {
  "kernelspec": {
   "display_name": "env_tensorflow",
   "language": "python",
   "name": "env_tensorflow"
  },
  "language_info": {
   "codemirror_mode": {
    "name": "ipython",
    "version": 3
   },
   "file_extension": ".py",
   "mimetype": "text/x-python",
   "name": "python",
   "nbconvert_exporter": "python",
   "pygments_lexer": "ipython3",
   "version": "3.10.12"
  }
 },
 "nbformat": 4,
 "nbformat_minor": 5
}

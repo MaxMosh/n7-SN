{
 "cells": [
  {
   "cell_type": "markdown",
   "metadata": {},
   "source": [
    "#  <center> **<span style='color:red'>Metamodeling, INSA de Toulouse** </span> </center>\n",
    "\n",
    "# Computer lab  <span style='color:blue'> Space-filling designs</span>\n",
    "\n",
    "A. Marrel and O. Roustant\n",
    "\n",
    "## EXERCISE 1) Maximin DoE\n",
    "\n",
    "**Question 1.a)** Create a *maximin* design of experiments (DoE) on $[0, 1]^2$ with 9 points.<br/>\n",
    "The random search optimization consists in generating at random a large number of uniform designs and to select the one that has the maximum value of the minimal distance between design points (called here *mindist* criterion). The function `mindist` (package `DiceDesign`) computes the mindist criterion.<br/>\n",
    "Plot this DoE and compare it with a uniform design."
   ]
  },
  {
   "cell_type": "code",
   "execution_count": 3,
   "metadata": {
    "vscode": {
     "languageId": "r"
    }
   },
   "outputs": [
    {
     "name": "stdout",
     "output_type": "stream",
     "text": [
      "Documentation pour le package ‘DiceDesign’\n",
      "\n",
      "\n",
      "\t\tInformation sur le package ‘DiceDesign’\n",
      "\n",
      "Description :\n",
      "\n",
      "Package:            DiceDesign\n",
      "Type:               Package\n",
      "Title:              Designs of Computer Experiments\n",
      "Version:            1.10\n",
      "Date:               2023-11-30\n",
      "Author:             Jessica Franco, Delphine Dupuy, Olivier Roustant,\n",
      "                    Patrice Kiener, Guillaume Damblin and Bertrand\n",
      "                    Iooss.\n",
      "Maintainer:         Celine Helbert <Celine.Helbert@ec-lyon.fr>\n",
      "Description:        Space-Filling Designs and space-filling criteria\n",
      "                    (distance-based and uniformity-based), with\n",
      "                    emphasis to computer experiments;\n",
      "                    <doi:10.18637/jss.v065.i11>.\n",
      "License:            GPL-3\n",
      "Depends:            R (>= 2.10)\n",
      "Suggests:           rgl, randtoolbox, lattice\n",
      "Encoding:           UTF-8\n",
      "NeedsCompilation:   yes\n",
      "LazyData:           true\n",
      "Packaged:           2023-12-07 08:35:30 UTC; chelbert\n",
      "Repository:         CRAN\n",
      "Date/Publication:   2023-12-07 12:00:10 UTC\n",
      "Built:              R 4.4.1; x86_64-pc-linux-gnu; 2024-09-25 12:31:08\n",
      "                    UTC; unix\n",
      "\n",
      "Index :\n",
      "\n",
      "DiceDesign-package      Designs of Computer Experiments\n",
      "NOLHDRdesigns           List of De Rainville's Nearly Orthogonal Latin\n",
      "                        Hypercubes designs\n",
      "NOLHdesigns             List of Cioppa's Nearly Orthogonal Latin\n",
      "                        Hypercubes designs\n",
      "OA131                   A 3D orthogonal array of strength 2\n",
      "OA131_scrambled         A scrambled 3D orthogonal array of strength 2\n",
      "coverage                Coverage\n",
      "discrepESE_LHS          Enhanced Stochastic Evolutionnary (ESE)\n",
      "                        algorithm for Latin Hypercube Sample (LHS)\n",
      "                        optimization via L2-discrepancy criteria\n",
      "discrepSA_LHS           Simulated annealing (SA) routine for Latin\n",
      "                        Hypercube Sample (LHS) optimization via\n",
      "                        L2-discrepancy criteria\n",
      "discrepancyCriteria     Discrepancy measure\n",
      "dmaxDesign              Maximum Entropy Designs\n",
      "factDesign              Full Factorial Designs\n",
      "faureprimeDesign        A special case of the low discrepancy Faure\n",
      "                        sequence\n",
      "lhsDesign               Latin Hypercube Designs\n",
      "maximinESE_LHS          Enhanced Stochastic Evolutionnary (ESE)\n",
      "                        algorithm for Latin Hypercube Sample (LHS)\n",
      "                        optimization via phiP criteria\n",
      "maximinSA_LHS           Simulated annealing (SA) routine for Latin\n",
      "                        Hypercube Sample (LHS) optimization via phiP\n",
      "                        criteria\n",
      "meshRatio               MeshRatio measure\n",
      "mindist                 Mindist measure\n",
      "mstCriteria             Deriving the MST criteria\n",
      "nolhDesign              Cioppa's Nearly Orthogonal Latin Hypercube\n",
      "                        Designs\n",
      "nolhdrDesign            De Rainville's Nearly Orthogonal Latin\n",
      "                        Hypercube Designs\n",
      "olhDesign               Nguyen's Orthogonal Latin Hypercube Designs\n",
      "phiP                    phiP criterion\n",
      "rss2d                   2D graphical tool for defect detection of\n",
      "                        Space-Filling Designs.\n",
      "rss3d                   3D graphical tool for defect detection of\n",
      "                        Space-Filling Designs.\n",
      "runif.faure             Low discrepancy sequence : Faure\n",
      "scaleDesign             Scale a Design\n",
      "straussDesign           Designs based on Strauss process\n",
      "unif.test.quantile      Quantile of some uniformity tests\n",
      "unif.test.statistic     Statistic of some uniformity tests\n",
      "unscaleDesign           Unscale a Design\n",
      "wspDesign               WSP algorithm\n",
      "xDRDN                   Extract a Design and Give it a Range and\n",
      "                        Dimnames"
     ]
    },
    {
     "name": "stdout",
     "output_type": "stream",
     "text": [
      "mindist               package:DiceDesign               R Documentation\n",
      "\n",
      "_\bM_\bi_\bn_\bd_\bi_\bs_\bt _\bm_\be_\ba_\bs_\bu_\br_\be\n",
      "\n",
      "_\bD_\be_\bs_\bc_\br_\bi_\bp_\bt_\bi_\bo_\bn:\n",
      "\n",
      "     Compute the ‘mindist’ criterion (also called maximin)\n",
      "\n",
      "_\bU_\bs_\ba_\bg_\be:\n",
      "\n",
      "     mindist(design)\n",
      "     \n",
      "_\bA_\br_\bg_\bu_\bm_\be_\bn_\bt_\bs:\n",
      "\n",
      "  design: a matrix (or a data.frame) representing the design of\n",
      "          experiments in the unit cube [0,1]^d. If this last condition\n",
      "          is not fulfilled, a transformation into [0,1]^{d} is applied\n",
      "          before the computation of the criteria.\n",
      "\n",
      "_\bD_\be_\bt_\ba_\bi_\bl_\bs:\n",
      "\n",
      "     The mindist criterion is defined by\n",
      "\n",
      "                        mindist = min (g_1, ... g_n)                    \n",
      "     \n",
      "     where g_i is the minimal distance between the point x_i and the\n",
      "     other points x_k of the ‘design’.\n",
      "\n",
      "     A higher value corresponds to a more regular scaterring of design\n",
      "     points.\n",
      "\n",
      "_\bV_\ba_\bl_\bu_\be:\n",
      "\n",
      "     A real number equal to the value of the mindist criterion for the\n",
      "     ‘design’.\n",
      "\n",
      "_\bA_\bu_\bt_\bh_\bo_\br(_\bs):\n",
      "\n",
      "     J. Franco\n",
      "\n",
      "_\bR_\be_\bf_\be_\br_\be_\bn_\bc_\be_\bs:\n",
      "\n",
      "     Gunzburer M., Burkdart J. (2004), Uniformity measures for point\n",
      "     samples in hypercubes, <https://people.sc.fsu.edu/~jburkardt/>.\n",
      "\n",
      "     Jonshon M.E., Moore L.M. and Ylvisaker D. (1990), Minmax and\n",
      "     maximin distance designs, _J. of Statis. Planning and Inference_,\n",
      "     26, 131-148.\n",
      "\n",
      "     Chen V.C.P., Tsui K.L., Barton R.R. and Allen J.K. (2003), A\n",
      "     review of design and modeling in computer experiments, _Handbook\n",
      "     of Statistics_, 22, 231-261.\n",
      "\n",
      "_\bS_\be_\be _\bA_\bl_\bs_\bo:\n",
      "\n",
      "     other distance criteria like ‘meshRatio’ and ‘phiP’, discrepancy\n",
      "     measures provided by ‘discrepancyCriteria’.\n",
      "\n",
      "_\bE_\bx_\ba_\bm_\bp_\bl_\be_\bs:\n",
      "\n",
      "     dimension <- 2\n",
      "     n <- 40\n",
      "     X <- matrix(runif(n*dimension), n, dimension)\n",
      "     mindist(X)\n",
      "     "
     ]
    }
   ],
   "source": [
    "rm(list = ls())\n",
    "graphics.off()\n",
    "\n",
    "library(randtoolbox)\n",
    "\n",
    "library(DiceDesign)\n",
    "help(package = \"DiceDesign\")\n",
    "?mindist   # minimal distance in DoE"
   ]
  },
  {
   "cell_type": "code",
   "execution_count": 4,
   "metadata": {
    "vscode": {
     "languageId": "r"
    }
   },
   "outputs": [
    {
     "data": {
      "image/png": "[encoded data removed]",
      "text/plain": [
       "plot without title"
      ]
     },
     "metadata": {
      "image/png": {
       "height": 420,
       "width": 420
      }
     },
     "output_type": "display_data"
    }
   ],
   "source": [
    "# generate a uniform design on [0, 1]^2\n",
    "n <- 9\n",
    "x0 <- matrix(runif(2*n), nrow = n, ncol = 2)\n",
    "plot(x0)"
   ]
  },
  {
   "cell_type": "code",
   "execution_count": 8,
   "metadata": {
    "vscode": {
     "languageId": "r"
    }
   },
   "outputs": [
    {
     "name": "stdout",
     "output_type": "stream",
     "text": [
      "Mindist criterion for the uniform DoE =  0.02587212 \n",
      "Mindist criterion for the maximal DoE =  0.2324314 \n"
     ]
    },
    {
     "data": {
      "image/png": "[encoded data removed]",
      "text/plain": [
       "Plot with title “Maximin DoE”"
      ]
     },
     "metadata": {
      "image/png": {
       "height": 420,
       "width": 420
      }
     },
     "output_type": "display_data"
    },
    {
     "name": "stdout",
     "output_type": "stream",
     "text": [
      "Uniform                 package:stats                  R Documentation\n",
      "\n",
      "_\bT_\bh_\be _\bU_\bn_\bi_\bf_\bo_\br_\bm _\bD_\bi_\bs_\bt_\br_\bi_\bb_\bu_\bt_\bi_\bo_\bn\n",
      "\n",
      "_\bD_\be_\bs_\bc_\br_\bi_\bp_\bt_\bi_\bo_\bn:\n",
      "\n",
      "     These functions provide information about the uniform distribution\n",
      "     on the interval from ‘min’ to ‘max’.  ‘dunif’ gives the density,\n",
      "     ‘punif’ gives the distribution function ‘qunif’ gives the quantile\n",
      "     function and ‘runif’ generates random deviates.\n",
      "\n",
      "_\bU_\bs_\ba_\bg_\be:\n",
      "\n",
      "     dunif(x, min = 0, max = 1, log = FALSE)\n",
      "     punif(q, min = 0, max = 1, lower.tail = TRUE, log.p = FALSE)\n",
      "     qunif(p, min = 0, max = 1, lower.tail = TRUE, log.p = FALSE)\n",
      "     runif(n, min = 0, max = 1)\n",
      "     \n",
      "_\bA_\br_\bg_\bu_\bm_\be_\bn_\bt_\bs:\n",
      "\n",
      "    x, q: vector of quantiles.\n",
      "\n",
      "       p: vector of probabilities.\n",
      "\n",
      "       n: number of observations. If ‘length(n) > 1’, the length is\n",
      "          taken to be the number required.\n",
      "\n",
      "min, max: lower and upper limits of the distribution.  Must be finite.\n",
      "\n",
      "log, log.p: logical; if TRUE, probabilities p are given as log(p).\n",
      "\n",
      "lower.tail: logical; if TRUE (default), probabilities are P[X <= x],\n",
      "          otherwise, P[X > x].\n",
      "\n",
      "_\bD_\be_\bt_\ba_\bi_\bl_\bs:\n",
      "\n",
      "     If ‘min’ or ‘max’ are not specified they assume the default values\n",
      "     of ‘0’ and ‘1’ respectively.\n",
      "\n",
      "     The uniform distribution has density\n",
      "\n",
      "                             f(x) = 1/(max-min)                         \n",
      "     \n",
      "     for min <= x <= max.\n",
      "\n",
      "     For the case of u := min == max, the limit case of X == u is\n",
      "     assumed, although there is no density in that case and ‘dunif’\n",
      "     will return ‘NaN’ (the error condition).\n",
      "\n",
      "     ‘runif’ will not generate either of the extreme values unless ‘max\n",
      "     = min’ or ‘max-min’ is small compared to ‘min’, and in particular\n",
      "     not for the default arguments.\n",
      "\n",
      "_\bV_\ba_\bl_\bu_\be:\n",
      "\n",
      "     ‘dunif’ gives the density, ‘punif’ gives the distribution\n",
      "     function, ‘qunif’ gives the quantile function, and ‘runif’\n",
      "     generates random deviates.\n",
      "\n",
      "     The length of the result is determined by ‘n’ for ‘runif’, and is\n",
      "     the maximum of the lengths of the numerical arguments for the\n",
      "     other functions.\n",
      "\n",
      "     The numerical arguments other than ‘n’ are recycled to the length\n",
      "     of the result.  Only the first elements of the logical arguments\n",
      "     are used.\n",
      "\n",
      "_\bN_\bo_\bt_\be:\n",
      "\n",
      "     The characteristics of output from pseudo-random number generators\n",
      "     (such as precision and periodicity) vary widely.  See\n",
      "     ‘.Random.seed’ for more information on R's random number\n",
      "     generation algorithms.\n",
      "\n",
      "_\bR_\be_\bf_\be_\br_\be_\bn_\bc_\be_\bs:\n",
      "\n",
      "     Becker, R. A., Chambers, J. M. and Wilks, A. R. (1988) _The New S\n",
      "     Language_.  Wadsworth & Brooks/Cole.\n",
      "\n",
      "_\bS_\be_\be _\bA_\bl_\bs_\bo:\n",
      "\n",
      "     ‘RNG’ about random number generation in R.\n",
      "\n",
      "     Distributions for other standard distributions.\n",
      "\n",
      "_\bE_\bx_\ba_\bm_\bp_\bl_\be_\bs:\n",
      "\n",
      "     u <- runif(20)\n",
      "     \n",
      "     ## The following relations always hold :\n",
      "     punif(u) == u\n",
      "     dunif(u) == 1\n",
      "     \n",
      "     var(runif(10000))  #- ~ = 1/12 = .08333\n",
      "     "
     ]
    }
   ],
   "source": [
    "?runif\n",
    "#?mindist\n",
    "\n",
    "# implement a random search method to maximize the mindist criterion \n",
    "critere <- mindist(x0) # Initialise the mindist criterion #\n",
    "\n",
    "for (i in 1:1000){\n",
    "  xnew <- matrix(runif(2*n), nrow = n, ncol = 2) # Generate a new LHD candidate #\n",
    "  if (mindist(xnew) > critere) # Test if better, and update if yes\n",
    "  { \n",
    "    x2 <- xnew\n",
    "    critere <- mindist(xnew) #\n",
    "  }\n",
    "}\n",
    "\n",
    "# Print\n",
    "par(mfrow = c(2,2))\n",
    "plot(x0, main = \"Uniform DoE\")\n",
    "plot(x2, main = \"Maximin DoE\")\n",
    "cat(\"Mindist criterion for the uniform DoE = \", mindist(x0), \"\\n\")\n",
    "cat(\"Mindist criterion for the maximal DoE = \", mindist(x2), \"\\n\")"
   ]
  },
  {
   "cell_type": "markdown",
   "metadata": {},
   "source": [
    "**Question 1.b)** Create a 2D full factorial design (i.e. a grid) with 3 points per dimension. Use the function `factDesign()` of the package `DiceDesign`. Visualize this DoE, and compare it in terms of *mindist* criterion."
   ]
  },
  {
   "cell_type": "code",
   "execution_count": 9,
   "metadata": {
    "vscode": {
     "languageId": "r"
    }
   },
   "outputs": [
    {
     "name": "stdout",
     "output_type": "stream",
     "text": [
      "factDesign             package:DiceDesign              R Documentation\n",
      "\n",
      "_\bF_\bu_\bl_\bl _\bF_\ba_\bc_\bt_\bo_\br_\bi_\ba_\bl _\bD_\be_\bs_\bi_\bg_\bn_\bs\n",
      "\n",
      "_\bD_\be_\bs_\bc_\br_\bi_\bp_\bt_\bi_\bo_\bn:\n",
      "\n",
      "     Create a factorial design with n = pow(levels,dimension)\n",
      "     experiments in [0,1]^d.\n",
      "\n",
      "_\bU_\bs_\ba_\bg_\be:\n",
      "\n",
      "     factDesign(dimension, levels)\n",
      "     \n",
      "_\bA_\br_\bg_\bu_\bm_\be_\bn_\bt_\bs:\n",
      "\n",
      "dimension: an integer given the number of input variables\n",
      "\n",
      "  levels: an integer given the number of levels\n",
      "\n",
      "_\bD_\be_\bt_\ba_\bi_\bl_\bs:\n",
      "\n",
      "     It is possible to take a different number of levels for any\n",
      "     factor. In this case, the argument ‘levels’ should be a vector.\n",
      "\n",
      "_\bV_\ba_\bl_\bu_\be:\n",
      "\n",
      "     ‘factDesign’ returns a list containing all the input arguments\n",
      "     detailed before, plus the following components:\n",
      "\n",
      "       n: the number of experiments\n",
      "\n",
      "  design: the design of experiments\n",
      "\n",
      "_\bA_\bu_\bt_\bh_\bo_\br(_\bs):\n",
      "\n",
      "     G. Pujol and J. Franco\n",
      "\n",
      "_\bE_\bx_\ba_\bm_\bp_\bl_\be_\bs:\n",
      "\n",
      "     ## First example\n",
      "     g1 <- factDesign(2, 7)\n",
      "     plot(g1$design, xlim=c(0,1), ylim=c(0,1))\n",
      "     \n",
      "     ## Second example\n",
      "     g2 <- factDesign(2, c(2,7))\n",
      "     plot(g2$design, xlim=c(0,1), ylim=c(0,1))\n",
      "     \n",
      "     ## Change the dimnames, adjust to range (-10, 10) and round to 2 digits\n",
      "     xDRDN(g1, letter = \"T\", dgts = 2, range = c(-10, 10))\n",
      "     xDRDN(g2, letter = \"T\", dgts = 2, range = c(-10, 10))\n",
      "     "
     ]
    }
   ],
   "source": [
    "?factDesign"
   ]
  },
  {
   "cell_type": "code",
   "execution_count": 14,
   "metadata": {
    "vscode": {
     "languageId": "r"
    }
   },
   "outputs": [
    {
     "data": {
      "text/html": [
       "<dl>\n",
       "\t<dt>$design</dt>\n",
       "\t\t<dd><table class=\"dataframe\">\n",
       "<caption>A matrix: 9 × 2 of type dbl</caption>\n",
       "<tbody>\n",
       "\t<tr><td>0.0</td><td>0.0</td></tr>\n",
       "\t<tr><td>0.0</td><td>0.5</td></tr>\n",
       "\t<tr><td>0.0</td><td>1.0</td></tr>\n",
       "\t<tr><td>0.5</td><td>0.0</td></tr>\n",
       "\t<tr><td>0.5</td><td>0.5</td></tr>\n",
       "\t<tr><td>0.5</td><td>1.0</td></tr>\n",
       "\t<tr><td>1.0</td><td>0.0</td></tr>\n",
       "\t<tr><td>1.0</td><td>0.5</td></tr>\n",
       "\t<tr><td>1.0</td><td>1.0</td></tr>\n",
       "</tbody>\n",
       "</table>\n",
       "</dd>\n",
       "\t<dt>$n</dt>\n",
       "\t\t<dd>9</dd>\n",
       "\t<dt>$dimension</dt>\n",
       "\t\t<dd>2</dd>\n",
       "\t<dt>$levels</dt>\n",
       "\t\t<dd><style>\n",
       ".list-inline {list-style: none; margin:0; padding: 0}\n",
       ".list-inline>li {display: inline-block}\n",
       ".list-inline>li:not(:last-child)::after {content: \"\\00b7\"; padding: 0 .5ex}\n",
       "</style>\n",
       "<ol class=list-inline><li>3</li><li>3</li></ol>\n",
       "</dd>\n",
       "</dl>\n"
      ],
      "text/latex": [
       "\\begin{description}\n",
       "\\item[\\$design] A matrix: 9 × 2 of type dbl\n",
       "\\begin{tabular}{ll}\n",
       "\t 0.0 & 0.0\\\\\n",
       "\t 0.0 & 0.5\\\\\n",
       "\t 0.0 & 1.0\\\\\n",
       "\t 0.5 & 0.0\\\\\n",
       "\t 0.5 & 0.5\\\\\n",
       "\t 0.5 & 1.0\\\\\n",
       "\t 1.0 & 0.0\\\\\n",
       "\t 1.0 & 0.5\\\\\n",
       "\t 1.0 & 1.0\\\\\n",
       "\\end{tabular}\n",
       "\n",
       "\\item[\\$n] 9\n",
       "\\item[\\$dimension] 2\n",
       "\\item[\\$levels] \\begin{enumerate*}\n",
       "\\item 3\n",
       "\\item 3\n",
       "\\end{enumerate*}\n",
       "\n",
       "\\end{description}\n"
      ],
      "text/markdown": [
       "$design\n",
       ":   \n",
       "A matrix: 9 × 2 of type dbl\n",
       "\n",
       "| 0.0 | 0.0 |\n",
       "| 0.0 | 0.5 |\n",
       "| 0.0 | 1.0 |\n",
       "| 0.5 | 0.0 |\n",
       "| 0.5 | 0.5 |\n",
       "| 0.5 | 1.0 |\n",
       "| 1.0 | 0.0 |\n",
       "| 1.0 | 0.5 |\n",
       "| 1.0 | 1.0 |\n",
       "\n",
       "\n",
       "$n\n",
       ":   9\n",
       "$dimension\n",
       ":   2\n",
       "$levels\n",
       ":   1. 3\n",
       "2. 3\n",
       "\n",
       "\n",
       "\n",
       "\n",
       "\n"
      ],
      "text/plain": [
       "$design\n",
       "      [,1] [,2]\n",
       " [1,]  0.0  0.0\n",
       " [2,]  0.0  0.5\n",
       " [3,]  0.0  1.0\n",
       " [4,]  0.5  0.0\n",
       " [5,]  0.5  0.5\n",
       " [6,]  0.5  1.0\n",
       " [7,]  1.0  0.0\n",
       " [8,]  1.0  0.5\n",
       " [9,]  1.0  1.0\n",
       "\n",
       "$n\n",
       "[1] 9\n",
       "\n",
       "$dimension\n",
       "[1] 2\n",
       "\n",
       "$levels\n",
       "[1] 3 3\n"
      ]
     },
     "metadata": {},
     "output_type": "display_data"
    },
    {
     "data": {
      "image/png": "[encoded data removed]",
      "text/plain": [
       "Plot with title “Factorial DoE”"
      ]
     },
     "metadata": {
      "image/png": {
       "height": 420,
       "width": 420
      }
     },
     "output_type": "display_data"
    }
   ],
   "source": [
    "# Create a full factorial design\n",
    "x3 <- factDesign(2, 3) # # ex x2\n",
    "x3 \n",
    "\n",
    "# Comparison with previous results\n",
    "par(mfrow = c(2,2)) \n",
    "plot(x0, main = \"Uniform DoE\")\n",
    "plot(x2$design, main = \"Maximin DoE\")\n",
    "plot(x3$design, main = \"Factorial DoE\")"
   ]
  },
  {
   "cell_type": "code",
   "execution_count": 19,
   "metadata": {
    "vscode": {
     "languageId": "r"
    }
   },
   "outputs": [
    {
     "name": "stdout",
     "output_type": "stream",
     "text": [
      "Mindist criterion for the uniform DoE =  0.02587212 \n"
     ]
    },
    {
     "ename": "ERROR",
     "evalue": "Error in min(X): 'type' (list) de l'argument incorrect\n",
     "output_type": "error",
     "traceback": [
      "Error in min(X): 'type' (list) de l'argument incorrect\nTraceback:\n",
      "1. cat(\"Mindist criterion for the maximal DoE = \", mindist(x2), \n .     \"\\n\")",
      "2. mindist(x2)"
     ]
    }
   ],
   "source": [
    "# Minimal distance in DoE\n",
    "cat(\"Mindist criterion for the uniform DoE = \", mindist(x0), \"\\n\")\n",
    "cat(\"Mindist criterion for the maximal DoE = \", mindist(x2), \"\\n\")\n",
    "cat(\"Mindist criterion for the factorial DoE = \", mindist(x3$design), \"\\n\")"
   ]
  },
  {
   "cell_type": "markdown",
   "metadata": {},
   "source": [
    "**Question 1.c)** Although the factorial DoE may have a better maximin value, why is it not recommended to use it for exploring a deterministic computer code?"
   ]
  },
  {
   "cell_type": "markdown",
   "metadata": {},
   "source": [
    "..."
   ]
  },
  {
   "cell_type": "markdown",
   "metadata": {},
   "source": [
    "## EXERCISE 2) Low discrepancy sequences (LDS)\n",
    "\n",
    "**Question 2.a)** Build a 2D Sobol LDS of $9$ points, using the function `sobol` of package `randtoolbox`. Plot this DoE and compare its *maximin* value."
   ]
  },
  {
   "cell_type": "code",
   "execution_count": 17,
   "metadata": {
    "vscode": {
     "languageId": "r"
    }
   },
   "outputs": [
    {
     "name": "stdout",
     "output_type": "stream",
     "text": [
      "quasiRNG              package:randtoolbox              R Documentation\n",
      "\n",
      "_\bT_\bo_\bo_\bl_\bb_\bo_\bx _\bf_\bo_\br _\bq_\bu_\ba_\bs_\bi _\br_\ba_\bn_\bd_\bo_\bm _\bn_\bu_\bm_\bb_\be_\br _\bg_\be_\bn_\be_\br_\ba_\bt_\bi_\bo_\bn\n",
      "\n",
      "_\bD_\be_\bs_\bc_\br_\bi_\bp_\bt_\bi_\bo_\bn:\n",
      "\n",
      "     the Torus algorithm, the Sobol and Halton sequences.\n",
      "\n",
      "_\bU_\bs_\ba_\bg_\be:\n",
      "\n",
      "     torus(n, dim = 1, prime, init = TRUE, mixed = FALSE, usetime = FALSE, \n",
      "                       normal = FALSE, mexp = 19937, start = 1)\n",
      "     sobol(n, dim = 1, init = TRUE, scrambling = 0, seed = NULL, normal = FALSE,\n",
      "                        mixed = FALSE, method = \"C\", mexp = 19937, start = 1,\n",
      "                        maxit = 10)\n",
      "     halton(n, dim = 1, init = TRUE, normal = FALSE, usetime = FALSE, \n",
      "                         mixed = FALSE, method = \"C\", mexp = 19937, start = 1)\n",
      "     \n",
      "_\bA_\br_\bg_\bu_\bm_\be_\bn_\bt_\bs:\n",
      "\n",
      "       n: number of observations. If length(n) > 1, the length is taken\n",
      "          to be the required number.\n",
      "\n",
      "     dim: dimension of observations default 1.\n",
      "\n",
      "    init: a logical, if ‘TRUE’ the sequence is initialized and restarts\n",
      "          to the ‘start’ value, otherwise not. By default ‘TRUE’.\n",
      "\n",
      "  normal: a logical if normal deviates are needed, default ‘FALSE’.\n",
      "\n",
      "scrambling: an integer value, if 1, 2 or 3 the sequence is scrambled\n",
      "          otherwise not. If ‘scrambling=1’, Owen type type of\n",
      "          scrambling is applied, if ‘scrambling=2’, Faure-Tezuka type\n",
      "          of scrambling, is applied, and if ‘scrambling=3’, both\n",
      "          Owen+Faure-Tezuka type of scrambling is applied. By default\n",
      "          0.\n",
      "\n",
      "    seed: an integer value, the random seed for initialization of the\n",
      "          scrambling process (only for ‘sobol’ with ‘scrambling>0’).\n",
      "          If ‘NULL’, set to ‘4711’.\n",
      "\n",
      "   prime: a single prime number or a vector of prime numbers to be used\n",
      "          in the Torus sequence. (optional argument).\n",
      "\n",
      "   mixed: a logical to combine the QMC algorithm with the SFMT\n",
      "          algorithm, default ‘FALSE’.\n",
      "\n",
      " usetime: a logical to use the machine time to start the Torus\n",
      "          sequence, default ‘FALSE’, i.e. when ‘usetime=FALSE’ the\n",
      "          Torus sequence start from the first term.  ‘usetime’ is only\n",
      "          used when ‘mixed=FALSE’.\n",
      "\n",
      "  method: a character string either ‘\"C\"’.  Note that ‘mixed=TRUE’ is\n",
      "          only available when ‘method=\"C\"’.\n",
      "\n",
      "    mexp: an integer for the Mersenne exponent of SFMT algorithm, only\n",
      "          used when ‘mixed=TRUE’.\n",
      "\n",
      "   start: an integer 0 or 1 to initiliaze the sequence, default to 1,\n",
      "          only used when ‘init=TRUE’.\n",
      "\n",
      "   maxit: a positive integer used to control inner loops both for\n",
      "          generating randomized seed and for controlling outputs (when\n",
      "          needed).\n",
      "\n",
      "_\bD_\be_\bt_\ba_\bi_\bl_\bs:\n",
      "\n",
      "     Scrambling is temporarily disabled and will be reintroduced in a\n",
      "     future release.\n",
      "\n",
      "     The currently available generator are given below. Whatever the\n",
      "     sequence, when ‘normal=TRUE’, outputs are transformed with the\n",
      "     quantile of the standard normal distribution ‘qnorm’. If\n",
      "     ‘init=TRUE’, the default, unscrambled and unmixed-SFMT\n",
      "     quasi-random sequences start from ‘start’. If ‘start != 0’ and\n",
      "     ‘normal=FALSE’, we suggest to use 0 as recommended by Owen (2020).\n",
      "     One must handle the starting value (0) correctly if a quantile\n",
      "     function of a non-lower-bounded distribution is used.\n",
      "\n",
      "     *Torus algorithm:* The kth term of the Torus algorithm in d\n",
      "          dimension is given by\n",
      "\n",
      "                u_k = (frac(k sqrt(p_1)), ..., frac(k sqrt(p_d)) )      \n",
      "          \n",
      "          where p_i denotes the ith prime number, frac the fractional\n",
      "          part (i.e. frac(x) = x-floor(x)). We use the 100 000 first\n",
      "          prime numbers from <https://primes.utm.edu/>, thus the\n",
      "          dimension is limited to 100 000.  If the user supplys prime\n",
      "          numbers through the argument ‘prime’, we do NOT check for\n",
      "          primality and we cast numerics to integers, (i.e.\n",
      "          ‘prime=7.1234’ will be cast to ‘prime=7’ before computing\n",
      "          Torus sequence).  The Torus sequence starts from k=1 when\n",
      "          initialized with ‘init = TRUE’ and so not depending on\n",
      "          machine time ‘usetime = FALSE’. This is the default. When\n",
      "          ‘init = FALSE’, the sequence is not initialized (to 1) and\n",
      "          starts from the last term.  We can also use the machine time\n",
      "          to start the sequence with ‘usetime = TRUE’, which overrides\n",
      "          ‘init’ or a randomized when ‘mixed = TRUE’.\n",
      "\n",
      "     *(scrambled) Sobol sequences* Computes uniform Sobol low\n",
      "          discrepancy numbers.  The sequence starts from k=1 when\n",
      "          initialized with ‘init = TRUE’ (default).  When ‘scrambling >\n",
      "          0’, a scrambling is performed or when ‘mixed = TRUE’, a\n",
      "          randomized seed is performed.  If some number of Sobol\n",
      "          sequences are generated outside [0,1) with scrambling, the\n",
      "          seed is randomized until we obtain all numbers in [0,1).  One\n",
      "          version of Sobol sequences is available the current version\n",
      "          in Fortran (‘method = \"Fortran\"’) since ‘method = \"C\"’ is\n",
      "          under development.\n",
      "\n",
      "     *Halton sequences* Calculates a matrix of uniform or normal\n",
      "          deviated halton low discrepancy numbers. Let us note that\n",
      "          Halton sequence in dimension is the Van Der Corput sequence.\n",
      "          The Halton sequence starts from k=1 when initialized with\n",
      "          ‘init = TRUE’ (default) and no not depending on machine time\n",
      "          ‘usetime = FALSE’.  When ‘init = FALSE’, the sequence is not\n",
      "          initialized (to 1) and starts from the last term. We can also\n",
      "          use the machine time to start the sequence with ‘usetime =\n",
      "          TRUE’, which overrides ‘init’.  Two versions of Halton\n",
      "          sequences are available the historical version in Fortran\n",
      "          (‘method = \"Fortran\"’) and the new version in C (‘method =\n",
      "          \"C\"’).  If ‘method = \"C\"’, ‘mixed’ argument can be used to\n",
      "          randomized the Halton sequences.\n",
      "\n",
      "     See the pdf vignette for details.\n",
      "\n",
      "_\bV_\ba_\bl_\bu_\be:\n",
      "\n",
      "     ‘torus’, ‘halton’ and ‘sobol’ generates random variables in [0,1).\n",
      "     It returns a nxdim matrix, when ‘dim>1’ otherwise a vector of\n",
      "     length ‘n’.\n",
      "\n",
      "_\bA_\bu_\bt_\bh_\bo_\br(_\bs):\n",
      "\n",
      "     Christophe Dutang and Diethelm Wuertz\n",
      "\n",
      "_\bR_\be_\bf_\be_\br_\be_\bn_\bc_\be_\bs:\n",
      "\n",
      "     Bratley P., Fox B.L. (1988), _Algorithm 659: Implementing Sobol's\n",
      "     Quasirandom Sequence Generator_, ACM Transactions on Mathematical\n",
      "     Software 14, 88-100. doi:10.1145/42288.214372\n",
      "     <https://doi.org/10.1145/42288.214372>\n",
      "\n",
      "     Joe S., Kuo F.Y. (2003), _Remark on Algorithm 659: Implementing\n",
      "     Sobol's Quaisrandom Seqence Generator_, ACM Transactions on\n",
      "     Mathematical Software 29, 49-57. doi:10.1145/641876.641879\n",
      "     <https://doi.org/10.1145/641876.641879>\n",
      "\n",
      "     Joe S., Kuo F.Y. (2008), _Constructing Sobol sequences with better\n",
      "     two-dimensional projections_, SIAM J. Sci. Comput. 30, 2635-2654,\n",
      "     doi:10.1137/070709359 <https://doi.org/10.1137/070709359>.\n",
      "\n",
      "     Owen A.B. (2020), _On dropping the first Sobol' point_,\n",
      "     doi:10.1007/978-3-030-98319-2_4\n",
      "     <https://doi.org/10.1007/978-3-030-98319-2_4>.\n",
      "\n",
      "     Planchet F., Jacquemin J. (2003), _L'utilisation de methodes de\n",
      "     simulation en assurance_.  Bulletin Francais d'Actuariat, vol. 6,\n",
      "     11, 3-69. (available online)\n",
      "\n",
      "_\bS_\be_\be _\bA_\bl_\bs_\bo:\n",
      "\n",
      "     ‘pseudoRNG’ for pseudo random number generation, ‘.Random.seed’\n",
      "     for what is done in R about random number generation.\n",
      "\n",
      "_\bE_\bx_\ba_\bm_\bp_\bl_\be_\bs:\n",
      "\n",
      "     # (1) the Torus algorithm\n",
      "     #\n",
      "     torus(100)\n",
      "     \n",
      "     # example of setting the seed\n",
      "     setSeed(1)\n",
      "     torus(5)\n",
      "     setSeed(6)\n",
      "     torus(5)\n",
      "     #the same\n",
      "     setSeed(1)\n",
      "     torus(10)\n",
      "     \n",
      "     #no use of the machine time\n",
      "     torus(10, use=FALSE)\n",
      "     \n",
      "     #Kolmogorov Smirnov test\n",
      "     #KS statistic should be around 0.0019\n",
      "     ks.test(torus(1000), punif) \n",
      "             \n",
      "     #KS statistic should be around 0.0003\n",
      "     ks.test(torus(10000), punif) \n",
      "     \n",
      "     #the mixed Torus sequence\n",
      "     torus(10, mixed=TRUE)\n",
      "     ## Not run:\n",
      "     \n",
      "       par(mfrow = c(1,2))\n",
      "       acf(torus(10^6))\n",
      "       acf(torus(10^6, mixed=TRUE))\n",
      "     ## End(Not run)\n",
      "     \n",
      "     \n",
      "     #usage of the init argument\n",
      "     torus(5)\n",
      "     torus(5, init=FALSE)\n",
      "     \n",
      "     #should be equal to the combination of the two\n",
      "     #previous call\n",
      "     torus(10)\n",
      "     \n",
      "     # (2) Halton sequences\n",
      "     #\n",
      "     \n",
      "     # uniform variate\n",
      "     halton(n = 10, dim = 5)\n",
      "     \n",
      "     # normal variate\n",
      "     halton(n = 10, dim = 5, normal = TRUE)\n",
      "     \n",
      "     #usage of the init argument\n",
      "     halton(5)\n",
      "     halton(5, init=FALSE)\n",
      "     \n",
      "     #should be equal to the combination of the two\n",
      "     #previous call\n",
      "     halton(10)\n",
      "     \n",
      "     # some plots\n",
      "     par(mfrow = c(2, 2), cex = 0.75)\n",
      "     hist(halton(n = 500, dim = 1), main = \"Uniform Halton\", \n",
      "       xlab = \"x\", col = \"steelblue3\", border = \"white\")\n",
      "     \n",
      "     hist(halton(n = 500, dim = 1, norm = TRUE), main = \"Normal Halton\", \n",
      "       xlab = \"x\", col = \"steelblue3\", border = \"white\")\n",
      "        \n",
      "     # (3) Sobol sequences\n",
      "     #\n",
      "     \n",
      "     # uniform variate\n",
      "     sobol(n = 10, dim = 5)\n",
      "     \n",
      "     # normal variate\n",
      "     sobol(n = 10, dim = 5, normal = TRUE)\n",
      "     \n",
      "     # some plots\n",
      "     hist(sobol(500, 1), main = \"Uniform Sobol\", \n",
      "       xlab = \"x\", col = \"steelblue3\", border = \"white\")\n",
      "     \n",
      "     hist(sobol(500, 1, normal = TRUE), main = \"Normal Sobol\", \n",
      "       xlab = \"x\", col = \"steelblue3\", border = \"white\")\n",
      "     \n",
      "     #usage of the init argument\n",
      "     sobol(5)\n",
      "     sobol(5, init=FALSE)\n",
      "     \n",
      "     #should be equal to the combination of the two\n",
      "     #previous call\n",
      "     sobol(10)\n",
      "     \n",
      "     # (4) computation times on a 2022 macbook (2017 macbook / 2007 macbook), mean of 1000 runs\n",
      "     #\n",
      "     \n",
      "     ## Not run:\n",
      "     \n",
      "     # algorithm                     time in seconds for n=10^6\n",
      "     # Torus algo                                      0.00689 (0.012 / 0.058)\n",
      "     # mixed Torus algo          0.009354 (0.018 / 0.087)\n",
      "     # Halton sequence                               0.023575 (0.180 / 0.878)\n",
      "     # Sobol sequence                                0.010444 (0.027 / 0.214)\n",
      "     n <- 1e+06\n",
      "     mean( replicate( 1000, system.time( torus(n), gcFirst=TRUE)[3]) )\n",
      "     mean( replicate( 1000, system.time( torus(n, mixed=TRUE), gcFirst=TRUE)[3]) )\n",
      "     mean( replicate( 1000, system.time( halton(n), gcFirst=TRUE)[3]) )\n",
      "     mean( replicate( 1000, system.time( sobol(n), gcFirst=TRUE)[3]) )\n",
      "     ## End(Not run)\n",
      "     "
     ]
    }
   ],
   "source": [
    "library(randtoolbox)\n",
    " ?sobol"
   ]
  },
  {
   "cell_type": "code",
   "execution_count": null,
   "metadata": {
    "vscode": {
     "languageId": "r"
    }
   },
   "outputs": [],
   "source": [
    "x3 <- ??? \n",
    "plot(x3, main = \"Sobol\")\n",
    "cat(\"Mindist criterion for the Sobol LDS = \", mindist(x3), \"\\n\")"
   ]
  },
  {
   "cell_type": "markdown",
   "metadata": {},
   "source": [
    "**Question 2.b)** Compute the modified and centered discrepancy of this DoE and the three previous ones. Compare them. Use the function `discrepancyCriteria` of `DiceDesign`."
   ]
  },
  {
   "cell_type": "code",
   "execution_count": null,
   "metadata": {
    "vscode": {
     "languageId": "r"
    }
   },
   "outputs": [],
   "source": [
    "?discrepancyCriteria"
   ]
  },
  {
   "cell_type": "code",
   "execution_count": null,
   "metadata": {
    "vscode": {
     "languageId": "r"
    }
   },
   "outputs": [],
   "source": [
    "dis_MC <- discrepancyCriteria( ?? , type = c('M2', 'C2')) \n",
    "dis_Maximin <- discrepancyCriteria( ?? , type = c('M2', 'C2')) \n",
    "dis_Fact <- discrepancyCriteria( ?? , type = c('M2', 'C2')) \n",
    "dis_Sobol <- discrepancyCriteria( ?? , type = c('M2', 'C2')) \n",
    "# Affichage des valeurs\n",
    "cat(\"Discrepancy criteria M2 and C2 for the uniform DoE = \", dis_MC$DisM2, \" - \", dis_MC$DisC2, \"\\n\")\n",
    "cat(\"Discrepancy criteria M2 and C2 for the maximin DoE = \", dis_Maximin$DisM2, \" - \", dis_Maximin$DisC2, \"\\n\")\n",
    "cat(\"Discrepancy criteria M2 and C2 for the factorial DoE = \", dis_Fact $DisM2, \" - \", dis_Fact $DisC2, \"\\n\")\n",
    "cat(\"Discrepancy criteria M2 and C2 for the Sobol LDS = \", dis_Sobol$DisM2, \" - \", dis_Sobol$DisC2, \"\\n\")"
   ]
  },
  {
   "cell_type": "markdown",
   "metadata": {},
   "source": [
    "**Question 2.c)** Build a 8D Halton LDS of $200$ points with function `halton` of package `randtoolbox`. Represent the *scatterplots* of this DoE with function `pairs()`."
   ]
  },
  {
   "cell_type": "code",
   "execution_count": null,
   "metadata": {
    "vscode": {
     "languageId": "r"
    }
   },
   "outputs": [],
   "source": [
    "?halton\n",
    "x4 <- ???\n",
    "pairs(x4, pch = \".\", cex = 3)"
   ]
  },
  {
   "cell_type": "markdown",
   "metadata": {},
   "source": [
    "What kind of anomalies can you see? What problems may be encountered for metamodeling?"
   ]
  },
  {
   "cell_type": "markdown",
   "metadata": {},
   "source": [
    "..."
   ]
  },
  {
   "cell_type": "markdown",
   "metadata": {},
   "source": [
    "**Question 2.d)** Repeat **2.c)** with a Sobol sequence."
   ]
  },
  {
   "cell_type": "code",
   "execution_count": null,
   "metadata": {
    "vscode": {
     "languageId": "r"
    }
   },
   "outputs": [],
   "source": [
    "x5 <- ??? \n",
    "pairs(x5, pch = \".\", cex = 3)"
   ]
  },
  {
   "cell_type": "markdown",
   "metadata": {},
   "source": [
    "**Question 2.e)** One problem with LDS is that their space-filling properties are not stable by projection. To detect alignements in projected 2D (or 3D) subspaces, a tool has been developed: the radial scanning statistic (RSS).<br/>\n",
    "The 2D version of RSS angularly scans all the directions of each 2D subspace. For each direction, it makes a uniformity test of the projected points under the null hypothesis $H_0$ : the design points are drawn from a uniform distribution on $[-1, 1]^d$.\n",
    "This technique is available in the function `rss2d()` of package ` DiceDesign `. Apply it for the Sobol sequence."
   ]
  },
  {
   "cell_type": "code",
   "execution_count": null,
   "metadata": {
    "vscode": {
     "languageId": "r"
    }
   },
   "outputs": [],
   "source": [
    "?rss2d()\n",
    "rss2d(  )"
   ]
  },
  {
   "cell_type": "markdown",
   "metadata": {},
   "source": [
    "# EXERCISE 3) Latin hypercube design (LHD)\n",
    "\n",
    "**Question 3.a)** Implement the algorithm described in the textbook to sample at random a LHD."
   ]
  },
  {
   "cell_type": "code",
   "execution_count": null,
   "metadata": {
    "vscode": {
     "languageId": "r"
    }
   },
   "outputs": [],
   "source": [
    "?sample\n",
    "lhs <- function(N,p){\n",
    "  ran <- ???                           # sampling of N x p values from U[0,1]\n",
    "  x <- matrix(NA, nrow = N, ncol = p)  # initialization \n",
    "    \n",
    "  # For each dimension\n",
    "    for (i in 1:p){\n",
    "      idx <- ???    # sample a random permutation of integers {1,2,…,N}\n",
    "      x[,i] <- ???  # remove a random perturbation (ran[,i]) in the cell and rescale to [0,1] (division by N)\n",
    "    }  \n",
    "    return(x)\n",
    "}"
   ]
  },
  {
   "cell_type": "markdown",
   "metadata": {},
   "source": [
    "**Question 3.b)** Build a 2D LHD of $20$ points."
   ]
  },
  {
   "cell_type": "code",
   "execution_count": null,
   "metadata": {
    "vscode": {
     "languageId": "r"
    }
   },
   "outputs": [],
   "source": [
    "?lhs\n",
    "x1 <- ??? \n",
    "x1\n",
    "plot(x1, main = \"LHS\")"
   ]
  },
  {
   "cell_type": "markdown",
   "metadata": {},
   "source": [
    "**Question 3.c)** Build with two different methods a maximin LHD (i.e. a LHD that maximizes the *mindist* criterion).\n",
    "\n",
    "   - **Methode 1 (random search):** Sample at random a large number of LHDs and keep the one that maximizes the  *mindist* value."
   ]
  },
  {
   "cell_type": "code",
   "execution_count": null,
   "metadata": {
    "vscode": {
     "languageId": "r"
    }
   },
   "outputs": [],
   "source": [
    "n <- 20 \n",
    "d <- 2  \n",
    "n_loop <- 10000 # Number of LHDs sampled at random\n",
    "\n",
    "x2 <- ??? # Create a first LHD \n",
    "critere <- ??? # Initialise the mindist criterion\n",
    "\n",
    "for (i in 1:n_loop){\n",
    "  xnew <- ??? # Generate a new LHD candidate\n",
    "  if ( ???) # Test if better, and update if yes\n",
    "  { \n",
    "    x2 <- xnew\n",
    "    critere <- mindist(xnew)\n",
    "  }\n",
    "}"
   ]
  },
  {
   "cell_type": "code",
   "execution_count": null,
   "metadata": {
    "vscode": {
     "languageId": "r"
    }
   },
   "outputs": [],
   "source": [
    "plot(x2, main = \"LHS Maximin - Methode 1\")"
   ]
  },
  {
   "cell_type": "markdown",
   "metadata": {},
   "source": [
    " - **Method 2 :** Use directly the function `maximinESE_LHS()` of `DiceDesign`, that optimizes the criterion with  an evolutionary strategy (genetic algorithm)."
   ]
  },
  {
   "cell_type": "code",
   "execution_count": null,
   "metadata": {
    "vscode": {
     "languageId": "r"
    }
   },
   "outputs": [],
   "source": [
    "?maximinESE_LHS\n",
    "xinit <- ??? # a first LHD, used to initialize the algorithm\n",
    "x3 <- ???  # design obtained with maximinESE_LHS()"
   ]
  },
  {
   "cell_type": "markdown",
   "metadata": {},
   "source": [
    "Compare them with a standard LHD and a uniform design, graphically and numerically by computing the *mindist* criterion."
   ]
  },
  {
   "cell_type": "code",
   "execution_count": null,
   "metadata": {
    "vscode": {
     "languageId": "r"
    }
   },
   "outputs": [],
   "source": [
    "x0 <- matrix(runif(n*d), nrow = n, ncol = d) # uniform design\n",
    "\n",
    "par(mfcol = c(2, 2))\n",
    "plot(x0, main = \"Uniform design\")\n",
    "plot(x1, main = \"Random LHD\")\n",
    "plot(xnew, main = \"Maximin LHD (method 1, random search) \")\n",
    "plot(x3, main = \"Maximin LHD (method 2, evolutionary strategy)\")"
   ]
  },
  {
   "cell_type": "code",
   "execution_count": null,
   "metadata": {
    "vscode": {
     "languageId": "r"
    }
   },
   "outputs": [],
   "source": [
    "cat(\"Mindist criterion for a uniform DoE:\", mindist(x0), '\\n')\n",
    "cat(\"Mindist criterion for a random LHD:\", mindist(x1), '\\n')\n",
    "cat(\"Mindist criterion for a maximin LHD (method 1):\", mindist(xnew), '\\n')\n",
    "cat(\"Mindist criterion for a maximin LHD (method 2):\", mindist(x3), '\\n')"
   ]
  },
  {
   "cell_type": "markdown",
   "metadata": {},
   "source": [
    "# EXERCISE 4) Optimal MMD designs\n",
    "Here we adapt the random search algorithm of Exercise 1 in order to generate DoEs that minimize the Maximum Mean Discrepancy (MMD), using the squared exponential kernel. Integrals are approximated by their sample mean approximation. "
   ]
  },
  {
   "cell_type": "code",
   "execution_count": null,
   "metadata": {
    "vscode": {
     "languageId": "r"
    }
   },
   "outputs": [],
   "source": [
    "# Let us first compute the MMD\n",
    "\n",
    "SEkernel <- function(x, y){\n",
    "  # x, y : 2 matrix with two columns\n",
    "  d <- ncol(x)\n",
    "  S <- matrix(0, nrow(x), nrow(y))\n",
    "  for (j in 1:d){\n",
    "    d <- outer(x[, j], y[, j], '-')\n",
    "    S <- S + d^2\n",
    "  }\n",
    "  exp(- S / 0.2^2)\n",
    "} \n",
    "\n",
    "MMD <- function(k, x, xSample){\n",
    "    # x: DoE\n",
    "    # xSample : used to compute \\int k(x_i, x) dx \n",
    "    # here you can skip the term \\int\\int k(x,y) dxdy, as it does not depend on the DoE\n",
    "    ??\n",
    "}\n",
    "\n",
    "\n",
    "N <- 10000\n",
    "n <- 9\n",
    "\n",
    "set.seed(0)\n",
    "xSample <- matrix(runif(2*N), N, 2)   # for the uniform distribution\n",
    "x0 <- ??   # uniform design for instance\n",
    "MMD(k = SEkernel, x = x0, xSample)"
   ]
  },
  {
   "cell_type": "code",
   "execution_count": null,
   "metadata": {
    "vscode": {
     "languageId": "r"
    }
   },
   "outputs": [],
   "source": [
    "# Random search algorithm\n",
    "critere <- Inf\n",
    "set.seed(0)\n",
    "for (i in 1:10000){\n",
    "  x <- matrix(runif(n = 2*n), nrow = n, ncol = 2)\n",
    "  MMDvalue <- ??\n",
    "  if ( ?? ){ # Keep the current design it is has a better MMD\n",
    "    xMMD <- x\n",
    "    critere <- MMDvalue\n",
    "  }\n",
    "}\n",
    "\n",
    "plot(xMMD)\n"
   ]
  }
 ],
 "metadata": {
  "kernelspec": {
   "display_name": "R",
   "language": "R",
   "name": "ir"
  },
  "language_info": {
   "codemirror_mode": "r",
   "file_extension": ".r",
   "mimetype": "text/x-r-source",
   "name": "R",
   "pygments_lexer": "r",
   "version": "4.4.1"
  },
  "toc": {
   "base_numbering": 1,
   "nav_menu": {},
   "number_sections": true,
   "sideBar": true,
   "skip_h1_title": false,
   "title_cell": "Table of Contents",
   "title_sidebar": "Contents",
   "toc_cell": false,
   "toc_position": {},
   "toc_section_display": true,
   "toc_window_display": false
  }
 },
 "nbformat": 4,
 "nbformat_minor": 2
}

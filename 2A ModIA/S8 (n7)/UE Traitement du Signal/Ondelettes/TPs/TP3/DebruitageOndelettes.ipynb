{
 "cells": [
  {
   "cell_type": "markdown",
   "metadata": {},
   "source": [
    "# Débruitage de Signaux par ondelettes"
   ]
  },
  {
   "cell_type": "markdown",
   "metadata": {},
   "source": [
    "Le but de ce TP est double :\n",
    "\n",
    "1) Montrer que l'on peut supprimer une partie importante des parasites sur un signal 1D en effectuant un seuillage dans une base d'ondelettes appropriée. On appelle débruitage cette opération de suppression ou de diminution des parasites\n",
    "\n",
    "2) Mettre en place un plan d'expériences adéquat en Python pour évaluer en un temps raisonnable les paramètres optimaux de la méthode de débruitage."
   ]
  },
  {
   "cell_type": "markdown",
   "metadata": {},
   "source": [
    "Dans ce TP on ajoutera nous même les parasites (le bruit) sur les signaux en ajoutant à des signaux de référence une réalisation d'un bruit blanc gaussien centré. On testera plusieurs variances. On pourrait bien évidemment considérer d'autres modèles de bruit, poissoniens, impulsionnel, salt and pepper ou autre en modifiant quelques lignes. "
   ]
  },
  {
   "cell_type": "markdown",
   "metadata": {},
   "source": [
    "Le débruitage par seuillage dans une base, orthornormée ou non, est une méthode classique \n",
    "et ses performances dépendent largement des capacités d'approximation non linéaire de la base relativement à la classe de signaux qu'on souhaite débruiter. Ainsi, si on souhaite atténuer les effet d'ajoût d'un bruit blanc gaussien sur des signaux uniformément réguliers par exemple $C^2$, un seuillage dans la base de Fourier fera très bien l'affaire. En revanche si on veut être efficace sur des signaux deux fois dérivable par morceaux, un seuillage en ondelettes sera plus approprié.      "
   ]
  },
  {
   "cell_type": "markdown",
   "metadata": {},
   "source": [
    "La qualité du débruitage dépend de la régularité du signal, de la base d'ondelettes choisie, du niveau de bruit ajouté et du niveau du seuil. Nous verrons aussi qu'on peut ajouter une étape de translation pour améliorer encore les résultats. Il existe plusieurs moyens de mesurer le niveau de dégradation du signal bruité ainsi que la qualité de la reconstruction. Nous choisissons ici de considérer le PSNR qui est un outils à la fois classique de mesure de qualité et qui est facilement calculable. Il faut avoir conscience que cette mesure n'en est qu'une parmi d'autres. \n",
    "Pour des images, la qualité visuelle est important comme la qualité sonore l'est pour des sons. \n",
    "Quand l'étape de débruitage n'est un préprocessing d'un travail d'analyse, il est important de ne pas créer d'artefacts qui pourraient être interprétés comme significatif."
   ]
  },
  {
   "cell_type": "markdown",
   "metadata": {},
   "source": [
    "Une première étape du travail consiste d'abord à constuire une fonction qui prend en entrée ces différents paramètres, signal, niveau de bruit, ondelettes, niveau de seuil et qui renvoie un signal de sortie et un PSNR."
   ]
  },
  {
   "cell_type": "markdown",
   "metadata": {},
   "source": [
    "Une seconde étape consiste à créer un plan d'expériences, c'est à dire une série de tests en faisant varier les différents paramètres et de le visualiser de manière efficace.\n",
    "Des bibliothèques Python permettent de le faire sans lancer les codes à la main un grand nombre de fois en faisant varier les paramètres à la main ni même de faire de boucles for. \n",
    "\n",
    "L'art d'utiliser ces méthodes réside dans le fait de faire une exploration intelligente des paramètres. \n",
    "Dans un premier temps, on propose de faire varier le signal de référence, le niveau de bruit, le choix de la base d'ondelettes et du seuil. Mais on ne traite ici que deux signaux et on ne teste pas la translation des bases d'ondelettes (ceci sera expliqué plus tard). En effet, le temps de calcul explose assez vite si on veut faire une recherche exhaustive. A l'issue de ce premier plan d'expériences, vous devriez pouvoir limiter le choix du seuil et des bases d'ondelettes à considérer. Vous pourrez aussi limiter le nombre de niveau de bruit que vous voulez tester pour essayer d'explorer l'influence d'autres paramètres. "
   ]
  },
  {
   "cell_type": "code",
   "execution_count": 1,
   "metadata": {},
   "outputs": [
    {
     "name": "stderr",
     "output_type": "stream",
     "text": [
      "/tmp/ipykernel_16581/3002222104.py:7: DeprecationWarning: \n",
      "Pyarrow will become a required dependency of pandas in the next major release of pandas (pandas 3.0),\n",
      "(to allow more performant data types, such as the Arrow string type, and better interoperability with other libraries)\n",
      "but was not found to be installed on your system.\n",
      "If this would cause problems for you,\n",
      "please provide us feedback at https://github.com/pandas-dev/pandas/issues/54466\n",
      "        \n",
      "  import pandas as pd\n"
     ]
    },
    {
     "data": {
      "application/javascript": "(function(root) {\n  function now() {\n    return new Date();\n  }\n\n  var force = true;\n  var py_version = '3.3.4'.replace('rc', '-rc.').replace('.dev', '-dev.');\n  var reloading = false;\n  var Bokeh = root.Bokeh;\n\n  if (typeof (root._bokeh_timeout) === \"undefined\" || force) {\n    root._bokeh_timeout = Date.now() + 5000;\n    root._bokeh_failed_load = false;\n  }\n\n  function run_callbacks() {\n    try {\n      root._bokeh_onload_callbacks.forEach(function(callback) {\n        if (callback != null)\n          callback();\n      });\n    } finally {\n      delete root._bokeh_onload_callbacks;\n    }\n    console.debug(\"Bokeh: all callbacks have finished\");\n  }\n\n  function load_libs(css_urls, js_urls, js_modules, js_exports, callback) {\n    if (css_urls == null) css_urls = [];\n    if (js_urls == null) js_urls = [];\n    if (js_modules == null) js_modules = [];\n    if (js_exports == null) js_exports = {};\n\n    root._bokeh_onload_callbacks.push(callback);\n\n    if (root._bokeh_is_loading > 0) {\n      console.debug(\"Bokeh: BokehJS is being loaded, scheduling callback at\", now());\n      return null;\n    }\n    if (js_urls.length === 0 && js_modules.length === 0 && Object.keys(js_exports).length === 0) {\n      run_callbacks();\n      return null;\n    }\n    if (!reloading) {\n      console.debug(\"Bokeh: BokehJS not loaded, scheduling load and callback at\", now());\n    }\n\n    function on_load() {\n      root._bokeh_is_loading--;\n      if (root._bokeh_is_loading === 0) {\n        console.debug(\"Bokeh: all BokehJS libraries/stylesheets loaded\");\n        run_callbacks()\n      }\n    }\n    window._bokeh_on_load = on_load\n\n    function on_error() {\n      console.error(\"failed to load \" + url);\n    }\n\n    var skip = [];\n    if (window.requirejs) {\n      window.requirejs.config({'packages': {}, 'paths': {'jspanel': 'https://cdn.jsdelivr.net/npm/jspanel4@4.12.0/dist/jspanel', 'jspanel-modal': 'https://cdn.jsdelivr.net/npm/jspanel4@4.12.0/dist/extensions/modal/jspanel.modal', 'jspanel-tooltip': 'https://cdn.jsdelivr.net/npm/jspanel4@4.12.0/dist/extensions/tooltip/jspanel.tooltip', 'jspanel-hint': 'https://cdn.jsdelivr.net/npm/jspanel4@4.12.0/dist/extensions/hint/jspanel.hint', 'jspanel-layout': 'https://cdn.jsdelivr.net/npm/jspanel4@4.12.0/dist/extensions/layout/jspanel.layout', 'jspanel-contextmenu': 'https://cdn.jsdelivr.net/npm/jspanel4@4.12.0/dist/extensions/contextmenu/jspanel.contextmenu', 'jspanel-dock': 'https://cdn.jsdelivr.net/npm/jspanel4@4.12.0/dist/extensions/dock/jspanel.dock', 'gridstack': 'https://cdn.jsdelivr.net/npm/gridstack@7.2.3/dist/gridstack-all', 'notyf': 'https://cdn.jsdelivr.net/npm/notyf@3/notyf.min'}, 'shim': {'jspanel': {'exports': 'jsPanel'}, 'gridstack': {'exports': 'GridStack'}}});\n      require([\"jspanel\"], function(jsPanel) {\n\twindow.jsPanel = jsPanel\n\ton_load()\n      })\n      require([\"jspanel-modal\"], function() {\n\ton_load()\n      })\n      require([\"jspanel-tooltip\"], function() {\n\ton_load()\n      })\n      require([\"jspanel-hint\"], function() {\n\ton_load()\n      })\n      require([\"jspanel-layout\"], function() {\n\ton_load()\n      })\n      require([\"jspanel-contextmenu\"], function() {\n\ton_load()\n      })\n      require([\"jspanel-dock\"], function() {\n\ton_load()\n      })\n      require([\"gridstack\"], function(GridStack) {\n\twindow.GridStack = GridStack\n\ton_load()\n      })\n      require([\"notyf\"], function() {\n\ton_load()\n      })\n      root._bokeh_is_loading = css_urls.length + 9;\n    } else {\n      root._bokeh_is_loading = css_urls.length + js_urls.length + js_modules.length + Object.keys(js_exports).length;\n    }\n\n    var existing_stylesheets = []\n    var links = document.getElementsByTagName('link')\n    for (var i = 0; i < links.length; i++) {\n      var link = links[i]\n      if (link.href != null) {\n\texisting_stylesheets.push(link.href)\n      }\n    }\n    for (var i = 0; i < css_urls.length; i++) {\n      var url = css_urls[i];\n      if (existing_stylesheets.indexOf(url) !== -1) {\n\ton_load()\n\tcontinue;\n      }\n      const element = document.createElement(\"link\");\n      element.onload = on_load;\n      element.onerror = on_error;\n      element.rel = \"stylesheet\";\n      element.type = \"text/css\";\n      element.href = url;\n      console.debug(\"Bokeh: injecting link tag for BokehJS stylesheet: \", url);\n      document.body.appendChild(element);\n    }    if (((window['jsPanel'] !== undefined) && (!(window['jsPanel'] instanceof HTMLElement))) || window.requirejs) {\n      var urls = ['https://cdn.holoviz.org/panel/1.3.8/dist/bundled/floatpanel/jspanel4@4.12.0/dist/jspanel.js', 'https://cdn.holoviz.org/panel/1.3.8/dist/bundled/floatpanel/jspanel4@4.12.0/dist/extensions/modal/jspanel.modal.js', 'https://cdn.holoviz.org/panel/1.3.8/dist/bundled/floatpanel/jspanel4@4.12.0/dist/extensions/tooltip/jspanel.tooltip.js', 'https://cdn.holoviz.org/panel/1.3.8/dist/bundled/floatpanel/jspanel4@4.12.0/dist/extensions/hint/jspanel.hint.js', 'https://cdn.holoviz.org/panel/1.3.8/dist/bundled/floatpanel/jspanel4@4.12.0/dist/extensions/layout/jspanel.layout.js', 'https://cdn.holoviz.org/panel/1.3.8/dist/bundled/floatpanel/jspanel4@4.12.0/dist/extensions/contextmenu/jspanel.contextmenu.js', 'https://cdn.holoviz.org/panel/1.3.8/dist/bundled/floatpanel/jspanel4@4.12.0/dist/extensions/dock/jspanel.dock.js'];\n      for (var i = 0; i < urls.length; i++) {\n        skip.push(urls[i])\n      }\n    }    if (((window['GridStack'] !== undefined) && (!(window['GridStack'] instanceof HTMLElement))) || window.requirejs) {\n      var urls = ['https://cdn.holoviz.org/panel/1.3.8/dist/bundled/gridstack/gridstack@7.2.3/dist/gridstack-all.js'];\n      for (var i = 0; i < urls.length; i++) {\n        skip.push(urls[i])\n      }\n    }    if (((window['Notyf'] !== undefined) && (!(window['Notyf'] instanceof HTMLElement))) || window.requirejs) {\n      var urls = ['https://cdn.holoviz.org/panel/1.3.8/dist/bundled/notificationarea/notyf@3/notyf.min.js'];\n      for (var i = 0; i < urls.length; i++) {\n        skip.push(urls[i])\n      }\n    }    var existing_scripts = []\n    var scripts = document.getElementsByTagName('script')\n    for (var i = 0; i < scripts.length; i++) {\n      var script = scripts[i]\n      if (script.src != null) {\n\texisting_scripts.push(script.src)\n      }\n    }\n    for (var i = 0; i < js_urls.length; i++) {\n      var url = js_urls[i];\n      if (skip.indexOf(url) !== -1 || existing_scripts.indexOf(url) !== -1) {\n\tif (!window.requirejs) {\n\t  on_load();\n\t}\n\tcontinue;\n      }\n      var element = document.createElement('script');\n      element.onload = on_load;\n      element.onerror = on_error;\n      element.async = false;\n      element.src = url;\n      console.debug(\"Bokeh: injecting script tag for BokehJS library: \", url);\n      document.head.appendChild(element);\n    }\n    for (var i = 0; i < js_modules.length; i++) {\n      var url = js_modules[i];\n      if (skip.indexOf(url) !== -1 || existing_scripts.indexOf(url) !== -1) {\n\tif (!window.requirejs) {\n\t  on_load();\n\t}\n\tcontinue;\n      }\n      var element = document.createElement('script');\n      element.onload = on_load;\n      element.onerror = on_error;\n      element.async = false;\n      element.src = url;\n      element.type = \"module\";\n      console.debug(\"Bokeh: injecting script tag for BokehJS library: \", url);\n      document.head.appendChild(element);\n    }\n    for (const name in js_exports) {\n      var url = js_exports[name];\n      if (skip.indexOf(url) >= 0 || root[name] != null) {\n\tif (!window.requirejs) {\n\t  on_load();\n\t}\n\tcontinue;\n      }\n      var element = document.createElement('script');\n      element.onerror = on_error;\n      element.async = false;\n      element.type = \"module\";\n      console.debug(\"Bokeh: injecting script tag for BokehJS library: \", url);\n      element.textContent = `\n      import ${name} from \"${url}\"\n      window.${name} = ${name}\n      window._bokeh_on_load()\n      `\n      document.head.appendChild(element);\n    }\n    if (!js_urls.length && !js_modules.length) {\n      on_load()\n    }\n  };\n\n  function inject_raw_css(css) {\n    const element = document.createElement(\"style\");\n    element.appendChild(document.createTextNode(css));\n    document.body.appendChild(element);\n  }\n\n  var js_urls = [\"https://cdn.bokeh.org/bokeh/release/bokeh-3.3.4.min.js\", \"https://cdn.bokeh.org/bokeh/release/bokeh-gl-3.3.4.min.js\", \"https://cdn.bokeh.org/bokeh/release/bokeh-widgets-3.3.4.min.js\", \"https://cdn.bokeh.org/bokeh/release/bokeh-tables-3.3.4.min.js\", \"https://cdn.holoviz.org/panel/1.3.8/dist/panel.min.js\"];\n  var js_modules = [];\n  var js_exports = {};\n  var css_urls = [];\n  var inline_js = [    function(Bokeh) {\n      Bokeh.set_log_level(\"info\");\n    },\nfunction(Bokeh) {} // ensure no trailing comma for IE\n  ];\n\n  function run_inline_js() {\n    if ((root.Bokeh !== undefined) || (force === true)) {\n      for (var i = 0; i < inline_js.length; i++) {\n\ttry {\n          inline_js[i].call(root, root.Bokeh);\n\t} catch(e) {\n\t  if (!reloading) {\n\t    throw e;\n\t  }\n\t}\n      }\n      // Cache old bokeh versions\n      if (Bokeh != undefined && !reloading) {\n\tvar NewBokeh = root.Bokeh;\n\tif (Bokeh.versions === undefined) {\n\t  Bokeh.versions = new Map();\n\t}\n\tif (NewBokeh.version !== Bokeh.version) {\n\t  Bokeh.versions.set(NewBokeh.version, NewBokeh)\n\t}\n\troot.Bokeh = Bokeh;\n      }} else if (Date.now() < root._bokeh_timeout) {\n      setTimeout(run_inline_js, 100);\n    } else if (!root._bokeh_failed_load) {\n      console.log(\"Bokeh: BokehJS failed to load within specified timeout.\");\n      root._bokeh_failed_load = true;\n    }\n    root._bokeh_is_initializing = false\n  }\n\n  function load_or_wait() {\n    // Implement a backoff loop that tries to ensure we do not load multiple\n    // versions of Bokeh and its dependencies at the same time.\n    // In recent versions we use the root._bokeh_is_initializing flag\n    // to determine whether there is an ongoing attempt to initialize\n    // bokeh, however for backward compatibility we also try to ensure\n    // that we do not start loading a newer (Panel>=1.0 and Bokeh>3) version\n    // before older versions are fully initialized.\n    if (root._bokeh_is_initializing && Date.now() > root._bokeh_timeout) {\n      root._bokeh_is_initializing = false;\n      root._bokeh_onload_callbacks = undefined;\n      console.log(\"Bokeh: BokehJS was loaded multiple times but one version failed to initialize.\");\n      load_or_wait();\n    } else if (root._bokeh_is_initializing || (typeof root._bokeh_is_initializing === \"undefined\" && root._bokeh_onload_callbacks !== undefined)) {\n      setTimeout(load_or_wait, 100);\n    } else {\n      root._bokeh_is_initializing = true\n      root._bokeh_onload_callbacks = []\n      var bokeh_loaded = Bokeh != null && (Bokeh.version === py_version || (Bokeh.versions !== undefined && Bokeh.versions.has(py_version)));\n      if (!reloading && !bokeh_loaded) {\n\troot.Bokeh = undefined;\n      }\n      load_libs(css_urls, js_urls, js_modules, js_exports, function() {\n\tconsole.debug(\"Bokeh: BokehJS plotting callback run at\", now());\n\trun_inline_js();\n      });\n    }\n  }\n  // Give older versions of the autoload script a head-start to ensure\n  // they initialize before we start loading newer version.\n  setTimeout(load_or_wait, 100)\n}(window));",
      "application/vnd.holoviews_load.v0+json": ""
     },
     "metadata": {},
     "output_type": "display_data"
    },
    {
     "data": {
      "application/javascript": "\nif ((window.PyViz === undefined) || (window.PyViz instanceof HTMLElement)) {\n  window.PyViz = {comms: {}, comm_status:{}, kernels:{}, receivers: {}, plot_index: []}\n}\n\n\n    function JupyterCommManager() {\n    }\n\n    JupyterCommManager.prototype.register_target = function(plot_id, comm_id, msg_handler) {\n      if (window.comm_manager || ((window.Jupyter !== undefined) && (Jupyter.notebook.kernel != null))) {\n        var comm_manager = window.comm_manager || Jupyter.notebook.kernel.comm_manager;\n        comm_manager.register_target(comm_id, function(comm) {\n          comm.on_msg(msg_handler);\n        });\n      } else if ((plot_id in window.PyViz.kernels) && (window.PyViz.kernels[plot_id])) {\n        window.PyViz.kernels[plot_id].registerCommTarget(comm_id, function(comm) {\n          comm.onMsg = msg_handler;\n        });\n      } else if (typeof google != 'undefined' && google.colab.kernel != null) {\n        google.colab.kernel.comms.registerTarget(comm_id, (comm) => {\n          var messages = comm.messages[Symbol.asyncIterator]();\n          function processIteratorResult(result) {\n            var message = result.value;\n            console.log(message)\n            var content = {data: message.data, comm_id};\n            var buffers = []\n            for (var buffer of message.buffers || []) {\n              buffers.push(new DataView(buffer))\n            }\n            var metadata = message.metadata || {};\n            var msg = {content, buffers, metadata}\n            msg_handler(msg);\n            return messages.next().then(processIteratorResult);\n          }\n          return messages.next().then(processIteratorResult);\n        })\n      }\n    }\n\n    JupyterCommManager.prototype.get_client_comm = function(plot_id, comm_id, msg_handler) {\n      if (comm_id in window.PyViz.comms) {\n        return window.PyViz.comms[comm_id];\n      } else if (window.comm_manager || ((window.Jupyter !== undefined) && (Jupyter.notebook.kernel != null))) {\n        var comm_manager = window.comm_manager || Jupyter.notebook.kernel.comm_manager;\n        var comm = comm_manager.new_comm(comm_id, {}, {}, {}, comm_id);\n        if (msg_handler) {\n          comm.on_msg(msg_handler);\n        }\n      } else if ((plot_id in window.PyViz.kernels) && (window.PyViz.kernels[plot_id])) {\n        var comm = window.PyViz.kernels[plot_id].connectToComm(comm_id);\n        comm.open();\n        if (msg_handler) {\n          comm.onMsg = msg_handler;\n        }\n      } else if (typeof google != 'undefined' && google.colab.kernel != null) {\n        var comm_promise = google.colab.kernel.comms.open(comm_id)\n        comm_promise.then((comm) => {\n          window.PyViz.comms[comm_id] = comm;\n          if (msg_handler) {\n            var messages = comm.messages[Symbol.asyncIterator]();\n            function processIteratorResult(result) {\n              var message = result.value;\n              var content = {data: message.data};\n              var metadata = message.metadata || {comm_id};\n              var msg = {content, metadata}\n              msg_handler(msg);\n              return messages.next().then(processIteratorResult);\n            }\n            return messages.next().then(processIteratorResult);\n          }\n        }) \n        var sendClosure = (data, metadata, buffers, disposeOnDone) => {\n          return comm_promise.then((comm) => {\n            comm.send(data, metadata, buffers, disposeOnDone);\n          });\n        };\n        var comm = {\n          send: sendClosure\n        };\n      }\n      window.PyViz.comms[comm_id] = comm;\n      return comm;\n    }\n    window.PyViz.comm_manager = new JupyterCommManager();\n    \n\n\nvar JS_MIME_TYPE = 'application/javascript';\nvar HTML_MIME_TYPE = 'text/html';\nvar EXEC_MIME_TYPE = 'application/vnd.holoviews_exec.v0+json';\nvar CLASS_NAME = 'output';\n\n/**\n * Render data to the DOM node\n */\nfunction render(props, node) {\n  var div = document.createElement(\"div\");\n  var script = document.createElement(\"script\");\n  node.appendChild(div);\n  node.appendChild(script);\n}\n\n/**\n * Handle when a new output is added\n */\nfunction handle_add_output(event, handle) {\n  var output_area = handle.output_area;\n  var output = handle.output;\n  if ((output.data == undefined) || (!output.data.hasOwnProperty(EXEC_MIME_TYPE))) {\n    return\n  }\n  var id = output.metadata[EXEC_MIME_TYPE][\"id\"];\n  var toinsert = output_area.element.find(\".\" + CLASS_NAME.split(' ')[0]);\n  if (id !== undefined) {\n    var nchildren = toinsert.length;\n    var html_node = toinsert[nchildren-1].children[0];\n    html_node.innerHTML = output.data[HTML_MIME_TYPE];\n    var scripts = [];\n    var nodelist = html_node.querySelectorAll(\"script\");\n    for (var i in nodelist) {\n      if (nodelist.hasOwnProperty(i)) {\n        scripts.push(nodelist[i])\n      }\n    }\n\n    scripts.forEach( function (oldScript) {\n      var newScript = document.createElement(\"script\");\n      var attrs = [];\n      var nodemap = oldScript.attributes;\n      for (var j in nodemap) {\n        if (nodemap.hasOwnProperty(j)) {\n          attrs.push(nodemap[j])\n        }\n      }\n      attrs.forEach(function(attr) { newScript.setAttribute(attr.name, attr.value) });\n      newScript.appendChild(document.createTextNode(oldScript.innerHTML));\n      oldScript.parentNode.replaceChild(newScript, oldScript);\n    });\n    if (JS_MIME_TYPE in output.data) {\n      toinsert[nchildren-1].children[1].textContent = output.data[JS_MIME_TYPE];\n    }\n    output_area._hv_plot_id = id;\n    if ((window.Bokeh !== undefined) && (id in Bokeh.index)) {\n      window.PyViz.plot_index[id] = Bokeh.index[id];\n    } else {\n      window.PyViz.plot_index[id] = null;\n    }\n  } else if (output.metadata[EXEC_MIME_TYPE][\"server_id\"] !== undefined) {\n    var bk_div = document.createElement(\"div\");\n    bk_div.innerHTML = output.data[HTML_MIME_TYPE];\n    var script_attrs = bk_div.children[0].attributes;\n    for (var i = 0; i < script_attrs.length; i++) {\n      toinsert[toinsert.length - 1].childNodes[1].setAttribute(script_attrs[i].name, script_attrs[i].value);\n    }\n    // store reference to server id on output_area\n    output_area._bokeh_server_id = output.metadata[EXEC_MIME_TYPE][\"server_id\"];\n  }\n}\n\n/**\n * Handle when an output is cleared or removed\n */\nfunction handle_clear_output(event, handle) {\n  var id = handle.cell.output_area._hv_plot_id;\n  var server_id = handle.cell.output_area._bokeh_server_id;\n  if (((id === undefined) || !(id in PyViz.plot_index)) && (server_id !== undefined)) { return; }\n  var comm = window.PyViz.comm_manager.get_client_comm(\"hv-extension-comm\", \"hv-extension-comm\", function () {});\n  if (server_id !== null) {\n    comm.send({event_type: 'server_delete', 'id': server_id});\n    return;\n  } else if (comm !== null) {\n    comm.send({event_type: 'delete', 'id': id});\n  }\n  delete PyViz.plot_index[id];\n  if ((window.Bokeh !== undefined) & (id in window.Bokeh.index)) {\n    var doc = window.Bokeh.index[id].model.document\n    doc.clear();\n    const i = window.Bokeh.documents.indexOf(doc);\n    if (i > -1) {\n      window.Bokeh.documents.splice(i, 1);\n    }\n  }\n}\n\n/**\n * Handle kernel restart event\n */\nfunction handle_kernel_cleanup(event, handle) {\n  delete PyViz.comms[\"hv-extension-comm\"];\n  window.PyViz.plot_index = {}\n}\n\n/**\n * Handle update_display_data messages\n */\nfunction handle_update_output(event, handle) {\n  handle_clear_output(event, {cell: {output_area: handle.output_area}})\n  handle_add_output(event, handle)\n}\n\nfunction register_renderer(events, OutputArea) {\n  function append_mime(data, metadata, element) {\n    // create a DOM node to render to\n    var toinsert = this.create_output_subarea(\n    metadata,\n    CLASS_NAME,\n    EXEC_MIME_TYPE\n    );\n    this.keyboard_manager.register_events(toinsert);\n    // Render to node\n    var props = {data: data, metadata: metadata[EXEC_MIME_TYPE]};\n    render(props, toinsert[0]);\n    element.append(toinsert);\n    return toinsert\n  }\n\n  events.on('output_added.OutputArea', handle_add_output);\n  events.on('output_updated.OutputArea', handle_update_output);\n  events.on('clear_output.CodeCell', handle_clear_output);\n  events.on('delete.Cell', handle_clear_output);\n  events.on('kernel_ready.Kernel', handle_kernel_cleanup);\n\n  OutputArea.prototype.register_mime_type(EXEC_MIME_TYPE, append_mime, {\n    safe: true,\n    index: 0\n  });\n}\n\nif (window.Jupyter !== undefined) {\n  try {\n    var events = require('base/js/events');\n    var OutputArea = require('notebook/js/outputarea').OutputArea;\n    if (OutputArea.prototype.mime_types().indexOf(EXEC_MIME_TYPE) == -1) {\n      register_renderer(events, OutputArea);\n    }\n  } catch(err) {\n  }\n}\n",
      "application/vnd.holoviews_load.v0+json": ""
     },
     "metadata": {},
     "output_type": "display_data"
    },
    {
     "data": {
      "text/html": [
       "<style>*[data-root-id],\n",
       "*[data-root-id] > * {\n",
       "  box-sizing: border-box;\n",
       "  font-family: var(--jp-ui-font-family);\n",
       "  font-size: var(--jp-ui-font-size1);\n",
       "  color: var(--vscode-editor-foreground, var(--jp-ui-font-color1));\n",
       "}\n",
       "\n",
       "/* Override VSCode background color */\n",
       ".cell-output-ipywidget-background:has(\n",
       "    > .cell-output-ipywidget-background > .lm-Widget > *[data-root-id]\n",
       "  ),\n",
       ".cell-output-ipywidget-background:has(> .lm-Widget > *[data-root-id]) {\n",
       "  background-color: transparent !important;\n",
       "}\n",
       "</style>"
      ]
     },
     "metadata": {},
     "output_type": "display_data"
    },
    {
     "data": {
      "application/javascript": "(function(root) {\n  function now() {\n    return new Date();\n  }\n\n  var force = true;\n  var py_version = '3.3.4'.replace('rc', '-rc.').replace('.dev', '-dev.');\n  var reloading = true;\n  var Bokeh = root.Bokeh;\n\n  if (typeof (root._bokeh_timeout) === \"undefined\" || force) {\n    root._bokeh_timeout = Date.now() + 5000;\n    root._bokeh_failed_load = false;\n  }\n\n  function run_callbacks() {\n    try {\n      root._bokeh_onload_callbacks.forEach(function(callback) {\n        if (callback != null)\n          callback();\n      });\n    } finally {\n      delete root._bokeh_onload_callbacks;\n    }\n    console.debug(\"Bokeh: all callbacks have finished\");\n  }\n\n  function load_libs(css_urls, js_urls, js_modules, js_exports, callback) {\n    if (css_urls == null) css_urls = [];\n    if (js_urls == null) js_urls = [];\n    if (js_modules == null) js_modules = [];\n    if (js_exports == null) js_exports = {};\n\n    root._bokeh_onload_callbacks.push(callback);\n\n    if (root._bokeh_is_loading > 0) {\n      console.debug(\"Bokeh: BokehJS is being loaded, scheduling callback at\", now());\n      return null;\n    }\n    if (js_urls.length === 0 && js_modules.length === 0 && Object.keys(js_exports).length === 0) {\n      run_callbacks();\n      return null;\n    }\n    if (!reloading) {\n      console.debug(\"Bokeh: BokehJS not loaded, scheduling load and callback at\", now());\n    }\n\n    function on_load() {\n      root._bokeh_is_loading--;\n      if (root._bokeh_is_loading === 0) {\n        console.debug(\"Bokeh: all BokehJS libraries/stylesheets loaded\");\n        run_callbacks()\n      }\n    }\n    window._bokeh_on_load = on_load\n\n    function on_error() {\n      console.error(\"failed to load \" + url);\n    }\n\n    var skip = [];\n    if (window.requirejs) {\n      window.requirejs.config({'packages': {}, 'paths': {'jspanel': 'https://cdn.jsdelivr.net/npm/jspanel4@4.12.0/dist/jspanel', 'jspanel-modal': 'https://cdn.jsdelivr.net/npm/jspanel4@4.12.0/dist/extensions/modal/jspanel.modal', 'jspanel-tooltip': 'https://cdn.jsdelivr.net/npm/jspanel4@4.12.0/dist/extensions/tooltip/jspanel.tooltip', 'jspanel-hint': 'https://cdn.jsdelivr.net/npm/jspanel4@4.12.0/dist/extensions/hint/jspanel.hint', 'jspanel-layout': 'https://cdn.jsdelivr.net/npm/jspanel4@4.12.0/dist/extensions/layout/jspanel.layout', 'jspanel-contextmenu': 'https://cdn.jsdelivr.net/npm/jspanel4@4.12.0/dist/extensions/contextmenu/jspanel.contextmenu', 'jspanel-dock': 'https://cdn.jsdelivr.net/npm/jspanel4@4.12.0/dist/extensions/dock/jspanel.dock', 'gridstack': 'https://cdn.jsdelivr.net/npm/gridstack@7.2.3/dist/gridstack-all', 'notyf': 'https://cdn.jsdelivr.net/npm/notyf@3/notyf.min'}, 'shim': {'jspanel': {'exports': 'jsPanel'}, 'gridstack': {'exports': 'GridStack'}}});\n      require([\"jspanel\"], function(jsPanel) {\n\twindow.jsPanel = jsPanel\n\ton_load()\n      })\n      require([\"jspanel-modal\"], function() {\n\ton_load()\n      })\n      require([\"jspanel-tooltip\"], function() {\n\ton_load()\n      })\n      require([\"jspanel-hint\"], function() {\n\ton_load()\n      })\n      require([\"jspanel-layout\"], function() {\n\ton_load()\n      })\n      require([\"jspanel-contextmenu\"], function() {\n\ton_load()\n      })\n      require([\"jspanel-dock\"], function() {\n\ton_load()\n      })\n      require([\"gridstack\"], function(GridStack) {\n\twindow.GridStack = GridStack\n\ton_load()\n      })\n      require([\"notyf\"], function() {\n\ton_load()\n      })\n      root._bokeh_is_loading = css_urls.length + 9;\n    } else {\n      root._bokeh_is_loading = css_urls.length + js_urls.length + js_modules.length + Object.keys(js_exports).length;\n    }\n\n    var existing_stylesheets = []\n    var links = document.getElementsByTagName('link')\n    for (var i = 0; i < links.length; i++) {\n      var link = links[i]\n      if (link.href != null) {\n\texisting_stylesheets.push(link.href)\n      }\n    }\n    for (var i = 0; i < css_urls.length; i++) {\n      var url = css_urls[i];\n      if (existing_stylesheets.indexOf(url) !== -1) {\n\ton_load()\n\tcontinue;\n      }\n      const element = document.createElement(\"link\");\n      element.onload = on_load;\n      element.onerror = on_error;\n      element.rel = \"stylesheet\";\n      element.type = \"text/css\";\n      element.href = url;\n      console.debug(\"Bokeh: injecting link tag for BokehJS stylesheet: \", url);\n      document.body.appendChild(element);\n    }    if (((window['jsPanel'] !== undefined) && (!(window['jsPanel'] instanceof HTMLElement))) || window.requirejs) {\n      var urls = ['https://cdn.holoviz.org/panel/1.3.8/dist/bundled/floatpanel/jspanel4@4.12.0/dist/jspanel.js', 'https://cdn.holoviz.org/panel/1.3.8/dist/bundled/floatpanel/jspanel4@4.12.0/dist/extensions/modal/jspanel.modal.js', 'https://cdn.holoviz.org/panel/1.3.8/dist/bundled/floatpanel/jspanel4@4.12.0/dist/extensions/tooltip/jspanel.tooltip.js', 'https://cdn.holoviz.org/panel/1.3.8/dist/bundled/floatpanel/jspanel4@4.12.0/dist/extensions/hint/jspanel.hint.js', 'https://cdn.holoviz.org/panel/1.3.8/dist/bundled/floatpanel/jspanel4@4.12.0/dist/extensions/layout/jspanel.layout.js', 'https://cdn.holoviz.org/panel/1.3.8/dist/bundled/floatpanel/jspanel4@4.12.0/dist/extensions/contextmenu/jspanel.contextmenu.js', 'https://cdn.holoviz.org/panel/1.3.8/dist/bundled/floatpanel/jspanel4@4.12.0/dist/extensions/dock/jspanel.dock.js'];\n      for (var i = 0; i < urls.length; i++) {\n        skip.push(urls[i])\n      }\n    }    if (((window['GridStack'] !== undefined) && (!(window['GridStack'] instanceof HTMLElement))) || window.requirejs) {\n      var urls = ['https://cdn.holoviz.org/panel/1.3.8/dist/bundled/gridstack/gridstack@7.2.3/dist/gridstack-all.js'];\n      for (var i = 0; i < urls.length; i++) {\n        skip.push(urls[i])\n      }\n    }    if (((window['Notyf'] !== undefined) && (!(window['Notyf'] instanceof HTMLElement))) || window.requirejs) {\n      var urls = ['https://cdn.holoviz.org/panel/1.3.8/dist/bundled/notificationarea/notyf@3/notyf.min.js'];\n      for (var i = 0; i < urls.length; i++) {\n        skip.push(urls[i])\n      }\n    }    var existing_scripts = []\n    var scripts = document.getElementsByTagName('script')\n    for (var i = 0; i < scripts.length; i++) {\n      var script = scripts[i]\n      if (script.src != null) {\n\texisting_scripts.push(script.src)\n      }\n    }\n    for (var i = 0; i < js_urls.length; i++) {\n      var url = js_urls[i];\n      if (skip.indexOf(url) !== -1 || existing_scripts.indexOf(url) !== -1) {\n\tif (!window.requirejs) {\n\t  on_load();\n\t}\n\tcontinue;\n      }\n      var element = document.createElement('script');\n      element.onload = on_load;\n      element.onerror = on_error;\n      element.async = false;\n      element.src = url;\n      console.debug(\"Bokeh: injecting script tag for BokehJS library: \", url);\n      document.head.appendChild(element);\n    }\n    for (var i = 0; i < js_modules.length; i++) {\n      var url = js_modules[i];\n      if (skip.indexOf(url) !== -1 || existing_scripts.indexOf(url) !== -1) {\n\tif (!window.requirejs) {\n\t  on_load();\n\t}\n\tcontinue;\n      }\n      var element = document.createElement('script');\n      element.onload = on_load;\n      element.onerror = on_error;\n      element.async = false;\n      element.src = url;\n      element.type = \"module\";\n      console.debug(\"Bokeh: injecting script tag for BokehJS library: \", url);\n      document.head.appendChild(element);\n    }\n    for (const name in js_exports) {\n      var url = js_exports[name];\n      if (skip.indexOf(url) >= 0 || root[name] != null) {\n\tif (!window.requirejs) {\n\t  on_load();\n\t}\n\tcontinue;\n      }\n      var element = document.createElement('script');\n      element.onerror = on_error;\n      element.async = false;\n      element.type = \"module\";\n      console.debug(\"Bokeh: injecting script tag for BokehJS library: \", url);\n      element.textContent = `\n      import ${name} from \"${url}\"\n      window.${name} = ${name}\n      window._bokeh_on_load()\n      `\n      document.head.appendChild(element);\n    }\n    if (!js_urls.length && !js_modules.length) {\n      on_load()\n    }\n  };\n\n  function inject_raw_css(css) {\n    const element = document.createElement(\"style\");\n    element.appendChild(document.createTextNode(css));\n    document.body.appendChild(element);\n  }\n\n  var js_urls = [];\n  var js_modules = [];\n  var js_exports = {};\n  var css_urls = [];\n  var inline_js = [    function(Bokeh) {\n      Bokeh.set_log_level(\"info\");\n    },\nfunction(Bokeh) {} // ensure no trailing comma for IE\n  ];\n\n  function run_inline_js() {\n    if ((root.Bokeh !== undefined) || (force === true)) {\n      for (var i = 0; i < inline_js.length; i++) {\n\ttry {\n          inline_js[i].call(root, root.Bokeh);\n\t} catch(e) {\n\t  if (!reloading) {\n\t    throw e;\n\t  }\n\t}\n      }\n      // Cache old bokeh versions\n      if (Bokeh != undefined && !reloading) {\n\tvar NewBokeh = root.Bokeh;\n\tif (Bokeh.versions === undefined) {\n\t  Bokeh.versions = new Map();\n\t}\n\tif (NewBokeh.version !== Bokeh.version) {\n\t  Bokeh.versions.set(NewBokeh.version, NewBokeh)\n\t}\n\troot.Bokeh = Bokeh;\n      }} else if (Date.now() < root._bokeh_timeout) {\n      setTimeout(run_inline_js, 100);\n    } else if (!root._bokeh_failed_load) {\n      console.log(\"Bokeh: BokehJS failed to load within specified timeout.\");\n      root._bokeh_failed_load = true;\n    }\n    root._bokeh_is_initializing = false\n  }\n\n  function load_or_wait() {\n    // Implement a backoff loop that tries to ensure we do not load multiple\n    // versions of Bokeh and its dependencies at the same time.\n    // In recent versions we use the root._bokeh_is_initializing flag\n    // to determine whether there is an ongoing attempt to initialize\n    // bokeh, however for backward compatibility we also try to ensure\n    // that we do not start loading a newer (Panel>=1.0 and Bokeh>3) version\n    // before older versions are fully initialized.\n    if (root._bokeh_is_initializing && Date.now() > root._bokeh_timeout) {\n      root._bokeh_is_initializing = false;\n      root._bokeh_onload_callbacks = undefined;\n      console.log(\"Bokeh: BokehJS was loaded multiple times but one version failed to initialize.\");\n      load_or_wait();\n    } else if (root._bokeh_is_initializing || (typeof root._bokeh_is_initializing === \"undefined\" && root._bokeh_onload_callbacks !== undefined)) {\n      setTimeout(load_or_wait, 100);\n    } else {\n      root._bokeh_is_initializing = true\n      root._bokeh_onload_callbacks = []\n      var bokeh_loaded = Bokeh != null && (Bokeh.version === py_version || (Bokeh.versions !== undefined && Bokeh.versions.has(py_version)));\n      if (!reloading && !bokeh_loaded) {\n\troot.Bokeh = undefined;\n      }\n      load_libs(css_urls, js_urls, js_modules, js_exports, function() {\n\tconsole.debug(\"Bokeh: BokehJS plotting callback run at\", now());\n\trun_inline_js();\n      });\n    }\n  }\n  // Give older versions of the autoload script a head-start to ensure\n  // they initialize before we start loading newer version.\n  setTimeout(load_or_wait, 100)\n}(window));",
      "application/vnd.holoviews_load.v0+json": ""
     },
     "metadata": {},
     "output_type": "display_data"
    },
    {
     "data": {
      "application/javascript": "\nif ((window.PyViz === undefined) || (window.PyViz instanceof HTMLElement)) {\n  window.PyViz = {comms: {}, comm_status:{}, kernels:{}, receivers: {}, plot_index: []}\n}\n\n\n    function JupyterCommManager() {\n    }\n\n    JupyterCommManager.prototype.register_target = function(plot_id, comm_id, msg_handler) {\n      if (window.comm_manager || ((window.Jupyter !== undefined) && (Jupyter.notebook.kernel != null))) {\n        var comm_manager = window.comm_manager || Jupyter.notebook.kernel.comm_manager;\n        comm_manager.register_target(comm_id, function(comm) {\n          comm.on_msg(msg_handler);\n        });\n      } else if ((plot_id in window.PyViz.kernels) && (window.PyViz.kernels[plot_id])) {\n        window.PyViz.kernels[plot_id].registerCommTarget(comm_id, function(comm) {\n          comm.onMsg = msg_handler;\n        });\n      } else if (typeof google != 'undefined' && google.colab.kernel != null) {\n        google.colab.kernel.comms.registerTarget(comm_id, (comm) => {\n          var messages = comm.messages[Symbol.asyncIterator]();\n          function processIteratorResult(result) {\n            var message = result.value;\n            console.log(message)\n            var content = {data: message.data, comm_id};\n            var buffers = []\n            for (var buffer of message.buffers || []) {\n              buffers.push(new DataView(buffer))\n            }\n            var metadata = message.metadata || {};\n            var msg = {content, buffers, metadata}\n            msg_handler(msg);\n            return messages.next().then(processIteratorResult);\n          }\n          return messages.next().then(processIteratorResult);\n        })\n      }\n    }\n\n    JupyterCommManager.prototype.get_client_comm = function(plot_id, comm_id, msg_handler) {\n      if (comm_id in window.PyViz.comms) {\n        return window.PyViz.comms[comm_id];\n      } else if (window.comm_manager || ((window.Jupyter !== undefined) && (Jupyter.notebook.kernel != null))) {\n        var comm_manager = window.comm_manager || Jupyter.notebook.kernel.comm_manager;\n        var comm = comm_manager.new_comm(comm_id, {}, {}, {}, comm_id);\n        if (msg_handler) {\n          comm.on_msg(msg_handler);\n        }\n      } else if ((plot_id in window.PyViz.kernels) && (window.PyViz.kernels[plot_id])) {\n        var comm = window.PyViz.kernels[plot_id].connectToComm(comm_id);\n        comm.open();\n        if (msg_handler) {\n          comm.onMsg = msg_handler;\n        }\n      } else if (typeof google != 'undefined' && google.colab.kernel != null) {\n        var comm_promise = google.colab.kernel.comms.open(comm_id)\n        comm_promise.then((comm) => {\n          window.PyViz.comms[comm_id] = comm;\n          if (msg_handler) {\n            var messages = comm.messages[Symbol.asyncIterator]();\n            function processIteratorResult(result) {\n              var message = result.value;\n              var content = {data: message.data};\n              var metadata = message.metadata || {comm_id};\n              var msg = {content, metadata}\n              msg_handler(msg);\n              return messages.next().then(processIteratorResult);\n            }\n            return messages.next().then(processIteratorResult);\n          }\n        }) \n        var sendClosure = (data, metadata, buffers, disposeOnDone) => {\n          return comm_promise.then((comm) => {\n            comm.send(data, metadata, buffers, disposeOnDone);\n          });\n        };\n        var comm = {\n          send: sendClosure\n        };\n      }\n      window.PyViz.comms[comm_id] = comm;\n      return comm;\n    }\n    window.PyViz.comm_manager = new JupyterCommManager();\n    \n\n\nvar JS_MIME_TYPE = 'application/javascript';\nvar HTML_MIME_TYPE = 'text/html';\nvar EXEC_MIME_TYPE = 'application/vnd.holoviews_exec.v0+json';\nvar CLASS_NAME = 'output';\n\n/**\n * Render data to the DOM node\n */\nfunction render(props, node) {\n  var div = document.createElement(\"div\");\n  var script = document.createElement(\"script\");\n  node.appendChild(div);\n  node.appendChild(script);\n}\n\n/**\n * Handle when a new output is added\n */\nfunction handle_add_output(event, handle) {\n  var output_area = handle.output_area;\n  var output = handle.output;\n  if ((output.data == undefined) || (!output.data.hasOwnProperty(EXEC_MIME_TYPE))) {\n    return\n  }\n  var id = output.metadata[EXEC_MIME_TYPE][\"id\"];\n  var toinsert = output_area.element.find(\".\" + CLASS_NAME.split(' ')[0]);\n  if (id !== undefined) {\n    var nchildren = toinsert.length;\n    var html_node = toinsert[nchildren-1].children[0];\n    html_node.innerHTML = output.data[HTML_MIME_TYPE];\n    var scripts = [];\n    var nodelist = html_node.querySelectorAll(\"script\");\n    for (var i in nodelist) {\n      if (nodelist.hasOwnProperty(i)) {\n        scripts.push(nodelist[i])\n      }\n    }\n\n    scripts.forEach( function (oldScript) {\n      var newScript = document.createElement(\"script\");\n      var attrs = [];\n      var nodemap = oldScript.attributes;\n      for (var j in nodemap) {\n        if (nodemap.hasOwnProperty(j)) {\n          attrs.push(nodemap[j])\n        }\n      }\n      attrs.forEach(function(attr) { newScript.setAttribute(attr.name, attr.value) });\n      newScript.appendChild(document.createTextNode(oldScript.innerHTML));\n      oldScript.parentNode.replaceChild(newScript, oldScript);\n    });\n    if (JS_MIME_TYPE in output.data) {\n      toinsert[nchildren-1].children[1].textContent = output.data[JS_MIME_TYPE];\n    }\n    output_area._hv_plot_id = id;\n    if ((window.Bokeh !== undefined) && (id in Bokeh.index)) {\n      window.PyViz.plot_index[id] = Bokeh.index[id];\n    } else {\n      window.PyViz.plot_index[id] = null;\n    }\n  } else if (output.metadata[EXEC_MIME_TYPE][\"server_id\"] !== undefined) {\n    var bk_div = document.createElement(\"div\");\n    bk_div.innerHTML = output.data[HTML_MIME_TYPE];\n    var script_attrs = bk_div.children[0].attributes;\n    for (var i = 0; i < script_attrs.length; i++) {\n      toinsert[toinsert.length - 1].childNodes[1].setAttribute(script_attrs[i].name, script_attrs[i].value);\n    }\n    // store reference to server id on output_area\n    output_area._bokeh_server_id = output.metadata[EXEC_MIME_TYPE][\"server_id\"];\n  }\n}\n\n/**\n * Handle when an output is cleared or removed\n */\nfunction handle_clear_output(event, handle) {\n  var id = handle.cell.output_area._hv_plot_id;\n  var server_id = handle.cell.output_area._bokeh_server_id;\n  if (((id === undefined) || !(id in PyViz.plot_index)) && (server_id !== undefined)) { return; }\n  var comm = window.PyViz.comm_manager.get_client_comm(\"hv-extension-comm\", \"hv-extension-comm\", function () {});\n  if (server_id !== null) {\n    comm.send({event_type: 'server_delete', 'id': server_id});\n    return;\n  } else if (comm !== null) {\n    comm.send({event_type: 'delete', 'id': id});\n  }\n  delete PyViz.plot_index[id];\n  if ((window.Bokeh !== undefined) & (id in window.Bokeh.index)) {\n    var doc = window.Bokeh.index[id].model.document\n    doc.clear();\n    const i = window.Bokeh.documents.indexOf(doc);\n    if (i > -1) {\n      window.Bokeh.documents.splice(i, 1);\n    }\n  }\n}\n\n/**\n * Handle kernel restart event\n */\nfunction handle_kernel_cleanup(event, handle) {\n  delete PyViz.comms[\"hv-extension-comm\"];\n  window.PyViz.plot_index = {}\n}\n\n/**\n * Handle update_display_data messages\n */\nfunction handle_update_output(event, handle) {\n  handle_clear_output(event, {cell: {output_area: handle.output_area}})\n  handle_add_output(event, handle)\n}\n\nfunction register_renderer(events, OutputArea) {\n  function append_mime(data, metadata, element) {\n    // create a DOM node to render to\n    var toinsert = this.create_output_subarea(\n    metadata,\n    CLASS_NAME,\n    EXEC_MIME_TYPE\n    );\n    this.keyboard_manager.register_events(toinsert);\n    // Render to node\n    var props = {data: data, metadata: metadata[EXEC_MIME_TYPE]};\n    render(props, toinsert[0]);\n    element.append(toinsert);\n    return toinsert\n  }\n\n  events.on('output_added.OutputArea', handle_add_output);\n  events.on('output_updated.OutputArea', handle_update_output);\n  events.on('clear_output.CodeCell', handle_clear_output);\n  events.on('delete.Cell', handle_clear_output);\n  events.on('kernel_ready.Kernel', handle_kernel_cleanup);\n\n  OutputArea.prototype.register_mime_type(EXEC_MIME_TYPE, append_mime, {\n    safe: true,\n    index: 0\n  });\n}\n\nif (window.Jupyter !== undefined) {\n  try {\n    var events = require('base/js/events');\n    var OutputArea = require('notebook/js/outputarea').OutputArea;\n    if (OutputArea.prototype.mime_types().indexOf(EXEC_MIME_TYPE) == -1) {\n      register_renderer(events, OutputArea);\n    }\n  } catch(err) {\n  }\n}\n",
      "application/vnd.holoviews_load.v0+json": ""
     },
     "metadata": {},
     "output_type": "display_data"
    },
    {
     "data": {
      "text/html": [
       "<style>*[data-root-id],\n",
       "*[data-root-id] > * {\n",
       "  box-sizing: border-box;\n",
       "  font-family: var(--jp-ui-font-family);\n",
       "  font-size: var(--jp-ui-font-size1);\n",
       "  color: var(--vscode-editor-foreground, var(--jp-ui-font-color1));\n",
       "}\n",
       "\n",
       "/* Override VSCode background color */\n",
       ".cell-output-ipywidget-background:has(\n",
       "    > .cell-output-ipywidget-background > .lm-Widget > *[data-root-id]\n",
       "  ),\n",
       ".cell-output-ipywidget-background:has(> .lm-Widget > *[data-root-id]) {\n",
       "  background-color: transparent !important;\n",
       "}\n",
       "</style>"
      ]
     },
     "metadata": {},
     "output_type": "display_data"
    },
    {
     "data": {
      "application/vnd.holoviews_exec.v0+json": "",
      "text/html": [
       "<div id='ef95a3f9-6329-4d3e-9b24-3b81cb52b73c'>\n",
       "  <div id=\"f62872ff-0f7b-4068-9f4a-1d6e346ae880\" data-root-id=\"ef95a3f9-6329-4d3e-9b24-3b81cb52b73c\" style=\"display: contents;\"></div>\n",
       "</div>\n",
       "<script type=\"application/javascript\">(function(root) {\n",
       "  var docs_json = {\"b94ed4c2-ba4c-45cb-96ea-badd9c68bdad\":{\"version\":\"3.3.4\",\"title\":\"Bokeh Application\",\"roots\":[{\"type\":\"object\",\"name\":\"panel.models.browser.BrowserInfo\",\"id\":\"ef95a3f9-6329-4d3e-9b24-3b81cb52b73c\"},{\"type\":\"object\",\"name\":\"panel.models.comm_manager.CommManager\",\"id\":\"33136323-193d-45d8-842f-98b3af1d0b43\",\"attributes\":{\"plot_id\":\"ef95a3f9-6329-4d3e-9b24-3b81cb52b73c\",\"comm_id\":\"3c9ddf17d2f341f7b8428c252669d8de\",\"client_comm_id\":\"b0a9e6da93c443cd9248a5dde148f24e\"}}],\"defs\":[{\"type\":\"model\",\"name\":\"ReactiveHTML1\"},{\"type\":\"model\",\"name\":\"FlexBox1\",\"properties\":[{\"name\":\"align_content\",\"kind\":\"Any\",\"default\":\"flex-start\"},{\"name\":\"align_items\",\"kind\":\"Any\",\"default\":\"flex-start\"},{\"name\":\"flex_direction\",\"kind\":\"Any\",\"default\":\"row\"},{\"name\":\"flex_wrap\",\"kind\":\"Any\",\"default\":\"wrap\"},{\"name\":\"justify_content\",\"kind\":\"Any\",\"default\":\"flex-start\"}]},{\"type\":\"model\",\"name\":\"FloatPanel1\",\"properties\":[{\"name\":\"config\",\"kind\":\"Any\",\"default\":{\"type\":\"map\"}},{\"name\":\"contained\",\"kind\":\"Any\",\"default\":true},{\"name\":\"position\",\"kind\":\"Any\",\"default\":\"right-top\"},{\"name\":\"offsetx\",\"kind\":\"Any\",\"default\":null},{\"name\":\"offsety\",\"kind\":\"Any\",\"default\":null},{\"name\":\"theme\",\"kind\":\"Any\",\"default\":\"primary\"},{\"name\":\"status\",\"kind\":\"Any\",\"default\":\"normalized\"}]},{\"type\":\"model\",\"name\":\"GridStack1\",\"properties\":[{\"name\":\"mode\",\"kind\":\"Any\",\"default\":\"warn\"},{\"name\":\"ncols\",\"kind\":\"Any\",\"default\":null},{\"name\":\"nrows\",\"kind\":\"Any\",\"default\":null},{\"name\":\"allow_resize\",\"kind\":\"Any\",\"default\":true},{\"name\":\"allow_drag\",\"kind\":\"Any\",\"default\":true},{\"name\":\"state\",\"kind\":\"Any\",\"default\":[]}]},{\"type\":\"model\",\"name\":\"drag1\",\"properties\":[{\"name\":\"slider_width\",\"kind\":\"Any\",\"default\":5},{\"name\":\"slider_color\",\"kind\":\"Any\",\"default\":\"black\"},{\"name\":\"value\",\"kind\":\"Any\",\"default\":50}]},{\"type\":\"model\",\"name\":\"click1\",\"properties\":[{\"name\":\"terminal_output\",\"kind\":\"Any\",\"default\":\"\"},{\"name\":\"debug_name\",\"kind\":\"Any\",\"default\":\"\"},{\"name\":\"clears\",\"kind\":\"Any\",\"default\":0}]},{\"type\":\"model\",\"name\":\"copy_to_clipboard1\",\"properties\":[{\"name\":\"fill\",\"kind\":\"Any\",\"default\":\"none\"},{\"name\":\"value\",\"kind\":\"Any\",\"default\":null}]},{\"type\":\"model\",\"name\":\"FastWrapper1\",\"properties\":[{\"name\":\"object\",\"kind\":\"Any\",\"default\":null},{\"name\":\"style\",\"kind\":\"Any\",\"default\":null}]},{\"type\":\"model\",\"name\":\"NotificationAreaBase1\",\"properties\":[{\"name\":\"js_events\",\"kind\":\"Any\",\"default\":{\"type\":\"map\"}},{\"name\":\"position\",\"kind\":\"Any\",\"default\":\"bottom-right\"},{\"name\":\"_clear\",\"kind\":\"Any\",\"default\":0}]},{\"type\":\"model\",\"name\":\"NotificationArea1\",\"properties\":[{\"name\":\"js_events\",\"kind\":\"Any\",\"default\":{\"type\":\"map\"}},{\"name\":\"notifications\",\"kind\":\"Any\",\"default\":[]},{\"name\":\"position\",\"kind\":\"Any\",\"default\":\"bottom-right\"},{\"name\":\"_clear\",\"kind\":\"Any\",\"default\":0},{\"name\":\"types\",\"kind\":\"Any\",\"default\":[{\"type\":\"map\",\"entries\":[[\"type\",\"warning\"],[\"background\",\"#ffc107\"],[\"icon\",{\"type\":\"map\",\"entries\":[[\"className\",\"fas fa-exclamation-triangle\"],[\"tagName\",\"i\"],[\"color\",\"white\"]]}]]},{\"type\":\"map\",\"entries\":[[\"type\",\"info\"],[\"background\",\"#007bff\"],[\"icon\",{\"type\":\"map\",\"entries\":[[\"className\",\"fas fa-info-circle\"],[\"tagName\",\"i\"],[\"color\",\"white\"]]}]]}]}]},{\"type\":\"model\",\"name\":\"Notification\",\"properties\":[{\"name\":\"background\",\"kind\":\"Any\",\"default\":null},{\"name\":\"duration\",\"kind\":\"Any\",\"default\":3000},{\"name\":\"icon\",\"kind\":\"Any\",\"default\":null},{\"name\":\"message\",\"kind\":\"Any\",\"default\":\"\"},{\"name\":\"notification_type\",\"kind\":\"Any\",\"default\":null},{\"name\":\"_destroyed\",\"kind\":\"Any\",\"default\":false}]},{\"type\":\"model\",\"name\":\"TemplateActions1\",\"properties\":[{\"name\":\"open_modal\",\"kind\":\"Any\",\"default\":0},{\"name\":\"close_modal\",\"kind\":\"Any\",\"default\":0}]},{\"type\":\"model\",\"name\":\"BootstrapTemplateActions1\",\"properties\":[{\"name\":\"open_modal\",\"kind\":\"Any\",\"default\":0},{\"name\":\"close_modal\",\"kind\":\"Any\",\"default\":0}]},{\"type\":\"model\",\"name\":\"MaterialTemplateActions1\",\"properties\":[{\"name\":\"open_modal\",\"kind\":\"Any\",\"default\":0},{\"name\":\"close_modal\",\"kind\":\"Any\",\"default\":0}]}]}};\n",
       "  var render_items = [{\"docid\":\"b94ed4c2-ba4c-45cb-96ea-badd9c68bdad\",\"roots\":{\"ef95a3f9-6329-4d3e-9b24-3b81cb52b73c\":\"f62872ff-0f7b-4068-9f4a-1d6e346ae880\"},\"root_ids\":[\"ef95a3f9-6329-4d3e-9b24-3b81cb52b73c\"]}];\n",
       "  var docs = Object.values(docs_json)\n",
       "  if (!docs) {\n",
       "    return\n",
       "  }\n",
       "  const py_version = docs[0].version.replace('rc', '-rc.').replace('.dev', '-dev.')\n",
       "  function embed_document(root) {\n",
       "    var Bokeh = get_bokeh(root)\n",
       "    Bokeh.embed.embed_items_notebook(docs_json, render_items);\n",
       "    for (const render_item of render_items) {\n",
       "      for (const root_id of render_item.root_ids) {\n",
       "\tconst id_el = document.getElementById(root_id)\n",
       "\tif (id_el.children.length && (id_el.children[0].className === 'bk-root')) {\n",
       "\t  const root_el = id_el.children[0]\n",
       "\t  root_el.id = root_el.id + '-rendered'\n",
       "\t}\n",
       "      }\n",
       "    }\n",
       "  }\n",
       "  function get_bokeh(root) {\n",
       "    if (root.Bokeh === undefined) {\n",
       "      return null\n",
       "    } else if (root.Bokeh.version !== py_version) {\n",
       "      if (root.Bokeh.versions === undefined || !root.Bokeh.versions.has(py_version)) {\n",
       "\treturn null\n",
       "      }\n",
       "      return root.Bokeh.versions.get(py_version);\n",
       "    } else if (root.Bokeh.version === py_version) {\n",
       "      return root.Bokeh\n",
       "    }\n",
       "    return null\n",
       "  }\n",
       "  function is_loaded(root) {\n",
       "    var Bokeh = get_bokeh(root)\n",
       "    return (Bokeh != null && Bokeh.Panel !== undefined)\n",
       "  }\n",
       "  if (is_loaded(root)) {\n",
       "    embed_document(root);\n",
       "  } else {\n",
       "    var attempts = 0;\n",
       "    var timer = setInterval(function(root) {\n",
       "      if (is_loaded(root)) {\n",
       "        clearInterval(timer);\n",
       "        embed_document(root);\n",
       "      } else if (document.readyState == \"complete\") {\n",
       "        attempts++;\n",
       "        if (attempts > 200) {\n",
       "          clearInterval(timer);\n",
       "\t  var Bokeh = get_bokeh(root)\n",
       "\t  if (Bokeh == null || Bokeh.Panel == null) {\n",
       "            console.warn(\"Panel: ERROR: Unable to run Panel code because Bokeh or Panel library is missing\");\n",
       "\t  } else {\n",
       "\t    console.warn(\"Panel: WARNING: Attempting to render but not all required libraries could be resolved.\")\n",
       "\t    embed_document(root)\n",
       "\t  }\n",
       "        }\n",
       "      }\n",
       "    }, 25, root)\n",
       "  }\n",
       "})(window);</script>"
      ]
     },
     "metadata": {
      "application/vnd.holoviews_exec.v0+json": {
       "id": "ef95a3f9-6329-4d3e-9b24-3b81cb52b73c"
      }
     },
     "output_type": "display_data"
    },
    {
     "data": {
      "application/javascript": "(function(root) {\n  function now() {\n    return new Date();\n  }\n\n  var force = true;\n  var py_version = '3.3.4'.replace('rc', '-rc.').replace('.dev', '-dev.');\n  var reloading = true;\n  var Bokeh = root.Bokeh;\n\n  if (typeof (root._bokeh_timeout) === \"undefined\" || force) {\n    root._bokeh_timeout = Date.now() + 5000;\n    root._bokeh_failed_load = false;\n  }\n\n  function run_callbacks() {\n    try {\n      root._bokeh_onload_callbacks.forEach(function(callback) {\n        if (callback != null)\n          callback();\n      });\n    } finally {\n      delete root._bokeh_onload_callbacks;\n    }\n    console.debug(\"Bokeh: all callbacks have finished\");\n  }\n\n  function load_libs(css_urls, js_urls, js_modules, js_exports, callback) {\n    if (css_urls == null) css_urls = [];\n    if (js_urls == null) js_urls = [];\n    if (js_modules == null) js_modules = [];\n    if (js_exports == null) js_exports = {};\n\n    root._bokeh_onload_callbacks.push(callback);\n\n    if (root._bokeh_is_loading > 0) {\n      console.debug(\"Bokeh: BokehJS is being loaded, scheduling callback at\", now());\n      return null;\n    }\n    if (js_urls.length === 0 && js_modules.length === 0 && Object.keys(js_exports).length === 0) {\n      run_callbacks();\n      return null;\n    }\n    if (!reloading) {\n      console.debug(\"Bokeh: BokehJS not loaded, scheduling load and callback at\", now());\n    }\n\n    function on_load() {\n      root._bokeh_is_loading--;\n      if (root._bokeh_is_loading === 0) {\n        console.debug(\"Bokeh: all BokehJS libraries/stylesheets loaded\");\n        run_callbacks()\n      }\n    }\n    window._bokeh_on_load = on_load\n\n    function on_error() {\n      console.error(\"failed to load \" + url);\n    }\n\n    var skip = [];\n    if (window.requirejs) {\n      window.requirejs.config({'packages': {}, 'paths': {'jspanel': 'https://cdn.jsdelivr.net/npm/jspanel4@4.12.0/dist/jspanel', 'jspanel-modal': 'https://cdn.jsdelivr.net/npm/jspanel4@4.12.0/dist/extensions/modal/jspanel.modal', 'jspanel-tooltip': 'https://cdn.jsdelivr.net/npm/jspanel4@4.12.0/dist/extensions/tooltip/jspanel.tooltip', 'jspanel-hint': 'https://cdn.jsdelivr.net/npm/jspanel4@4.12.0/dist/extensions/hint/jspanel.hint', 'jspanel-layout': 'https://cdn.jsdelivr.net/npm/jspanel4@4.12.0/dist/extensions/layout/jspanel.layout', 'jspanel-contextmenu': 'https://cdn.jsdelivr.net/npm/jspanel4@4.12.0/dist/extensions/contextmenu/jspanel.contextmenu', 'jspanel-dock': 'https://cdn.jsdelivr.net/npm/jspanel4@4.12.0/dist/extensions/dock/jspanel.dock', 'gridstack': 'https://cdn.jsdelivr.net/npm/gridstack@7.2.3/dist/gridstack-all', 'notyf': 'https://cdn.jsdelivr.net/npm/notyf@3/notyf.min'}, 'shim': {'jspanel': {'exports': 'jsPanel'}, 'gridstack': {'exports': 'GridStack'}}});\n      require([\"jspanel\"], function(jsPanel) {\n\twindow.jsPanel = jsPanel\n\ton_load()\n      })\n      require([\"jspanel-modal\"], function() {\n\ton_load()\n      })\n      require([\"jspanel-tooltip\"], function() {\n\ton_load()\n      })\n      require([\"jspanel-hint\"], function() {\n\ton_load()\n      })\n      require([\"jspanel-layout\"], function() {\n\ton_load()\n      })\n      require([\"jspanel-contextmenu\"], function() {\n\ton_load()\n      })\n      require([\"jspanel-dock\"], function() {\n\ton_load()\n      })\n      require([\"gridstack\"], function(GridStack) {\n\twindow.GridStack = GridStack\n\ton_load()\n      })\n      require([\"notyf\"], function() {\n\ton_load()\n      })\n      root._bokeh_is_loading = css_urls.length + 9;\n    } else {\n      root._bokeh_is_loading = css_urls.length + js_urls.length + js_modules.length + Object.keys(js_exports).length;\n    }\n\n    var existing_stylesheets = []\n    var links = document.getElementsByTagName('link')\n    for (var i = 0; i < links.length; i++) {\n      var link = links[i]\n      if (link.href != null) {\n\texisting_stylesheets.push(link.href)\n      }\n    }\n    for (var i = 0; i < css_urls.length; i++) {\n      var url = css_urls[i];\n      if (existing_stylesheets.indexOf(url) !== -1) {\n\ton_load()\n\tcontinue;\n      }\n      const element = document.createElement(\"link\");\n      element.onload = on_load;\n      element.onerror = on_error;\n      element.rel = \"stylesheet\";\n      element.type = \"text/css\";\n      element.href = url;\n      console.debug(\"Bokeh: injecting link tag for BokehJS stylesheet: \", url);\n      document.body.appendChild(element);\n    }    if (((window['jsPanel'] !== undefined) && (!(window['jsPanel'] instanceof HTMLElement))) || window.requirejs) {\n      var urls = ['https://cdn.holoviz.org/panel/1.3.8/dist/bundled/floatpanel/jspanel4@4.12.0/dist/jspanel.js', 'https://cdn.holoviz.org/panel/1.3.8/dist/bundled/floatpanel/jspanel4@4.12.0/dist/extensions/modal/jspanel.modal.js', 'https://cdn.holoviz.org/panel/1.3.8/dist/bundled/floatpanel/jspanel4@4.12.0/dist/extensions/tooltip/jspanel.tooltip.js', 'https://cdn.holoviz.org/panel/1.3.8/dist/bundled/floatpanel/jspanel4@4.12.0/dist/extensions/hint/jspanel.hint.js', 'https://cdn.holoviz.org/panel/1.3.8/dist/bundled/floatpanel/jspanel4@4.12.0/dist/extensions/layout/jspanel.layout.js', 'https://cdn.holoviz.org/panel/1.3.8/dist/bundled/floatpanel/jspanel4@4.12.0/dist/extensions/contextmenu/jspanel.contextmenu.js', 'https://cdn.holoviz.org/panel/1.3.8/dist/bundled/floatpanel/jspanel4@4.12.0/dist/extensions/dock/jspanel.dock.js'];\n      for (var i = 0; i < urls.length; i++) {\n        skip.push(urls[i])\n      }\n    }    if (((window['GridStack'] !== undefined) && (!(window['GridStack'] instanceof HTMLElement))) || window.requirejs) {\n      var urls = ['https://cdn.holoviz.org/panel/1.3.8/dist/bundled/gridstack/gridstack@7.2.3/dist/gridstack-all.js'];\n      for (var i = 0; i < urls.length; i++) {\n        skip.push(urls[i])\n      }\n    }    if (((window['Notyf'] !== undefined) && (!(window['Notyf'] instanceof HTMLElement))) || window.requirejs) {\n      var urls = ['https://cdn.holoviz.org/panel/1.3.8/dist/bundled/notificationarea/notyf@3/notyf.min.js'];\n      for (var i = 0; i < urls.length; i++) {\n        skip.push(urls[i])\n      }\n    }    var existing_scripts = []\n    var scripts = document.getElementsByTagName('script')\n    for (var i = 0; i < scripts.length; i++) {\n      var script = scripts[i]\n      if (script.src != null) {\n\texisting_scripts.push(script.src)\n      }\n    }\n    for (var i = 0; i < js_urls.length; i++) {\n      var url = js_urls[i];\n      if (skip.indexOf(url) !== -1 || existing_scripts.indexOf(url) !== -1) {\n\tif (!window.requirejs) {\n\t  on_load();\n\t}\n\tcontinue;\n      }\n      var element = document.createElement('script');\n      element.onload = on_load;\n      element.onerror = on_error;\n      element.async = false;\n      element.src = url;\n      console.debug(\"Bokeh: injecting script tag for BokehJS library: \", url);\n      document.head.appendChild(element);\n    }\n    for (var i = 0; i < js_modules.length; i++) {\n      var url = js_modules[i];\n      if (skip.indexOf(url) !== -1 || existing_scripts.indexOf(url) !== -1) {\n\tif (!window.requirejs) {\n\t  on_load();\n\t}\n\tcontinue;\n      }\n      var element = document.createElement('script');\n      element.onload = on_load;\n      element.onerror = on_error;\n      element.async = false;\n      element.src = url;\n      element.type = \"module\";\n      console.debug(\"Bokeh: injecting script tag for BokehJS library: \", url);\n      document.head.appendChild(element);\n    }\n    for (const name in js_exports) {\n      var url = js_exports[name];\n      if (skip.indexOf(url) >= 0 || root[name] != null) {\n\tif (!window.requirejs) {\n\t  on_load();\n\t}\n\tcontinue;\n      }\n      var element = document.createElement('script');\n      element.onerror = on_error;\n      element.async = false;\n      element.type = \"module\";\n      console.debug(\"Bokeh: injecting script tag for BokehJS library: \", url);\n      element.textContent = `\n      import ${name} from \"${url}\"\n      window.${name} = ${name}\n      window._bokeh_on_load()\n      `\n      document.head.appendChild(element);\n    }\n    if (!js_urls.length && !js_modules.length) {\n      on_load()\n    }\n  };\n\n  function inject_raw_css(css) {\n    const element = document.createElement(\"style\");\n    element.appendChild(document.createTextNode(css));\n    document.body.appendChild(element);\n  }\n\n  var js_urls = [];\n  var js_modules = [];\n  var js_exports = {};\n  var css_urls = [];\n  var inline_js = [    function(Bokeh) {\n      Bokeh.set_log_level(\"info\");\n    },\nfunction(Bokeh) {} // ensure no trailing comma for IE\n  ];\n\n  function run_inline_js() {\n    if ((root.Bokeh !== undefined) || (force === true)) {\n      for (var i = 0; i < inline_js.length; i++) {\n\ttry {\n          inline_js[i].call(root, root.Bokeh);\n\t} catch(e) {\n\t  if (!reloading) {\n\t    throw e;\n\t  }\n\t}\n      }\n      // Cache old bokeh versions\n      if (Bokeh != undefined && !reloading) {\n\tvar NewBokeh = root.Bokeh;\n\tif (Bokeh.versions === undefined) {\n\t  Bokeh.versions = new Map();\n\t}\n\tif (NewBokeh.version !== Bokeh.version) {\n\t  Bokeh.versions.set(NewBokeh.version, NewBokeh)\n\t}\n\troot.Bokeh = Bokeh;\n      }} else if (Date.now() < root._bokeh_timeout) {\n      setTimeout(run_inline_js, 100);\n    } else if (!root._bokeh_failed_load) {\n      console.log(\"Bokeh: BokehJS failed to load within specified timeout.\");\n      root._bokeh_failed_load = true;\n    }\n    root._bokeh_is_initializing = false\n  }\n\n  function load_or_wait() {\n    // Implement a backoff loop that tries to ensure we do not load multiple\n    // versions of Bokeh and its dependencies at the same time.\n    // In recent versions we use the root._bokeh_is_initializing flag\n    // to determine whether there is an ongoing attempt to initialize\n    // bokeh, however for backward compatibility we also try to ensure\n    // that we do not start loading a newer (Panel>=1.0 and Bokeh>3) version\n    // before older versions are fully initialized.\n    if (root._bokeh_is_initializing && Date.now() > root._bokeh_timeout) {\n      root._bokeh_is_initializing = false;\n      root._bokeh_onload_callbacks = undefined;\n      console.log(\"Bokeh: BokehJS was loaded multiple times but one version failed to initialize.\");\n      load_or_wait();\n    } else if (root._bokeh_is_initializing || (typeof root._bokeh_is_initializing === \"undefined\" && root._bokeh_onload_callbacks !== undefined)) {\n      setTimeout(load_or_wait, 100);\n    } else {\n      root._bokeh_is_initializing = true\n      root._bokeh_onload_callbacks = []\n      var bokeh_loaded = Bokeh != null && (Bokeh.version === py_version || (Bokeh.versions !== undefined && Bokeh.versions.has(py_version)));\n      if (!reloading && !bokeh_loaded) {\n\troot.Bokeh = undefined;\n      }\n      load_libs(css_urls, js_urls, js_modules, js_exports, function() {\n\tconsole.debug(\"Bokeh: BokehJS plotting callback run at\", now());\n\trun_inline_js();\n      });\n    }\n  }\n  // Give older versions of the autoload script a head-start to ensure\n  // they initialize before we start loading newer version.\n  setTimeout(load_or_wait, 100)\n}(window));",
      "application/vnd.holoviews_load.v0+json": ""
     },
     "metadata": {},
     "output_type": "display_data"
    },
    {
     "data": {
      "application/javascript": "\nif ((window.PyViz === undefined) || (window.PyViz instanceof HTMLElement)) {\n  window.PyViz = {comms: {}, comm_status:{}, kernels:{}, receivers: {}, plot_index: []}\n}\n\n\n    function JupyterCommManager() {\n    }\n\n    JupyterCommManager.prototype.register_target = function(plot_id, comm_id, msg_handler) {\n      if (window.comm_manager || ((window.Jupyter !== undefined) && (Jupyter.notebook.kernel != null))) {\n        var comm_manager = window.comm_manager || Jupyter.notebook.kernel.comm_manager;\n        comm_manager.register_target(comm_id, function(comm) {\n          comm.on_msg(msg_handler);\n        });\n      } else if ((plot_id in window.PyViz.kernels) && (window.PyViz.kernels[plot_id])) {\n        window.PyViz.kernels[plot_id].registerCommTarget(comm_id, function(comm) {\n          comm.onMsg = msg_handler;\n        });\n      } else if (typeof google != 'undefined' && google.colab.kernel != null) {\n        google.colab.kernel.comms.registerTarget(comm_id, (comm) => {\n          var messages = comm.messages[Symbol.asyncIterator]();\n          function processIteratorResult(result) {\n            var message = result.value;\n            console.log(message)\n            var content = {data: message.data, comm_id};\n            var buffers = []\n            for (var buffer of message.buffers || []) {\n              buffers.push(new DataView(buffer))\n            }\n            var metadata = message.metadata || {};\n            var msg = {content, buffers, metadata}\n            msg_handler(msg);\n            return messages.next().then(processIteratorResult);\n          }\n          return messages.next().then(processIteratorResult);\n        })\n      }\n    }\n\n    JupyterCommManager.prototype.get_client_comm = function(plot_id, comm_id, msg_handler) {\n      if (comm_id in window.PyViz.comms) {\n        return window.PyViz.comms[comm_id];\n      } else if (window.comm_manager || ((window.Jupyter !== undefined) && (Jupyter.notebook.kernel != null))) {\n        var comm_manager = window.comm_manager || Jupyter.notebook.kernel.comm_manager;\n        var comm = comm_manager.new_comm(comm_id, {}, {}, {}, comm_id);\n        if (msg_handler) {\n          comm.on_msg(msg_handler);\n        }\n      } else if ((plot_id in window.PyViz.kernels) && (window.PyViz.kernels[plot_id])) {\n        var comm = window.PyViz.kernels[plot_id].connectToComm(comm_id);\n        comm.open();\n        if (msg_handler) {\n          comm.onMsg = msg_handler;\n        }\n      } else if (typeof google != 'undefined' && google.colab.kernel != null) {\n        var comm_promise = google.colab.kernel.comms.open(comm_id)\n        comm_promise.then((comm) => {\n          window.PyViz.comms[comm_id] = comm;\n          if (msg_handler) {\n            var messages = comm.messages[Symbol.asyncIterator]();\n            function processIteratorResult(result) {\n              var message = result.value;\n              var content = {data: message.data};\n              var metadata = message.metadata || {comm_id};\n              var msg = {content, metadata}\n              msg_handler(msg);\n              return messages.next().then(processIteratorResult);\n            }\n            return messages.next().then(processIteratorResult);\n          }\n        }) \n        var sendClosure = (data, metadata, buffers, disposeOnDone) => {\n          return comm_promise.then((comm) => {\n            comm.send(data, metadata, buffers, disposeOnDone);\n          });\n        };\n        var comm = {\n          send: sendClosure\n        };\n      }\n      window.PyViz.comms[comm_id] = comm;\n      return comm;\n    }\n    window.PyViz.comm_manager = new JupyterCommManager();\n    \n\n\nvar JS_MIME_TYPE = 'application/javascript';\nvar HTML_MIME_TYPE = 'text/html';\nvar EXEC_MIME_TYPE = 'application/vnd.holoviews_exec.v0+json';\nvar CLASS_NAME = 'output';\n\n/**\n * Render data to the DOM node\n */\nfunction render(props, node) {\n  var div = document.createElement(\"div\");\n  var script = document.createElement(\"script\");\n  node.appendChild(div);\n  node.appendChild(script);\n}\n\n/**\n * Handle when a new output is added\n */\nfunction handle_add_output(event, handle) {\n  var output_area = handle.output_area;\n  var output = handle.output;\n  if ((output.data == undefined) || (!output.data.hasOwnProperty(EXEC_MIME_TYPE))) {\n    return\n  }\n  var id = output.metadata[EXEC_MIME_TYPE][\"id\"];\n  var toinsert = output_area.element.find(\".\" + CLASS_NAME.split(' ')[0]);\n  if (id !== undefined) {\n    var nchildren = toinsert.length;\n    var html_node = toinsert[nchildren-1].children[0];\n    html_node.innerHTML = output.data[HTML_MIME_TYPE];\n    var scripts = [];\n    var nodelist = html_node.querySelectorAll(\"script\");\n    for (var i in nodelist) {\n      if (nodelist.hasOwnProperty(i)) {\n        scripts.push(nodelist[i])\n      }\n    }\n\n    scripts.forEach( function (oldScript) {\n      var newScript = document.createElement(\"script\");\n      var attrs = [];\n      var nodemap = oldScript.attributes;\n      for (var j in nodemap) {\n        if (nodemap.hasOwnProperty(j)) {\n          attrs.push(nodemap[j])\n        }\n      }\n      attrs.forEach(function(attr) { newScript.setAttribute(attr.name, attr.value) });\n      newScript.appendChild(document.createTextNode(oldScript.innerHTML));\n      oldScript.parentNode.replaceChild(newScript, oldScript);\n    });\n    if (JS_MIME_TYPE in output.data) {\n      toinsert[nchildren-1].children[1].textContent = output.data[JS_MIME_TYPE];\n    }\n    output_area._hv_plot_id = id;\n    if ((window.Bokeh !== undefined) && (id in Bokeh.index)) {\n      window.PyViz.plot_index[id] = Bokeh.index[id];\n    } else {\n      window.PyViz.plot_index[id] = null;\n    }\n  } else if (output.metadata[EXEC_MIME_TYPE][\"server_id\"] !== undefined) {\n    var bk_div = document.createElement(\"div\");\n    bk_div.innerHTML = output.data[HTML_MIME_TYPE];\n    var script_attrs = bk_div.children[0].attributes;\n    for (var i = 0; i < script_attrs.length; i++) {\n      toinsert[toinsert.length - 1].childNodes[1].setAttribute(script_attrs[i].name, script_attrs[i].value);\n    }\n    // store reference to server id on output_area\n    output_area._bokeh_server_id = output.metadata[EXEC_MIME_TYPE][\"server_id\"];\n  }\n}\n\n/**\n * Handle when an output is cleared or removed\n */\nfunction handle_clear_output(event, handle) {\n  var id = handle.cell.output_area._hv_plot_id;\n  var server_id = handle.cell.output_area._bokeh_server_id;\n  if (((id === undefined) || !(id in PyViz.plot_index)) && (server_id !== undefined)) { return; }\n  var comm = window.PyViz.comm_manager.get_client_comm(\"hv-extension-comm\", \"hv-extension-comm\", function () {});\n  if (server_id !== null) {\n    comm.send({event_type: 'server_delete', 'id': server_id});\n    return;\n  } else if (comm !== null) {\n    comm.send({event_type: 'delete', 'id': id});\n  }\n  delete PyViz.plot_index[id];\n  if ((window.Bokeh !== undefined) & (id in window.Bokeh.index)) {\n    var doc = window.Bokeh.index[id].model.document\n    doc.clear();\n    const i = window.Bokeh.documents.indexOf(doc);\n    if (i > -1) {\n      window.Bokeh.documents.splice(i, 1);\n    }\n  }\n}\n\n/**\n * Handle kernel restart event\n */\nfunction handle_kernel_cleanup(event, handle) {\n  delete PyViz.comms[\"hv-extension-comm\"];\n  window.PyViz.plot_index = {}\n}\n\n/**\n * Handle update_display_data messages\n */\nfunction handle_update_output(event, handle) {\n  handle_clear_output(event, {cell: {output_area: handle.output_area}})\n  handle_add_output(event, handle)\n}\n\nfunction register_renderer(events, OutputArea) {\n  function append_mime(data, metadata, element) {\n    // create a DOM node to render to\n    var toinsert = this.create_output_subarea(\n    metadata,\n    CLASS_NAME,\n    EXEC_MIME_TYPE\n    );\n    this.keyboard_manager.register_events(toinsert);\n    // Render to node\n    var props = {data: data, metadata: metadata[EXEC_MIME_TYPE]};\n    render(props, toinsert[0]);\n    element.append(toinsert);\n    return toinsert\n  }\n\n  events.on('output_added.OutputArea', handle_add_output);\n  events.on('output_updated.OutputArea', handle_update_output);\n  events.on('clear_output.CodeCell', handle_clear_output);\n  events.on('delete.Cell', handle_clear_output);\n  events.on('kernel_ready.Kernel', handle_kernel_cleanup);\n\n  OutputArea.prototype.register_mime_type(EXEC_MIME_TYPE, append_mime, {\n    safe: true,\n    index: 0\n  });\n}\n\nif (window.Jupyter !== undefined) {\n  try {\n    var events = require('base/js/events');\n    var OutputArea = require('notebook/js/outputarea').OutputArea;\n    if (OutputArea.prototype.mime_types().indexOf(EXEC_MIME_TYPE) == -1) {\n      register_renderer(events, OutputArea);\n    }\n  } catch(err) {\n  }\n}\n",
      "application/vnd.holoviews_load.v0+json": ""
     },
     "metadata": {},
     "output_type": "display_data"
    },
    {
     "data": {
      "text/html": [
       "<style>*[data-root-id],\n",
       "*[data-root-id] > * {\n",
       "  box-sizing: border-box;\n",
       "  font-family: var(--jp-ui-font-family);\n",
       "  font-size: var(--jp-ui-font-size1);\n",
       "  color: var(--vscode-editor-foreground, var(--jp-ui-font-color1));\n",
       "}\n",
       "\n",
       "/* Override VSCode background color */\n",
       ".cell-output-ipywidget-background:has(\n",
       "    > .cell-output-ipywidget-background > .lm-Widget > *[data-root-id]\n",
       "  ),\n",
       ".cell-output-ipywidget-background:has(> .lm-Widget > *[data-root-id]) {\n",
       "  background-color: transparent !important;\n",
       "}\n",
       "</style>"
      ]
     },
     "metadata": {},
     "output_type": "display_data"
    }
   ],
   "source": [
    "import numpy as np\n",
    "import scipy as scp\n",
    "import pylab as pyl\n",
    "import matplotlib.pyplot as plt\n",
    "import pywt\n",
    "import scipy.io as sio\n",
    "import pandas as pd\n",
    "import holoviews as hv\n",
    "import param\n",
    "import panel as pn\n",
    "from panel.pane import LaTeX\n",
    "import itertools\n",
    "import requests\n",
    "from io import BytesIO\n",
    "from PIL import Image\n",
    "import shutil\n",
    "pn.extension()\n",
    "hv.extension('bokeh')\n",
    "import boto3\n",
    "import os"
   ]
  },
  {
   "cell_type": "code",
   "execution_count": 2,
   "metadata": {},
   "outputs": [],
   "source": [
    "s3_endpoint_url = 'https://object-rook-ceph.apps.math.cnrs.fr/'\n",
    "s3_access_key_id = '9F7EB8YBUWXDV7A4IZYW' # le contenu de secrets/dossal\n",
    "s3_secret_access_key = 'skV01Eei5M3xVOxROIDr3qymYhWtkrxPpMyj8nwb' # le contenu de secrets/dossal\n",
    "s3_bucket = 'signal-image'\n",
    "s3 = boto3.client('s3',\n",
    "                  '',\n",
    "                  endpoint_url = s3_endpoint_url,\n",
    "                  aws_access_key_id = s3_access_key_id,\n",
    "                  aws_secret_access_key = s3_secret_access_key)\n",
    "Data=[\"Blocks.npy\",\"Piece.npy\"]\n",
    "if not os.path.isfile('Blocks.npy'):\n",
    "    for filenames in Data:  \n",
    "        s3.download_file(s3_bucket,filenames,filenames)\n",
    "def chargeData(name):\n",
    "    if name==\"Piece\":\n",
    "        res=np.load(\"Piece.npy\")\n",
    "    if name==\"Blocks\":\n",
    "        res=np.load(\"Blocks.npy\")\n",
    "\n",
    "    return res\n",
    "options1=dict(width=400,height=400,xaxis=None,yaxis=None,toolbar=None)\n",
    "options2=dict(width=700,height=400,xaxis=None,yaxis=None,toolbar=None)\n",
    "S3=chargeData(\"Piece\")\n",
    "S4=chargeData(\"Blocks\")"
   ]
  },
  {
   "cell_type": "markdown",
   "metadata": {},
   "source": [
    "Les lignes suivantes permettent de charger les données à parit du fichier datatP.npy et d'inclure les signaux dans un dictionnaire SignauxRef. Si vous voulez utiliser d'autres signaux de référence, vous pouvez les ajouter ici. La dernière ligne permet de les afficher avec holoview."
   ]
  },
  {
   "cell_type": "code",
   "execution_count": 3,
   "metadata": {},
   "outputs": [
    {
     "data": {
      "application/vnd.jupyter.widget-view+json": {
       "model_id": "3763e8350a5748038ada84a54f5e59c5",
       "version_major": 2,
       "version_minor": 0
      },
      "text/plain": [
       "BokehModel(combine_events=True, render_bundle={'docs_json': {'528f2ac6-0961-4e1b-a017-9d830896d171': {'version…"
      ]
     },
     "execution_count": 3,
     "metadata": {},
     "output_type": "execute_result"
    }
   ],
   "source": [
    "pn.Column(hv.Curve(S3).options(width=700),hv.Curve(S4).options(width=700))"
   ]
  },
  {
   "cell_type": "markdown",
   "metadata": {},
   "source": [
    "Le programme suivant définit le PSNR."
   ]
  },
  {
   "cell_type": "code",
   "execution_count": 4,
   "metadata": {},
   "outputs": [],
   "source": [
    "def psnr(Sref, Sd):\n",
    "    mse = np.mean( (Sref - Sd) ** 2 )\n",
    "    if mse == 0:\n",
    "        return 100\n",
    "    Val_MAX = max(Sref)\n",
    "    return 20 * np.log10(Val_MAX / np.sqrt(mse))"
   ]
  },
  {
   "cell_type": "markdown",
   "metadata": {},
   "source": [
    "Le programme suivant permet d'effectuer un seuillage d'un vecteur SB dans une base d'ondelettes définie par un filtre qmf et un nombre décompositions L et un seuil Seuil"
   ]
  },
  {
   "cell_type": "code",
   "execution_count": 5,
   "metadata": {},
   "outputs": [],
   "source": [
    "def SeuillageOndelette(SB,qmf,L,Seuil):\n",
    "        WTB= pywt.wavedecn(SB, qmf, mode='per', level=L)\n",
    "        arr, coeff_slices = pywt.coeffs_to_array(WTB)\n",
    "        WTS=arr*(np.abs(arr)>Seuil)\n",
    "        coeffs_from_arr = pywt.array_to_coeffs(WTS, coeff_slices)\n",
    "        Srec=pywt.waverecn(coeffs_from_arr,qmf,mode='per')\n",
    "        return Srec"
   ]
  },
  {
   "cell_type": "markdown",
   "metadata": {},
   "source": [
    "Le programme suivant ajoute un bruit à un signal et renvoie un signal débruité\n",
    "\n",
    "Il prend en entrée \n",
    "\n",
    "1) un vecteur S non bruité\n",
    "\n",
    "2) une chaine de caractère qmf qui est le nom d'une ondelette pour py wavelets,\n",
    "\n",
    "3) une entier seednoise qui permettra d'initialiser le générateur aléatoire générant le bruit. \n",
    "Le fait de comparer des méthodes différentes avec la même seed du générateur assure une comparaison plus fair.\n",
    "\n",
    "4) un réel sigma qui est l'écart type du bruit que l'on ajoute, \n",
    "\n",
    "5) un réel T est le niveau du seuil relatif, T=3 signifie par exemple qu'on met à 0 tous les coefficients \n",
    "de la transformée en ondelettes dont la valeur absolue sont inférieurs à 3*sigma\n",
    "\n",
    "Il renvoie le signal bruité et le PSNR associé, le signal reconstruit et le PSNR associé.  "
   ]
  },
  {
   "cell_type": "code",
   "execution_count": 6,
   "metadata": {},
   "outputs": [],
   "source": [
    "def Debruit(S,qmf,seednoise,sigma,T):\n",
    "    N1=len(S)\n",
    "    np.random.seed(seed=seednoise)\n",
    "    bruit=np.random.normal(0,1,N1)\n",
    "    Lmax=pywt.dwt_max_level(len(S),pywt.Wavelet(qmf).dec_len)\n",
    "    SB=S+sigma*bruit\n",
    "    Seuil=T*sigma\n",
    "    Srec=SeuillageOndelette(SB,qmf,Lmax,Seuil)\n",
    "    psnr1=psnr(S,SB)\n",
    "    psnr2=psnr(S,Srec)\n",
    "    return Srec,SB,psnr1,psnr2\n",
    "\n"
   ]
  },
  {
   "cell_type": "markdown",
   "metadata": {},
   "source": [
    "Le programme suivant calcule un PSNR moyen du débruitage par seuillage par ondelettes sur N réalisations de bruit.\n",
    "Les paramètres d'entrée sont les mêmes que précédemment à l'exception de la seed du générateur aléatoire qui varie dans le programme. Pour comparer des méthodes de débruitage, il est important d'effecuer la comparaison non pas sur une seule réalisation du bruit mais sur un nombre important. Dans la suite on se limitera à 100 pour avoir une premièreestimation correcte. Le fait de contrôler la seed du générateur aléaoire assure que toutes les méthodes seront comparées sur les mêmes réalisations de bruit."
   ]
  },
  {
   "cell_type": "code",
   "execution_count": 7,
   "metadata": {},
   "outputs": [],
   "source": [
    "def DebruitPSNR(S,qmf,N,sigma,T):\n",
    "    seednoise=np.arange(N)\n",
    "    N1=len(S)\n",
    "    Lmax=pywt.dwt_max_level(len(S),pywt.Wavelet(qmf).dec_len)\n",
    "    Seuil=T*sigma\n",
    "    psnr1=np.zeros(N)\n",
    "    for k in seednoise:\n",
    "        np.random.seed(seed=seednoise)\n",
    "        bruit=np.random.normal(0,1,N1)\n",
    "        SB=S+sigma*bruit\n",
    "        Srec=SeuillageOndelette(SB,qmf,Lmax,Seuil)\n",
    "        psnr1[k]=psnr(S,Srec)\n",
    "    return np.mean(psnr1)"
   ]
  },
  {
   "cell_type": "code",
   "execution_count": 8,
   "metadata": {},
   "outputs": [
    {
     "name": "stdout",
     "output_type": "stream",
     "text": [
      "11.287876110731053\n"
     ]
    }
   ],
   "source": [
    "SignauxRef= {\"PieceRegular\" : S3,\"Blocks\" : S4}\n",
    "Test=DebruitPSNR(SignauxRef['PieceRegular'],\"haar\",100,1,3)\n",
    "print(Test)"
   ]
  },
  {
   "cell_type": "markdown",
   "metadata": {},
   "source": [
    "On définit ensuite une liste des ondelettes et des signaux que l'on souhaite tester."
   ]
  },
  {
   "cell_type": "code",
   "execution_count": 9,
   "metadata": {},
   "outputs": [],
   "source": [
    "wavelist = ['haar','db2','db3','db4','coif1','coif2','coif3']\n",
    "\n"
   ]
  },
  {
   "cell_type": "code",
   "execution_count": 10,
   "metadata": {},
   "outputs": [
    {
     "name": "stdout",
     "output_type": "stream",
     "text": [
      "20.723157441074278\n",
      "24.319636837595485\n",
      "25.97477907966943\n",
      "24.192908385063987\n",
      "22.395306571003754\n",
      "20.959864890662466\n",
      "6.827618643468287\n",
      "10.943270232696047\n",
      "15.049399445779274\n",
      "15.915090116860053\n",
      "14.756016906972288\n",
      "13.321685905986298\n"
     ]
    }
   ],
   "source": [
    "Sigma=np.linspace(0.1,0.5,2)\n",
    "T=np.linspace(1,6,6)\n",
    "for s in Sigma:\n",
    "    for t in T:\n",
    "        for d in SignauxRef:\n",
    "            p=DebruitPSNR(SignauxRef[d],\"db2\",100,s,t)\n",
    "        print(p)"
   ]
  },
  {
   "cell_type": "markdown",
   "metadata": {},
   "source": [
    "Le programme suivant permet d'explorer numériquement la fonction précédemment écrite Debruit.\n",
    "\n",
    "Il crée un tableau de commandes (dashboard) avec des sliders qui permet de jouer sur les differents paramètres de cette fonction \n",
    "en temps réel. \n",
    "\n",
    "Il superpose dans une même figure le signal original, le signal bruité et le signal reconstruit et affiche à droite les deux PSNR des signaux bruité et débruité calculé par rapport au signal original."
   ]
  },
  {
   "cell_type": "code",
   "execution_count": 11,
   "metadata": {},
   "outputs": [],
   "source": [
    "class WaveDebruit(param.Parameterized):\n",
    "    wave = param.ObjectSelector(default=\"haar\",objects=wavelist)\n",
    "    Signal = param.ObjectSelector(default=\"Blocks\",objects=SignauxRef.keys())\n",
    "    seednoise = param.Integer(1,bounds=(0,50))\n",
    "    sigma=param.Number(0.01,bounds=(0,0.2))\n",
    "    T=param.Number(3,bounds=(0,8))\n",
    "    def view(self):\n",
    "        #S=Name2Signal(self.Signal)\n",
    "        S=SignauxRef[self.Signal]\n",
    "        Srec,SB,p1,p2=Debruit(S,self.wave,self.seednoise,self.sigma,self.T)\n",
    "        strp1=\"%2.2f\" % p1\n",
    "        strp2=\"%2.2f\" % p2\n",
    "        te1='                       PSNR signal bruité = '\n",
    "        te2='                       PSNR signal reconstruit = '\n",
    "        TN1=hv.Text(200,1,te1+strp1).opts(xaxis=None,yaxis=None,toolbar=None)\n",
    "        TN2=hv.Text(200,0.9,te2+strp2).opts(xaxis=None,yaxis=None)\n",
    "        #TN=pn.Column(LaTeX(te1,size=15,dpi=100)\\\n",
    "        #            ,LaTeX(strp1,size=15,dpi=100),LaTeX(te2,size=15,dpi=100),LaTeX(strp2,size=15,dpi=100))\n",
    "        curve=hv.Curve(S,kdims='x',vdims='v').opts(width=500,color='r')\n",
    "        curveB=hv.Curve(SB,kdims='x',vdims='v').opts(color='c')\n",
    "        curveRec=hv.Curve(Srec,kdims='x',vdims='v').opts(color='k')\n",
    "        m=-0.1\n",
    "        M=1.1\n",
    "        curve=curve.redim.range(x=(0,len(S)),v=(m,M))\n",
    "        curveB=curveB.redim.range(x=(0,len(S)),v=(m,M))\n",
    "        curveRec=curveRec.redim.range(x=(0,len(S)),v=(m,M))\n",
    "        return pn.Column(curveB*curveRec*curve*TN1*TN2)"
   ]
  },
  {
   "cell_type": "markdown",
   "metadata": {},
   "source": [
    "Les deux lignes suivantes permettent d'afficher le résultat de la focntion précédente. A gauche le tableau de commande avec les paramètres wavedebruit.param. A droite la sortie du programme précédent wavedebruit.view."
   ]
  },
  {
   "cell_type": "code",
   "execution_count": 12,
   "metadata": {},
   "outputs": [
    {
     "data": {
      "application/vnd.jupyter.widget-view+json": {
       "model_id": "9e243264d71e42b9b25e52448385f7af",
       "version_major": 2,
       "version_minor": 0
      },
      "text/plain": [
       "BokehModel(combine_events=True, render_bundle={'docs_json': {'02d039ac-8807-4128-983f-b37b3fb87f8e': {'version…"
      ]
     },
     "execution_count": 12,
     "metadata": {},
     "output_type": "execute_result"
    }
   ],
   "source": [
    "wavedebruit = WaveDebruit()\n",
    "pn.Row(wavedebruit.param,wavedebruit.view)"
   ]
  },
  {
   "cell_type": "markdown",
   "metadata": {},
   "source": [
    "Les lignes suivantes permettent de créer via la librairie Panda un plan d'expériences.\n",
    "On considère 2 signaux, 7 ondelettes, 5 valeurs de Sigma et 8 valeurs de seuil... ce qui fait 560 jeux de paramètres différents qui vont être testé. Pour chacun d'entre eux on va évaluer un PSNR moyen sur 100 expériences, ce qui fait un total de 56000 débruitages par seuillage dans une base d'ondelettes.\n",
    "\n",
    "La variable dfexp est un objet Panda, tableau ou base de données qui est construit à partir d'un objet expériences qui décrit les différents paramètres et les valeurs qu'ils prennent."
   ]
  },
  {
   "cell_type": "code",
   "execution_count": 13,
   "metadata": {},
   "outputs": [],
   "source": [
    "experiences = {'Si':SignauxRef.keys(),'sigma':np.linspace(0.1,0.5,5),'Th':np.linspace(1,8,8),'wave':wavelist}\n",
    "dfexp = pd.DataFrame(list(itertools.product(*experiences.values())),columns=experiences.keys())"
   ]
  },
  {
   "cell_type": "code",
   "execution_count": 14,
   "metadata": {},
   "outputs": [
    {
     "name": "stdout",
     "output_type": "stream",
     "text": [
      "               Si  sigma   Th   wave\n",
      "0    PieceRegular    0.1  1.0   haar\n",
      "1    PieceRegular    0.1  1.0    db2\n",
      "2    PieceRegular    0.1  1.0    db3\n",
      "3    PieceRegular    0.1  1.0    db4\n",
      "4    PieceRegular    0.1  1.0  coif1\n",
      "..            ...    ...  ...    ...\n",
      "555        Blocks    0.5  8.0    db3\n",
      "556        Blocks    0.5  8.0    db4\n",
      "557        Blocks    0.5  8.0  coif1\n",
      "558        Blocks    0.5  8.0  coif2\n",
      "559        Blocks    0.5  8.0  coif3\n",
      "\n",
      "[560 rows x 4 columns]\n"
     ]
    }
   ],
   "source": [
    "print(dfexp)"
   ]
  },
  {
   "cell_type": "markdown",
   "metadata": {},
   "source": [
    "On peut accéder à une ligne spécifique de cette base de donnée de la manière suivante :"
   ]
  },
  {
   "cell_type": "code",
   "execution_count": 15,
   "metadata": {},
   "outputs": [
    {
     "name": "stdout",
     "output_type": "stream",
     "text": [
      "Si       PieceRegular\n",
      "sigma             0.1\n",
      "Th                1.0\n",
      "wave            coif3\n",
      "Name: 6, dtype: object\n"
     ]
    }
   ],
   "source": [
    "rowtest=  dfexp.iloc[6]\n",
    "print(rowtest)"
   ]
  },
  {
   "cell_type": "code",
   "execution_count": 16,
   "metadata": {},
   "outputs": [
    {
     "name": "stdout",
     "output_type": "stream",
     "text": [
      "PieceRegular\n"
     ]
    }
   ],
   "source": [
    "print(rowtest.Si)"
   ]
  },
  {
   "cell_type": "code",
   "execution_count": 17,
   "metadata": {},
   "outputs": [
    {
     "name": "stdout",
     "output_type": "stream",
     "text": [
      "1.0\n"
     ]
    }
   ],
   "source": [
    "print(rowtest.Th)"
   ]
  },
  {
   "cell_type": "markdown",
   "metadata": {},
   "source": [
    "ATTENTION À NE PAS UTILISER UN CHAMP APPELÉ T DANS \"expreriences\". EN EFFET \"experiences.T\" EST LA TRANSPOSÉE DE \"experiences\". "
   ]
  },
  {
   "cell_type": "code",
   "execution_count": 18,
   "metadata": {},
   "outputs": [
    {
     "name": "stdout",
     "output_type": "stream",
     "text": [
      "                0             1             2             3             4    \\\n",
      "Si     PieceRegular  PieceRegular  PieceRegular  PieceRegular  PieceRegular   \n",
      "sigma           0.1           0.1           0.1           0.1           0.1   \n",
      "Th              1.0           1.0           1.0           1.0           1.0   \n",
      "wave           haar           db2           db3           db4         coif1   \n",
      "\n",
      "                5             6             7             8             9    \\\n",
      "Si     PieceRegular  PieceRegular  PieceRegular  PieceRegular  PieceRegular   \n",
      "sigma           0.1           0.1           0.1           0.1           0.1   \n",
      "Th              1.0           1.0           2.0           2.0           2.0   \n",
      "wave          coif2         coif3          haar           db2           db3   \n",
      "\n",
      "       ...     550     551     552     553     554     555     556     557  \\\n",
      "Si     ...  Blocks  Blocks  Blocks  Blocks  Blocks  Blocks  Blocks  Blocks   \n",
      "sigma  ...     0.5     0.5     0.5     0.5     0.5     0.5     0.5     0.5   \n",
      "Th     ...     7.0     7.0     7.0     8.0     8.0     8.0     8.0     8.0   \n",
      "wave   ...   coif1   coif2   coif3    haar     db2     db3     db4   coif1   \n",
      "\n",
      "          558     559  \n",
      "Si     Blocks  Blocks  \n",
      "sigma     0.5     0.5  \n",
      "Th        8.0     8.0  \n",
      "wave    coif2   coif3  \n",
      "\n",
      "[4 rows x 560 columns]\n"
     ]
    }
   ],
   "source": [
    "print(dfexp.T)"
   ]
  },
  {
   "cell_type": "markdown",
   "metadata": {},
   "source": [
    "La fonction suivante prend en entrée une ligne d'une base de donnée et renvoie le PSNR associé à l'expérience définie par les paramètres contenue dans la ligne. La valeur 10 correspond au nombre de fois où on effectue le débruitage pour chaque jeu de paramètres pour obte,nir une valeur fiable du PSNR."
   ]
  },
  {
   "cell_type": "code",
   "execution_count": 19,
   "metadata": {},
   "outputs": [],
   "source": [
    "def row2PSNR(row):\n",
    "    N=10\n",
    "    p=DebruitPSNR(SignauxRef[row.Si],row.wave,N,row.sigma,row.Th)\n",
    "    return {'PSNR':p}"
   ]
  },
  {
   "cell_type": "markdown",
   "metadata": {},
   "source": [
    "il est possible de lancer cette fonction, directement sur une ligne :"
   ]
  },
  {
   "cell_type": "code",
   "execution_count": 20,
   "metadata": {},
   "outputs": [
    {
     "name": "stdout",
     "output_type": "stream",
     "text": [
      "{'PSNR': 20.84091029350767}\n"
     ]
    }
   ],
   "source": [
    "result_test = row2PSNR(rowtest)\n",
    "print(result_test)"
   ]
  },
  {
   "cell_type": "markdown",
   "metadata": {},
   "source": [
    "La commande suivante permet de parcourir la base de données dfexp ligne par ligne (option axis=1) et d'appliquer à chaque ligne la fonction précédente. Le résultat est stocké dans une base de donnée avec une seule colonne appelée result.\n"
   ]
  },
  {
   "cell_type": "code",
   "execution_count": 21,
   "metadata": {},
   "outputs": [],
   "source": [
    "result = dfexp.apply(row2PSNR,axis=1)\n"
   ]
  },
  {
   "cell_type": "markdown",
   "metadata": {},
   "source": [
    "La commande suivante permet d'ajouter une colonne PSNR à la base de données dfexp et d'y mettre les valeurs contenues dans la base de données results."
   ]
  },
  {
   "cell_type": "code",
   "execution_count": 22,
   "metadata": {},
   "outputs": [],
   "source": [
    "dfexp[['PSNR']] = pd.DataFrame.from_records(result.values)"
   ]
  },
  {
   "cell_type": "markdown",
   "metadata": {},
   "source": [
    "On peut vérifier qu'on a bien ajouté une colonne à la base de données dfexp. "
   ]
  },
  {
   "cell_type": "code",
   "execution_count": 23,
   "metadata": {},
   "outputs": [
    {
     "name": "stdout",
     "output_type": "stream",
     "text": [
      "               Si  sigma   Th   wave       PSNR\n",
      "0    PieceRegular    0.1  1.0   haar  20.706376\n",
      "1    PieceRegular    0.1  1.0    db2  20.769527\n",
      "2    PieceRegular    0.1  1.0    db3  20.681418\n",
      "3    PieceRegular    0.1  1.0    db4  20.768740\n",
      "4    PieceRegular    0.1  1.0  coif1  20.679842\n",
      "..            ...    ...  ...    ...        ...\n",
      "555        Blocks    0.5  8.0    db3  11.323442\n",
      "556        Blocks    0.5  8.0    db4  11.457963\n",
      "557        Blocks    0.5  8.0  coif1  12.487941\n",
      "558        Blocks    0.5  8.0  coif2  11.385215\n",
      "559        Blocks    0.5  8.0  coif3   7.769218\n",
      "\n",
      "[560 rows x 5 columns]\n"
     ]
    }
   ],
   "source": [
    "print(dfexp)"
   ]
  },
  {
   "cell_type": "markdown",
   "metadata": {},
   "source": [
    "Les lignes suivantes permettent de visualiser la base de données dfexp à l'aide de la librairie holoviews.\n",
    "\n",
    "On affiche le PSNR en fonction du seuil. \n",
    "\n",
    "L'option \"by\" permet d'afficher ces PSNR avec des couleurs différentes selon les ondelettes. On peut cliquer sur les les noms des ondelettespour faire la faire disparaitre momentanément de l'affichage.\n",
    "\n",
    "L'option \"kind\" permet d'afficher les résultats avec des points et pas des courbes. Ce qui me semble ici le plus lisible. \n",
    "\n",
    "L'option \"groupby\" permet de créer un menu déroulant et un curseur sur la droite. Le choix est fait automatiquement en fonction du type de la variable, ici chaine de caractères ou réel. Si on enlève le groupby, la figure comportera plus de points de chaque couleur.\n",
    "\n"
   ]
  },
  {
   "cell_type": "code",
   "execution_count": 25,
   "metadata": {},
   "outputs": [
    {
     "data": {
      "application/vnd.jupyter.widget-view+json": {
       "model_id": "f917ff7cebd246a08b1656b001902767",
       "version_major": 2,
       "version_minor": 0
      },
      "text/plain": [
       "BokehModel(combine_events=True, render_bundle={'docs_json': {'0bc3c38b-b2d1-4255-81f2-97bd0196c355': {'version…"
      ]
     },
     "execution_count": 25,
     "metadata": {},
     "output_type": "execute_result"
    }
   ],
   "source": [
    "import hvplot.pandas\n",
    "from bokeh.models import HoverTool\n",
    "h = HoverTool()\n",
    "dfexp.hvplot('Th','PSNR',by='wave',kind='scatter',groupby=['Si','sigma'])\\\n",
    ".opts(width=600,tools = [h]).redim.range(PSNR=(5,30),Th=(0,9))"
   ]
  },
  {
   "cell_type": "markdown",
   "metadata": {},
   "source": [
    "Quelle base d'ondelettes semble la plus adaptée à chacun des deux signaux ?\n",
    "\n",
    "Pouvez vous l'expliquer ?\n",
    "\n",
    "Les résultats sont ils différents si on passe à 50 le nombre d'expériences pour évaluer chaque valeur de PSNR.\n",
    "\n",
    "Proposez une valeur raisonnable pour ce nombre d'expériences, c'est-à-dire une valeur qui ganrantit une valeur fiable des PSNR et ne nécessite pas de calculs inutiles."
   ]
  },
  {
   "cell_type": "markdown",
   "metadata": {},
   "source": [
    "Le graphique précédent semble indiquer que le choix d'un seuil à $3\\sigma$ est un choix raisonnable. Dans la suite, on pourra donc limiter le plan d'expériences à la valeur Th=3."
   ]
  },
  {
   "cell_type": "markdown",
   "metadata": {},
   "source": [
    "# Translations et débruitage en bases d'ondelettes."
   ]
  },
  {
   "cell_type": "markdown",
   "metadata": {},
   "source": [
    "On peut améliorer la performance du débruitage d'un seuillage simple en ondelettes en utilisant le fait que la transformée en ondelettes n'est pas invariante par translation. Ainsi si on effectue un shift circulaire sur les composantes d'un vecteur, on modifie l'amplitude des coefficients d'ondelettes, comme on peut le voir sur l'exemple suivant : \n",
    "\n",
    "On affiche sur une même figure, un vecteur et son image par une translation d'une part, et ses coefficients en ondelettes et les coefficients du vecteur translaté. Vous pouvez observer qu'on obtient pas toujours les coefficients en ondelettes du vecteur translaté par translation du vecteur original. Cette remarque est particulièrement bien illustrée pour les translations d'un nombre impair de points."
   ]
  },
  {
   "cell_type": "code",
   "execution_count": 26,
   "metadata": {},
   "outputs": [],
   "source": [
    "class WaveTranslation(param.Parameterized):\n",
    "    trans = param.Integer(15,bounds=(0,31))\n",
    "    wave = param.ObjectSelector(default=\"haar\",objects=wavelist)\n",
    "    Signal = param.ObjectSelector(default=\"Blocks\",objects=SignauxRef.keys())\n",
    "    \n",
    "    def view(self):\n",
    "        S=SignauxRef[self.Signal]\n",
    "        W= pywt.wavedecn(S, self.wave, mode='per', level=3)\n",
    "        arr, coeff_slices = pywt.coeffs_to_array(W)\n",
    "        S1=np.roll(S,self.trans)\n",
    "        W1=pywt.wavedecn(S1, self.wave, mode='per', level=3)\n",
    "        arr1, coeff_slices = pywt.coeffs_to_array(W1)\n",
    "        return pn.Column(hv.Curve(S)*hv.Curve(S1).opts(width=600),hv.Curve(arr)*hv.Curve(arr1).opts(width=600))"
   ]
  },
  {
   "cell_type": "code",
   "execution_count": 27,
   "metadata": {},
   "outputs": [
    {
     "data": {
      "application/vnd.jupyter.widget-view+json": {
       "model_id": "14d348b98b8243f9823effd7679dc783",
       "version_major": 2,
       "version_minor": 0
      },
      "text/plain": [
       "BokehModel(combine_events=True, render_bundle={'docs_json': {'799c6efb-51f4-45b9-af8f-6e5dddf3896e': {'version…"
      ]
     },
     "execution_count": 27,
     "metadata": {},
     "output_type": "execute_result"
    }
   ],
   "source": [
    "wavetranslation = WaveTranslation()\n",
    "pn.Row(wavetranslation.param,wavetranslation.view)"
   ]
  },
  {
   "cell_type": "markdown",
   "metadata": {},
   "source": [
    "On peut exploiter cette propriété pour le débruitage en effectuant un débruitage dun même signal dans des bases d'ondelettes translatées.\n",
    "\n",
    "Le programme suivant réalise le débruitage pour un nombre \"trans\" de translations. \n",
    "La fonction renvoie la liste des PSNR obtenus en effectuant la moyenne sur les différentes translation, pour une réalisation de bruit donnée."
   ]
  },
  {
   "cell_type": "code",
   "execution_count": 28,
   "metadata": {},
   "outputs": [],
   "source": [
    "def DebruitTrans(S,qmf,seednoise,sigma,T,trans):\n",
    "    N1=len(S)\n",
    "    np.random.seed(seed=seednoise)\n",
    "    bruit=np.random.normal(0,1,N1)\n",
    "    Lmax=pywt.dwt_max_level(len(S),pywt.Wavelet(qmf).dec_len)\n",
    "    SB=S+sigma*bruit\n",
    "    Seuil=T*sigma\n",
    "    SSum=0*SB\n",
    "    P=np.zeros(trans)\n",
    "    for k in np.arange(0,trans):\n",
    "        SBtemp=np.roll(SB,k)\n",
    "        Srectemp=SeuillageOndelette(SBtemp,qmf,Lmax,Seuil)\n",
    "        Srectemp2=np.roll(Srectemp,-k)\n",
    "        SSum=SSum+Srectemp2\n",
    "        Srec=SSum/(k+1)\n",
    "        P[k]=psnr(S,Srec)\n",
    "    return Srec,P"
   ]
  },
  {
   "cell_type": "markdown",
   "metadata": {},
   "source": [
    "On peut tester le programme de la façon suivante à la main : la courbe bleu est le Signal bruité, la rouge, celle obtenue par seuillage simple, la jaune en utilisant les translations. On doit observer que la reconstruction jaune est meilleure que la rouge."
   ]
  },
  {
   "cell_type": "code",
   "execution_count": 29,
   "metadata": {},
   "outputs": [
    {
     "data": {},
     "metadata": {},
     "output_type": "display_data"
    },
    {
     "data": {
      "application/vnd.holoviews_exec.v0+json": "",
      "text/html": [
       "<div id='fd7a33ed-6edd-45ac-be2b-c68e56eada54'>\n",
       "  <div id=\"d5d8001e-864d-4d34-8e6c-e804e1a67dd9\" data-root-id=\"fd7a33ed-6edd-45ac-be2b-c68e56eada54\" style=\"display: contents;\"></div>\n",
       "</div>\n",
       "<script type=\"application/javascript\">(function(root) {\n",
       "  var docs_json = {\"87aed1ee-c490-489d-b6a4-5b9b60c28d15\":{\"version\":\"3.3.4\",\"title\":\"Bokeh Application\",\"roots\":[{\"type\":\"object\",\"name\":\"Row\",\"id\":\"fd7a33ed-6edd-45ac-be2b-c68e56eada54\",\"attributes\":{\"name\":\"Row07922\",\"tags\":[\"embedded\"],\"stylesheets\":[\"\\n:host(.pn-loading.pn-arc):before, .pn-loading.pn-arc:before {\\n  background-image: url(\\\"data:image/svg+xml;base64,PHN2ZyB4bWxucz0iaHR0cDovL3d3dy53My5vcmcvMjAwMC9zdmciIHN0eWxlPSJtYXJnaW46IGF1dG87IGJhY2tncm91bmQ6IG5vbmU7IGRpc3BsYXk6IGJsb2NrOyBzaGFwZS1yZW5kZXJpbmc6IGF1dG87IiB2aWV3Qm94PSIwIDAgMTAwIDEwMCIgcHJlc2VydmVBc3BlY3RSYXRpbz0ieE1pZFlNaWQiPiAgPGNpcmNsZSBjeD0iNTAiIGN5PSI1MCIgZmlsbD0ibm9uZSIgc3Ryb2tlPSIjYzNjM2MzIiBzdHJva2Utd2lkdGg9IjEwIiByPSIzNSIgc3Ryb2tlLWRhc2hhcnJheT0iMTY0LjkzMzYxNDMxMzQ2NDE1IDU2Ljk3Nzg3MTQzNzgyMTM4Ij4gICAgPGFuaW1hdGVUcmFuc2Zvcm0gYXR0cmlidXRlTmFtZT0idHJhbnNmb3JtIiB0eXBlPSJyb3RhdGUiIHJlcGVhdENvdW50PSJpbmRlZmluaXRlIiBkdXI9IjFzIiB2YWx1ZXM9IjAgNTAgNTA7MzYwIDUwIDUwIiBrZXlUaW1lcz0iMDsxIj48L2FuaW1hdGVUcmFuc2Zvcm0+ICA8L2NpcmNsZT48L3N2Zz4=\\\");\\n  background-size: auto calc(min(50%, 400px));\\n}\",{\"type\":\"object\",\"name\":\"ImportedStyleSheet\",\"id\":\"c9578f3b-cf47-4fa7-8138-52787d2b1fff\",\"attributes\":{\"url\":\"https://cdn.holoviz.org/panel/1.3.8/dist/css/loading.css\"}},{\"type\":\"object\",\"name\":\"ImportedStyleSheet\",\"id\":\"9938a748-f4d1-47e7-b8b4-d7d97e5e66ea\",\"attributes\":{\"url\":\"https://cdn.holoviz.org/panel/1.3.8/dist/css/listpanel.css\"}},{\"type\":\"object\",\"name\":\"ImportedStyleSheet\",\"id\":\"41e0953f-8c15-4538-a310-353e70e4d09b\",\"attributes\":{\"url\":\"https://cdn.holoviz.org/panel/1.3.8/dist/bundled/theme/default.css\"}},{\"type\":\"object\",\"name\":\"ImportedStyleSheet\",\"id\":\"0adcad0c-f452-4589-9a63-8fea8ff7b5b8\",\"attributes\":{\"url\":\"https://cdn.holoviz.org/panel/1.3.8/dist/bundled/theme/native.css\"}}],\"min_width\":800,\"margin\":0,\"sizing_mode\":\"stretch_width\",\"align\":\"start\",\"children\":[{\"type\":\"object\",\"name\":\"Spacer\",\"id\":\"7efeb3d3-0377-4fdb-bb78-b6ba3714ede5\",\"attributes\":{\"name\":\"HSpacer07928\",\"stylesheets\":[\"\\n:host(.pn-loading.pn-arc):before, .pn-loading.pn-arc:before {\\n  background-image: url(\\\"data:image/svg+xml;base64,PHN2ZyB4bWxucz0iaHR0cDovL3d3dy53My5vcmcvMjAwMC9zdmciIHN0eWxlPSJtYXJnaW46IGF1dG87IGJhY2tncm91bmQ6IG5vbmU7IGRpc3BsYXk6IGJsb2NrOyBzaGFwZS1yZW5kZXJpbmc6IGF1dG87IiB2aWV3Qm94PSIwIDAgMTAwIDEwMCIgcHJlc2VydmVBc3BlY3RSYXRpbz0ieE1pZFlNaWQiPiAgPGNpcmNsZSBjeD0iNTAiIGN5PSI1MCIgZmlsbD0ibm9uZSIgc3Ryb2tlPSIjYzNjM2MzIiBzdHJva2Utd2lkdGg9IjEwIiByPSIzNSIgc3Ryb2tlLWRhc2hhcnJheT0iMTY0LjkzMzYxNDMxMzQ2NDE1IDU2Ljk3Nzg3MTQzNzgyMTM4Ij4gICAgPGFuaW1hdGVUcmFuc2Zvcm0gYXR0cmlidXRlTmFtZT0idHJhbnNmb3JtIiB0eXBlPSJyb3RhdGUiIHJlcGVhdENvdW50PSJpbmRlZmluaXRlIiBkdXI9IjFzIiB2YWx1ZXM9IjAgNTAgNTA7MzYwIDUwIDUwIiBrZXlUaW1lcz0iMDsxIj48L2FuaW1hdGVUcmFuc2Zvcm0+ICA8L2NpcmNsZT48L3N2Zz4=\\\");\\n  background-size: auto calc(min(50%, 400px));\\n}\",{\"id\":\"c9578f3b-cf47-4fa7-8138-52787d2b1fff\"},{\"id\":\"41e0953f-8c15-4538-a310-353e70e4d09b\"},{\"id\":\"0adcad0c-f452-4589-9a63-8fea8ff7b5b8\"}],\"margin\":0,\"sizing_mode\":\"stretch_width\",\"align\":\"start\"}},{\"type\":\"object\",\"name\":\"Figure\",\"id\":\"ea9c0095-528b-4fa0-b8d1-c8d2a3de063c\",\"attributes\":{\"width\":800,\"height\":300,\"margin\":[5,10],\"sizing_mode\":\"fixed\",\"align\":\"start\",\"x_range\":{\"type\":\"object\",\"name\":\"Range1d\",\"id\":\"cc59e6cd-0c31-4764-8014-5fd83c80576d\",\"attributes\":{\"tags\":[[[\"x\",\"x\",null]],[]],\"end\":1023.0,\"reset_start\":0.0,\"reset_end\":1023.0}},\"y_range\":{\"type\":\"object\",\"name\":\"Range1d\",\"id\":\"d4d2f483-760e-44e9-8470-4d0a3caf3a32\",\"attributes\":{\"tags\":[[[\"y\",\"y\",null]],{\"type\":\"map\",\"entries\":[[\"invert_yaxis\",false],[\"autorange\",false]]}],\"start\":-0.3965382021685153,\"end\":1.530862538238335,\"reset_start\":-0.3965382021685153,\"reset_end\":1.530862538238335}},\"x_scale\":{\"type\":\"object\",\"name\":\"LinearScale\",\"id\":\"5cd97631-eeaa-4fe2-b819-08f40804f497\"},\"y_scale\":{\"type\":\"object\",\"name\":\"LinearScale\",\"id\":\"477681fe-f4e0-470c-aeb4-ceb23a202f47\"},\"title\":{\"type\":\"object\",\"name\":\"Title\",\"id\":\"3bdf08f5-c2dc-43b4-8ef0-b9ace1145957\",\"attributes\":{\"text_color\":\"black\",\"text_font_size\":\"12pt\"}},\"renderers\":[{\"type\":\"object\",\"name\":\"GlyphRenderer\",\"id\":\"1588a4f1-5100-4c96-8602-11aa8d4887db\",\"attributes\":{\"data_source\":{\"type\":\"object\",\"name\":\"ColumnDataSource\",\"id\":\"b7dec648-f5a8-4204-89b5-fa3651ae0b6f\",\"attributes\":{\"selected\":{\"type\":\"object\",\"name\":\"Selection\",\"id\":\"39b0dc9d-6e49-435e-b707-d456be8e9a67\",\"attributes\":{\"indices\":[],\"line_indices\":[]}},\"selection_policy\":{\"type\":\"object\",\"name\":\"UnionRenderers\",\"id\":\"66855308-96b3-453b-a7b2-1064566d8d5a\"},\"data\":{\"type\":\"map\",\"entries\":[[\"x\",{\"type\":\"ndarray\",\"array\":{\"type\":\"bytes\",\"data\":\"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\"},\"shape\":[1024],\"dtype\":\"float64\",\"order\":\"little\"}],[\"y\",{\"type\":\"ndarray\",\"array\":{\"type\":\"bytes\",\"data\":\"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\"},\"shape\":[1024],\"dtype\":\"float64\",\"order\":\"little\"}]]}}},\"view\":{\"type\":\"object\",\"name\":\"CDSView\",\"id\":\"eea1d8c3-c57e-463f-9746-46bc8e47e111\",\"attributes\":{\"filter\":{\"type\":\"object\",\"name\":\"AllIndices\",\"id\":\"22281a39-831e-4c1f-9ab1-de303a148540\"}}},\"glyph\":{\"type\":\"object\",\"name\":\"Line\",\"id\":\"d7e7261d-e452-49a2-86a8-b92443490c68\",\"attributes\":{\"tags\":[\"apply_ranges\"],\"x\":{\"type\":\"field\",\"field\":\"x\"},\"y\":{\"type\":\"field\",\"field\":\"y\"},\"line_color\":\"#30a2da\",\"line_width\":2}},\"selection_glyph\":{\"type\":\"object\",\"name\":\"Line\",\"id\":\"c530b049-d37f-46e2-90a7-db66d81ff447\",\"attributes\":{\"tags\":[\"apply_ranges\"],\"x\":{\"type\":\"field\",\"field\":\"x\"},\"y\":{\"type\":\"field\",\"field\":\"y\"},\"line_color\":\"#30a2da\",\"line_width\":2}},\"nonselection_glyph\":{\"type\":\"object\",\"name\":\"Line\",\"id\":\"27199eba-b53b-4aaf-baad-beefab44a248\",\"attributes\":{\"tags\":[\"apply_ranges\"],\"x\":{\"type\":\"field\",\"field\":\"x\"},\"y\":{\"type\":\"field\",\"field\":\"y\"},\"line_color\":\"#30a2da\",\"line_alpha\":0.1,\"line_width\":2}},\"muted_glyph\":{\"type\":\"object\",\"name\":\"Line\",\"id\":\"d0105aa9-6ce1-451a-8ef6-87ff11232b5a\",\"attributes\":{\"tags\":[\"apply_ranges\"],\"x\":{\"type\":\"field\",\"field\":\"x\"},\"y\":{\"type\":\"field\",\"field\":\"y\"},\"line_color\":\"#30a2da\",\"line_alpha\":0.2,\"line_width\":2}}}},{\"type\":\"object\",\"name\":\"GlyphRenderer\",\"id\":\"773a85a0-b8c3-430d-9bbf-d686bb380008\",\"attributes\":{\"data_source\":{\"type\":\"object\",\"name\":\"ColumnDataSource\",\"id\":\"7b1b9389-b583-4da4-95bd-9eb2a6229ae0\",\"attributes\":{\"selected\":{\"type\":\"object\",\"name\":\"Selection\",\"id\":\"ef8808bc-f398-43cd-a8ab-ce78102d9bf4\",\"attributes\":{\"indices\":[],\"line_indices\":[]}},\"selection_policy\":{\"type\":\"object\",\"name\":\"UnionRenderers\",\"id\":\"ae64df37-c94d-45d5-a553-6e16f8420d7c\"},\"data\":{\"type\":\"map\",\"entries\":[[\"x\",{\"type\":\"ndarray\",\"array\":{\"type\":\"bytes\",\"data\":\"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\"},\"shape\":[1024],\"dtype\":\"float64\",\"order\":\"little\"}],[\"y\",{\"type\":\"ndarray\",\"array\":{\"type\":\"bytes\",\"data\":\"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\"},\"shape\":[1024],\"dtype\":\"float64\",\"order\":\"little\"}]]}}},\"view\":{\"type\":\"object\",\"name\":\"CDSView\",\"id\":\"ff677945-f0f5-497d-84d4-51a06be175d9\",\"attributes\":{\"filter\":{\"type\":\"object\",\"name\":\"AllIndices\",\"id\":\"05a294b2-7af3-4634-9511-47f86fa866dd\"}}},\"glyph\":{\"type\":\"object\",\"name\":\"Line\",\"id\":\"b6034683-8b37-4761-8c0e-870a868a2241\",\"attributes\":{\"tags\":[\"apply_ranges\"],\"x\":{\"type\":\"field\",\"field\":\"x\"},\"y\":{\"type\":\"field\",\"field\":\"y\"},\"line_color\":\"#fc4f30\",\"line_width\":2}},\"selection_glyph\":{\"type\":\"object\",\"name\":\"Line\",\"id\":\"b3f87ea3-8e75-4575-aebf-820d192050f3\",\"attributes\":{\"tags\":[\"apply_ranges\"],\"x\":{\"type\":\"field\",\"field\":\"x\"},\"y\":{\"type\":\"field\",\"field\":\"y\"},\"line_color\":\"#fc4f30\",\"line_width\":2}},\"nonselection_glyph\":{\"type\":\"object\",\"name\":\"Line\",\"id\":\"4b547266-02b8-440a-8403-ea539480cd00\",\"attributes\":{\"tags\":[\"apply_ranges\"],\"x\":{\"type\":\"field\",\"field\":\"x\"},\"y\":{\"type\":\"field\",\"field\":\"y\"},\"line_color\":\"#fc4f30\",\"line_alpha\":0.1,\"line_width\":2}},\"muted_glyph\":{\"type\":\"object\",\"name\":\"Line\",\"id\":\"d080388d-43b6-4c40-8577-1fe894293eab\",\"attributes\":{\"tags\":[\"apply_ranges\"],\"x\":{\"type\":\"field\",\"field\":\"x\"},\"y\":{\"type\":\"field\",\"field\":\"y\"},\"line_color\":\"#fc4f30\",\"line_alpha\":0.2,\"line_width\":2}}}},{\"type\":\"object\",\"name\":\"GlyphRenderer\",\"id\":\"befbfa87-6a10-4ccb-9432-5a0716219a87\",\"attributes\":{\"data_source\":{\"type\":\"object\",\"name\":\"ColumnDataSource\",\"id\":\"20478cb6-540f-4119-b6f6-699cebc7b3f5\",\"attributes\":{\"selected\":{\"type\":\"object\",\"name\":\"Selection\",\"id\":\"fc8c90f0-7231-4af2-94ca-eca1c0abe8a4\",\"attributes\":{\"indices\":[],\"line_indices\":[]}},\"selection_policy\":{\"type\":\"object\",\"name\":\"UnionRenderers\",\"id\":\"516c944e-6dd3-4125-9665-7406f72fa4df\"},\"data\":{\"type\":\"map\",\"entries\":[[\"x\",{\"type\":\"ndarray\",\"array\":{\"type\":\"bytes\",\"data\":\"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\"},\"shape\":[1024],\"dtype\":\"float64\",\"order\":\"little\"}],[\"y\",{\"type\":\"ndarray\",\"array\":{\"type\":\"bytes\",\"data\":\"7rJ1f/nq0D/usnV/+erQP+6ydX/56tA/7rJ1f/nq0D/usnV/+erQP+6ydX/56tA/7rJ1f/nq0D/usnV/+erQP+6ydX/56tA/7rJ1f/nq0D/usnV/+erQP+6ydX/56tA/7rJ1f/nq0D/usnV/+erQP+6ydX/56tA/7rJ1f/nq0D/usnV/+erQP+6ydX/56tA/7rJ1f/nq0D/usnV/+erQP+6ydX/56tA/7rJ1f/nq0D/usnV/+erQP+6ydX/56tA/7rJ1f/nq0D/usnV/+erQP+6ydX/56tA/7rJ1f/nq0D/usnV/+erQP+6ydX/56tA/7rJ1f/nq0D/usnV/+erQP+6ydX/56tA/7rJ1f/nq0D/usnV/+erQP+6ydX/56tA/7rJ1f/nq0D/usnV/+erQP+6ydX/56tA/7rJ1f/nq0D/usnV/+erQP+6ydX/56tA/7rJ1f/nq0D90IxsnwwbRP+TlxcYIFdE/cSTFVD0k0T/XEmuyyDPRP5QTDQ/CRNE/8COvdQ5Y0T+zYhGVvm/RPzEjE35DiNE/OhgLHcSf0T9D1UQpibPRP6z9pL1wxNE/MmU3pXfU0T/CHUED/eDRP3kTxnv/79E/5YJ7rSf40T+lR3XthgPSP2mIx90xD9I/BMJ9M78e0j+hmInPMinSP+vy/gjtMdI/rlqkeco50j9wBTE/QT3SP3AFMT9BPdI/cAUxP0E90j9wBTE/QT3SP3AFMT9BPdI/cAUxP0E90j9wBTE/QT3SP3AFMT9BPdI/cAUxP0E90j9wBTE/QT3SP6n3Gc0EFNI/nF9JwRPg0T8wDmKPlMnRP2HXwzr4q9E/mhYy0G2N0T/pVJHEWXLRP3rBHydKUNE//puXOWIz0T/1ioazKhLRP7mTt6up7tA/x8tfh3PX0D/7BPpCHcTQP8j95rzSqNA/+6CyRRBK0D9H2fcF97zPP0T7UqPBD88/tmyaAObczj/15zAFVLjOP+Uxqc1i284/GNeRbBY+zz8w0MKKQXjPP8rmXOib09A/Wt3DNFaV0T9KDlRChTLSP6m0rRCmutI/5Casqjl91D/v3sftjjrUPzJesGTl8Mk/1uHV8fqs6j84Do9fxUrsP/S2+Z4CMuw/+0ZnJf8K6z+2IAbD4+nqP5TSooNtzuo/5G4DPcmG6j9dKhv6dKrqPytFGYfXn+o/hse8HNmY6j9Og0iY9pfqP4ol+oK1oOo/fnJmmjqh6j9cu4UzqIbqP35YDxVRleo/XG9AYwSf6j8IMQJXbJTqP+Sodk8we+o/5CMrZYNl6j+JjgkZe1bqP0mW7BkPP+o/9Z95LSQs6j/qqRNFXTLqP3uz/rrQPOo/GFEE94QV6j82/o8r/DbqP2v/gpohR+o/kUad/VmJ6j/ki6IESeDrPxST3/kTN+0/ppW/5LG77T+fVRGONVa/PwEYdLxg/8E/oMk8znOXwD9XtggvuEu/P/DZH0ynsb8/p8utQcNMvz+9ls30XzfAPwQHZvaDksE/6Qr8izwlwj/3znuWt7LCP+/QWhfcicM/g78YAEHxwz+BrkepUAvEP5sCcx6fSMQ/ZiFIQoNzxT8CyF6I+7/FP5zI86j+bsU/n1KbqdRXxj/0qNe6SMzEP1ClnpCrfro/yezt4fjC4j+pmRB7ADXhPwXE3dkv1eA/sk0hC85A4T+USClzaUzhP1GjbYj6WOE/4znarBGD4T8ga8MxqpThP7tbiztvkuE/zrRHmXKY4T+n9UgCXpbhP5z+i9UgouE/IvSGoqKA4T+7aRxnvWbhPzNnl1NjdeE/8ixCkQ584T+KkDUxyXnhP4Ashpr+deE/9uJd10Vw4T+QVM2RMGvhP4cl6AcYZOE/0DwMplpc4T8mBlDeo1PhP/VKCNVuTeE/71APVq1S4T+7ugyaylfhP2VEDkGKU+E/M24FjWZT4T96UYUWcmXhP7GZU3RGeuE/Cvi3PdqF4T/X8X/F/47hP2lxpzVJl+E/BOuwP0ih4T+fPh/IIq3hP4gKRQ2su+E/BvcchvrJ4T+YqwF9dtnhPw2YpuNK6uE/7nOF7yL+4T/uc4XvIv7hP+5zhe8i/uE/7nOF7yL+4T/uc4XvIv7hP+5zhe8i/uE/7nOF7yL+4T/uc4XvIv7hP+5zhe8i/uE/7nOF7yL+4T/uc4XvIv7hP+5zhe8i/uE/7nOF7yL+4T/uc4XvIv7hP+5zhe8i/uE/hyB02WsN4j+9bf5e4STiP8lUzoH9J+I/j/gmRKwu4j9HfjrFTDPiP9SyYDDgM+I/V7ZBf9Y34j8J+RZ9GzfiP04aQp6OOOI/2g+NRVM64j/P3odKajfiP4h4pAZgNOI/wGoZABM04j8Ug2FcFSziP3NvE65XHeI/dJ/jT/UE4j95mQfPNQfiPyMINFDJ/eE/Ky2oz5GE5T8n4eplDdXcP4FmYosUC+I/xKVC0t3+4T+wgSn+7dPhP6znee1fV+I/NCCrglyj4j+SOk5xvkDiP3YGfjHPOuQ/9Rp45Dkp6T+X9hGwDNWuPzrPO35G2Jg/Cr0uZaWpUz/+t0ACm+GfP/tbOosQW6M/ca7yBbHfrj9vDt0+PW21P0g+8WFJ1LU/bsy3cZM/tz/5ftnR8Wa4PzEMn95Cfrg/WbbCnzBMtz99tcI8HLy5Pz/tADRcarc/885AvIvFsj/MAzZgzg6rPzBW5w/MaWw/PPzA/UWYZT+NFmMv6fN9v93FUaKuv5g/Je87MAsp0z9rK+2LrxjjPzv8jTQXwuc/Ma7u/64S6T/pjJ7cBy7oP26zusflF+g/yAqlF6X95z9HmeicomfnP/zU0WqOdec/SPcVGCZi5z/LDhPwTkjnP2IhdI72Guc/MuLpf6gN5z+bIdRoBP3mP64E11YA1eY/5oR9pOji5j9HHgbmMuHmP+MvGrbl3OY/2JkDBALT5j9YyPIlpcXmP1sCkKjpuuY/KNQdOEqx5j8B8ZNV4qTmP/w+sA5boOY/1w9b5nWb5j+n1SYo2pnmP0KNejpxl+Y/5/+PYbeX5j9LifASHZTmP1x2Sh1Xg+Y/XHZKHVeD5j9cdkodV4PmP1x2Sh1Xg+Y/XHZKHVeD5j/kgKfsDnbmP6qSkZYcZ+Y/vlF79htY5j/cRmFVJkvmPweRD3EbPuY/GM5Lb+0y5j8MUHfvsyjmPwxkCb5FIeY/eKVQTK8Z5j/VGiy5YxXmP5dt2XPODeY/bjl2baYF5j9l1+vi7f7lP2DvfhZt+OU/Pij8W7Xz5T8H8CJ5YuzlP6ENSKbx5+U/TUjw/5Pl5T+BHqw9RuTlP4DLuSaT4uU/T0tR8/vi5T+nYRACZt/lP7k08mvK2+U/kidSs/bW5T/zkeXGX8blP1y/0VJ5uOU/cnifNTit5T9yeJ81OK3lP3J4nzU4reU/cnifNTit5T9yeJ81OK3lP3J4nzU4reU/cnifNTit5T9yeJ81OK3lP3J4nzU4reU/cnifNTit5T9yeJ81OK3lP3J4nzU4reU/cnifNTit5T9yeJ81OK3lP3J4nzU4reU/cnifNTit5T9yeJ81OK3lP3J4nzU4reU/cnifNTit5T9yeJ81OK3lP3J4nzU4reU/cnifNTit5T9yeJ81OK3lP3J4nzU4reU/cnifNTit5T9yeJ81OK3lP3J4nzU4reU/cnifNTit5T9yeJ81OK3lP3J4nzU4reU/cnifNTit5T9yeJ81OK3lP3J4nzU4reU/cnifNTit5T9yeJ81OK3lP3J4nzU4reU/cnifNTit5T9yeJ81OK3lP1VMGjSgruU/ULdbyn6u5T+OAj3nrK7lP0VPuEllruU/Or0L7LOv5T/ArqNJlbHlPxUvwFSOs+U/oJ6xdky05T8Tjd2HDbPlPzzAHMEyr+U/C9kioA6t5T9cZuLycazlPxY0047ArOU/LtaIY3Wt5T+5cqJ3Y63lP5BKfJjKreU/CjEWojis5T8xlmZtD6vlP419aVeNqeU/qi6eeIan5T9fqZWEoqPlP4dScO64ouU/Jok7Tcai5T8HnuKAi53lPyoiHZH3nuU/LTOncOya5T9a8kKXoZLlPzKDCQr9heU/kxZL4d525T+DimkCnHTlP3djL7vEdeU/6AocXdh15T8h31bvCnXlPy6Ruaf7eOU/GSgDRe9/5T+l11qFwITlP4JdTB/lieU/p6B/mJiQ5T8tgqOA/pnlP3VMLXaxpOU/xZQbyfG05T/JHs7z/bzlP0Kgx+uD7eU/Yh0yxHAc5j9IhjxXoknmP2UakYPzXeY/U9WT6Nt65j92bPgxl6HmPxwil7Umw+Y/H8JEbgay5j+6Ad0/TMjmP63KkYcDC+c/bbGFuQVF5z/l1fWxaJToP7sFNX3etec/Yo3kFq5Q5D9+OkgslraWP2/QTQYFjrs/LdSv3qv1wz8TMVTft+XCPyHEu0Jfh8M/smai47d+wz98pH/P/BbBP4m0rkCLYsA/4ExgCcs9wD9GAuf2Ovu/P/rfmbBkl78/xb+Jaisivz/lV0frZAa+P8El4oG2Gr0/NFULDqqovT/1dtYTAmO9PzaAWRvHir0/T156WAfMvT8knsgQ3jS+P+yMfw9Lhb4/Bq0Nmt6jvj8a0W5vZua+P1rB2OgIFL8/KYigQGk5vz87w/2MW3W/P/ZKOEGlxr8/Ahj48mEewD/WU/q8X2jAP3Q+7nyFZsE/Q5ZG3NaVwj+nMvhfy+XCP1dUGOn3WcM/S3PIsjeOwz94t6lXYvzDPxn0+TBAlsQ/ctme0f5UxT/HWT+xygPFP3PCIsIGb8Q/OopWs8uDxz+bK2F4xxbLP23JcGjUptE/LrWxt0EM1j/jfLwx9fnXP5kzLVm4uNk/B02xyaFt2T8HtMuwCOHYP8dyAT/KI9k/bX/PXtQw2T/zmfsPHBnZP+QkUL20xtg/ydErxeOC2D8wG/UYWlHYPzGBTRZJfdg/EIUnC9WY2D/mSMyyjqzYP90ctrvDutg/8zG+0hnF2D9V0gcT3MvYP1l+F7GOzdg/nzBgW+vG2D8I63ryM8nYPzbme3T4ytg/IdtBzdbP2D8tCJ7Z69vYP1TENDLJ69g/jkL6OwcW2T+OQvo7BxbZP45C+jsHFtk/jkL6OwcW2T+OQvo7BxbZP45C+jsHFtk/jkL6OwcW2T/+nSncCSPZPxM+NtUrK9k/25vb5Nsy2T885E9crjjZP2fPsV6/QNk/myW05Z5M2T9RKraBQlbZP+6LcR/9X9k/IfJdry9s2T+zOKp9cnfZP/n6XSD9f9k/zaQc5/iI2T/Pc3IjoI3ZPx8oEXPeldk/lV8w1qSe2T87/oDKsaTZP/Wm7I2aqNk/pYVSYjet2T8rWcgeVLLZP11msLPYvNk//a6f1lvC2T+H8l7fBMrZP/ux4BChz9k/d6IaNY3I2T/FYxPtJsHZPwlBGTQGu9k/kTtRAh3L2T9ns5il5NvZP9mMRLzR7dk/N7qfXn8B2j97gM9NYxXaP7ullwsLK9o/u6WXCwsr2j+7pZcLCyvaP7ullwsLK9o/u6WXCwsr2j+7pZcLCyvaP7ullwsLK9o/u6WXCwsr2j+7pZcLCyvaP7ullwsLK9o/u6WXCwsr2j+7pZcLCyvaP7ullwsLK9o/u6WXCwsr2j+7pZcLCyvaP7ullwsLK9o/u6WXCwsr2j+7pZcLCyvaP7ullwsLK9o/u6WXCwsr2j+7pZcLCyvaP7ullwsLK9o/u6WXCwsr2j+7pZcLCyvaP7ullwsLK9o/u6WXCwsr2j+7pZcLCyvaP7ullwsLK9o/u6WXCwsr2j+7pZcLCyvaP7ullwsLK9o/u6WXCwsr2j+7pZcLCyvaP7ullwsLK9o/u6WXCwsr2j+7pZcLCyvaP7ullwsLK9o/u6WXCwsr2j+7pZcLCyvaP7ullwsLK9o/u6WXCwsr2j+7pZcLCyvaP7ullwsLK9o/u6WXCwsr2j+7pZcLCyvaP7ullwsLK9o/u6WXCwsr2j+7pZcLCyvaP7ullwsLK9o/u6WXCwsr2j+7pZcLCyvaP7ullwsLK9o/u6WXCwsr2j+7pZcLCyvaP7ullwsLK9o/u6WXCwsr2j+7pZcLCyvaP7ullwsLK9o/u6WXCwsr2j+7pZcLCyvaP7ullwsLK9o/u6WXCwsr2j+7pZcLCyvaP7ullwsLK9o/u6WXCwsr2j+7pZcLCyvaP7ullwsLK9o/u6WXCwsr2j+7pZcLCyvaP7ullwsLK9o/u6WXCwsr2j+7pZcLCyvaP7ullwsLK9o/u6WXCwsr2j+7pZcLCyvaP7ullwsLK9o/u6WXCwsr2j+7pZcLCyvaP7ullwsLK9o/u6WXCwsr2j+7pZcLCyvaP7ullwsLK9o/u6WXCwsr2j+7pZcLCyvaP7ullwsLK9o/u6WXCwsr2j+7pZcLCyvaP7ullwsLK9o/u6WXCwsr2j+7pZcLCyvaP7ullwsLK9o/u6WXCwsr2j+7pZcLCyvaP7ullwsLK9o/u6WXCwsr2j+7pZcLCyvaP7ullwsLK9o/ZoG8hD4y2j99vm/fXj7aP1QOXp0kR9o/l85xk1hO2j+fmoU4HFXaP8hQm3BFW9o/Jxh2yXJd2j8yEGsPp13aP/VVi1awXdo/pQtAnnZZ2j+WFZGSZlPaP/yjQ11GS9o/MjAPLflE2j81CeB9ST7aP3cOOSqwO9o/RyzGoX862j9crIJwBjfaP/eydi/9Mto/joeUs1wu2j8nixzsFSraP4uDjleCJto/0Via1Vch2j9egUADJBzaP6zr/ObfF9o/0Ew3KWgW2j8P94x1KSDaP0Pr7B/rE9o/LYzTRvAE2j8U3NE2r/fZPwwU8iZp6dk/qK+ui9Xl2T/QkLFE1OXZPx41/fHZ29k/bB28QIDL2T/5dwrQdL/ZPwtQjsH/utk/1Umsi1yz2T8UdhZGXrDZPz2XU3DXtNk/jUQFS9e+2T8IeosDOsjZPwlna8so79k/vY/GbuFr2j+zoUQJbKbaP++Sif4Qwdo/QkfocFjs2j+yoPgf5ePaP3wTAaU83to/8EtIhgnz2j/kO6G9g0/bP4rKA6zqlNo/BOQSl6pp2j+HvH4YidjaP8rpROj+ntk/auQEhTUj2z9WBQt2VevfP//i3usC7vA/AUAq8end7z97p2SWKvfvP1ynqaXIO/A/5oMIKHJY8D93lSAqFIzwP3nHOrDlnvA/Cev04j6t8D9wlkrtPKjwPxSK0E16k/A/8JqBVbx+8D8rBH3w7WrwP2Myu/e/RvA/VuoeDqv47z/4iEDptcvvP+7QqpJRw+8/i3t4AX+z7z+yNhvbjanvPzELGNNQoe8/0pGwkf2a7z9ukN+KjZHvPwFgI26JsO8/Q9SzIeam7z/o1tYJ557vPzyevUUGmO8/JMczJ8+b7z+zEi0Wc57vP6xc+xv1n+8/nSa+DSOs7z9CymfLhLbvPy3/inMFve8/Q5Wp/vq97z//OYjm5LrvP+PeNe+euO8/NkR5VvK27z+NbtbZoLXvP5Vy3PHks+8/ZXcV49Cz7z/zROOVW7XvP4g3oR+It+8/iDehH4i37z+IN6EfiLfvP4g3oR+It+8/iDehH4i37z+IN6EfiLfvP4g3oR+It+8/iDehH4i37z+IN6EfiLfvP4g3oR+It+8/iDehH4i37z+IN6EfiLfvP4g3oR+It+8/iDehH4i37z+IN6EfiLfvP4g3oR+It+8/iDehH4i37z+IN6EfiLfvP4g3oR+It+8/iDehH4i37z+IN6EfiLfvP4g3oR+It+8/iDehH4i37z+IN6EfiLfvP4g3oR+It+8/iDehH4i37z+IN6EfiLfvP4g3oR+It+8/iDehH4i37z+IN6EfiLfvP4g3oR+It+8/iDehH4i37z+IN6EfiLfvPxleAJEkt+8/gWVQ1HO27z8bBhGAkLXvP/lZHaxYte8/c9gqiZS27z8oQNgGQLbvP9ovmchPte8/3thMW6i37z/au0UaIrvvP4HFKeaxu+8/L7a+01K57z832TZHxLPvP3pT1VQJqu8/gwY6ijuu7z+CknCcjK7vP2FWbcW0q+8/0qxjLjir7z/uu7KUB6XvP9kdDqCAn+8/yGgonWid7z/tEaDzx5vvP0E2o3XFkO8/qW94WU2J7z/jnh6+f4PvP86zclJdgu8/Irtg9eyF7z+hpG6HNIXvP5gL/stef+8/IIH4TsuZ7z999bUPqI/vP0VQ2aP5lO8/2Zu+qoal7z+n1O0JgqvvP81H2yEnwe8/JXSB0zG77z+i/iki9gvwP/Em+FpXIPA/ZkivaJI08D8IHSKtI/nvPyM/08VGeu8/4rztr3U38D+MLxKorfTgP5JWIitkaOI//EmGkruV4z+RApEmCl/jP+IZzKeAUOM/v/MN4HEh4z+etl/7vvLiP3KVrCAj6eI/Rf241toA4z+PoOk2DCHjPwZ3t2EbMOM/ijj7VIEs4z/CDq9OTTHjP7b66mbSM+M/HHpfPc8p4z/+Tz2lXUnjP+3goAFMD+M/XBwu5nnp4j+JxbopRZnjPwRaA07LZeQ/yeqUYcdg5j/v+PzR+YXoP2rpUD3bYOk/MDC6Fzs96j+UHKjicovqPyUaeVUtY+o/JUeGQLiU6j8ZV2RZerPqPx8dCw/Av+o/OEOPUa+46j/mR2js1aPqP/Kjuvmkh+o/pAbtie916j/0aK7KlILqP4wmAUwijuo/GCCcdEiT6j8yIXZRgobqP/gbkjiqb+o/RNEImkM26j8kqZGbkyPqP5+CR0KEDeo/cK3yxyQB6j/2VSEdc2DrP/5+tmeWRes/ZNqzeZsz6D9o7TnjX1voP9kMwIyNXeo/aA0B5lVq6j+QSUa0EG7rP2ev2sXgZOs/ju/4lDTH5D/Q8Ny3Oe7ZP642gmmY2dU/etg4unHP1D980HOnT4PTP60R9h5HP9M/ojbp63cT0z9ozJc8R4DTP7gxHaFFNtM/k+C0Y2YR0z+wA6oLTvvSPynnTwkY/dI/GC3Ikdfv0j/r5xnIU8zSPyHIbqOkltI/Zouua9AS0j+4pGvCkunRP0tutiJ+0NE/RF/jxCXB0T8XOq0zPrPRP3i0jAyDqNE/M+H3Dvqh0T9zEx0n5JbRP84OaQc9kdE/7mKpoH+M0T8d5RIh3o3RPy0mUGFKiNE/qE0BltiA0T8XoaPmeoHRP4BYPSIhrtE/ShU1Q3bX0T9cwsUfZ/rRP1zCxR9n+tE/XMLFH2f60T9cwsUfZ/rRP1zCxR9n+tE/XMLFH2f60T9kE/MqZvrRP9uONoWz/9E/Mvd7DJEF0j8N1zKUBQrSP352aUw5DtI//L+3QuEU0j/EpS2w+BjSP96Hf/uaG9I/l0ZP8eQh0j8mktIybCzSPw8rbyd2OdI/kDTlyHhG0j914z+YZFDSPweNLNZ8VtI/fLd7ec1b0j//Ymn6pl7SPxObWazHYNI/u9SLRdVj0j9zgtCPa2bSP48ez6AcadI/wQSdXgdq0j9ORkAsnm7SP+zeS060cdI/MjYYUyJy0j8qSGeKo17SP90cjbnBUNI/CYvVfglI0j8yTDDhPEPSPxjf328cQtI/QSqD/kVC0j98QCuypELSP4dPGa1nQ9I/h08ZrWdD0j+HTxmtZ0PSP4dPGa1nQ9I/h08ZrWdD0j+HTxmtZ0PSP4dPGa1nQ9I/h08ZrWdD0j+HTxmtZ0PSP4dPGa1nQ9I/h08ZrWdD0j+HTxmtZ0PSP4dPGa1nQ9I/h08ZrWdD0j+HTxmtZ0PSP4dPGa1nQ9I/h08ZrWdD0j+HTxmtZ0PSP4dPGa1nQ9I/h08ZrWdD0j+HTxmtZ0PSP4dPGa1nQ9I/h08ZrWdD0j+HTxmtZ0PSP4dPGa1nQ9I/h08ZrWdD0j+HTxmtZ0PSP4dPGa1nQ9I/h08ZrWdD0j+HTxmtZ0PSP4dPGa1nQ9I/h08ZrWdD0j+HTxmtZ0PSP4dPGa1nQ9I/h08ZrWdD0j+HTxmtZ0PSP4dPGa1nQ9I/h08ZrWdD0j+HTxmtZ0PSP4dPGa1nQ9I/h08ZrWdD0j+HTxmtZ0PSP4dPGa1nQ9I/h08ZrWdD0j+HTxmtZ0PSP4dPGa1nQ9I/h08ZrWdD0j+HTxmtZ0PSP4dPGa1nQ9I/h08ZrWdD0j+HTxmtZ0PSP4dPGa1nQ9I/h08ZrWdD0j+HTxmtZ0PSP4dPGa1nQ9I/h08ZrWdD0j+HTxmtZ0PSP4dPGa1nQ9I/h08ZrWdD0j+HTxmtZ0PSP4dPGa1nQ9I/h08ZrWdD0j+HTxmtZ0PSP4dPGa1nQ9I/h08ZrWdD0j+HTxmtZ0PSP4dPGa1nQ9I/h08ZrWdD0j+HTxmtZ0PSP4dPGa1nQ9I/h08ZrWdD0j+HTxmtZ0PSP4dPGa1nQ9I/h08ZrWdD0j+HTxmtZ0PSP4dPGa1nQ9I/h08ZrWdD0j+HTxmtZ0PSP4dPGa1nQ9I/h08ZrWdD0j+HTxmtZ0PSP4dPGa1nQ9I/h08ZrWdD0j+HTxmtZ0PSP4dPGa1nQ9I/h08ZrWdD0j+HTxmtZ0PSP4dPGa1nQ9I/h08ZrWdD0j+HTxmtZ0PSP4dPGa1nQ9I/h08ZrWdD0j+HTxmtZ0PSP4dPGa1nQ9I/h08ZrWdD0j+HTxmtZ0PSP4dPGa1nQ9I/LGAoF8s60j9U0EU+VDHSP5lBoXDeJtI/OZNrCt0d0j8vDVUCfhXSP5hbhPMr7dI/WKv51Mbk0j+UkpdR6t/SP93beKlm3dI/IXOTltMZ0D+e6URs3w3QPw3u9I7xANA/lUyF3lfszz86QqcD983SP6h0zNyFwtI/hp+G52q30j+SnXXTyKjSP+qielH5mtE/NTqSJ5SM0T93zFhDEX/RPyHfPAQyc9E/vVFOL/tn0T9uId8eCF7RP5DnNNDlUdE/PLI3hdZG0T/O+uzqiTnRP16chSDEK9E/l98EkNUc0T+b2By5/g/RPy6q8OTyAtE/hEwlI0T20D8=\"},\"shape\":[1024],\"dtype\":\"float64\",\"order\":\"little\"}]]}}},\"view\":{\"type\":\"object\",\"name\":\"CDSView\",\"id\":\"7f597f0e-4b33-4885-8cae-6e38058f8e9d\",\"attributes\":{\"filter\":{\"type\":\"object\",\"name\":\"AllIndices\",\"id\":\"7b4dc27b-3525-4cfb-b88f-3a972a5b705c\"}}},\"glyph\":{\"type\":\"object\",\"name\":\"Line\",\"id\":\"9bd96244-3643-427e-9ae0-82e234b9a2fd\",\"attributes\":{\"tags\":[\"apply_ranges\"],\"x\":{\"type\":\"field\",\"field\":\"x\"},\"y\":{\"type\":\"field\",\"field\":\"y\"},\"line_color\":\"#e5ae38\",\"line_width\":2}},\"selection_glyph\":{\"type\":\"object\",\"name\":\"Line\",\"id\":\"3ef2adee-8b14-4b92-adca-bb5bf050c0ff\",\"attributes\":{\"tags\":[\"apply_ranges\"],\"x\":{\"type\":\"field\",\"field\":\"x\"},\"y\":{\"type\":\"field\",\"field\":\"y\"},\"line_color\":\"#e5ae38\",\"line_width\":2}},\"nonselection_glyph\":{\"type\":\"object\",\"name\":\"Line\",\"id\":\"b023a353-457b-4ddb-8c43-982a0ae64e8b\",\"attributes\":{\"tags\":[\"apply_ranges\"],\"x\":{\"type\":\"field\",\"field\":\"x\"},\"y\":{\"type\":\"field\",\"field\":\"y\"},\"line_color\":\"#e5ae38\",\"line_alpha\":0.1,\"line_width\":2}},\"muted_glyph\":{\"type\":\"object\",\"name\":\"Line\",\"id\":\"00e11b3d-bcfa-469b-9442-0d95650ec388\",\"attributes\":{\"tags\":[\"apply_ranges\"],\"x\":{\"type\":\"field\",\"field\":\"x\"},\"y\":{\"type\":\"field\",\"field\":\"y\"},\"line_color\":\"#e5ae38\",\"line_alpha\":0.2,\"line_width\":2}}}}],\"toolbar\":{\"type\":\"object\",\"name\":\"Toolbar\",\"id\":\"20bb1d3e-30ea-4150-bd3e-89c3fc90a24f\",\"attributes\":{\"tools\":[{\"type\":\"object\",\"name\":\"WheelZoomTool\",\"id\":\"a533e578-691d-4547-ad6a-aa92fc8337a0\",\"attributes\":{\"tags\":[\"hv_created\"],\"renderers\":\"auto\",\"zoom_together\":\"none\"}},{\"type\":\"object\",\"name\":\"SaveTool\",\"id\":\"01b3f95b-105c-4e87-8767-63ce7857dc40\"},{\"type\":\"object\",\"name\":\"PanTool\",\"id\":\"8a904b50-9bfc-440a-a924-edd815483c89\"},{\"type\":\"object\",\"name\":\"BoxZoomTool\",\"id\":\"570a55a3-2433-46f3-80bf-b56ba01c87af\",\"attributes\":{\"overlay\":{\"type\":\"object\",\"name\":\"BoxAnnotation\",\"id\":\"4b898d1d-a0c4-423a-9f10-57af5656a992\",\"attributes\":{\"syncable\":false,\"level\":\"overlay\",\"visible\":false,\"left\":{\"type\":\"number\",\"value\":\"nan\"},\"right\":{\"type\":\"number\",\"value\":\"nan\"},\"top\":{\"type\":\"number\",\"value\":\"nan\"},\"bottom\":{\"type\":\"number\",\"value\":\"nan\"},\"left_units\":\"canvas\",\"right_units\":\"canvas\",\"top_units\":\"canvas\",\"bottom_units\":\"canvas\",\"line_color\":\"black\",\"line_alpha\":1.0,\"line_width\":2,\"line_dash\":[4,4],\"fill_color\":\"lightgrey\",\"fill_alpha\":0.5}}}},{\"type\":\"object\",\"name\":\"ResetTool\",\"id\":\"360e7226-8f4e-4d6f-84f0-c154f569ade4\"}],\"active_drag\":{\"id\":\"8a904b50-9bfc-440a-a924-edd815483c89\"},\"active_scroll\":{\"id\":\"a533e578-691d-4547-ad6a-aa92fc8337a0\"}}},\"left\":[{\"type\":\"object\",\"name\":\"LinearAxis\",\"id\":\"eb399cfd-c0f3-46a5-aa97-1f495c9dc844\",\"attributes\":{\"ticker\":{\"type\":\"object\",\"name\":\"BasicTicker\",\"id\":\"a65eb229-be3b-47b9-8abf-d847e0cb0494\",\"attributes\":{\"mantissas\":[1,2,5]}},\"formatter\":{\"type\":\"object\",\"name\":\"BasicTickFormatter\",\"id\":\"e5367d81-4341-4d70-aa6d-f7f4f37a6fd5\"},\"axis_label\":\"y\",\"major_label_policy\":{\"type\":\"object\",\"name\":\"AllLabels\",\"id\":\"16c04777-6fc9-426f-beb4-1b88c5d50f89\"}}}],\"below\":[{\"type\":\"object\",\"name\":\"LinearAxis\",\"id\":\"09984207-dcee-4b69-be61-eeb3123145e0\",\"attributes\":{\"ticker\":{\"type\":\"object\",\"name\":\"BasicTicker\",\"id\":\"9f030ce1-f540-4429-a8f2-57918a90d03b\",\"attributes\":{\"mantissas\":[1,2,5]}},\"formatter\":{\"type\":\"object\",\"name\":\"BasicTickFormatter\",\"id\":\"80b5154f-f46e-4fdf-8dcd-f917fe24cae2\"},\"axis_label\":\"x\",\"major_label_policy\":{\"type\":\"object\",\"name\":\"AllLabels\",\"id\":\"abea4611-a7ad-4ee2-884a-57344cce0507\"}}}],\"center\":[{\"type\":\"object\",\"name\":\"Grid\",\"id\":\"c5a11364-d324-4b66-b1c1-037a4f647763\",\"attributes\":{\"axis\":{\"id\":\"09984207-dcee-4b69-be61-eeb3123145e0\"},\"grid_line_color\":null}},{\"type\":\"object\",\"name\":\"Grid\",\"id\":\"183f9ee3-3fc2-471b-a326-ed9dcc23c44e\",\"attributes\":{\"dimension\":1,\"axis\":{\"id\":\"eb399cfd-c0f3-46a5-aa97-1f495c9dc844\"},\"grid_line_color\":null}}],\"min_border_top\":10,\"min_border_bottom\":10,\"min_border_left\":10,\"min_border_right\":10,\"output_backend\":\"webgl\"}},{\"type\":\"object\",\"name\":\"Spacer\",\"id\":\"272e3be9-07c5-453e-8659-52ab82c9ce2e\",\"attributes\":{\"name\":\"HSpacer07929\",\"stylesheets\":[\"\\n:host(.pn-loading.pn-arc):before, .pn-loading.pn-arc:before {\\n  background-image: url(\\\"data:image/svg+xml;base64,PHN2ZyB4bWxucz0iaHR0cDovL3d3dy53My5vcmcvMjAwMC9zdmciIHN0eWxlPSJtYXJnaW46IGF1dG87IGJhY2tncm91bmQ6IG5vbmU7IGRpc3BsYXk6IGJsb2NrOyBzaGFwZS1yZW5kZXJpbmc6IGF1dG87IiB2aWV3Qm94PSIwIDAgMTAwIDEwMCIgcHJlc2VydmVBc3BlY3RSYXRpbz0ieE1pZFlNaWQiPiAgPGNpcmNsZSBjeD0iNTAiIGN5PSI1MCIgZmlsbD0ibm9uZSIgc3Ryb2tlPSIjYzNjM2MzIiBzdHJva2Utd2lkdGg9IjEwIiByPSIzNSIgc3Ryb2tlLWRhc2hhcnJheT0iMTY0LjkzMzYxNDMxMzQ2NDE1IDU2Ljk3Nzg3MTQzNzgyMTM4Ij4gICAgPGFuaW1hdGVUcmFuc2Zvcm0gYXR0cmlidXRlTmFtZT0idHJhbnNmb3JtIiB0eXBlPSJyb3RhdGUiIHJlcGVhdENvdW50PSJpbmRlZmluaXRlIiBkdXI9IjFzIiB2YWx1ZXM9IjAgNTAgNTA7MzYwIDUwIDUwIiBrZXlUaW1lcz0iMDsxIj48L2FuaW1hdGVUcmFuc2Zvcm0+ICA8L2NpcmNsZT48L3N2Zz4=\\\");\\n  background-size: auto calc(min(50%, 400px));\\n}\",{\"id\":\"c9578f3b-cf47-4fa7-8138-52787d2b1fff\"},{\"id\":\"41e0953f-8c15-4538-a310-353e70e4d09b\"},{\"id\":\"0adcad0c-f452-4589-9a63-8fea8ff7b5b8\"}],\"margin\":0,\"sizing_mode\":\"stretch_width\",\"align\":\"start\"}}]}}],\"defs\":[{\"type\":\"model\",\"name\":\"ReactiveHTML1\"},{\"type\":\"model\",\"name\":\"FlexBox1\",\"properties\":[{\"name\":\"align_content\",\"kind\":\"Any\",\"default\":\"flex-start\"},{\"name\":\"align_items\",\"kind\":\"Any\",\"default\":\"flex-start\"},{\"name\":\"flex_direction\",\"kind\":\"Any\",\"default\":\"row\"},{\"name\":\"flex_wrap\",\"kind\":\"Any\",\"default\":\"wrap\"},{\"name\":\"justify_content\",\"kind\":\"Any\",\"default\":\"flex-start\"}]},{\"type\":\"model\",\"name\":\"FloatPanel1\",\"properties\":[{\"name\":\"config\",\"kind\":\"Any\",\"default\":{\"type\":\"map\"}},{\"name\":\"contained\",\"kind\":\"Any\",\"default\":true},{\"name\":\"position\",\"kind\":\"Any\",\"default\":\"right-top\"},{\"name\":\"offsetx\",\"kind\":\"Any\",\"default\":null},{\"name\":\"offsety\",\"kind\":\"Any\",\"default\":null},{\"name\":\"theme\",\"kind\":\"Any\",\"default\":\"primary\"},{\"name\":\"status\",\"kind\":\"Any\",\"default\":\"normalized\"}]},{\"type\":\"model\",\"name\":\"GridStack1\",\"properties\":[{\"name\":\"mode\",\"kind\":\"Any\",\"default\":\"warn\"},{\"name\":\"ncols\",\"kind\":\"Any\",\"default\":null},{\"name\":\"nrows\",\"kind\":\"Any\",\"default\":null},{\"name\":\"allow_resize\",\"kind\":\"Any\",\"default\":true},{\"name\":\"allow_drag\",\"kind\":\"Any\",\"default\":true},{\"name\":\"state\",\"kind\":\"Any\",\"default\":[]}]},{\"type\":\"model\",\"name\":\"drag1\",\"properties\":[{\"name\":\"slider_width\",\"kind\":\"Any\",\"default\":5},{\"name\":\"slider_color\",\"kind\":\"Any\",\"default\":\"black\"},{\"name\":\"value\",\"kind\":\"Any\",\"default\":50}]},{\"type\":\"model\",\"name\":\"click1\",\"properties\":[{\"name\":\"terminal_output\",\"kind\":\"Any\",\"default\":\"\"},{\"name\":\"debug_name\",\"kind\":\"Any\",\"default\":\"\"},{\"name\":\"clears\",\"kind\":\"Any\",\"default\":0}]},{\"type\":\"model\",\"name\":\"copy_to_clipboard1\",\"properties\":[{\"name\":\"fill\",\"kind\":\"Any\",\"default\":\"none\"},{\"name\":\"value\",\"kind\":\"Any\",\"default\":null}]},{\"type\":\"model\",\"name\":\"FastWrapper1\",\"properties\":[{\"name\":\"object\",\"kind\":\"Any\",\"default\":null},{\"name\":\"style\",\"kind\":\"Any\",\"default\":null}]},{\"type\":\"model\",\"name\":\"NotificationAreaBase1\",\"properties\":[{\"name\":\"js_events\",\"kind\":\"Any\",\"default\":{\"type\":\"map\"}},{\"name\":\"position\",\"kind\":\"Any\",\"default\":\"bottom-right\"},{\"name\":\"_clear\",\"kind\":\"Any\",\"default\":0}]},{\"type\":\"model\",\"name\":\"NotificationArea1\",\"properties\":[{\"name\":\"js_events\",\"kind\":\"Any\",\"default\":{\"type\":\"map\"}},{\"name\":\"notifications\",\"kind\":\"Any\",\"default\":[]},{\"name\":\"position\",\"kind\":\"Any\",\"default\":\"bottom-right\"},{\"name\":\"_clear\",\"kind\":\"Any\",\"default\":0},{\"name\":\"types\",\"kind\":\"Any\",\"default\":[{\"type\":\"map\",\"entries\":[[\"type\",\"warning\"],[\"background\",\"#ffc107\"],[\"icon\",{\"type\":\"map\",\"entries\":[[\"className\",\"fas fa-exclamation-triangle\"],[\"tagName\",\"i\"],[\"color\",\"white\"]]}]]},{\"type\":\"map\",\"entries\":[[\"type\",\"info\"],[\"background\",\"#007bff\"],[\"icon\",{\"type\":\"map\",\"entries\":[[\"className\",\"fas fa-info-circle\"],[\"tagName\",\"i\"],[\"color\",\"white\"]]}]]}]}]},{\"type\":\"model\",\"name\":\"Notification\",\"properties\":[{\"name\":\"background\",\"kind\":\"Any\",\"default\":null},{\"name\":\"duration\",\"kind\":\"Any\",\"default\":3000},{\"name\":\"icon\",\"kind\":\"Any\",\"default\":null},{\"name\":\"message\",\"kind\":\"Any\",\"default\":\"\"},{\"name\":\"notification_type\",\"kind\":\"Any\",\"default\":null},{\"name\":\"_destroyed\",\"kind\":\"Any\",\"default\":false}]},{\"type\":\"model\",\"name\":\"TemplateActions1\",\"properties\":[{\"name\":\"open_modal\",\"kind\":\"Any\",\"default\":0},{\"name\":\"close_modal\",\"kind\":\"Any\",\"default\":0}]},{\"type\":\"model\",\"name\":\"BootstrapTemplateActions1\",\"properties\":[{\"name\":\"open_modal\",\"kind\":\"Any\",\"default\":0},{\"name\":\"close_modal\",\"kind\":\"Any\",\"default\":0}]},{\"type\":\"model\",\"name\":\"MaterialTemplateActions1\",\"properties\":[{\"name\":\"open_modal\",\"kind\":\"Any\",\"default\":0},{\"name\":\"close_modal\",\"kind\":\"Any\",\"default\":0}]}]}};\n",
       "  var render_items = [{\"docid\":\"87aed1ee-c490-489d-b6a4-5b9b60c28d15\",\"roots\":{\"fd7a33ed-6edd-45ac-be2b-c68e56eada54\":\"d5d8001e-864d-4d34-8e6c-e804e1a67dd9\"},\"root_ids\":[\"fd7a33ed-6edd-45ac-be2b-c68e56eada54\"]}];\n",
       "  var docs = Object.values(docs_json)\n",
       "  if (!docs) {\n",
       "    return\n",
       "  }\n",
       "  const py_version = docs[0].version.replace('rc', '-rc.').replace('.dev', '-dev.')\n",
       "  function embed_document(root) {\n",
       "    var Bokeh = get_bokeh(root)\n",
       "    Bokeh.embed.embed_items_notebook(docs_json, render_items);\n",
       "    for (const render_item of render_items) {\n",
       "      for (const root_id of render_item.root_ids) {\n",
       "\tconst id_el = document.getElementById(root_id)\n",
       "\tif (id_el.children.length && (id_el.children[0].className === 'bk-root')) {\n",
       "\t  const root_el = id_el.children[0]\n",
       "\t  root_el.id = root_el.id + '-rendered'\n",
       "\t}\n",
       "      }\n",
       "    }\n",
       "  }\n",
       "  function get_bokeh(root) {\n",
       "    if (root.Bokeh === undefined) {\n",
       "      return null\n",
       "    } else if (root.Bokeh.version !== py_version) {\n",
       "      if (root.Bokeh.versions === undefined || !root.Bokeh.versions.has(py_version)) {\n",
       "\treturn null\n",
       "      }\n",
       "      return root.Bokeh.versions.get(py_version);\n",
       "    } else if (root.Bokeh.version === py_version) {\n",
       "      return root.Bokeh\n",
       "    }\n",
       "    return null\n",
       "  }\n",
       "  function is_loaded(root) {\n",
       "    var Bokeh = get_bokeh(root)\n",
       "    return (Bokeh != null && Bokeh.Panel !== undefined)\n",
       "  }\n",
       "  if (is_loaded(root)) {\n",
       "    embed_document(root);\n",
       "  } else {\n",
       "    var attempts = 0;\n",
       "    var timer = setInterval(function(root) {\n",
       "      if (is_loaded(root)) {\n",
       "        clearInterval(timer);\n",
       "        embed_document(root);\n",
       "      } else if (document.readyState == \"complete\") {\n",
       "        attempts++;\n",
       "        if (attempts > 200) {\n",
       "          clearInterval(timer);\n",
       "\t  var Bokeh = get_bokeh(root)\n",
       "\t  if (Bokeh == null || Bokeh.Panel == null) {\n",
       "            console.warn(\"Panel: ERROR: Unable to run Panel code because Bokeh or Panel library is missing\");\n",
       "\t  } else {\n",
       "\t    console.warn(\"Panel: WARNING: Attempting to render but not all required libraries could be resolved.\")\n",
       "\t    embed_document(root)\n",
       "\t  }\n",
       "        }\n",
       "      }\n",
       "    }, 25, root)\n",
       "  }\n",
       "})(window);</script>"
      ],
      "text/plain": [
       ":Overlay\n",
       "   .Curve.I   :Curve   [x]   (y)\n",
       "   .Curve.II  :Curve   [x]   (y)\n",
       "   .Curve.III :Curve   [x]   (y)"
      ]
     },
     "execution_count": 29,
     "metadata": {
      "application/vnd.holoviews_exec.v0+json": {
       "id": "fd7a33ed-6edd-45ac-be2b-c68e56eada54"
      }
     },
     "output_type": "execute_result"
    }
   ],
   "source": [
    "S=SignauxRef['Blocks']\n",
    "qmf='haar'\n",
    "seednoise=3\n",
    "sigma=0.1\n",
    "T=3\n",
    "trans=32\n",
    "Srec,SB,psnr1,psnr2=Debruit(S,qmf,seednoise,sigma,T)\n",
    "Srec1,P=DebruitTrans(S,qmf,seednoise,sigma,T,trans)\n",
    "hv.Curve(SB)*hv.Curve(Srec)*hv.Curve(Srec1).opts(width=800)"
   ]
  },
  {
   "cell_type": "markdown",
   "metadata": {},
   "source": [
    "On peut aussi comparer les PSNR : celui du signal bruité, du signal obtenu par seuillage simple et celui obtenu en exploitant les translations."
   ]
  },
  {
   "cell_type": "code",
   "execution_count": 30,
   "metadata": {},
   "outputs": [
    {
     "name": "stdout",
     "output_type": "stream",
     "text": [
      "19.91252293783078 26.909843107037634 31.94545784114549\n"
     ]
    }
   ],
   "source": [
    "print(psnr1,psnr2,P[trans-1])"
   ]
  },
  {
   "cell_type": "markdown",
   "metadata": {},
   "source": [
    "Si on veut mesurer l'impact en terme de gain de PSNR de ces translations, on peut réaliser un plan d'expériences comme on l'a fait précédemment. On va se limiter à des translations de 0 à 31 points. \n",
    "\n",
    "Pour cela on va d'abord créer une fonction qui calcule une moyenne des PSNR sur N différentes réalisations du bruit.\n"
   ]
  },
  {
   "cell_type": "code",
   "execution_count": 31,
   "metadata": {},
   "outputs": [],
   "source": [
    "def DebruitTransMoyenne(S,qmf,sigma,T,trans,N):\n",
    "    P=np.zeros(trans)\n",
    "    for seednoise in np.arange(0,N):\n",
    "        Srec,Ptemp=DebruitTrans(S,qmf,seednoise,sigma,T,trans)\n",
    "        P=P+Ptemp\n",
    "    P=P/N\n",
    "    return P"
   ]
  },
  {
   "cell_type": "markdown",
   "metadata": {},
   "source": [
    "On peut tester cette fonction à la main "
   ]
  },
  {
   "cell_type": "code",
   "execution_count": 32,
   "metadata": {},
   "outputs": [
    {
     "name": "stdout",
     "output_type": "stream",
     "text": [
      "[27.41972065 29.11622972 29.74557352 30.26649259 30.20436779 30.38384924\n",
      " 30.53850091 30.76782786 30.74050894 30.80687891 30.869789   31.00575558\n",
      " 30.9885671  31.0624967  31.12496048 31.217313   31.18357423 31.20532088\n",
      " 31.2191013  31.27073886 31.24303847 31.27031149 31.3042392  31.3587009\n",
      " 31.33110712 31.34508728 31.37027686 31.43427332 31.42847914 31.44981808\n",
      " 31.47314611 31.51511077]\n"
     ]
    }
   ],
   "source": [
    "S=SignauxRef['Blocks']\n",
    "qmf='haar'\n",
    "seednoise=3\n",
    "sigma=0.1\n",
    "T=3\n",
    "trans=32\n",
    "N=50\n",
    "P=DebruitTransMoyenne(S,qmf,sigma,T,trans,N)\n",
    "print(P)"
   ]
  },
  {
   "cell_type": "markdown",
   "metadata": {},
   "source": [
    "On peut remarquer que la suite des valeurs n'est pas strictement croissante, mais que les translations apportent un gain substantiel."
   ]
  },
  {
   "cell_type": "markdown",
   "metadata": {},
   "source": [
    "On crée ensuite un plan d'expériences. Ici je fais le choix de ne pas intégrer les translations dans le plan d'expériences mais on aurait pu procéder autrement. La raison de choix réside dans le fait qu'une approche aurait impliqué de faire de nombreux calculs plusieurs fois. En effet, tout calculer pour 7 translations puis le refaire pour 8 translations est extrêmement redondant. J'ai choisis ici de faire de calculer en une seule fois, les PSNR associés à toutes les translations et de manipuler a posteriori les bases de données."
   ]
  },
  {
   "cell_type": "code",
   "execution_count": 33,
   "metadata": {},
   "outputs": [],
   "source": [
    "experiences_trans = {'Si':SignauxRef.keys(),'sigma':np.linspace(0.1,0.5,5),'wave':wavelist}\n",
    "dfexp_trans = pd.DataFrame(list(itertools.product(*experiences_trans.values())),columns=experiences_trans.keys())"
   ]
  },
  {
   "cell_type": "code",
   "execution_count": 34,
   "metadata": {},
   "outputs": [
    {
     "name": "stdout",
     "output_type": "stream",
     "text": [
      "              Si  sigma   wave\n",
      "0   PieceRegular    0.1   haar\n",
      "1   PieceRegular    0.1    db2\n",
      "2   PieceRegular    0.1    db3\n",
      "3   PieceRegular    0.1    db4\n",
      "4   PieceRegular    0.1  coif1\n",
      "..           ...    ...    ...\n",
      "65        Blocks    0.5    db3\n",
      "66        Blocks    0.5    db4\n",
      "67        Blocks    0.5  coif1\n",
      "68        Blocks    0.5  coif2\n",
      "69        Blocks    0.5  coif3\n",
      "\n",
      "[70 rows x 3 columns]\n"
     ]
    }
   ],
   "source": [
    "print(dfexp_trans)"
   ]
  },
  {
   "cell_type": "code",
   "execution_count": 35,
   "metadata": {},
   "outputs": [],
   "source": [
    "def row2PSNR_trans(row):\n",
    "    T=3\n",
    "    N=10\n",
    "    trans=11\n",
    "    P=DebruitTransMoyenne(SignauxRef[row.Si],row.wave,row.sigma,T,trans,N)\n",
    "    return {'PSNR':P}"
   ]
  },
  {
   "cell_type": "code",
   "execution_count": 36,
   "metadata": {},
   "outputs": [],
   "source": [
    "result2 = dfexp_trans.apply(row2PSNR_trans,axis=1)\n",
    "dfexp_trans[['PSNR']] = pd.DataFrame.from_records(result2.values)"
   ]
  },
  {
   "cell_type": "code",
   "execution_count": 37,
   "metadata": {},
   "outputs": [
    {
     "name": "stdout",
     "output_type": "stream",
     "text": [
      "              Si  sigma   wave  \\\n",
      "0   PieceRegular    0.1   haar   \n",
      "1   PieceRegular    0.1    db2   \n",
      "2   PieceRegular    0.1    db3   \n",
      "3   PieceRegular    0.1    db4   \n",
      "4   PieceRegular    0.1  coif1   \n",
      "..           ...    ...    ...   \n",
      "65        Blocks    0.5    db3   \n",
      "66        Blocks    0.5    db4   \n",
      "67        Blocks    0.5  coif1   \n",
      "68        Blocks    0.5  coif2   \n",
      "69        Blocks    0.5  coif3   \n",
      "\n",
      "                                                 PSNR  \n",
      "0   [25.30731981329462, 26.450761812806697, 27.001...  \n",
      "1   [26.882306200693968, 27.45171751002278, 27.812...  \n",
      "2   [26.563073427882454, 27.419630543428894, 27.66...  \n",
      "3   [25.8218252089034, 26.516341736904252, 26.9719...  \n",
      "4   [26.74696898042786, 27.33362016587798, 27.5807...  \n",
      "..                                                ...  \n",
      "65  [15.002117067797958, 15.51697938871295, 15.555...  \n",
      "66  [14.864529360423035, 15.371028011911708, 15.40...  \n",
      "67  [15.281483223289817, 15.812939740370847, 15.93...  \n",
      "68  [15.54142368518942, 15.95200398803851, 15.9834...  \n",
      "69  [14.534709684648695, 14.834269105873199, 14.92...  \n",
      "\n",
      "[70 rows x 4 columns]\n"
     ]
    }
   ],
   "source": [
    "print(dfexp_trans)"
   ]
  },
  {
   "cell_type": "markdown",
   "metadata": {},
   "source": [
    "Les lignes suivantes permettent de restructurer la base de données de manière à avoir une colonne translation qui correspond à ce que l'on souhaite."
   ]
  },
  {
   "cell_type": "code",
   "execution_count": 38,
   "metadata": {},
   "outputs": [],
   "source": [
    "df = dfexp_trans.copy()\n",
    "\n",
    "df = pd.concat((df[['Si','sigma','wave']],pd.DataFrame(df.PSNR.values.tolist(),df.index)),axis=1)\n",
    "\n",
    "df = df.melt(id_vars=['Si','sigma','wave'],var_name='translation',value_name='PSNR')"
   ]
  },
  {
   "cell_type": "code",
   "execution_count": 39,
   "metadata": {},
   "outputs": [
    {
     "name": "stdout",
     "output_type": "stream",
     "text": [
      "               Si  sigma   wave translation       PSNR\n",
      "0    PieceRegular    0.1   haar           0  25.307320\n",
      "1    PieceRegular    0.1    db2           0  26.882306\n",
      "2    PieceRegular    0.1    db3           0  26.563073\n",
      "3    PieceRegular    0.1    db4           0  25.821825\n",
      "4    PieceRegular    0.1  coif1           0  26.746969\n",
      "..            ...    ...    ...         ...        ...\n",
      "765        Blocks    0.5    db3          10  15.976613\n",
      "766        Blocks    0.5    db4          10  15.694012\n",
      "767        Blocks    0.5  coif1          10  16.648077\n",
      "768        Blocks    0.5  coif2          10  16.390747\n",
      "769        Blocks    0.5  coif3          10  15.355217\n",
      "\n",
      "[770 rows x 5 columns]\n"
     ]
    }
   ],
   "source": [
    "print(df)"
   ]
  },
  {
   "cell_type": "markdown",
   "metadata": {},
   "source": [
    "On termine en affichant les PSNR en fonction du nombre de translations... "
   ]
  },
  {
   "cell_type": "code",
   "execution_count": 40,
   "metadata": {},
   "outputs": [
    {
     "data": {
      "application/vnd.jupyter.widget-view+json": {
       "model_id": "769937fec8f64f50a0cd072ee7d537e1",
       "version_major": 2,
       "version_minor": 0
      },
      "text/plain": [
       "BokehModel(combine_events=True, render_bundle={'docs_json': {'4782b341-bc4c-4b41-baf3-b967f52a825c': {'version…"
      ]
     },
     "execution_count": 40,
     "metadata": {},
     "output_type": "execute_result"
    }
   ],
   "source": [
    "import hvplot.pandas\n",
    "from bokeh.models import HoverTool\n",
    "h = HoverTool()\n",
    "df.hvplot('translation','PSNR',by='wave',kind='scatter',groupby=['Si','sigma'])\\\n",
    ".opts(width=600,tools = [h]).redim.range(PSNR=(13,32),translation=(-0.5,10.5))"
   ]
  },
  {
   "cell_type": "markdown",
   "metadata": {},
   "source": [
    "## Estimation de la variance du bruit par Ondelettes"
   ]
  },
  {
   "cell_type": "markdown",
   "metadata": {},
   "source": [
    "Dans des situations réelles, on peut ne pas connaitre la variance du bruit. Cette dernière peut être estimée \n",
    "en utilisant les coefficients d'ondelettes. En effet on peut exploiter le fait qu'aux fines échelles, l'essentiel des coefficients sont dus au bruit. La moyenne des valeurs absolue des coefficients du signal bruité peut être lourdement impacté par les coefficients du signal mais pas la médiane. Comme on peut le constater en effectuant les lignes suivantes : "
   ]
  },
  {
   "cell_type": "code",
   "execution_count": 41,
   "metadata": {},
   "outputs": [
    {
     "name": "stdout",
     "output_type": "stream",
     "text": [
      "0.006486250512029376 0.006463350821521169\n"
     ]
    }
   ],
   "source": [
    "s=SignauxRef[\"Blocks\"]\n",
    "n1=len(s)\n",
    "b=0.01*np.random.randn(n1)\n",
    "sb=s+b\n",
    "wsb=pywt.wavedec(sb, 'haar', mode='per', level=9)\n",
    "wb=pywt.wavedec(b, 'haar', mode='per', level=9)\n",
    "print(np.median(np.abs(wsb[9])),np.median(np.abs(wb[9])))"
   ]
  },
  {
   "cell_type": "markdown",
   "metadata": {},
   "source": [
    "On peut remarquer que si $X$ est une variable gaussienne centrée réduite, la médiane $m$ de sa valeur absolue vérifie \n",
    "$P(X>m)=0.25$.\n",
    "\n",
    "En déduire que l'espérance de cette médiane des coefficients du bruit est donnée par "
   ]
  },
  {
   "cell_type": "code",
   "execution_count": 42,
   "metadata": {},
   "outputs": [
    {
     "name": "stdout",
     "output_type": "stream",
     "text": [
      "0.006744897501960818\n"
     ]
    }
   ],
   "source": [
    "print(0.01*np.sqrt(2)*scp.special.erfinv(0.5))"
   ]
  },
  {
   "cell_type": "markdown",
   "metadata": {},
   "source": [
    "Et qu'on peut ainsi estimer l'écart type du bruit par la fonction suivante :"
   ]
  },
  {
   "cell_type": "code",
   "execution_count": 43,
   "metadata": {},
   "outputs": [],
   "source": [
    "def EstimEcartTypeBruit(s,qmf):\n",
    "    Lmax=pywt.dwt_max_level(len(s),pywt.Wavelet(qmf).dec_len)\n",
    "    wsb=pywt.wavedec(sb, qmf, mode='per', level=Lmax)\n",
    "    mt=np.sqrt(2)*scp.special.erfinv(0.5)\n",
    "    return np.median(np.abs(wsb[Lmax]))/mt"
   ]
  },
  {
   "cell_type": "code",
   "execution_count": 44,
   "metadata": {},
   "outputs": [
    {
     "name": "stdout",
     "output_type": "stream",
     "text": [
      "0.009616529398917849\n"
     ]
    }
   ],
   "source": [
    "print(EstimEcartTypeBruit(s,'haar'))"
   ]
  }
 ],
 "metadata": {
  "kernelspec": {
   "display_name": "modia_py_mathsapp",
   "language": "python",
   "name": "modia_py_mathsapp"
  },
  "language_info": {
   "codemirror_mode": {
    "name": "ipython",
    "version": 3
   },
   "file_extension": ".py",
   "mimetype": "text/x-python",
   "name": "python",
   "nbconvert_exporter": "python",
   "pygments_lexer": "ipython3",
   "version": "3.9.18"
  },
  "latex_envs": {
   "LaTeX_envs_menu_present": true,
   "autoclose": false,
   "autocomplete": true,
   "bibliofile": "biblio.bib",
   "cite_by": "apalike",
   "current_citInitial": 1,
   "eqLabelWithNumbers": true,
   "eqNumInitial": 1,
   "hotkeys": {
    "equation": "Ctrl-E",
    "itemize": "Ctrl-I"
   },
   "labels_anchors": false,
   "latex_user_defs": false,
   "report_style_numbering": false,
   "user_envs_cfg": false
  }
 },
 "nbformat": 4,
 "nbformat_minor": 2
}

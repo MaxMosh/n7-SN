{
 "cells": [
  {
   "cell_type": "markdown",
   "metadata": {
    "id": "fQB4MFEw5P95"
   },
   "source": [
    "# TP 2 - Régression\n",
    "\n",
    "## Prédiction des prix de l'immobilier à Boston dans les années 1970"
   ]
  },
  {
   "cell_type": "markdown",
   "metadata": {
    "id": "tJZw5poy5PMF"
   },
   "source": [
    "La prédiction du prix de maisons bostoniennes des années 1970, dont les données sont issues de la base *Boston House Prices*, créée par D. Harrison et D.L. Rubinfeld à l'Université de Californie à Irvine (http://archive.ics.uci.edu/ml/machine-learning-databases/housing/), est un problème classique d'apprentissage supervisé. \n",
    "\n",
    "<img src=\"https://1.bp.blogspot.com/-sCZIatDf9LQ/XGm-lEHXnAI/AAAAAAAAPxQ/kv8S8fdgudAwWTFuJhuAoiykLmWLCoOtgCLcBGAs/s1600/197010xx-GovernmentCenter-Boston_resize.JPG\" width=600 />\n",
    "\n",
    "Plus précisément, le label à prédire dans cette base de données est le prix médian par quartier de l'immobilier (en milliers de dollars). Il s'agit donc d'un problème de régression puisque l'on veut inférer des valeurs continues. Pour ce faire, on dispose de 13 entrées offrant les informations suivantes : \n",
    "\n",
    "- CRIM - per capita crime rate by town\n",
    "- ZN - proportion of residential land zoned for lots over 25,000 sq.ft.\n",
    "- INDUS - proportion of non-retail business acres per town.\n",
    "- CHAS - Charles River dummy variable (1 if tract bounds river; 0 otherwise)\n",
    "- NOX - nitric oxides concentration (parts per 10 million)\n",
    "- RM - average number of rooms per dwelling\n",
    "- AGE - proportion of owner-occupied units built prior to 1940\n",
    "- DIS - weighted distances to five Boston employment centres\n",
    "- TAX - full-value property-tax rate per \\$10,000\n",
    "- RAD - index of accessibility to radial highways\n",
    "- PTRATIO - pupil-teacher ratio by town\n",
    "- B $ = 1000(B_k - 0.63)^2$ where $B_k$ is the proportion of blacks by town\n",
    "- LSTAT - percentage lower status of the population\n",
    "\n",
    "L'objectif de ce TP est d'arriver à prédire au plus près les valeurs médianes de prix de maison par quartier.\n"
   ]
  },
  {
   "cell_type": "code",
   "execution_count": 2,
   "metadata": {
    "id": "1axmrheN5Ibx"
   },
   "outputs": [],
   "source": [
    "from __future__ import print_function\n",
    "import numpy as np\n",
    "from matplotlib import pyplot as plt\n",
    "from keras import optimizers\n",
    "from keras.models import Sequential\n",
    "from keras.layers import Dense, Activation\n",
    "from keras import regularizers\n",
    "\n",
    "%matplotlib inline"
   ]
  },
  {
   "cell_type": "code",
   "execution_count": 3,
   "metadata": {
    "id": "wBYqZ-Rc56tU"
   },
   "outputs": [],
   "source": [
    "def plot_loss(val_loss, train_loss, ymax=100):\n",
    "  plt.plot(val_loss, color='green', label='Erreur de validation')\n",
    "  plt.plot(train_loss, color='blue', linestyle='--', label='Erreur d\\'entraînement')\n",
    "  plt.xlabel('Epochs')\n",
    "  plt.ylim(0, ymax)\n",
    "  plt.title('Évolution de la perte sur les ensembles d\\'apprentissage et de validation au cours de l\\'apprentissage')\n",
    "  plt.legend()"
   ]
  },
  {
   "cell_type": "markdown",
   "metadata": {
    "id": "2vG4j5Mi6GlO"
   },
   "source": [
    "# Chargement des données"
   ]
  },
  {
   "cell_type": "code",
   "execution_count": 4,
   "metadata": {
    "id": "Y4lBqj2o5-cP"
   },
   "outputs": [],
   "source": [
    "from keras.datasets import boston_housing\n",
    "\n",
    "(x_train, y_train), (x_test, y_test) = boston_housing.load_data()\n"
   ]
  },
  {
   "cell_type": "markdown",
   "metadata": {
    "id": "U9IvprFx6MEj"
   },
   "source": [
    "# Architecture envisagée"
   ]
  },
  {
   "cell_type": "code",
   "execution_count": 5,
   "metadata": {},
   "outputs": [
    {
     "name": "stderr",
     "output_type": "stream",
     "text": [
      "2024-05-28 15:12:30.979889: I external/local_xla/xla/stream_executor/cuda/cuda_executor.cc:901] successful NUMA node read from SysFS had negative value (-1), but there must be at least one NUMA node, so returning NUMA node zero. See more at https://github.com/torvalds/linux/blob/v6.0/Documentation/ABI/testing/sysfs-bus-pci#L344-L355\n",
      "2024-05-28 15:12:31.022297: I external/local_xla/xla/stream_executor/cuda/cuda_executor.cc:901] successful NUMA node read from SysFS had negative value (-1), but there must be at least one NUMA node, so returning NUMA node zero. See more at https://github.com/torvalds/linux/blob/v6.0/Documentation/ABI/testing/sysfs-bus-pci#L344-L355\n",
      "2024-05-28 15:12:31.022536: I external/local_xla/xla/stream_executor/cuda/cuda_executor.cc:901] successful NUMA node read from SysFS had negative value (-1), but there must be at least one NUMA node, so returning NUMA node zero. See more at https://github.com/torvalds/linux/blob/v6.0/Documentation/ABI/testing/sysfs-bus-pci#L344-L355\n",
      "2024-05-28 15:12:31.024850: I external/local_xla/xla/stream_executor/cuda/cuda_executor.cc:901] successful NUMA node read from SysFS had negative value (-1), but there must be at least one NUMA node, so returning NUMA node zero. See more at https://github.com/torvalds/linux/blob/v6.0/Documentation/ABI/testing/sysfs-bus-pci#L344-L355\n",
      "2024-05-28 15:12:31.025088: I external/local_xla/xla/stream_executor/cuda/cuda_executor.cc:901] successful NUMA node read from SysFS had negative value (-1), but there must be at least one NUMA node, so returning NUMA node zero. See more at https://github.com/torvalds/linux/blob/v6.0/Documentation/ABI/testing/sysfs-bus-pci#L344-L355\n",
      "2024-05-28 15:12:31.025235: I external/local_xla/xla/stream_executor/cuda/cuda_executor.cc:901] successful NUMA node read from SysFS had negative value (-1), but there must be at least one NUMA node, so returning NUMA node zero. See more at https://github.com/torvalds/linux/blob/v6.0/Documentation/ABI/testing/sysfs-bus-pci#L344-L355\n",
      "2024-05-28 15:12:31.081861: I external/local_xla/xla/stream_executor/cuda/cuda_executor.cc:901] successful NUMA node read from SysFS had negative value (-1), but there must be at least one NUMA node, so returning NUMA node zero. See more at https://github.com/torvalds/linux/blob/v6.0/Documentation/ABI/testing/sysfs-bus-pci#L344-L355\n",
      "2024-05-28 15:12:31.082125: I external/local_xla/xla/stream_executor/cuda/cuda_executor.cc:901] successful NUMA node read from SysFS had negative value (-1), but there must be at least one NUMA node, so returning NUMA node zero. See more at https://github.com/torvalds/linux/blob/v6.0/Documentation/ABI/testing/sysfs-bus-pci#L344-L355\n",
      "2024-05-28 15:12:31.082281: I external/local_xla/xla/stream_executor/cuda/cuda_executor.cc:901] successful NUMA node read from SysFS had negative value (-1), but there must be at least one NUMA node, so returning NUMA node zero. See more at https://github.com/torvalds/linux/blob/v6.0/Documentation/ABI/testing/sysfs-bus-pci#L344-L355\n",
      "2024-05-28 15:12:31.082396: I tensorflow/core/common_runtime/gpu/gpu_device.cc:1929] Created device /job:localhost/replica:0/task:0/device:GPU:0 with 1739 MB memory:  -> device: 0, name: NVIDIA RTX A500 Laptop GPU, pci bus id: 0000:01:00.0, compute capability: 8.6\n"
     ]
    }
   ],
   "source": [
    "# Création de l'architecture \n",
    "model = Sequential()\n",
    "model.add(Dense(4, activation='relu', input_dim=13))\n",
    "model.add(Dense(1, activation='sigmoid'))"
   ]
  },
  {
   "cell_type": "markdown",
   "metadata": {
    "id": "LhUbAxHF6cMF"
   },
   "source": [
    "# Entraînement du réseau"
   ]
  },
  {
   "cell_type": "code",
   "execution_count": 6,
   "metadata": {
    "colab": {
     "base_uri": "https://localhost:8080/"
    },
    "id": "eratZJYL6cX-",
    "outputId": "a6124648-20b6-497e-c88e-c70272c7984f"
   },
   "outputs": [
    {
     "name": "stdout",
     "output_type": "stream",
     "text": [
      "Epoch 1/50\n",
      "13/13 [==============================] - 1s 3ms/step - loss: 542.3704 - mae: 21.3951\n",
      "Epoch 2/50\n"
     ]
    },
    {
     "name": "stderr",
     "output_type": "stream",
     "text": [
      "2024-05-28 15:12:33.236868: I external/local_xla/xla/service/service.cc:168] XLA service 0x74c51d798a80 initialized for platform CUDA (this does not guarantee that XLA will be used). Devices:\n",
      "2024-05-28 15:12:33.236904: I external/local_xla/xla/service/service.cc:176]   StreamExecutor device (0): NVIDIA RTX A500 Laptop GPU, Compute Capability 8.6\n",
      "2024-05-28 15:12:33.247848: I external/local_xla/xla/stream_executor/cuda/cuda_dnn.cc:454] Loaded cuDNN version 8907\n",
      "WARNING: All log messages before absl::InitializeLog() is called are written to STDERR\n",
      "I0000 00:00:1716901953.286892   24370 device_compiler.h:186] Compiled cluster using XLA!  This line is logged at most once for the lifetime of the process.\n"
     ]
    },
    {
     "name": "stdout",
     "output_type": "stream",
     "text": [
      "13/13 [==============================] - 0s 3ms/step - loss: 542.3704 - mae: 21.3950\n",
      "Epoch 3/50\n",
      "13/13 [==============================] - 0s 4ms/step - loss: 542.3704 - mae: 21.3950\n",
      "Epoch 4/50\n",
      "13/13 [==============================] - 0s 4ms/step - loss: 542.3704 - mae: 21.3951\n",
      "Epoch 5/50\n",
      "13/13 [==============================] - 0s 3ms/step - loss: 542.3704 - mae: 21.3950\n",
      "Epoch 6/50\n",
      "13/13 [==============================] - 0s 3ms/step - loss: 542.3703 - mae: 21.3951\n",
      "Epoch 7/50\n",
      "13/13 [==============================] - 0s 3ms/step - loss: 542.3704 - mae: 21.3951\n",
      "Epoch 8/50\n",
      "13/13 [==============================] - 0s 2ms/step - loss: 542.3704 - mae: 21.3950\n",
      "Epoch 9/50\n",
      "13/13 [==============================] - 0s 2ms/step - loss: 542.3704 - mae: 21.3950\n",
      "Epoch 10/50\n",
      "13/13 [==============================] - 0s 2ms/step - loss: 542.3704 - mae: 21.3951\n",
      "Epoch 11/50\n",
      "13/13 [==============================] - 0s 3ms/step - loss: 542.3704 - mae: 21.3950\n",
      "Epoch 12/50\n",
      "13/13 [==============================] - 0s 3ms/step - loss: 542.3704 - mae: 21.3950\n",
      "Epoch 13/50\n",
      "13/13 [==============================] - 0s 2ms/step - loss: 542.3704 - mae: 21.3950\n",
      "Epoch 14/50\n",
      "13/13 [==============================] - 0s 3ms/step - loss: 542.3704 - mae: 21.3950\n",
      "Epoch 15/50\n",
      "13/13 [==============================] - 0s 2ms/step - loss: 542.3704 - mae: 21.3950\n",
      "Epoch 16/50\n",
      "13/13 [==============================] - 0s 2ms/step - loss: 542.3704 - mae: 21.3950\n",
      "Epoch 17/50\n",
      "13/13 [==============================] - 0s 2ms/step - loss: 542.3704 - mae: 21.3950\n",
      "Epoch 18/50\n",
      "13/13 [==============================] - 0s 2ms/step - loss: 542.3704 - mae: 21.3951\n",
      "Epoch 19/50\n",
      "13/13 [==============================] - 0s 2ms/step - loss: 542.3704 - mae: 21.3950\n",
      "Epoch 20/50\n",
      "13/13 [==============================] - 0s 2ms/step - loss: 542.3704 - mae: 21.3951\n",
      "Epoch 21/50\n",
      "13/13 [==============================] - 0s 3ms/step - loss: 542.3704 - mae: 21.3950\n",
      "Epoch 22/50\n",
      "13/13 [==============================] - 0s 2ms/step - loss: 542.3704 - mae: 21.3951\n",
      "Epoch 23/50\n",
      "13/13 [==============================] - 0s 2ms/step - loss: 542.3704 - mae: 21.3950\n",
      "Epoch 24/50\n",
      "13/13 [==============================] - 0s 2ms/step - loss: 542.3704 - mae: 21.3950\n",
      "Epoch 25/50\n",
      "13/13 [==============================] - 0s 2ms/step - loss: 542.3704 - mae: 21.3950\n",
      "Epoch 26/50\n",
      "13/13 [==============================] - 0s 2ms/step - loss: 542.3704 - mae: 21.3950\n",
      "Epoch 27/50\n",
      "13/13 [==============================] - 0s 2ms/step - loss: 542.3704 - mae: 21.3950\n",
      "Epoch 28/50\n",
      "13/13 [==============================] - 0s 2ms/step - loss: 542.3704 - mae: 21.3950\n",
      "Epoch 29/50\n",
      "13/13 [==============================] - 0s 2ms/step - loss: 542.3704 - mae: 21.3951\n",
      "Epoch 30/50\n",
      "13/13 [==============================] - 0s 2ms/step - loss: 542.3704 - mae: 21.3950\n",
      "Epoch 31/50\n",
      "13/13 [==============================] - 0s 2ms/step - loss: 542.3704 - mae: 21.3951\n",
      "Epoch 32/50\n",
      "13/13 [==============================] - 0s 3ms/step - loss: 542.3704 - mae: 21.3951\n",
      "Epoch 33/50\n",
      "13/13 [==============================] - 0s 2ms/step - loss: 542.3704 - mae: 21.3950\n",
      "Epoch 34/50\n",
      "13/13 [==============================] - 0s 3ms/step - loss: 542.3704 - mae: 21.3950\n",
      "Epoch 35/50\n",
      "13/13 [==============================] - 0s 3ms/step - loss: 542.3704 - mae: 21.3951\n",
      "Epoch 36/50\n",
      "13/13 [==============================] - 0s 3ms/step - loss: 542.3704 - mae: 21.3951\n",
      "Epoch 37/50\n",
      "13/13 [==============================] - 0s 2ms/step - loss: 542.3704 - mae: 21.3950\n",
      "Epoch 38/50\n",
      "13/13 [==============================] - 0s 2ms/step - loss: 542.3704 - mae: 21.3951\n",
      "Epoch 39/50\n",
      "13/13 [==============================] - 0s 2ms/step - loss: 542.3704 - mae: 21.3950\n",
      "Epoch 40/50\n",
      "13/13 [==============================] - 0s 2ms/step - loss: 542.3704 - mae: 21.3951\n",
      "Epoch 41/50\n",
      "13/13 [==============================] - 0s 2ms/step - loss: 542.3704 - mae: 21.3951\n",
      "Epoch 42/50\n",
      "13/13 [==============================] - 0s 2ms/step - loss: 542.3704 - mae: 21.3951\n",
      "Epoch 43/50\n",
      "13/13 [==============================] - 0s 2ms/step - loss: 542.3704 - mae: 21.3951\n",
      "Epoch 44/50\n",
      "13/13 [==============================] - 0s 2ms/step - loss: 542.3704 - mae: 21.3950\n",
      "Epoch 45/50\n",
      "13/13 [==============================] - 0s 2ms/step - loss: 542.3704 - mae: 21.3950\n",
      "Epoch 46/50\n",
      "13/13 [==============================] - 0s 2ms/step - loss: 542.3704 - mae: 21.3951\n",
      "Epoch 47/50\n",
      "13/13 [==============================] - 0s 2ms/step - loss: 542.3704 - mae: 21.3950\n",
      "Epoch 48/50\n",
      "13/13 [==============================] - 0s 2ms/step - loss: 542.3704 - mae: 21.3951\n",
      "Epoch 49/50\n",
      "13/13 [==============================] - 0s 2ms/step - loss: 542.3704 - mae: 21.3950\n",
      "Epoch 50/50\n",
      "13/13 [==============================] - 0s 2ms/step - loss: 542.3704 - mae: 21.3951\n"
     ]
    }
   ],
   "source": [
    "optim = optimizers.SGD(learning_rate = 0.01)\n",
    "model.compile(optimizer=optim, loss='mse', metrics=['mae'])\n",
    "\n",
    "history = model.fit(x_train, y_train, epochs=50, batch_size=32)"
   ]
  },
  {
   "cell_type": "markdown",
   "metadata": {
    "id": "8VAP5X9n6qgW"
   },
   "source": [
    "# Evaluation du modèle"
   ]
  },
  {
   "cell_type": "code",
   "execution_count": 7,
   "metadata": {
    "colab": {
     "base_uri": "https://localhost:8080/",
     "height": 297
    },
    "id": "FSc6s2Fg6prc",
    "outputId": "dcef46f0-8176-4d49-e04d-ad566bf7947a"
   },
   "outputs": [
    {
     "data": {
      "image/png": "[encoded data removed]",
      "text/plain": [
       "<Figure size 640x480 with 1 Axes>"
      ]
     },
     "metadata": {},
     "output_type": "display_data"
    }
   ],
   "source": [
    "train_loss=(history.history['loss'])\n",
    "plot_loss([], train_loss, ymax=800)\n",
    "#val_loss=(history.history['val_loss'])\n",
    "#plot_loss(val_loss, train_loss, ymax=500)"
   ]
  },
  {
   "cell_type": "code",
   "execution_count": 8,
   "metadata": {
    "colab": {
     "base_uri": "https://localhost:8080/"
    },
    "id": "51mg034F6yhl",
    "outputId": "f0925796-d074-422f-84ed-53442b31a2c4"
   },
   "outputs": [
    {
     "name": "stdout",
     "output_type": "stream",
     "text": [
      "4/4 [==============================] - 0s 5ms/step - loss: 570.7010 - mae: 22.0784\n"
     ]
    },
    {
     "data": {
      "text/plain": [
       "[570.7009887695312, 22.078432083129883]"
      ]
     },
     "execution_count": 8,
     "metadata": {},
     "output_type": "execute_result"
    }
   ],
   "source": [
    "model.evaluate(x_test, y_test)"
   ]
  },
  {
   "cell_type": "markdown",
   "metadata": {
    "id": "RjIJIV2V6yYv"
   },
   "source": [
    "On obtient une mae d'environ 22, ce qui signie que l'on est éloigné en moyenne de 22000$ de la vérité terrain.\n"
   ]
  },
  {
   "cell_type": "markdown",
   "metadata": {
    "id": "Oy1Xzd_17CZ1"
   },
   "source": [
    "# Travail à faire \n",
    "\n",
    "L'approche présentée ci-dessus apporte des résultats décevants, en raison de  quelques maladresses, voire erreurs. Dans un premier temps, vous devez **trouver et corriger ces problèmes**.\n",
    "\n",
    "Dans un second temps, cherchez à améliorer les performances du modèle. Vous pouvez atteindre sans trop de difficulté un score de MAE inférieur à 3 sur l'ensemble de test. A chaque nouveau test, vous devez évaluer si votre réseau est en sous-apprentissage, ou en sur-apprentissage, et en déduire des modifications possibles pour en améliorer les performances.\n",
    "\n",
    "MAE de test à battre si vous aimez les défis : **2.20** !\n"
   ]
  },
  {
   "cell_type": "code",
   "execution_count": 132,
   "metadata": {
    "id": "DHzb86w57KZZ"
   },
   "outputs": [
    {
     "name": "stdout",
     "output_type": "stream",
     "text": [
      "Model: \"sequential_26\"\n",
      "_________________________________________________________________\n",
      " Layer (type)                Output Shape              Param #   \n",
      "=================================================================\n",
      " dense_59 (Dense)            (None, 32)                448       \n",
      "                                                                 \n",
      " dense_60 (Dense)            (None, 32)                1056      \n",
      "                                                                 \n",
      " dense_61 (Dense)            (None, 1)                 33        \n",
      "                                                                 \n",
      "=================================================================\n",
      "Total params: 1537 (6.00 KB)\n",
      "Trainable params: 1537 (6.00 KB)\n",
      "Non-trainable params: 0 (0.00 Byte)\n",
      "_________________________________________________________________\n"
     ]
    }
   ],
   "source": [
    "from keras.layers import Dropout # AJOUT\n",
    "\n",
    "# Création de l'architecture \n",
    "model2 = Sequential()\n",
    "#model2.add(Dense(4, activation='relu', input_dim=13))      # INITIAL\n",
    "model2.add(Dense(32, activation='elu', input_dim=13))     # MODIF\n",
    "model2.add(Dense(32, activation='log_softmax'))     # MODIF\n",
    "#model2.add(Dense(1, activation='linear'))\n",
    "#model2.add(Dropout(0.2))\n",
    "#model2.add(Dropout(0.2))\n",
    "#model2.add(Dense(10, activation='tanh'))                      # AJOUT\n",
    "#model2.add(Dense(9, activation='softmax'))                      # AJOUT\n",
    "#model2.add(Dropout(0.2))\n",
    "#model2.add(Dense(7, activation='sigmoid'))                      # AJOUT\n",
    "#model2.add(Dropout(0.2))\n",
    "#model2.add(Dense(7, activation='tanh'))                      # AJOUT\n",
    "#model2.add(Dropout(0.2))\n",
    "#model2.add(Dense(7, activation='mish'))                      # AJOUT\n",
    "#model2.add(Dropout(0.2))\n",
    "#model2.add(Dense(3, activation='tanh'))                      # AJOUT\n",
    "#model2.add(Dense(3, activation='log_softmax'))\n",
    "model2.add(Dense(1, activation='linear'))\n",
    "model2.summary()"
   ]
  },
  {
   "cell_type": "code",
   "execution_count": 133,
   "metadata": {},
   "outputs": [],
   "source": [
    "x_train_normalized = (x_train - x_train.mean(axis=0)) / x_train.std(axis=0)\n",
    "x_test_normalized = (x_test - x_test.mean(axis=0)) / x_test.std(axis=0)"
   ]
  },
  {
   "cell_type": "code",
   "execution_count": 134,
   "metadata": {
    "id": "Vr-X9Tpu7KfR"
   },
   "outputs": [
    {
     "name": "stdout",
     "output_type": "stream",
     "text": [
      "Epoch 1/50\n",
      "13/13 [==============================] - 1s 3ms/step - loss: 10.4946 - mae: 10.4946\n",
      "Epoch 2/50\n",
      "13/13 [==============================] - 0s 2ms/step - loss: 4.4249 - mae: 4.4249\n",
      "Epoch 3/50\n",
      "13/13 [==============================] - 0s 3ms/step - loss: 3.1126 - mae: 3.1126\n",
      "Epoch 4/50\n",
      "13/13 [==============================] - 0s 4ms/step - loss: 2.6586 - mae: 2.6586\n",
      "Epoch 5/50\n",
      "13/13 [==============================] - 0s 3ms/step - loss: 2.4149 - mae: 2.4149\n",
      "Epoch 6/50\n",
      "13/13 [==============================] - 0s 3ms/step - loss: 2.2981 - mae: 2.2981\n",
      "Epoch 7/50\n",
      "13/13 [==============================] - 0s 3ms/step - loss: 2.2380 - mae: 2.2380\n",
      "Epoch 8/50\n",
      "13/13 [==============================] - 0s 3ms/step - loss: 2.1504 - mae: 2.1504\n",
      "Epoch 9/50\n",
      "13/13 [==============================] - 0s 3ms/step - loss: 2.1367 - mae: 2.1367\n",
      "Epoch 10/50\n",
      "13/13 [==============================] - 0s 3ms/step - loss: 2.1403 - mae: 2.1403\n",
      "Epoch 11/50\n",
      "13/13 [==============================] - 0s 3ms/step - loss: 1.9707 - mae: 1.9707\n",
      "Epoch 12/50\n",
      "13/13 [==============================] - 0s 3ms/step - loss: 2.0107 - mae: 2.0107\n",
      "Epoch 13/50\n",
      "13/13 [==============================] - 0s 3ms/step - loss: 2.0173 - mae: 2.0173\n",
      "Epoch 14/50\n",
      "13/13 [==============================] - 0s 3ms/step - loss: 1.9109 - mae: 1.9109\n",
      "Epoch 15/50\n",
      "13/13 [==============================] - 0s 3ms/step - loss: 1.8951 - mae: 1.8951\n",
      "Epoch 16/50\n",
      "13/13 [==============================] - 0s 3ms/step - loss: 1.8546 - mae: 1.8546\n",
      "Epoch 17/50\n",
      "13/13 [==============================] - 0s 3ms/step - loss: 1.8577 - mae: 1.8577\n",
      "Epoch 18/50\n",
      "13/13 [==============================] - 0s 3ms/step - loss: 1.8751 - mae: 1.8751\n",
      "Epoch 19/50\n",
      "13/13 [==============================] - 0s 2ms/step - loss: 2.0858 - mae: 2.0858\n",
      "Epoch 20/50\n",
      "13/13 [==============================] - 0s 3ms/step - loss: 2.0989 - mae: 2.0989\n",
      "Epoch 21/50\n",
      "13/13 [==============================] - 0s 3ms/step - loss: 2.2033 - mae: 2.2033\n",
      "Epoch 22/50\n",
      "13/13 [==============================] - 0s 2ms/step - loss: 1.9477 - mae: 1.9477\n",
      "Epoch 23/50\n",
      "13/13 [==============================] - 0s 2ms/step - loss: 2.1191 - mae: 2.1191\n",
      "Epoch 24/50\n",
      "13/13 [==============================] - 0s 3ms/step - loss: 2.1249 - mae: 2.1249\n",
      "Epoch 25/50\n",
      "13/13 [==============================] - 0s 3ms/step - loss: 1.9271 - mae: 1.9271\n",
      "Epoch 26/50\n",
      "13/13 [==============================] - 0s 3ms/step - loss: 1.8409 - mae: 1.8409\n",
      "Epoch 27/50\n",
      "13/13 [==============================] - 0s 3ms/step - loss: 1.8384 - mae: 1.8384\n",
      "Epoch 28/50\n",
      "13/13 [==============================] - 0s 3ms/step - loss: 1.8153 - mae: 1.8153\n",
      "Epoch 29/50\n",
      "13/13 [==============================] - 0s 2ms/step - loss: 1.8286 - mae: 1.8286\n",
      "Epoch 30/50\n",
      "13/13 [==============================] - 0s 2ms/step - loss: 1.6207 - mae: 1.6207\n",
      "Epoch 31/50\n",
      "13/13 [==============================] - 0s 2ms/step - loss: 1.7665 - mae: 1.7665\n",
      "Epoch 32/50\n",
      "13/13 [==============================] - 0s 3ms/step - loss: 1.6797 - mae: 1.6797\n",
      "Epoch 33/50\n",
      "13/13 [==============================] - 0s 3ms/step - loss: 1.6998 - mae: 1.6998\n",
      "Epoch 34/50\n",
      "13/13 [==============================] - 0s 3ms/step - loss: 1.6531 - mae: 1.6531\n",
      "Epoch 35/50\n",
      "13/13 [==============================] - 0s 3ms/step - loss: 1.6733 - mae: 1.6733\n",
      "Epoch 36/50\n",
      "13/13 [==============================] - 0s 3ms/step - loss: 1.6164 - mae: 1.6164\n",
      "Epoch 37/50\n",
      "13/13 [==============================] - 0s 3ms/step - loss: 1.5811 - mae: 1.5811\n",
      "Epoch 38/50\n",
      "13/13 [==============================] - 0s 3ms/step - loss: 1.5971 - mae: 1.5971\n",
      "Epoch 39/50\n",
      "13/13 [==============================] - 0s 2ms/step - loss: 1.6501 - mae: 1.6501\n",
      "Epoch 40/50\n",
      "13/13 [==============================] - 0s 2ms/step - loss: 1.5811 - mae: 1.5811\n",
      "Epoch 41/50\n",
      "13/13 [==============================] - 0s 3ms/step - loss: 1.6646 - mae: 1.6646\n",
      "Epoch 42/50\n",
      "13/13 [==============================] - 0s 3ms/step - loss: 1.7954 - mae: 1.7954\n",
      "Epoch 43/50\n",
      "13/13 [==============================] - 0s 3ms/step - loss: 1.7701 - mae: 1.7701\n",
      "Epoch 44/50\n",
      "13/13 [==============================] - 0s 2ms/step - loss: 1.6640 - mae: 1.6640\n",
      "Epoch 45/50\n",
      "13/13 [==============================] - 0s 2ms/step - loss: 1.5845 - mae: 1.5845\n",
      "Epoch 46/50\n",
      "13/13 [==============================] - 0s 2ms/step - loss: 1.5438 - mae: 1.5438\n",
      "Epoch 47/50\n",
      "13/13 [==============================] - 0s 3ms/step - loss: 1.6183 - mae: 1.6183\n",
      "Epoch 48/50\n",
      "13/13 [==============================] - 0s 3ms/step - loss: 1.5718 - mae: 1.5718\n",
      "Epoch 49/50\n",
      "13/13 [==============================] - 0s 2ms/step - loss: 1.4906 - mae: 1.4906\n",
      "Epoch 50/50\n",
      "13/13 [==============================] - 0s 3ms/step - loss: 1.5052 - mae: 1.5052\n"
     ]
    }
   ],
   "source": [
    "optim2 = optimizers.Adam(learning_rate = 0.01)\n",
    "model2.compile(optimizer=optim2, loss='mae', metrics=['mae'])\n",
    "\n",
    "history2 = model2.fit(x_train_normalized, y_train, epochs=50, batch_size=32)"
   ]
  },
  {
   "cell_type": "code",
   "execution_count": 135,
   "metadata": {},
   "outputs": [
    {
     "data": {
      "image/png": "[encoded data removed]",
      "text/plain": [
       "<Figure size 640x480 with 1 Axes>"
      ]
     },
     "metadata": {},
     "output_type": "display_data"
    }
   ],
   "source": [
    "train_loss2=(history2.history['loss'])\n",
    "plot_loss([], train_loss2, ymax=20)\n",
    "#val_loss=(history.history['val_loss'])\n",
    "#plot_loss(val_loss, train_loss, ymax=500)"
   ]
  },
  {
   "cell_type": "code",
   "execution_count": 136,
   "metadata": {},
   "outputs": [
    {
     "name": "stdout",
     "output_type": "stream",
     "text": [
      "4/4 [==============================] - 0s 3ms/step - loss: 2.4464 - mae: 2.4464\n"
     ]
    },
    {
     "data": {
      "text/plain": [
       "[2.446434259414673, 2.446434259414673]"
      ]
     },
     "execution_count": 136,
     "metadata": {},
     "output_type": "execute_result"
    }
   ],
   "source": [
    "model2.evaluate(x_test_normalized, y_test)"
   ]
  },
  {
   "cell_type": "code",
   "execution_count": null,
   "metadata": {},
   "outputs": [],
   "source": []
  },
  {
   "cell_type": "code",
   "execution_count": null,
   "metadata": {},
   "outputs": [],
   "source": []
  }
 ],
 "metadata": {
  "colab": {
   "collapsed_sections": [],
   "name": "MLP-ModIA-TP2.ipynb",
   "provenance": []
  },
  "kernelspec": {
   "display_name": "env_tensorflow",
   "language": "python",
   "name": "env_tensorflow"
  },
  "language_info": {
   "codemirror_mode": {
    "name": "ipython",
    "version": 3
   },
   "file_extension": ".py",
   "mimetype": "text/x-python",
   "name": "python",
   "nbconvert_exporter": "python",
   "pygments_lexer": "ipython3",
   "version": "3.11.9"
  }
 },
 "nbformat": 4,
 "nbformat_minor": 1
}

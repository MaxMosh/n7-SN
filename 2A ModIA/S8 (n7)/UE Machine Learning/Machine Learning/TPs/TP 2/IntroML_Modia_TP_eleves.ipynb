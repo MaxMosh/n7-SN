{
 "cells": [
  {
   "cell_type": "markdown",
   "id": "fb1f98a5",
   "metadata": {},
   "source": [
    "# TP: Perceptron and SVM on linearly seperable data\n",
    "1. Implement the Perceptron algorithm for binary classfication\n",
    "2. Learn how to use Linear SVM with scikit-learn\n",
    "3. Understand the behavior of the test error of each method\n",
    "\n",
    "(Ce TP doit être réalisé en une séance de 2h.)"
   ]
  },
  {
   "cell_type": "code",
   "execution_count": 75,
   "id": "e52feda3",
   "metadata": {},
   "outputs": [],
   "source": [
    "%matplotlib inline\n",
    "import matplotlib.pyplot as plt\n",
    "import numpy as np\n",
    "import sklearn\n",
    "from sklearn.datasets import make_classification\n",
    "from sklearn.svm import SVC, LinearSVC\n",
    "from sklearn.metrics import confusion_matrix,accuracy_score"
   ]
  },
  {
   "cell_type": "markdown",
   "id": "2fa35f74",
   "metadata": {},
   "source": [
    "# Data generation"
   ]
  },
  {
   "cell_type": "code",
   "execution_count": 117,
   "id": "a8d8f336",
   "metadata": {},
   "outputs": [],
   "source": [
    "n_samples, n_features = 200, 300\n",
    "X, y = make_classification(\n",
    "    n_samples=n_samples, n_features=n_features, n_informative=2, n_clusters_per_class = 1,\n",
    "    n_redundant= 0, n_repeated = 0,\n",
    "    class_sep = 2, shuffle = False, flip_y = 0, \n",
    ")\n",
    "y[y==0] = -1 # NOTE that the lable values are 0 or 1, convert to -1 or 1"
   ]
  },
  {
   "cell_type": "code",
   "execution_count": 118,
   "id": "87510b1a",
   "metadata": {},
   "outputs": [
    {
     "data": {
      "text/plain": [
       "<matplotlib.collections.PathCollection at 0x7f0d590d5670>"
      ]
     },
     "execution_count": 118,
     "metadata": {},
     "output_type": "execute_result"
    },
    {
     "data": {
      "image/png": "[encoded data removed]",
      "text/plain": [
       "<Figure size 640x480 with 1 Axes>"
      ]
     },
     "metadata": {},
     "output_type": "display_data"
    }
   ],
   "source": [
    "# Plot the first 2 features of x to check visually that the dataset is linearly seperable\n",
    "# random permutation of samples\n",
    "perm = np.random.permutation(n_samples)\n",
    "X = X[perm,:]\n",
    "y = y[perm]\n",
    "plt.scatter( X[y==-1, 0],  X[y==-1, 1] )\n",
    "plt.scatter( X[y==1, 0],  X[y==1, 1] )"
   ]
  },
  {
   "cell_type": "code",
   "execution_count": 119,
   "id": "e7f93ea3",
   "metadata": {},
   "outputs": [],
   "source": [
    "# split the data into training and test set, with 1:1 ratio\n",
    "X_train = X[0:n_samples//2,:]\n",
    "y_train = y[0:n_samples//2]\n",
    "X_test = X[n_samples//2:,:]\n",
    "y_test = y[n_samples//2:]"
   ]
  },
  {
   "cell_type": "markdown",
   "id": "a15933ff",
   "metadata": {},
   "source": [
    "# I. Perceptron algorithm\n",
    "### I.1 Implement the following algorithm:\n",
    "\n",
    "    w in R^N, b in R         \n",
    "    Init k =0,  initial each value of w and b to 0\n",
    "    Repeat\n",
    "        for i=1 .. m do\n",
    "            if sign ( w'x_i + b ) is y_i, then\n",
    "                do nothing\n",
    "            else\n",
    "                if y_i is 1, then            \n",
    "                    w = w + x_i\n",
    "                    b = b + 1\n",
    "                else\n",
    "                    w = w - x_i\n",
    "                    b = b - 1\n",
    "                end\n",
    "                k = k + 1 # nb of corrections\n",
    "            end\n",
    "        end\n",
    "        STOP if k is larger than kmax, or if there is no more corrections"
   ]
  },
  {
   "cell_type": "code",
   "execution_count": 120,
   "id": "7a0fd5af",
   "metadata": {},
   "outputs": [],
   "source": [
    "kmax = 100 # choose a suitable value # MODIF : 100 de base\n",
    "m = n_samples//2\n",
    "N = n_features\n",
    "w = np.zeros(N)\n",
    "b = 0\n",
    "k = 0\n",
    "\n",
    "# TODO\n",
    "\n",
    "while True :\n",
    "    correction = False\n",
    "    for i in range(m):\n",
    "        if np.sign(np.matmul(np.transpose(w),X_train[i,:]) + b) == y_train[i] :\n",
    "            None\n",
    "        else :\n",
    "            if y_train[i] == 1 :\n",
    "                w = w + X_train[i,:]\n",
    "                b = b + 1\n",
    "            else :\n",
    "                w = w - X_train[i,:]\n",
    "                b = b - 1\n",
    "            k += 1 # nb of corrections\n",
    "            correction = True\n",
    "    if k > kmax or not(correction):\n",
    "        break"
   ]
  },
  {
   "cell_type": "markdown",
   "id": "487ba023",
   "metadata": {},
   "source": [
    "### I.2 compute the training and test error"
   ]
  },
  {
   "cell_type": "code",
   "execution_count": 121,
   "id": "6ccd9b67",
   "metadata": {},
   "outputs": [
    {
     "name": "stdout",
     "output_type": "stream",
     "text": [
      "training error is 0.0\n"
     ]
    }
   ],
   "source": [
    "training_error = 0\n",
    "# TODO\n",
    "for i in range(m):\n",
    "    if np.sign(np.matmul(np.transpose(w),X_train[i,:]) + b) != y_train[i] :\n",
    "        training_error += 1\n",
    "training_error = training_error/m\n",
    "print('training error is', training_error)"
   ]
  },
  {
   "cell_type": "code",
   "execution_count": 122,
   "id": "bcb288cb",
   "metadata": {},
   "outputs": [
    {
     "name": "stdout",
     "output_type": "stream",
     "text": [
      "test error is 0.1\n"
     ]
    }
   ],
   "source": [
    "test_error = 0\n",
    "# TODO\n",
    "for i in range(n_samples//2):\n",
    "    if np.sign(np.matmul(np.transpose(w),X_test[i,:]) + b) != y_test[i] :\n",
    "        test_error += 1\n",
    "test_error = test_error/m\n",
    "print('test error is', test_error)"
   ]
  },
  {
   "cell_type": "markdown",
   "id": "69f92cea",
   "metadata": {},
   "source": [
    "### I.3 compute the margin of the Perceptron classifier"
   ]
  },
  {
   "cell_type": "code",
   "execution_count": 123,
   "id": "7716b366",
   "metadata": {},
   "outputs": [
    {
     "name": "stdout",
     "output_type": "stream",
     "text": [
      "3.8843873415344214\n"
     ]
    }
   ],
   "source": [
    "# TODO\n",
    "margin = np.abs( (np.dot(w,X_train[0,:])+b  )  ) / np.sqrt(np.dot(w,w))\n",
    "# TODO\n",
    "print(margin)"
   ]
  },
  {
   "cell_type": "markdown",
   "id": "047e2da5",
   "metadata": {},
   "source": [
    "# II. Linear SVM method\n",
    "* Train the SVM classifier clf using X_train and y_train\n",
    "* Compare and analyze the training and test error, e.g. make a connection to the margin of each classifier"
   ]
  },
  {
   "cell_type": "code",
   "execution_count": 124,
   "id": "0cd75370",
   "metadata": {},
   "outputs": [],
   "source": [
    "# TODO use SVC or LinearSVC, set a proper kernel and parameter C\n",
    "clf = SVC(kernel = 'linear', C = 1e10)"
   ]
  },
  {
   "cell_type": "code",
   "execution_count": 125,
   "id": "75430bce",
   "metadata": {},
   "outputs": [
    {
     "data": {
      "text/plain": [
       "Text(0.5, 1.0, 'Train ; accuracy=1.00')"
      ]
     },
     "execution_count": 125,
     "metadata": {},
     "output_type": "execute_result"
    },
    {
     "data": {
      "image/png": "[encoded data removed]",
      "text/plain": [
       "<Figure size 640x480 with 2 Axes>"
      ]
     },
     "metadata": {},
     "output_type": "display_data"
    }
   ],
   "source": [
    "# TODO you may display the confusion matrix of the classfication with disp = sklearn.metrics.ConfusionMatrixDisplay(...)\n",
    "disp = sklearn.metrics.ConfusionMatrixDisplay(confusion_matrix=confusion_matrix(y_test, clf.fit(X_train, y_train).predict(X_test)))\n",
    "disp.plot()\n",
    "accuracyTrain = accuracy_score(y_train, clf.fit(X_train, y_train).predict(X_train))\n",
    "plt.title(f'Train ; accuracy={accuracyTrain:.2f}')"
   ]
  },
  {
   "cell_type": "code",
   "execution_count": 126,
   "id": "49d31116",
   "metadata": {},
   "outputs": [],
   "source": [
    "# TODO get the weight and bias in SVM\n",
    "w = clf.coef_[0]\n",
    "b = clf.intercept_[0]"
   ]
  },
  {
   "cell_type": "code",
   "execution_count": 127,
   "id": "051d011c",
   "metadata": {},
   "outputs": [
    {
     "name": "stdout",
     "output_type": "stream",
     "text": [
      "training error is 0.0\n"
     ]
    }
   ],
   "source": [
    "training_error = 0\n",
    "# TODO\n",
    "for i in range(m):\n",
    "    if np.sign(np.matmul(np.transpose(w),X_train[i,:]) + b) != y_train[i] :\n",
    "        training_error += 1\n",
    "training_error = training_error/m\n",
    "print('training error is', training_error)"
   ]
  },
  {
   "cell_type": "code",
   "execution_count": 128,
   "id": "03a81dac",
   "metadata": {},
   "outputs": [
    {
     "name": "stdout",
     "output_type": "stream",
     "text": [
      "test error is 0.08\n"
     ]
    }
   ],
   "source": [
    "test_error = 0\n",
    "# TODO\n",
    "for i in range(n_samples//2):\n",
    "    if np.sign(np.matmul(np.transpose(w),X_test[i,:]) + b) != y_test[i] :\n",
    "        test_error += 1\n",
    "test_error = test_error/m\n",
    "print('test error is', test_error)"
   ]
  },
  {
   "cell_type": "code",
   "execution_count": 129,
   "id": "38e70a00",
   "metadata": {},
   "outputs": [
    {
     "name": "stdout",
     "output_type": "stream",
     "text": [
      "2.5204203868697506\n"
     ]
    }
   ],
   "source": [
    "margin = np.abs( (np.dot(w,X_train[0,:])+b )  ) / np.sqrt(np.dot(w,w))\n",
    "# TODO\n",
    "print(margin)"
   ]
  }
 ],
 "metadata": {
  "kernelspec": {
   "display_name": "modia_py_mathsapp",
   "language": "python",
   "name": "modia_py_mathsapp"
  },
  "language_info": {
   "codemirror_mode": {
    "name": "ipython",
    "version": 3
   },
   "file_extension": ".py",
   "mimetype": "text/x-python",
   "name": "python",
   "nbconvert_exporter": "python",
   "pygments_lexer": "ipython3",
   "version": "3.9.18"
  }
 },
 "nbformat": 4,
 "nbformat_minor": 5
}

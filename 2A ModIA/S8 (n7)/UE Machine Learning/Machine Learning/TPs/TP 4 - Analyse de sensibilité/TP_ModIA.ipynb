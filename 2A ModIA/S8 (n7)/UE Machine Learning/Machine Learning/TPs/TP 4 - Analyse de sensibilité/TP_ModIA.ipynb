{
  "cells": [
    {
      "cell_type": "markdown",
      "metadata": {
        "id": "K3Yac5dGYtmG"
      },
      "source": [
        "# **TP ModIA - Analyse de sensibilité et indices de Sobol's**"
      ]
    },
    {
      "cell_type": "markdown",
      "metadata": {
        "id": "jFbFsZ2UkeZ3"
      },
      "source": [
        "## **0) Framework**"
      ]
    },
    {
      "cell_type": "code",
      "execution_count": 2,
      "metadata": {
        "id": "HjB1fJsHhY3w"
      },
      "outputs": [],
      "source": [
        "import numpy as np\n",
        "import matplotlib.pyplot as plt\n",
        "import random as rd\n",
        "import scipy.stats as sstats"
      ]
    },
    {
      "cell_type": "markdown",
      "metadata": {
        "id": "Uf1J54SKBg1I"
      },
      "source": [
        "La sortie $Y$ sera vu comme une fonction de $D \\in \\mathbb{N}$ variables (potentiellement) explicatives, notées $(X_1, \\dots, X_D)$. Pour modéliser la boite noire, on utilisera la Sobol's G-function. Pour un $d \\le D$ et un $(a_i)_{1\\le i\\le d}$ (dont toutes les coordonnées sont différentes de -1), on définit cette fonction par : \n",
        "$$G : x \\mapsto \\prod_{i=1}^d \\frac{|4x^{(i)}i -2|+a_i}{1+a_i}$$"
      ]
    },
    {
      "cell_type": "code",
      "execution_count": 3,
      "metadata": {
        "id": "tv88HIUBYrs0"
      },
      "outputs": [],
      "source": [
        "def ComputeGFunction( a ):\n",
        "    \"\"\"\n",
        "    :a:      Array of size (dim_d)\n",
        "    :return: Function f, \n",
        "             For an input x, array of size (dim_D, n_sample), \n",
        "             f(x) returns y, array of size (n_sample), answer of x through G-function.\n",
        "                          \n",
        "    \"\"\"\n",
        "    dim_d = a.shape[0]\n",
        "    return lambda X : np.prod(  ( np.abs( 4 * X[ :dim_d, : ] - 2 ) + a.reshape(-1, 1) ) \n",
        "                                / ( 1 + a.reshape(-1, 1) ), \n",
        "                              axis = 0 )"
      ]
    },
    {
      "cell_type": "markdown",
      "metadata": {
        "id": "uLb8faqtbTC8"
      },
      "source": [
        "L'avantage de ce modèle réside dans notre capacité à évaluer les indices de Sobol', particulièrement dans le cas où la variable $X$ suit une loi uniforme sur $[0,1]$. Dans la suite, on travaillera qu'avec les indices de premier ordre :\n",
        "\n",
        "$$ S_{\\mathrm{Sobol'}}^{(i)} = \\frac{\\frac{1}{3\\left(a_i +1\\right)^2}}{\\prod_{j=1}^d \\left(1 + \\frac{1}{3\\left(a_j +1\\right)^2}\\right) - 1 }$$\n",
        "\n",
        "On travaillera principalement avec les vecteurs $a$ suivant :"
      ]
    },
    {
      "cell_type": "code",
      "execution_count": 4,
      "metadata": {
        "id": "wvT_Tu2ebSUb"
      },
      "outputs": [],
      "source": [
        "dim_d = 8\n",
        "\n",
        "a1 = np.ones( dim_d ) * 0\n",
        "a2 = np.ones( dim_d ) * 99\n",
        "a3 = np.array( [ 0, 1, 4, 4, 7, 9, 99, 99 ] )"
      ]
    },
    {
      "cell_type": "markdown",
      "metadata": {
        "id": "98M3NcWwhY3x"
      },
      "source": [
        "   \n",
        "\n",
        "---\n",
        "\n",
        "\n",
        "   ##    **I) Estimation des indices de Sobol's**"
      ]
    },
    {
      "cell_type": "markdown",
      "metadata": {
        "id": "6hwTFEJGgWjG"
      },
      "source": [
        "  ###    **1) La méthode d'estimation'** \n"
      ]
    },
    {
      "cell_type": "markdown",
      "metadata": {
        "id": "MKN_-ZS7lQwi"
      },
      "source": [
        "L'estimateur des indices de Sobol' pour une entrée $X^{(k)} = X$, est le suivant :\n",
        "$$\\widehat{S}_{\\mathrm{Sobol'}}^{(i)} = \\frac{\\frac{1}{n}\\sum_{j=1}^nY_jY_{N(j)} - \\left(\\frac{1}{n}\\sum_{j=1}^n Y_j\\right)^2}{\\frac{1}{n}\\sum_{j=1}^nY_j^2 - \\left(\\frac{1}{n}\\sum_{j=1}^n Y_j\\right)^2}$$\n",
        "où $N(j)$ est l'indice $1 \\le i \\le n$ tel que l'échantillon $X_i$ soit le plus proche voisin de l'échantillon $X_j$ (à droite)."
      ]
    },
    {
      "cell_type": "markdown",
      "metadata": {
        "id": "mOy4w7fgmI0w"
      },
      "source": [
        "Pour coder cette permutation, on utilisera le code suivant :"
      ]
    },
    {
      "cell_type": "code",
      "execution_count": 5,
      "metadata": {
        "id": "RdziHd2UmRDo"
      },
      "outputs": [],
      "source": [
        "def ComputeNNPermutation( X ):\n",
        "  \n",
        "  permutation         = np.argsort( X, axis = 1 )\n",
        "  permutation_shifted = np.roll( permutation, shift = -1, axis = 1)\n",
        "  rank                = np.argsort( permutation, axis = 1 )\n",
        "\n",
        "  N = np.take_along_axis( permutation_shifted, rank, axis = 1)\n",
        "\n",
        "  return N"
      ]
    },
    {
      "cell_type": "markdown",
      "metadata": {
        "id": "Q345IHMbhY3x"
      },
      "source": [
        "\n",
        "\n",
        "1.   Coder une fonction qui calcule l'estimateur proposé ci-dessus."
      ]
    },
    {
      "cell_type": "code",
      "execution_count": 6,
      "metadata": {
        "id": "EF3xG1wKhY3y"
      },
      "outputs": [],
      "source": [
        "def EstimateSobolIndices( inputs, output ):\n",
        "  n_sample = inputs.shape[1]\n",
        "  dim_D = inputs.shape[0]\n",
        "  outputs = np.ones((dim_D,1)) @ output.reshape((1,n_sample))\n",
        "\n",
        "  NN_permutations = ComputeNNPermutation(inputs)\n",
        "  sorted_outputs = np.take_along_axis(outputs, NN_permutations, axis = 1)\n",
        "\n",
        "  term1 = outputs*sorted_outputs\n",
        "  term2 = outputs\n",
        "  term3 = outputs**2\n",
        "\n",
        "  numerator = np.mean(term1, axis = 1) - np.mean(term2, axis = 1)**2\n",
        "  denominator = np.mean(term3, axis = 1) - np.mean(term2, axis = 1)**2\n",
        "  est = numerator/denominator\n",
        "\n",
        "\n",
        "  return est\n"
      ]
    },
    {
      "cell_type": "markdown",
      "metadata": {
        "id": "Uybjd0A1GsaC"
      },
      "source": [
        "2.   Construire un algorithme prenant un échantillonnage des entrées, un échantillonnage de la sortie et un paramètre servant à controler le critère de sélection (évacuant les entrées d'indice sous un certain pourcentage par exemple), et qui ne renvoit seulement les entrées jugées pertinentes (classées par ordre d'importance dans l'idéal), avec les indices estimés."
      ]
    },
    {
      "cell_type": "code",
      "execution_count": null,
      "metadata": {
        "id": "3gS6LSyiyR0q"
      },
      "outputs": [],
      "source": [
        "def MakeSensitivityAnalysis( inputs, output, tolerance = 0.01):\n",
        "\n",
        "  sensitivity_indices = EstimateSobolIndices(inputs, output)\n",
        "\n",
        "  sorted_features = np.argsort(sensitivity_indices)\n",
        "  sorted_features = np.flip(sorted_features)\n",
        "  sorted_indices = sensitivity_indices[sorted_features]\n",
        "\n",
        "\n",
        "  relevant_argument = np.argwhere(sorted_indices > tolerance)\n",
        "  relevant_indices = sorted_indices[relevant_argument]\n",
        "  relevant_features = sorted_features[relevant_argument]\n",
        "  \n",
        "\n",
        "  return relevant_indices, relevant_features\n"
      ]
    },
    {
      "cell_type": "markdown",
      "metadata": {
        "id": "NZFdE6vegoNs"
      },
      "source": [
        "###  **2 ) Aspects pratiques**"
      ]
    },
    {
      "cell_type": "markdown",
      "metadata": {
        "id": "WxjXFbGMg7EV"
      },
      "source": [
        "\n",
        "\n",
        "1.   Appliquer l'algorithme de la première partie au résultat de la G-function pour les trois valeurs de $a$, proposées plus haut, pour de grandes valeurs de $N$.\n",
        "\n",
        "\n",
        "> a. Conceptuellement, comment différencier la sensibilité des entrées entre les cas 1 et 2 ?\n",
        "\n",
        "> b. Dans le cas 3, le résultat de sensibilité etait-il prévisible ? Pourquoi certaine variable ne sont pas détecté dans ce cas là ?\n",
        "\n",
        "\n",
        "\n"
      ]
    },
    {
      "cell_type": "code",
      "execution_count": null,
      "metadata": {
        "id": "LxYBNJRJJJlF"
      },
      "outputs": [],
      "source": [
        "\n"
      ]
    },
    {
      "cell_type": "code",
      "execution_count": null,
      "metadata": {
        "colab": {
          "base_uri": "https://localhost:8080/"
        },
        "id": "UiDq4v9Wk1xN",
        "outputId": "0c15174c-8789-4c6d-dcb2-128120e7837d"
      },
      "outputs": [],
      "source": [
        "## Case 1"
      ]
    },
    {
      "cell_type": "code",
      "execution_count": null,
      "metadata": {
        "colab": {
          "base_uri": "https://localhost:8080/"
        },
        "id": "AXMKDC2Bk5uf",
        "outputId": "158e168b-60a6-4135-ba44-b8ba2d1739f7"
      },
      "outputs": [],
      "source": [
        "## Case 2"
      ]
    },
    {
      "cell_type": "code",
      "execution_count": null,
      "metadata": {
        "colab": {
          "base_uri": "https://localhost:8080/"
        },
        "id": "YwyTlRKIk8LB",
        "outputId": "445616ad-e8cd-43f0-bf6f-577bb3d2fdde"
      },
      "outputs": [],
      "source": [
        "## Case 3"
      ]
    },
    {
      "cell_type": "markdown",
      "metadata": {
        "id": "XepgODzOJIp_"
      },
      "source": [
        "2.   A partir de second cas $a_2$, afficher l'indice de sensibilité de $X_1$ et de $X_9$ en fonction de la taille de l'échantillon. \n",
        "\n"
      ]
    },
    {
      "cell_type": "code",
      "execution_count": null,
      "metadata": {
        "colab": {
          "base_uri": "https://localhost:8080/",
          "height": 622
        },
        "id": "IN6PRehNlcZo",
        "outputId": "d2c6c9ca-9021-4340-fd15-1e379486d361"
      },
      "outputs": [],
      "source": []
    },
    {
      "cell_type": "code",
      "execution_count": null,
      "metadata": {},
      "outputs": [],
      "source": [
        "## Evolution de l'estimateur pour X^{(1)}"
      ]
    },
    {
      "cell_type": "code",
      "execution_count": null,
      "metadata": {},
      "outputs": [],
      "source": [
        "## Evolution de l'estimateur pour X^{(9)}"
      ]
    },
    {
      "cell_type": "markdown",
      "metadata": {
        "id": "K7RtQmqYjMOt"
      },
      "source": [
        "## **II) Estimation des indices de Cramèr-von-Mises** "
      ]
    },
    {
      "cell_type": "markdown",
      "metadata": {},
      "source": [
        "  ###    **1) La méthode d'estimation'** \n"
      ]
    },
    {
      "cell_type": "markdown",
      "metadata": {
        "id": "bO5gf0OtjWYb"
      },
      "source": [
        "Initialement, cette méthodes d'estimation des indices de sensibilité par les rangs a été popularisée par Sourav Chatterjee pour les indices de Cramèr-von-Mises :\n"
      ]
    },
    {
      "cell_type": "markdown",
      "metadata": {
        "id": "Srpfng2fwWhY"
      },
      "source": [
        "\n",
        "Si on réarrange les paires $\\left(X_i,Y_i\\right)_i$ de façon à ce que les $\\left(X_{(i)},Y_{(i)}\\right)$ vérifient :\n",
        "$$X_{(1)} \\le X_{(2)} \\le \\dots \\le X_{(n)} \\ ,$$\n",
        "alors on note $r_j$ le rang de $Y_{(j)}$, i.e. le nombre d'échantillon $Y_{(i)}$ inférieur à $Y_{(j)}$. \n",
        "\n",
        "L'estimateur vaut alors :\n",
        "$$\\widehat{S}_{\\mathrm{CvM}}^{(i)} = 1 - \\frac{3 \\sum_{j=1}^n | r_{j+1} - r_j | }{n^2 - 1} \\ .$$\n",
        "\n",
        "On peut montrer qu'il est asymptotiquement égal à \n",
        "$$\\widetilde{S}_{\\mathrm{CvM}}^{(i)} = \\frac{\\frac{1}{n} \\sum_{j=1}^n \\min\\left(F_n(Y_j),F_n(Y_{N(j)}) \\right) - \\frac{1}{n}\\sum_{j=1}^n F_n(Y_j)^2}{\\frac{1}{n}\\sum_{j=1}^n F_n(Y_j) \\left(1- F_n(Y_j) \\right)}$$\n",
        "où $N(j)$ est l'indice $1 \\le i \\le n$ tel que $X_i$ soit le plus proche voisin de $X_j$ (à droite) et où $F_n$ désigne la fonction de répartition empirique de $Y$. \n",
        "\n",
        "On retrouve d'ailleurs la formulation proche des estimateurs des indices de Sobol'."
      ]
    },
    {
      "cell_type": "markdown",
      "metadata": {
        "id": "juQ0Q5AcwWhY"
      },
      "source": [
        "1.   Coder une fonction qui calcule un des estimateurs proposés ci-dessus. "
      ]
    },
    {
      "cell_type": "code",
      "execution_count": null,
      "metadata": {},
      "outputs": [],
      "source": [
        "def EstimateCvMIndices(inputs, output) :\n",
        "\n",
        "    \n",
        "    return estimator"
      ]
    },
    {
      "cell_type": "markdown",
      "metadata": {
        "id": "XT0p6F5rwWhY"
      },
      "source": [
        "A noter qu'on possède un Théorème Central Limite sous l'hypothèse $S_{\\mathrm{CvM}}^{(i)} = 0$ :\n",
        "$$\\sqrt{n}\\widehat{S}_{\\mathrm{CvM}}^{(i)} \\longrightarrow \\mathcal{N}(0,2/5)$$\n"
      ]
    },
    {
      "cell_type": "markdown",
      "metadata": {
        "id": "C4ijsaO2wWhZ"
      },
      "source": [
        "2.   Etant donné le TCL sur cet estimateur sous l'hypothèse nulle \"S_{\\mathrm{CvM}}^{(i)} = 0\", proposer un critère de rejet des variables peu sensibles."
      ]
    },
    {
      "cell_type": "markdown",
      "metadata": {
        "id": "M0J1kdMYwWhZ"
      },
      "source": []
    },
    {
      "cell_type": "markdown",
      "metadata": {
        "id": "4YW402bowWhZ"
      },
      "source": [
        "3.   Utiliser ce critère pour construire un algorithme prenant un échantillonnage des entrées, un échantillonnage de la sortie et un paramètre servant à controler le critère de sélection (confiance du test par exemple), et qui ne renvoit seulement les entrées jugées pertinentes (classées par ordre d'importance dans l'idéal), avec les indices associés."
      ]
    },
    {
      "cell_type": "code",
      "execution_count": null,
      "metadata": {},
      "outputs": [],
      "source": [
        "def MakeSensitivityAnalysis( inputs, output, tolerance = 0.01, indices = 'sobol', confidence_cvm = None):\n",
        "  \n",
        "  \n",
        "\n",
        "  return relevant_indices, relevant_features"
      ]
    },
    {
      "cell_type": "markdown",
      "metadata": {},
      "source": [
        "### **2) Aspects pratiques**"
      ]
    },
    {
      "cell_type": "markdown",
      "metadata": {
        "id": "KEpupoWgwWhZ"
      },
      "source": [
        "\n",
        "\n",
        "1.   Appliquer l'algorithme de la première partie au résultat de la G-function pour les trois valeurs de $a$, proposées plus haut, pour de grandes valeurs de $N$. Les cas 1 et 2 ne paraissent-ils pas surprenant ?\n",
        "\n"
      ]
    },
    {
      "cell_type": "code",
      "execution_count": null,
      "metadata": {
        "id": "gV1xT8L4wWhZ"
      },
      "outputs": [],
      "source": []
    },
    {
      "cell_type": "code",
      "execution_count": null,
      "metadata": {},
      "outputs": [],
      "source": [
        "## Case 1\n",
        "               "
      ]
    },
    {
      "cell_type": "code",
      "execution_count": null,
      "metadata": {
        "colab": {
          "base_uri": "https://localhost:8080/"
        },
        "id": "qj0kkrMXwWhZ",
        "outputId": "a427e4bf-7b5e-4fe2-a3da-bd8e48717893"
      },
      "outputs": [],
      "source": [
        "## Case 2"
      ]
    },
    {
      "cell_type": "code",
      "execution_count": null,
      "metadata": {
        "colab": {
          "base_uri": "https://localhost:8080/"
        },
        "id": "BskDtU_QwWha",
        "outputId": "13e5a74f-3e75-43cb-ddcc-e4f465b88403"
      },
      "outputs": [],
      "source": [
        "## Case 3"
      ]
    },
    {
      "cell_type": "markdown",
      "metadata": {
        "id": "UB39SJUywWha"
      },
      "source": [
        "2.   A partir de second cas (a2), afficher l'indice de sensibilité de $X_1$ et de $X_9$ en fonction de la taille de l'échantillon. Pour $X_9$, afficher en plus la courbe de l'intervalle de confiance. Que dire de la vitesse de convergence?\n",
        "\n"
      ]
    },
    {
      "cell_type": "code",
      "execution_count": null,
      "metadata": {},
      "outputs": [],
      "source": [
        "\n"
      ]
    },
    {
      "cell_type": "code",
      "execution_count": null,
      "metadata": {
        "colab": {
          "base_uri": "https://localhost:8080/",
          "height": 622
        },
        "id": "x7xvXu0ewWha",
        "outputId": "447e2ea4-277e-46c6-ec92-2a8864631a1c"
      },
      "outputs": [],
      "source": [
        "## Evolution de l'estimateur pour X^{(1)}"
      ]
    },
    {
      "cell_type": "code",
      "execution_count": null,
      "metadata": {
        "colab": {
          "base_uri": "https://localhost:8080/",
          "height": 622
        },
        "id": "3DBl83YCwWha",
        "outputId": "177a9392-123c-4122-cf5a-edb3ea4b4e48"
      },
      "outputs": [],
      "source": [
        "## Evolution de l'estimateur pour X^{(9)}"
      ]
    }
  ],
  "metadata": {
    "colab": {
      "provenance": [],
      "toc_visible": true
    },
    "kernelspec": {
      "display_name": "modia_py_mathsapp",
      "language": "python",
      "name": "modia_py_mathsapp"
    },
    "language_info": {
      "codemirror_mode": {
        "name": "ipython",
        "version": 3
      },
      "file_extension": ".py",
      "mimetype": "text/x-python",
      "name": "python",
      "nbconvert_exporter": "python",
      "pygments_lexer": "ipython3",
      "version": "3.9.18"
    }
  },
  "nbformat": 4,
  "nbformat_minor": 0
}

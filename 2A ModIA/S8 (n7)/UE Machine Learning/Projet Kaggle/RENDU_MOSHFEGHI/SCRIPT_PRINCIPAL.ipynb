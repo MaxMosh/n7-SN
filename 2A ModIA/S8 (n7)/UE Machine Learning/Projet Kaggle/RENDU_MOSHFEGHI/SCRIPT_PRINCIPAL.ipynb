{
 "cells": [
  {
   "cell_type": "code",
   "execution_count": 19,
   "metadata": {},
   "outputs": [],
   "source": [
    "import torch\n",
    "import torch.nn as nn\n",
    "import torch.nn.functional as F\n",
    "import tqdm\n",
    "from tqdm.auto import tqdm\n",
    "\n",
    "from LeNet import *     # importe le constructeur du réseau LeNet défini dans le fichier LeNet.py\n",
    "#from AlexNet import *  # n'a pas été très concluant\n",
    "from ResNet import *    # importe le constructeur du réseau LeNet défini dans le fichier LeNet.py"
   ]
  },
  {
   "cell_type": "code",
   "execution_count": 20,
   "metadata": {},
   "outputs": [
    {
     "data": {
      "text/plain": [
       "True"
      ]
     },
     "execution_count": 20,
     "metadata": {},
     "output_type": "execute_result"
    }
   ],
   "source": [
    "torch.cuda.is_available()"
   ]
  },
  {
   "cell_type": "markdown",
   "metadata": {},
   "source": [
    "#### **Initialisation des datasets et entraînement de base**"
   ]
  },
  {
   "cell_type": "code",
   "execution_count": 22,
   "metadata": {},
   "outputs": [
    {
     "data": {
      "application/vnd.jupyter.widget-view+json": {
       "model_id": "8dbd08e5129b44d5827f571fd65cef65",
       "version_major": 2,
       "version_minor": 0
      },
      "text/plain": [
       "  0%|          | 0/25 [00:00<?, ?it/s]"
      ]
     },
     "metadata": {},
     "output_type": "display_data"
    },
    {
     "name": "stdout",
     "output_type": "stream",
     "text": [
      "Epoch 1/20, Loss: 2.2576\n",
      "Train Accuracy: 34.34%\n",
      "Validation Loss: 9.0303\n",
      "Validation Accuracy: 32.88%\n"
     ]
    },
    {
     "data": {
      "application/vnd.jupyter.widget-view+json": {
       "model_id": "0f9c551012a4494ab1e9748649775ac0",
       "version_major": 2,
       "version_minor": 0
      },
      "text/plain": [
       "  0%|          | 0/25 [00:00<?, ?it/s]"
      ]
     },
     "metadata": {},
     "output_type": "display_data"
    },
    {
     "name": "stdout",
     "output_type": "stream",
     "text": [
      "Epoch 2/20, Loss: 1.1986\n",
      "Train Accuracy: 46.69%\n",
      "Validation Loss: 4.7945\n",
      "Validation Accuracy: 27.38%\n"
     ]
    },
    {
     "data": {
      "application/vnd.jupyter.widget-view+json": {
       "model_id": "ce4ddea7c88d411aa7decaf35213a487",
       "version_major": 2,
       "version_minor": 0
      },
      "text/plain": [
       "  0%|          | 0/25 [00:00<?, ?it/s]"
      ]
     },
     "metadata": {},
     "output_type": "display_data"
    },
    {
     "name": "stdout",
     "output_type": "stream",
     "text": [
      "Epoch 3/20, Loss: 1.1167\n",
      "Train Accuracy: 50.97%\n",
      "Validation Loss: 4.4667\n",
      "Validation Accuracy: 42.75%\n"
     ]
    },
    {
     "data": {
      "application/vnd.jupyter.widget-view+json": {
       "model_id": "de272afa4d924b6aab2b4d8d1c274eb2",
       "version_major": 2,
       "version_minor": 0
      },
      "text/plain": [
       "  0%|          | 0/25 [00:00<?, ?it/s]"
      ]
     },
     "metadata": {},
     "output_type": "display_data"
    },
    {
     "name": "stdout",
     "output_type": "stream",
     "text": [
      "Epoch 4/20, Loss: 1.0921\n",
      "Train Accuracy: 53.69%\n",
      "Validation Loss: 4.3685\n",
      "Validation Accuracy: 44.88%\n"
     ]
    },
    {
     "data": {
      "application/vnd.jupyter.widget-view+json": {
       "model_id": "b4ccb1e71f654f869f6dac94ef7fddc2",
       "version_major": 2,
       "version_minor": 0
      },
      "text/plain": [
       "  0%|          | 0/25 [00:00<?, ?it/s]"
      ]
     },
     "metadata": {},
     "output_type": "display_data"
    },
    {
     "name": "stdout",
     "output_type": "stream",
     "text": [
      "Epoch 5/20, Loss: 1.0433\n",
      "Train Accuracy: 55.62%\n",
      "Validation Loss: 4.1732\n",
      "Validation Accuracy: 38.12%\n"
     ]
    },
    {
     "data": {
      "application/vnd.jupyter.widget-view+json": {
       "model_id": "d9caced02364447f9524be7396dddf18",
       "version_major": 2,
       "version_minor": 0
      },
      "text/plain": [
       "  0%|          | 0/25 [00:00<?, ?it/s]"
      ]
     },
     "metadata": {},
     "output_type": "display_data"
    },
    {
     "name": "stdout",
     "output_type": "stream",
     "text": [
      "Epoch 6/20, Loss: 1.0002\n",
      "Train Accuracy: 58.06%\n",
      "Validation Loss: 4.0008\n",
      "Validation Accuracy: 52.25%\n"
     ]
    },
    {
     "data": {
      "application/vnd.jupyter.widget-view+json": {
       "model_id": "8fcc41abe7b443a598db80e4b3272415",
       "version_major": 2,
       "version_minor": 0
      },
      "text/plain": [
       "  0%|          | 0/25 [00:00<?, ?it/s]"
      ]
     },
     "metadata": {},
     "output_type": "display_data"
    },
    {
     "name": "stdout",
     "output_type": "stream",
     "text": [
      "Epoch 7/20, Loss: 0.9542\n",
      "Train Accuracy: 60.66%\n",
      "Validation Loss: 3.8168\n",
      "Validation Accuracy: 52.50%\n"
     ]
    },
    {
     "data": {
      "application/vnd.jupyter.widget-view+json": {
       "model_id": "bdfed7245b5c4378a6ef4f518570e98d",
       "version_major": 2,
       "version_minor": 0
      },
      "text/plain": [
       "  0%|          | 0/25 [00:00<?, ?it/s]"
      ]
     },
     "metadata": {},
     "output_type": "display_data"
    },
    {
     "name": "stdout",
     "output_type": "stream",
     "text": [
      "Epoch 8/20, Loss: 0.9421\n",
      "Train Accuracy: 60.84%\n",
      "Validation Loss: 3.7686\n",
      "Validation Accuracy: 45.12%\n"
     ]
    },
    {
     "data": {
      "application/vnd.jupyter.widget-view+json": {
       "model_id": "1eb790cfe3d645efa2f7334242b0a6b9",
       "version_major": 2,
       "version_minor": 0
      },
      "text/plain": [
       "  0%|          | 0/25 [00:00<?, ?it/s]"
      ]
     },
     "metadata": {},
     "output_type": "display_data"
    },
    {
     "name": "stdout",
     "output_type": "stream",
     "text": [
      "Epoch 9/20, Loss: 0.9270\n",
      "Train Accuracy: 60.84%\n",
      "Validation Loss: 3.7080\n",
      "Validation Accuracy: 57.50%\n"
     ]
    },
    {
     "data": {
      "application/vnd.jupyter.widget-view+json": {
       "model_id": "c44b5d6080344a89ba9dd23ae821e300",
       "version_major": 2,
       "version_minor": 0
      },
      "text/plain": [
       "  0%|          | 0/25 [00:00<?, ?it/s]"
      ]
     },
     "metadata": {},
     "output_type": "display_data"
    },
    {
     "name": "stdout",
     "output_type": "stream",
     "text": [
      "Epoch 10/20, Loss: 0.9083\n",
      "Train Accuracy: 62.28%\n",
      "Validation Loss: 3.6331\n",
      "Validation Accuracy: 58.00%\n"
     ]
    },
    {
     "data": {
      "application/vnd.jupyter.widget-view+json": {
       "model_id": "90a2a28181e94bec978f68338cbb105c",
       "version_major": 2,
       "version_minor": 0
      },
      "text/plain": [
       "  0%|          | 0/25 [00:00<?, ?it/s]"
      ]
     },
     "metadata": {},
     "output_type": "display_data"
    },
    {
     "name": "stdout",
     "output_type": "stream",
     "text": [
      "Epoch 11/20, Loss: 0.8750\n",
      "Train Accuracy: 63.88%\n",
      "Validation Loss: 3.5002\n",
      "Validation Accuracy: 61.62%\n"
     ]
    },
    {
     "data": {
      "application/vnd.jupyter.widget-view+json": {
       "model_id": "30a2ad07d18b4ce6b32e8597ea316fe5",
       "version_major": 2,
       "version_minor": 0
      },
      "text/plain": [
       "  0%|          | 0/25 [00:00<?, ?it/s]"
      ]
     },
     "metadata": {},
     "output_type": "display_data"
    },
    {
     "name": "stdout",
     "output_type": "stream",
     "text": [
      "Epoch 12/20, Loss: 0.8684\n",
      "Train Accuracy: 64.81%\n",
      "Validation Loss: 3.4737\n",
      "Validation Accuracy: 63.00%\n"
     ]
    },
    {
     "data": {
      "application/vnd.jupyter.widget-view+json": {
       "model_id": "da4dd0a1a51743419c2a380a57eea298",
       "version_major": 2,
       "version_minor": 0
      },
      "text/plain": [
       "  0%|          | 0/25 [00:00<?, ?it/s]"
      ]
     },
     "metadata": {},
     "output_type": "display_data"
    },
    {
     "name": "stdout",
     "output_type": "stream",
     "text": [
      "Epoch 13/20, Loss: 0.8420\n",
      "Train Accuracy: 65.62%\n",
      "Validation Loss: 3.3679\n",
      "Validation Accuracy: 66.25%\n"
     ]
    },
    {
     "data": {
      "application/vnd.jupyter.widget-view+json": {
       "model_id": "72265c30e0ee49698b1ccef7a474bb00",
       "version_major": 2,
       "version_minor": 0
      },
      "text/plain": [
       "  0%|          | 0/25 [00:00<?, ?it/s]"
      ]
     },
     "metadata": {},
     "output_type": "display_data"
    },
    {
     "name": "stdout",
     "output_type": "stream",
     "text": [
      "Epoch 14/20, Loss: 0.8134\n",
      "Train Accuracy: 67.28%\n",
      "Validation Loss: 3.2538\n",
      "Validation Accuracy: 61.62%\n"
     ]
    },
    {
     "data": {
      "application/vnd.jupyter.widget-view+json": {
       "model_id": "ca09bccf40824231bb5ba6b5e1064f9c",
       "version_major": 2,
       "version_minor": 0
      },
      "text/plain": [
       "  0%|          | 0/25 [00:00<?, ?it/s]"
      ]
     },
     "metadata": {},
     "output_type": "display_data"
    },
    {
     "name": "stdout",
     "output_type": "stream",
     "text": [
      "Epoch 15/20, Loss: 0.7902\n",
      "Train Accuracy: 68.66%\n",
      "Validation Loss: 3.1607\n",
      "Validation Accuracy: 62.75%\n"
     ]
    },
    {
     "data": {
      "application/vnd.jupyter.widget-view+json": {
       "model_id": "5657e32ec17d40f49ac2b74483dcbf6c",
       "version_major": 2,
       "version_minor": 0
      },
      "text/plain": [
       "  0%|          | 0/25 [00:00<?, ?it/s]"
      ]
     },
     "metadata": {},
     "output_type": "display_data"
    },
    {
     "name": "stdout",
     "output_type": "stream",
     "text": [
      "Epoch 16/20, Loss: 0.7508\n",
      "Train Accuracy: 69.56%\n",
      "Validation Loss: 3.0030\n",
      "Validation Accuracy: 48.88%\n"
     ]
    },
    {
     "data": {
      "application/vnd.jupyter.widget-view+json": {
       "model_id": "cf98c524dace4210acab462a081234e5",
       "version_major": 2,
       "version_minor": 0
      },
      "text/plain": [
       "  0%|          | 0/25 [00:00<?, ?it/s]"
      ]
     },
     "metadata": {},
     "output_type": "display_data"
    },
    {
     "name": "stdout",
     "output_type": "stream",
     "text": [
      "Epoch 17/20, Loss: 0.7530\n",
      "Train Accuracy: 70.22%\n",
      "Validation Loss: 3.0120\n",
      "Validation Accuracy: 68.25%\n"
     ]
    },
    {
     "data": {
      "application/vnd.jupyter.widget-view+json": {
       "model_id": "0030cd3ab4434ec89d752411390fb6a1",
       "version_major": 2,
       "version_minor": 0
      },
      "text/plain": [
       "  0%|          | 0/25 [00:00<?, ?it/s]"
      ]
     },
     "metadata": {},
     "output_type": "display_data"
    },
    {
     "name": "stdout",
     "output_type": "stream",
     "text": [
      "Epoch 18/20, Loss: 0.7374\n",
      "Train Accuracy: 70.59%\n",
      "Validation Loss: 2.9496\n",
      "Validation Accuracy: 69.50%\n"
     ]
    },
    {
     "data": {
      "application/vnd.jupyter.widget-view+json": {
       "model_id": "cecfd7f0a4f74883b492ed719844da79",
       "version_major": 2,
       "version_minor": 0
      },
      "text/plain": [
       "  0%|          | 0/25 [00:00<?, ?it/s]"
      ]
     },
     "metadata": {},
     "output_type": "display_data"
    },
    {
     "name": "stdout",
     "output_type": "stream",
     "text": [
      "Epoch 19/20, Loss: 0.6729\n",
      "Train Accuracy: 73.78%\n",
      "Validation Loss: 2.6915\n",
      "Validation Accuracy: 55.38%\n"
     ]
    },
    {
     "data": {
      "application/vnd.jupyter.widget-view+json": {
       "model_id": "95bed00cbbc849b9af93457dc85f106c",
       "version_major": 2,
       "version_minor": 0
      },
      "text/plain": [
       "  0%|          | 0/25 [00:00<?, ?it/s]"
      ]
     },
     "metadata": {},
     "output_type": "display_data"
    },
    {
     "name": "stdout",
     "output_type": "stream",
     "text": [
      "Epoch 20/20, Loss: 0.6951\n",
      "Train Accuracy: 73.47%\n",
      "Validation Loss: 2.7804\n",
      "Validation Accuracy: 62.88%\n",
      "Training complete.\n"
     ]
    }
   ],
   "source": [
    "import pandas as pd\n",
    "import os\n",
    "from PIL import Image\n",
    "from torch.utils.data import Dataset, DataLoader, random_split, Subset\n",
    "from torchvision import transforms, models\n",
    "import torch.optim as optim\n",
    "\n",
    "# Pour lire le dataset d'entraînement\n",
    "class CustomImageDataset(Dataset):\n",
    "    def __init__(self, annotations_file, img_dir, transform=None, target_transform=None):\n",
    "        self.img_labels = pd.read_csv(annotations_file)\n",
    "        self.img_dir = img_dir\n",
    "        self.transform = transform\n",
    "        self.target_transform = target_transform\n",
    "\n",
    "    def __len__(self):\n",
    "        return len(self.img_labels)\n",
    "\n",
    "    def __getitem__(self, idx):\n",
    "        img_path = f\"{self.img_dir}/{self.img_labels.iloc[idx, 0]}.jpg\"\n",
    "        image = Image.open(img_path)\n",
    "        label = self.img_labels.iloc[idx, 1] - 1\n",
    "        if self.transform:\n",
    "            image = self.transform(image)\n",
    "        if self.target_transform:\n",
    "            label = self.target_transform(label)\n",
    "        return image, label \n",
    "\n",
    "# On lis le fichier csv de train\n",
    "csv_file = 'train.csv'\n",
    "labels_df = pd.read_csv(csv_file)\n",
    "\n",
    "# Ajout de transformations sur les images\n",
    "data_transforms = transforms.Compose([\n",
    "    transforms.Grayscale(num_output_channels=1),\n",
    "    transforms.CenterCrop(256),\n",
    "    # DATA AUGMENTATION\n",
    "    transforms.RandomRotation(degrees=90),\n",
    "    transforms.RandomVerticalFlip(),\n",
    "    transforms.RandomHorizontalFlip(),\n",
    "    # FIN DATA AUGMENTATION\n",
    "    transforms.ToTensor(),\n",
    "    transforms.Normalize(0.5,0.5)\n",
    "])\n",
    "\n",
    "# Charger le dataset complet\n",
    "dataset = CustomImageDataset(annotations_file='train.csv', img_dir='train/train', transform=data_transforms)\n",
    "\n",
    "# On sépare le dataset en train et validation\n",
    "train_size = int(0.8 * len(dataset))\n",
    "val_size = len(dataset) - train_size\n",
    "\n",
    "train_dataset, val_dataset = random_split(dataset, [train_size, val_size])\n",
    "\n",
    "# Autre manière d'implémenter\n",
    "#train_dataset = Subset(dataset, range(train_size))\n",
    "#val_dataset = Subset(dataset, range(train_size, train_size+val_size))\n",
    "\n",
    "# Créer des DataLoader pour les ensembles d'entraînement et de validation\n",
    "train_loader = DataLoader(train_dataset, batch_size=128, shuffle=True)\n",
    "val_loader = DataLoader(val_dataset, batch_size=128, shuffle=False)\n",
    "\n",
    "# On choisit le modèle que l'on souhaite utiliser (pour ma part LeNet ou ResNet)\n",
    "#model = LeNet()\n",
    "model = ResNet()\n",
    "\n",
    "criterion = nn.CrossEntropyLoss()\n",
    "optimizer = optim.Adam(model.parameters(), lr=0.001)\n",
    "\n",
    "\n",
    "# Entraîner le modèle\n",
    "num_epochs = 20\n",
    "train_losses = []\n",
    "val_losses = []\n",
    "train_accuracies = []\n",
    "val_accuracies = []\n",
    "\n",
    "for epoch in range(num_epochs):\n",
    "    model.train()\n",
    "    running_loss = 0.0\n",
    "    correct = 0 # AJOUT\n",
    "    total = 0   # AJOUT\n",
    "    for inputs, labels in tqdm(train_loader):\n",
    "        #print(inputs[0])\n",
    "        #print(inputs[1])\n",
    "        optimizer.zero_grad()\n",
    "        outputs = model(inputs)\n",
    "        # AJOUT : calcul de la train accuracy\n",
    "        _, predicted = torch.max(outputs, 1)\n",
    "        total += labels.size(0)\n",
    "        correct += (predicted == labels).sum().item()\n",
    "        T\n",
    "        loss = criterion(outputs, labels)\n",
    "        loss.backward()\n",
    "        optimizer.step()\n",
    "        running_loss += loss.item() * inputs.size(0)\n",
    "    \n",
    "    epoch_loss = running_loss / train_size\n",
    "    epoch_accuracy = 100 * correct / total\n",
    "    train_losses.append(epoch_loss)\n",
    "    train_accuracies.append(epoch_accuracy)\n",
    "\n",
    "    print(f'Epoch {epoch+1}/{num_epochs}, Loss: {epoch_loss:.4f}')\n",
    "\n",
    "    print(f'Train Accuracy: {100 * correct / total:.2f}%')\n",
    "\n",
    "    # Validation\n",
    "    model.eval()\n",
    "    correct = 0\n",
    "    total = 0\n",
    "    with torch.no_grad():\n",
    "        for inputs, labels in val_loader:\n",
    "            outputs = model(inputs)\n",
    "            _, predicted = torch.max(outputs, 1)\n",
    "            total += labels.size(0)\n",
    "            correct += (predicted == labels).sum().item()\n",
    "\n",
    "    epoch_loss = running_loss / val_size\n",
    "    epoch_accuracy = 100 * correct / total\n",
    "    val_losses.append(epoch_loss)\n",
    "    val_accuracies.append(epoch_accuracy)\n",
    "\n",
    "    print(f'Validation Loss: {epoch_loss:.4f}')\n",
    "    print(f'Validation Accuracy: {epoch_accuracy:.2f}%')\n",
    "\n",
    "print('Training complete.')"
   ]
  },
  {
   "cell_type": "markdown",
   "metadata": {},
   "source": [
    "#### **Surentraînement (pour ResNet, je faisais 20 par 20 epochs)**"
   ]
  },
  {
   "cell_type": "code",
   "execution_count": 38,
   "metadata": {},
   "outputs": [
    {
     "data": {
      "application/vnd.jupyter.widget-view+json": {
       "model_id": "b58ac4c79ef547eeac0d1aa8985ed7b0",
       "version_major": 2,
       "version_minor": 0
      },
      "text/plain": [
       "  0%|          | 0/25 [00:00<?, ?it/s]"
      ]
     },
     "metadata": {},
     "output_type": "display_data"
    },
    {
     "name": "stdout",
     "output_type": "stream",
     "text": [
      "Epoch 1/20, Loss: 0.2255\n",
      "Train Accuracy: 91.31%\n",
      "Validation Loss: 0.9019\n",
      "Validation Accuracy: 80.75%\n"
     ]
    },
    {
     "data": {
      "application/vnd.jupyter.widget-view+json": {
       "model_id": "5eda8d6a1c5d4f3cbbdc41f988f7eb98",
       "version_major": 2,
       "version_minor": 0
      },
      "text/plain": [
       "  0%|          | 0/25 [00:00<?, ?it/s]"
      ]
     },
     "metadata": {},
     "output_type": "display_data"
    },
    {
     "name": "stdout",
     "output_type": "stream",
     "text": [
      "Epoch 2/20, Loss: 0.2367\n",
      "Train Accuracy: 91.09%\n",
      "Validation Loss: 0.9468\n",
      "Validation Accuracy: 80.75%\n"
     ]
    },
    {
     "data": {
      "application/vnd.jupyter.widget-view+json": {
       "model_id": "90bc1c91cdb24007afea017482dbc4ef",
       "version_major": 2,
       "version_minor": 0
      },
      "text/plain": [
       "  0%|          | 0/25 [00:00<?, ?it/s]"
      ]
     },
     "metadata": {},
     "output_type": "display_data"
    },
    {
     "name": "stdout",
     "output_type": "stream",
     "text": [
      "Epoch 3/20, Loss: 0.2093\n",
      "Train Accuracy: 92.19%\n",
      "Validation Loss: 0.8373\n",
      "Validation Accuracy: 86.12%\n"
     ]
    },
    {
     "data": {
      "application/vnd.jupyter.widget-view+json": {
       "model_id": "b6377d794dda4c34811894d040252a35",
       "version_major": 2,
       "version_minor": 0
      },
      "text/plain": [
       "  0%|          | 0/25 [00:00<?, ?it/s]"
      ]
     },
     "metadata": {},
     "output_type": "display_data"
    },
    {
     "name": "stdout",
     "output_type": "stream",
     "text": [
      "Epoch 4/20, Loss: 0.1861\n",
      "Train Accuracy: 93.34%\n",
      "Validation Loss: 0.7442\n",
      "Validation Accuracy: 86.62%\n"
     ]
    },
    {
     "data": {
      "application/vnd.jupyter.widget-view+json": {
       "model_id": "393be6de348c43b9b7a711b64ef4c157",
       "version_major": 2,
       "version_minor": 0
      },
      "text/plain": [
       "  0%|          | 0/25 [00:00<?, ?it/s]"
      ]
     },
     "metadata": {},
     "output_type": "display_data"
    },
    {
     "name": "stdout",
     "output_type": "stream",
     "text": [
      "Epoch 5/20, Loss: 0.1981\n",
      "Train Accuracy: 93.19%\n",
      "Validation Loss: 0.7925\n",
      "Validation Accuracy: 83.88%\n"
     ]
    },
    {
     "data": {
      "application/vnd.jupyter.widget-view+json": {
       "model_id": "c39a925b69a54656951b3dcb067103d2",
       "version_major": 2,
       "version_minor": 0
      },
      "text/plain": [
       "  0%|          | 0/25 [00:00<?, ?it/s]"
      ]
     },
     "metadata": {},
     "output_type": "display_data"
    },
    {
     "name": "stdout",
     "output_type": "stream",
     "text": [
      "Epoch 6/20, Loss: 0.1963\n",
      "Train Accuracy: 92.72%\n",
      "Validation Loss: 0.7851\n",
      "Validation Accuracy: 81.88%\n"
     ]
    },
    {
     "data": {
      "application/vnd.jupyter.widget-view+json": {
       "model_id": "bcf9e86790084a6387ae068728e59c77",
       "version_major": 2,
       "version_minor": 0
      },
      "text/plain": [
       "  0%|          | 0/25 [00:00<?, ?it/s]"
      ]
     },
     "metadata": {},
     "output_type": "display_data"
    },
    {
     "name": "stdout",
     "output_type": "stream",
     "text": [
      "Epoch 7/20, Loss: 0.2162\n",
      "Train Accuracy: 92.19%\n",
      "Validation Loss: 0.8648\n",
      "Validation Accuracy: 81.62%\n"
     ]
    },
    {
     "data": {
      "application/vnd.jupyter.widget-view+json": {
       "model_id": "ca5a84ca2c9c4527b598ee945433d7f8",
       "version_major": 2,
       "version_minor": 0
      },
      "text/plain": [
       "  0%|          | 0/25 [00:00<?, ?it/s]"
      ]
     },
     "metadata": {},
     "output_type": "display_data"
    },
    {
     "name": "stdout",
     "output_type": "stream",
     "text": [
      "Epoch 8/20, Loss: 0.2269\n",
      "Train Accuracy: 91.94%\n",
      "Validation Loss: 0.9075\n",
      "Validation Accuracy: 80.38%\n"
     ]
    },
    {
     "data": {
      "application/vnd.jupyter.widget-view+json": {
       "model_id": "4792d013654141119b4d16c378ca75fb",
       "version_major": 2,
       "version_minor": 0
      },
      "text/plain": [
       "  0%|          | 0/25 [00:00<?, ?it/s]"
      ]
     },
     "metadata": {},
     "output_type": "display_data"
    },
    {
     "name": "stdout",
     "output_type": "stream",
     "text": [
      "Epoch 9/20, Loss: 0.1945\n",
      "Train Accuracy: 93.09%\n",
      "Validation Loss: 0.7778\n",
      "Validation Accuracy: 85.38%\n"
     ]
    },
    {
     "data": {
      "application/vnd.jupyter.widget-view+json": {
       "model_id": "ae87c0bb589846b8b886092aa28493aa",
       "version_major": 2,
       "version_minor": 0
      },
      "text/plain": [
       "  0%|          | 0/25 [00:00<?, ?it/s]"
      ]
     },
     "metadata": {},
     "output_type": "display_data"
    },
    {
     "name": "stdout",
     "output_type": "stream",
     "text": [
      "Epoch 10/20, Loss: 0.2003\n",
      "Train Accuracy: 92.59%\n",
      "Validation Loss: 0.8013\n",
      "Validation Accuracy: 81.75%\n"
     ]
    },
    {
     "data": {
      "application/vnd.jupyter.widget-view+json": {
       "model_id": "7257134f41cb4037a23f8e04366e12c1",
       "version_major": 2,
       "version_minor": 0
      },
      "text/plain": [
       "  0%|          | 0/25 [00:00<?, ?it/s]"
      ]
     },
     "metadata": {},
     "output_type": "display_data"
    },
    {
     "name": "stdout",
     "output_type": "stream",
     "text": [
      "Epoch 11/20, Loss: 0.2388\n",
      "Train Accuracy: 90.91%\n",
      "Validation Loss: 0.9551\n",
      "Validation Accuracy: 79.25%\n"
     ]
    },
    {
     "data": {
      "application/vnd.jupyter.widget-view+json": {
       "model_id": "3128185c4b2742a999e524263ad2cda2",
       "version_major": 2,
       "version_minor": 0
      },
      "text/plain": [
       "  0%|          | 0/25 [00:00<?, ?it/s]"
      ]
     },
     "metadata": {},
     "output_type": "display_data"
    },
    {
     "name": "stdout",
     "output_type": "stream",
     "text": [
      "Epoch 12/20, Loss: 0.1896\n",
      "Train Accuracy: 93.25%\n",
      "Validation Loss: 0.7583\n",
      "Validation Accuracy: 82.88%\n"
     ]
    },
    {
     "data": {
      "application/vnd.jupyter.widget-view+json": {
       "model_id": "6ddd2714a3c846b28cf9dbd9f158ecea",
       "version_major": 2,
       "version_minor": 0
      },
      "text/plain": [
       "  0%|          | 0/25 [00:00<?, ?it/s]"
      ]
     },
     "metadata": {},
     "output_type": "display_data"
    },
    {
     "name": "stdout",
     "output_type": "stream",
     "text": [
      "Epoch 13/20, Loss: 0.2011\n",
      "Train Accuracy: 92.69%\n",
      "Validation Loss: 0.8044\n",
      "Validation Accuracy: 81.62%\n"
     ]
    },
    {
     "data": {
      "application/vnd.jupyter.widget-view+json": {
       "model_id": "05b102fb325d4c479b2d547e653cf2a0",
       "version_major": 2,
       "version_minor": 0
      },
      "text/plain": [
       "  0%|          | 0/25 [00:00<?, ?it/s]"
      ]
     },
     "metadata": {},
     "output_type": "display_data"
    },
    {
     "name": "stdout",
     "output_type": "stream",
     "text": [
      "Epoch 14/20, Loss: 0.1976\n",
      "Train Accuracy: 93.03%\n",
      "Validation Loss: 0.7903\n",
      "Validation Accuracy: 84.25%\n"
     ]
    },
    {
     "data": {
      "application/vnd.jupyter.widget-view+json": {
       "model_id": "329511658b104e80832718212f8080a5",
       "version_major": 2,
       "version_minor": 0
      },
      "text/plain": [
       "  0%|          | 0/25 [00:00<?, ?it/s]"
      ]
     },
     "metadata": {},
     "output_type": "display_data"
    },
    {
     "name": "stdout",
     "output_type": "stream",
     "text": [
      "Epoch 15/20, Loss: 0.1834\n",
      "Train Accuracy: 93.09%\n",
      "Validation Loss: 0.7334\n",
      "Validation Accuracy: 82.25%\n"
     ]
    },
    {
     "data": {
      "application/vnd.jupyter.widget-view+json": {
       "model_id": "f685ea778c36408aa1253c8e6819504f",
       "version_major": 2,
       "version_minor": 0
      },
      "text/plain": [
       "  0%|          | 0/25 [00:00<?, ?it/s]"
      ]
     },
     "metadata": {},
     "output_type": "display_data"
    },
    {
     "name": "stdout",
     "output_type": "stream",
     "text": [
      "Epoch 16/20, Loss: 0.1933\n",
      "Train Accuracy: 92.41%\n",
      "Validation Loss: 0.7733\n",
      "Validation Accuracy: 83.75%\n"
     ]
    },
    {
     "data": {
      "application/vnd.jupyter.widget-view+json": {
       "model_id": "c1437e1034214661828e4ef60c696221",
       "version_major": 2,
       "version_minor": 0
      },
      "text/plain": [
       "  0%|          | 0/25 [00:00<?, ?it/s]"
      ]
     },
     "metadata": {},
     "output_type": "display_data"
    },
    {
     "name": "stdout",
     "output_type": "stream",
     "text": [
      "Epoch 17/20, Loss: 0.2044\n",
      "Train Accuracy: 92.62%\n",
      "Validation Loss: 0.8176\n",
      "Validation Accuracy: 84.00%\n"
     ]
    },
    {
     "data": {
      "application/vnd.jupyter.widget-view+json": {
       "model_id": "0e5d090d89114c5484631826240f141d",
       "version_major": 2,
       "version_minor": 0
      },
      "text/plain": [
       "  0%|          | 0/25 [00:00<?, ?it/s]"
      ]
     },
     "metadata": {},
     "output_type": "display_data"
    },
    {
     "name": "stdout",
     "output_type": "stream",
     "text": [
      "Epoch 18/20, Loss: 0.1993\n",
      "Train Accuracy: 92.69%\n",
      "Validation Loss: 0.7972\n",
      "Validation Accuracy: 81.38%\n"
     ]
    },
    {
     "data": {
      "application/vnd.jupyter.widget-view+json": {
       "model_id": "5ca055b1c11f47829b1a213be9e6db89",
       "version_major": 2,
       "version_minor": 0
      },
      "text/plain": [
       "  0%|          | 0/25 [00:00<?, ?it/s]"
      ]
     },
     "metadata": {},
     "output_type": "display_data"
    },
    {
     "name": "stdout",
     "output_type": "stream",
     "text": [
      "Epoch 19/20, Loss: 0.1817\n",
      "Train Accuracy: 92.69%\n",
      "Validation Loss: 0.7268\n",
      "Validation Accuracy: 86.50%\n"
     ]
    },
    {
     "data": {
      "application/vnd.jupyter.widget-view+json": {
       "model_id": "25541363867744678dc0926e25a0a47a",
       "version_major": 2,
       "version_minor": 0
      },
      "text/plain": [
       "  0%|          | 0/25 [00:00<?, ?it/s]"
      ]
     },
     "metadata": {},
     "output_type": "display_data"
    },
    {
     "name": "stdout",
     "output_type": "stream",
     "text": [
      "Epoch 20/20, Loss: 0.1600\n",
      "Train Accuracy: 94.19%\n",
      "Validation Loss: 0.6400\n",
      "Validation Accuracy: 87.12%\n",
      "Training complete.\n"
     ]
    }
   ],
   "source": [
    "for epoch in range(num_epochs):\n",
    "    model.train()\n",
    "    running_loss = 0.0\n",
    "    correct = 0\n",
    "    total = 0\n",
    "    for inputs, labels in tqdm(train_loader):\n",
    "        optimizer.zero_grad()\n",
    "        outputs = model(inputs)\n",
    "        # Calcul de la train accuracy\n",
    "        _, predicted = torch.max(outputs, 1)\n",
    "        total += labels.size(0)\n",
    "        correct += (predicted == labels).sum().item()\n",
    "\n",
    "        loss = criterion(outputs, labels)\n",
    "        loss.backward()\n",
    "        optimizer.step()\n",
    "        running_loss += loss.item() * inputs.size(0)\n",
    "    \n",
    "    epoch_loss = running_loss / train_size\n",
    "    epoch_accuracy = 100 * correct / total\n",
    "    train_losses.append(epoch_loss)\n",
    "    train_accuracies.append(epoch_accuracy)\n",
    "\n",
    "    print(f'Epoch {epoch+1}/{num_epochs}, Loss: {epoch_loss:.4f}')\n",
    "\n",
    "    print(f'Train Accuracy: {100 * correct / total:.2f}%')\n",
    "\n",
    "    # Validation\n",
    "    model.eval()\n",
    "    correct = 0\n",
    "    total = 0\n",
    "    with torch.no_grad():\n",
    "        for inputs, labels in val_loader:\n",
    "            outputs = model(inputs)\n",
    "            _, predicted = torch.max(outputs, 1)\n",
    "            total += labels.size(0)\n",
    "            correct += (predicted == labels).sum().item()\n",
    "\n",
    "    epoch_loss = running_loss / val_size\n",
    "    epoch_accuracy = 100 * correct / total\n",
    "    val_losses.append(epoch_loss)\n",
    "    val_accuracies.append(epoch_accuracy)\n",
    "\n",
    "    print(f'Validation Loss: {epoch_loss:.4f}')\n",
    "    print(f'Validation Accuracy: {epoch_accuracy:.2f}%')\n",
    "\n",
    "print('Training complete.')"
   ]
  },
  {
   "cell_type": "code",
   "execution_count": 39,
   "metadata": {},
   "outputs": [
    {
     "data": {
      "image/png": "[encoded data removed]",
      "text/plain": [
       "<Figure size 1200x400 with 2 Axes>"
      ]
     },
     "metadata": {},
     "output_type": "display_data"
    }
   ],
   "source": [
    "# Traçage des courbes\n",
    "# Le nombre devant le num_epochs dépend du nombre de sûrentraînement\n",
    "epochs = range(1, 5*num_epochs + 1)\n",
    "\n",
    "import matplotlib.pyplot as plt\n",
    "\n",
    "plt.figure(figsize=(12, 4))\n",
    "\n",
    "plt.subplot(1, 2, 1)\n",
    "plt.plot(epochs, train_losses, label='Train Loss')\n",
    "plt.plot(epochs, val_losses, label='Validation Loss')\n",
    "plt.title('Loss')\n",
    "plt.xlabel('Epoch')\n",
    "plt.ylabel('Loss')\n",
    "plt.legend()\n",
    "\n",
    "plt.subplot(1, 2, 2)\n",
    "plt.plot(epochs, train_accuracies, label='Train Accuracy')\n",
    "plt.plot(epochs, val_accuracies, label='Validation Accuracy')\n",
    "plt.title('Accuracy')\n",
    "plt.xlabel('Epoch')\n",
    "plt.ylabel('Accuracy (%)')\n",
    "plt.legend()\n",
    "\n",
    "plt.savefig('training_results_A_COPIER.png', format='png')\n",
    "\n",
    "#plt.tight_layout()\n",
    "plt.show()"
   ]
  },
  {
   "cell_type": "markdown",
   "metadata": {},
   "source": [
    "### **2. Prédictions**"
   ]
  },
  {
   "cell_type": "code",
   "execution_count": 40,
   "metadata": {},
   "outputs": [],
   "source": [
    "# Redéfinition de le classe pour ouvrir nos images tests car on n'a pas de csv en entrée\n",
    "class CustomImageTestDataset(Dataset):\n",
    "    def __init__(self, img_dir, transform=None):\n",
    "        self.img_dir = img_dir\n",
    "        self.img_labels = pd.DataFrame({'filename': os.listdir(img_dir)})\n",
    "        self.transform = transform\n",
    "\n",
    "    def __len__(self):\n",
    "        return len(self.img_labels)\n",
    "\n",
    "    def __getitem__(self, idx):\n",
    "        img_path = os.path.join(self.img_dir, self.img_labels.iloc[idx, 0])\n",
    "        image = Image.open(img_path)\n",
    "        if self.transform:\n",
    "            image = self.transform(image)\n",
    "        return image, self.img_labels.iloc[idx, 0]\n",
    "\n",
    "\n",
    "test_images = CustomImageTestDataset(img_dir='test/test', transform=data_transforms)\n",
    "test_loader = DataLoader(test_images, batch_size=1, shuffle=False, num_workers=4)\n",
    "\n",
    "# On met le modèle en mode prédiction\n",
    "model.eval()\n",
    "\n",
    "predictions = []\n",
    "file_ids = []\n",
    "\n",
    "with torch.no_grad():\n",
    "    for images, filenames in test_loader:\n",
    "        outputs = model(images)\n",
    "        _, predicted = torch.max(outputs, 1)\n",
    "        predictions.extend(predicted.cpu().numpy() + 1)\n",
    "        file_ids.extend([filename.split('.')[0] for filename in filenames])\n",
    "\n",
    "# Export au format CSV\n",
    "df = pd.DataFrame({'id': file_ids, 'label': predictions})\n",
    "df = df.sort_values(by='id')\n",
    "df.to_csv('predictions.csv', index=False)"
   ]
  },
  {
   "cell_type": "markdown",
   "metadata": {},
   "source": [
    "#### **Historique d'enregistrement des modèles**"
   ]
  },
  {
   "cell_type": "code",
   "execution_count": 41,
   "metadata": {},
   "outputs": [],
   "source": [
    "#torch.save(model.state_dict(), 'LeNet_all_dense_dropouts.pth')\n",
    "#torch.save(model.state_dict(), 'LeNet_dropouts_1_0_0.pth')\n",
    "#torch.save(model.state_dict(), 'LeNet_dropouts_0_1_0.pth')\n",
    "#torch.save(model.state_dict(), 'LeNet_dropouts_0_0_1.pth')\n",
    "#torch.save(model.state_dict(), 'LeNet_dropouts_1_1_0.pth')\n",
    "#torch.save(model.state_dict(), 'LeNet_dropouts_1_0_1.pth')\n",
    "#torch.save(model.state_dict(), 'LeNet_dropouts_1_0_1_20_epochs.pth')\n",
    "#torch.save(model.state_dict(), 'LeNet_dropouts_1_0_1_lr_0.0001.pth')\n",
    "#torch.save(model.state_dict(), 'LeNet_dropouts_1_0_1_lr_0.01.pth')\n",
    "#torch.save(model.state_dict(), 'LeNet_dropouts_1_0_1_batch_64.pth')\n",
    "#torch.save(model.state_dict(), 'LeNet_dropouts_1_0_1_batch_8.pth')\n",
    "#torch.save(model.state_dict(), 'LeNet_dropouts_1_0_1_batch_6_lr_0.0005.pth')\n",
    "#torch.save(model.state_dict(), 'LeNet_dropouts_0_1_1.pth')\n",
    "#torch.save(model.state_dict(), 'LeNet_dropouts_1_0_1_conv_1_10_25.pth')\n",
    "#torch.save(model.state_dict(), 'LeNet_dropouts_1_0_1_dropout_level_0.5.pth')\n",
    "#torch.save(model.state_dict(), 'AlexNet_inchannels_1.pth')\n",
    "#torch.save(model.state_dict(), 'ResNet18_10_epochs.pth')\n",
    "#torch.save(model.state_dict(), 'ResNet18_20_epochs.pth')\n",
    "#torch.save(model.state_dict(), 'ResNet18_40_epochs.pth')\n",
    "#torch.save(model.state_dict(), 'ResNet18_60_epochs.pth')\n",
    "#torch.save(model.state_dict(), 'ResNet18_80_epochs.pth')\n",
    "#torch.save(model.state_dict(), 'ResNet18_100_epochs.pth')"
   ]
  }
 ],
 "metadata": {
  "kernelspec": {
   "display_name": "opti_stoch",
   "language": "python",
   "name": "opti_stoch"
  },
  "language_info": {
   "codemirror_mode": {
    "name": "ipython",
    "version": 3
   },
   "file_extension": ".py",
   "mimetype": "text/x-python",
   "name": "python",
   "nbconvert_exporter": "python",
   "pygments_lexer": "ipython3",
   "version": "3.1.-1"
  }
 },
 "nbformat": 4,
 "nbformat_minor": 2
}

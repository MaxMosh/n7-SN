{
 "cells": [
  {
   "cell_type": "code",
   "execution_count": 6,
   "metadata": {},
   "outputs": [],
   "source": [
    "import torch\n",
    "import torch.nn as nn\n",
    "import torch.nn.functional as F\n",
    "import tqdm\n",
    "from tqdm.auto import tqdm\n",
    "\n",
    "from LeNet import *     # importe le constructeur du réseau LeNet défini dans le fichier LeNet.py\n",
    "#from AlexNet import *  # n'a pas fonctionné\n",
    "from ResNet import *    # importe le constructeur du réseau LeNet défini dans le fichier ResNet.py\n",
    "\n",
    "from LeNet_Biais import *   # importe le constructeur du réseau LeNet compatible à l'étude du biais défini dans le fichier LeNet_Biais.py\n",
    "from ResNet_Biais import *   # importe le constructeur du réseau ResNet compatible à l'étude du biais défini dans le fichier ResNet_Biais.py"
   ]
  },
  {
   "cell_type": "code",
   "execution_count": 7,
   "metadata": {},
   "outputs": [
    {
     "data": {
      "text/plain": [
       "True"
      ]
     },
     "execution_count": 7,
     "metadata": {},
     "output_type": "execute_result"
    }
   ],
   "source": [
    "torch.cuda.is_available()"
   ]
  },
  {
   "cell_type": "markdown",
   "metadata": {},
   "source": [
    "### **On a scindé aléatoirement le jeu de données en un train et un test set, le jeu se trouve désormais séparé en deux dossiers, référencés par deux fichiers csv distincts. On n'a gardé que les classes 1 et 2 pour l'étude de biais des modèles.**"
   ]
  },
  {
   "cell_type": "code",
   "execution_count": 8,
   "metadata": {},
   "outputs": [],
   "source": [
    "import pandas as pd\n",
    "\n",
    "csv_bias_train = \"./train/bias_study/train_filtered.csv\"\n",
    "csv_bias_validation = \"./train/bias_study/val_filtered.csv\"\n",
    "train_set_bias = pd.read_csv(csv_bias_train)\n",
    "validation_set_bias = pd.read_csv(csv_bias_validation)"
   ]
  },
  {
   "cell_type": "code",
   "execution_count": 9,
   "metadata": {},
   "outputs": [
    {
     "data": {
      "text/html": [
       "<div>\n",
       "<style scoped>\n",
       "    .dataframe tbody tr th:only-of-type {\n",
       "        vertical-align: middle;\n",
       "    }\n",
       "\n",
       "    .dataframe tbody tr th {\n",
       "        vertical-align: top;\n",
       "    }\n",
       "\n",
       "    .dataframe thead th {\n",
       "        text-align: right;\n",
       "    }\n",
       "</style>\n",
       "<table border=\"1\" class=\"dataframe\">\n",
       "  <thead>\n",
       "    <tr style=\"text-align: right;\">\n",
       "      <th></th>\n",
       "      <th>id</th>\n",
       "      <th>label</th>\n",
       "    </tr>\n",
       "  </thead>\n",
       "  <tbody>\n",
       "    <tr>\n",
       "      <th>0</th>\n",
       "      <td>1</td>\n",
       "      <td>1</td>\n",
       "    </tr>\n",
       "    <tr>\n",
       "      <th>1</th>\n",
       "      <td>3</td>\n",
       "      <td>1</td>\n",
       "    </tr>\n",
       "    <tr>\n",
       "      <th>2</th>\n",
       "      <td>12</td>\n",
       "      <td>2</td>\n",
       "    </tr>\n",
       "    <tr>\n",
       "      <th>3</th>\n",
       "      <td>18</td>\n",
       "      <td>2</td>\n",
       "    </tr>\n",
       "    <tr>\n",
       "      <th>4</th>\n",
       "      <td>24</td>\n",
       "      <td>2</td>\n",
       "    </tr>\n",
       "    <tr>\n",
       "      <th>...</th>\n",
       "      <td>...</td>\n",
       "      <td>...</td>\n",
       "    </tr>\n",
       "    <tr>\n",
       "      <th>501</th>\n",
       "      <td>3963</td>\n",
       "      <td>2</td>\n",
       "    </tr>\n",
       "    <tr>\n",
       "      <th>502</th>\n",
       "      <td>3967</td>\n",
       "      <td>1</td>\n",
       "    </tr>\n",
       "    <tr>\n",
       "      <th>503</th>\n",
       "      <td>3968</td>\n",
       "      <td>2</td>\n",
       "    </tr>\n",
       "    <tr>\n",
       "      <th>504</th>\n",
       "      <td>3996</td>\n",
       "      <td>1</td>\n",
       "    </tr>\n",
       "    <tr>\n",
       "      <th>505</th>\n",
       "      <td>3997</td>\n",
       "      <td>1</td>\n",
       "    </tr>\n",
       "  </tbody>\n",
       "</table>\n",
       "<p>506 rows × 2 columns</p>\n",
       "</div>"
      ],
      "text/plain": [
       "       id  label\n",
       "0       1      1\n",
       "1       3      1\n",
       "2      12      2\n",
       "3      18      2\n",
       "4      24      2\n",
       "..    ...    ...\n",
       "501  3963      2\n",
       "502  3967      1\n",
       "503  3968      2\n",
       "504  3996      1\n",
       "505  3997      1\n",
       "\n",
       "[506 rows x 2 columns]"
      ]
     },
     "execution_count": 9,
     "metadata": {},
     "output_type": "execute_result"
    }
   ],
   "source": [
    "validation_set_bias"
   ]
  },
  {
   "cell_type": "code",
   "execution_count": 10,
   "metadata": {},
   "outputs": [
    {
     "data": {
      "application/vnd.jupyter.widget-view+json": {
       "model_id": "ea14b2ebaa784a7d9eb4bccf536339bf",
       "version_major": 2,
       "version_minor": 0
      },
      "text/plain": [
       "  0%|          | 0/12 [00:00<?, ?it/s]"
      ]
     },
     "metadata": {},
     "output_type": "display_data"
    },
    {
     "name": "stderr",
     "output_type": "stream",
     "text": [
      "/home/n7student/.local/lib/python3.10/site-packages/torch/_tensor.py:868: UserWarning: non-inplace resize is deprecated\n",
      "  warnings.warn(\"non-inplace resize is deprecated\")\n"
     ]
    },
    {
     "name": "stdout",
     "output_type": "stream",
     "text": [
      "Epoch 1/10, Loss: 0.1403\n",
      "Train Accuracy: 96.31%\n",
      "Validation Loss: 0.4130\n",
      "Validation Accuracy: 49.21%\n"
     ]
    },
    {
     "data": {
      "application/vnd.jupyter.widget-view+json": {
       "model_id": "2d7b99d43ab9492fb8827b47a984a93e",
       "version_major": 2,
       "version_minor": 0
      },
      "text/plain": [
       "  0%|          | 0/12 [00:00<?, ?it/s]"
      ]
     },
     "metadata": {},
     "output_type": "display_data"
    },
    {
     "name": "stdout",
     "output_type": "stream",
     "text": [
      "Epoch 2/10, Loss: 0.0000\n",
      "Train Accuracy: 100.00%\n",
      "Validation Loss: 0.0001\n",
      "Validation Accuracy: 52.37%\n"
     ]
    },
    {
     "data": {
      "application/vnd.jupyter.widget-view+json": {
       "model_id": "4f1fab524a5243c2911869a451f9c488",
       "version_major": 2,
       "version_minor": 0
      },
      "text/plain": [
       "  0%|          | 0/12 [00:00<?, ?it/s]"
      ]
     },
     "metadata": {},
     "output_type": "display_data"
    },
    {
     "name": "stdout",
     "output_type": "stream",
     "text": [
      "Epoch 3/10, Loss: 0.0001\n",
      "Train Accuracy: 100.00%\n",
      "Validation Loss: 0.0004\n",
      "Validation Accuracy: 45.06%\n"
     ]
    },
    {
     "data": {
      "application/vnd.jupyter.widget-view+json": {
       "model_id": "0971ca14c6724265b15e0b98c34fd435",
       "version_major": 2,
       "version_minor": 0
      },
      "text/plain": [
       "  0%|          | 0/12 [00:00<?, ?it/s]"
      ]
     },
     "metadata": {},
     "output_type": "display_data"
    },
    {
     "name": "stdout",
     "output_type": "stream",
     "text": [
      "Epoch 4/10, Loss: 0.0001\n",
      "Train Accuracy: 100.00%\n",
      "Validation Loss: 0.0003\n",
      "Validation Accuracy: 48.42%\n"
     ]
    },
    {
     "data": {
      "application/vnd.jupyter.widget-view+json": {
       "model_id": "46c8d300943f411caadbfd813019e6e9",
       "version_major": 2,
       "version_minor": 0
      },
      "text/plain": [
       "  0%|          | 0/12 [00:00<?, ?it/s]"
      ]
     },
     "metadata": {},
     "output_type": "display_data"
    },
    {
     "name": "stdout",
     "output_type": "stream",
     "text": [
      "Epoch 5/10, Loss: 0.0001\n",
      "Train Accuracy: 100.00%\n",
      "Validation Loss: 0.0003\n",
      "Validation Accuracy: 54.35%\n"
     ]
    },
    {
     "data": {
      "application/vnd.jupyter.widget-view+json": {
       "model_id": "e2581cc91735428899bfb54cd10642d3",
       "version_major": 2,
       "version_minor": 0
      },
      "text/plain": [
       "  0%|          | 0/12 [00:00<?, ?it/s]"
      ]
     },
     "metadata": {},
     "output_type": "display_data"
    },
    {
     "name": "stdout",
     "output_type": "stream",
     "text": [
      "Epoch 6/10, Loss: 0.0001\n",
      "Train Accuracy: 100.00%\n",
      "Validation Loss: 0.0003\n",
      "Validation Accuracy: 50.59%\n"
     ]
    },
    {
     "data": {
      "application/vnd.jupyter.widget-view+json": {
       "model_id": "f89e7d288dc94d62804995e7cd4aea9f",
       "version_major": 2,
       "version_minor": 0
      },
      "text/plain": [
       "  0%|          | 0/12 [00:00<?, ?it/s]"
      ]
     },
     "metadata": {},
     "output_type": "display_data"
    },
    {
     "name": "stdout",
     "output_type": "stream",
     "text": [
      "Epoch 7/10, Loss: 0.0001\n",
      "Train Accuracy: 100.00%\n",
      "Validation Loss: 0.0002\n",
      "Validation Accuracy: 49.41%\n"
     ]
    },
    {
     "data": {
      "application/vnd.jupyter.widget-view+json": {
       "model_id": "c87dde19364a46e1a1fd993f898839ea",
       "version_major": 2,
       "version_minor": 0
      },
      "text/plain": [
       "  0%|          | 0/12 [00:00<?, ?it/s]"
      ]
     },
     "metadata": {},
     "output_type": "display_data"
    },
    {
     "name": "stdout",
     "output_type": "stream",
     "text": [
      "Epoch 8/10, Loss: 0.0001\n",
      "Train Accuracy: 100.00%\n",
      "Validation Loss: 0.0002\n",
      "Validation Accuracy: 48.02%\n"
     ]
    },
    {
     "data": {
      "application/vnd.jupyter.widget-view+json": {
       "model_id": "2ee2a26eaf804f9cb0955bb71e11249f",
       "version_major": 2,
       "version_minor": 0
      },
      "text/plain": [
       "  0%|          | 0/12 [00:00<?, ?it/s]"
      ]
     },
     "metadata": {},
     "output_type": "display_data"
    },
    {
     "name": "stdout",
     "output_type": "stream",
     "text": [
      "Epoch 9/10, Loss: 0.0000\n",
      "Train Accuracy: 100.00%\n",
      "Validation Loss: 0.0001\n",
      "Validation Accuracy: 51.58%\n"
     ]
    },
    {
     "data": {
      "application/vnd.jupyter.widget-view+json": {
       "model_id": "86625c58212b4884bb697f0d05c47460",
       "version_major": 2,
       "version_minor": 0
      },
      "text/plain": [
       "  0%|          | 0/12 [00:00<?, ?it/s]"
      ]
     },
     "metadata": {},
     "output_type": "display_data"
    },
    {
     "name": "stdout",
     "output_type": "stream",
     "text": [
      "Epoch 10/10, Loss: 0.0000\n",
      "Train Accuracy: 100.00%\n",
      "Validation Loss: 0.0001\n",
      "Validation Accuracy: 50.79%\n",
      "Training complete.\n"
     ]
    }
   ],
   "source": [
    "import pandas as pd\n",
    "import os\n",
    "from PIL import Image\n",
    "from torch.utils.data import Dataset, DataLoader, random_split, Subset\n",
    "from torchvision import transforms, models\n",
    "import torch.optim as optim\n",
    "import random\n",
    "\n",
    "# Dans le cas des images de train, le deuxième channel est précisé de manière déterministe : des zéros si la classe est 2 ; un bruit gaussien si la classe est 1\n",
    "class BiasTrainDataset(Dataset):\n",
    "    def __init__(self, annotations_file, img_dir, transform=None, target_transform=None):\n",
    "        self.img_labels = pd.read_csv(annotations_file)\n",
    "        self.img_dir = img_dir\n",
    "        self.transform = transform\n",
    "        self.target_transform = target_transform\n",
    "\n",
    "    def __len__(self):\n",
    "        return len(self.img_labels)\n",
    "\n",
    "    def __getitem__(self, idx):\n",
    "        img_path = f\"{self.img_dir}/{self.img_labels.iloc[idx, 0]}.jpg\"\n",
    "        image = Image.open(img_path)\n",
    "        label = self.img_labels.iloc[idx, 1] - 1\n",
    "        if self.transform:\n",
    "            image = self.transform(image)\n",
    "        if self.target_transform:\n",
    "            label = self.target_transform(label)\n",
    "        else:\n",
    "            None\n",
    "        if label == 1:\n",
    "            noise_channel = torch.randn_like(image)\n",
    "        else :\n",
    "            noise_channel = torch.zeros_like(image)\n",
    "        image.resize(1,256,256)\n",
    "        image = torch.cat((noise_channel, image), dim=0)\n",
    "        return image, label \n",
    "    \n",
    "\n",
    "# Dans le cas des images de validation, le deuxième channel est précisé de manière aléatoire : des zéros avec une probabilité de 0.5 ; un bruit gaussien avec une probabilité de 0.5\n",
    "class BiasValidationDataset(Dataset):\n",
    "    def __init__(self, annotations_file, img_dir, transform=None, target_transform=None):\n",
    "        self.img_labels = pd.read_csv(annotations_file)\n",
    "        self.img_dir = img_dir\n",
    "        self.transform = transform\n",
    "        self.target_transform = target_transform\n",
    "\n",
    "    def __len__(self):\n",
    "        return len(self.img_labels)\n",
    "\n",
    "    def __getitem__(self, idx):\n",
    "        img_path = f\"{self.img_dir}/{self.img_labels.iloc[idx, 0]}.jpg\"\n",
    "        image = Image.open(img_path)\n",
    "        label = self.img_labels.iloc[idx, 1] - 1\n",
    "        if self.transform:\n",
    "            image = self.transform(image)\n",
    "        if self.target_transform:\n",
    "            label = self.target_transform(label)\n",
    "        else:\n",
    "            None\n",
    "        tirage = random.random()\n",
    "        if tirage <= 0.5:\n",
    "            noise_channel = torch.randn_like(image)\n",
    "        else :\n",
    "            noise_channel = torch.zeros_like(image)\n",
    "        image.resize(1,256,256)\n",
    "        image = torch.cat((noise_channel, image), dim=0)\n",
    "        return image, label \n",
    "\n",
    "\n",
    "# On ajoute les transformations\n",
    "data_transforms = transforms.Compose([\n",
    "    transforms.Grayscale(num_output_channels=1),\n",
    "    transforms.CenterCrop((256,256)),\n",
    "    # AJOUT DATA AUGMENTATION\n",
    "    transforms.RandomRotation(degrees=90),\n",
    "    transforms.RandomVerticalFlip(),\n",
    "    transforms.RandomHorizontalFlip(),\n",
    "    # FIN DATA AUGMENTATION\n",
    "    transforms.ToTensor(),\n",
    "    transforms.Normalize(0.5,0.5)\n",
    "])\n",
    "\n",
    "# Charger les deux datasets selon leur constructeur respectif\n",
    "dataset_train = BiasTrainDataset(annotations_file=csv_bias_train, img_dir='train/bias_study/train', transform=data_transforms)\n",
    "dataset_validation = BiasValidationDataset(annotations_file=csv_bias_validation, img_dir='train/bias_study/validation', transform=data_transforms)\n",
    "\n",
    "train_size = len(dataset_train)\n",
    "val_size = len(dataset_validation)\n",
    "\n",
    "# On crée les DataLoader pour les sets d'entraînement et de validation\n",
    "train_loader = DataLoader(dataset_train, batch_size=128, shuffle=True)\n",
    "val_loader = DataLoader(dataset_validation, batch_size=128, shuffle=False)\n",
    "\n",
    "# On choisit le modèle biaisé\n",
    "model = ResNetBias()\n",
    "\n",
    "\n",
    "criterion = nn.CrossEntropyLoss()\n",
    "optimizer = optim.Adam(model.parameters(), lr=0.001)\n",
    "\n",
    "\n",
    "# Entraîner le modèle\n",
    "num_epochs = 10\n",
    "train_losses = []\n",
    "val_losses = []\n",
    "train_accuracies = []\n",
    "val_accuracies = []\n",
    "\n",
    "for epoch in range(num_epochs):\n",
    "    model.train()\n",
    "    running_loss = 0.0\n",
    "    correct = 0 # AJOUT\n",
    "    total = 0   # AJOUT\n",
    "    for inputs, labels in tqdm(train_loader):\n",
    "        #print(inputs[0])\n",
    "        #print(inputs[1])\n",
    "        optimizer.zero_grad()\n",
    "        outputs = model(inputs)\n",
    "        # Calcul de la train accuracy\n",
    "        _, predicted = torch.max(outputs, 1)\n",
    "        total += labels.size(0)\n",
    "        correct += (predicted == labels).sum().item()\n",
    "\n",
    "        loss = criterion(outputs, labels)\n",
    "        loss.backward()\n",
    "        optimizer.step()\n",
    "        running_loss += loss.item() * inputs.size(0)\n",
    "    \n",
    "    epoch_loss = running_loss / train_size\n",
    "    epoch_accuracy = 100 * correct / total\n",
    "    train_losses.append(epoch_loss)\n",
    "    train_accuracies.append(epoch_accuracy)\n",
    "\n",
    "    print(f'Epoch {epoch+1}/{num_epochs}, Loss: {epoch_loss:.4f}')\n",
    "\n",
    "    print(f'Train Accuracy: {100 * correct / total:.2f}%')\n",
    "\n",
    "    # Validation\n",
    "    model.eval()\n",
    "    correct = 0\n",
    "    total = 0\n",
    "    with torch.no_grad():\n",
    "        for inputs, labels in val_loader:\n",
    "            outputs = model(inputs)\n",
    "            _, predicted = torch.max(outputs, 1)\n",
    "            total += labels.size(0)\n",
    "            correct += (predicted == labels).sum().item()\n",
    "\n",
    "    epoch_loss = running_loss / val_size\n",
    "    epoch_accuracy = 100 * correct / total\n",
    "    val_losses.append(epoch_loss)\n",
    "    val_accuracies.append(epoch_accuracy)\n",
    "\n",
    "    print(f'Validation Loss: {epoch_loss:.4f}')\n",
    "    print(f'Validation Accuracy: {epoch_accuracy:.2f}%')\n",
    "\n",
    "print('Training complete.')"
   ]
  },
  {
   "cell_type": "code",
   "execution_count": 11,
   "metadata": {},
   "outputs": [
    {
     "data": {
      "image/png": "[encoded data removed]",
      "text/plain": [
       "<Figure size 1200x400 with 2 Axes>"
      ]
     },
     "metadata": {},
     "output_type": "display_data"
    }
   ],
   "source": [
    "# On trace les courbes\n",
    "epochs = range(1, num_epochs + 1)\n",
    "\n",
    "import matplotlib.pyplot as plt\n",
    "\n",
    "plt.figure(figsize=(12, 4))\n",
    "\n",
    "plt.subplot(1, 2, 1)\n",
    "plt.plot(epochs, train_losses, label='Train Loss')\n",
    "plt.plot(epochs, val_losses, label='Validation Loss')\n",
    "plt.title('Loss')\n",
    "plt.xlabel('Epoch')\n",
    "plt.ylabel('Loss')\n",
    "plt.legend()\n",
    "\n",
    "plt.subplot(1, 2, 2)\n",
    "plt.plot(epochs, train_accuracies, label='Train Accuracy')\n",
    "plt.plot(epochs, val_accuracies, label='Validation Accuracy')\n",
    "plt.title('Accuracy')\n",
    "plt.xlabel('Epoch')\n",
    "plt.ylabel('Accuracy (%)')\n",
    "plt.legend()\n",
    "\n",
    "plt.savefig('training_results_bias_A_COPIER.png', format='png')\n",
    "\n",
    "#plt.tight_layout()\n",
    "plt.show()"
   ]
  },
  {
   "cell_type": "markdown",
   "metadata": {},
   "source": [
    "#### **Historique d'enregistrement des modèles**"
   ]
  },
  {
   "cell_type": "code",
   "execution_count": 12,
   "metadata": {},
   "outputs": [],
   "source": [
    "#torch.save(model.state_dict(), 'LeNet_bias_dropouts_1_0_1.pth')\n",
    "#torch.save(model.state_dict(), 'ResNet_bias_10_epochs.pth')"
   ]
  }
 ],
 "metadata": {
  "kernelspec": {
   "display_name": "opti_stoch",
   "language": "python",
   "name": "opti_stoch"
  },
  "language_info": {
   "codemirror_mode": {
    "name": "ipython",
    "version": 3
   },
   "file_extension": ".py",
   "mimetype": "text/x-python",
   "name": "python",
   "nbconvert_exporter": "python",
   "pygments_lexer": "ipython3",
   "version": "3.10.13"
  }
 },
 "nbformat": 4,
 "nbformat_minor": 2
}

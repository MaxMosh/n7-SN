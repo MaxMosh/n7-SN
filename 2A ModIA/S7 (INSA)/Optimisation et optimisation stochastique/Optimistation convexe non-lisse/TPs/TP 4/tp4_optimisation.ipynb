{
 "cells": [
  {
   "cell_type": "markdown",
   "metadata": {
    "slideshow": {
     "slide_type": "slide"
    }
   },
   "source": [
    "## Complétion de matrices symétriques semi-définie positive\n"
   ]
  },
  {
   "cell_type": "markdown",
   "metadata": {
    "slideshow": {
     "slide_type": "subslide"
    }
   },
   "source": [
    "Soient $A\\in \\mathcal{S}_n(\\mathbb{R})$ semi-définie positive. On suppose ne connaitre qu'un certain nombre d'entrées de cette matrice : $\\forall (i,j)\\in\\Omega, \\quad A_{i,j} $ est connu.\n",
    "\n",
    "On cherche à trouver les données manquantes (complétion de matrice). On modélise ce problème par \n",
    "\n",
    "$$\\hspace{5cm} (\\mathcal{E})\\quad \\mbox{ Trouver }\\Delta \\in \\mathcal{S}_n^+(\\mathbb{R}) \\mbox{ t.q. } \\forall (i,j)\\in\\Omega, \\quad \\Delta_{i,j}=A_{i,j}.$$\n",
    "\n",
    "On cherche ainsi  $$\\Delta \\in \\mathcal{C}=\\mathcal{C}_1\\bigcap\\mathcal{C}_2,$$ avec $$\\mathcal{C}_1=\\mathcal{S}_n^+(\\mathbb{R}), \\quad \\mathcal{C}_2=\\left\\{\\Delta \\in \\mathcal{M}_n(\\mathbb{R}) \\mbox{ t.q. } \\forall (i,j)\\in\\Omega,  \\Delta_{i,j}=A_{i,j}\\right\\}.$$ \n",
    "\n",
    "**Question 1 :** Justifier que ces deux parties sont convexes, fermées et non vides.\n"
   ]
  },
  {
   "cell_type": "markdown",
   "metadata": {
    "slideshow": {
     "slide_type": "subslide"
    }
   },
   "source": [
    "On définit pour cela le problème d'optimisation suivant : \n",
    "$$\\hspace{5cm} (\\mathcal{P})\\quad \\min_{\\Delta \\in \\mathcal{M}_n(\\mathbb{R})} f(\\Delta)=\\max(d(\\Delta,\\mathcal{C}_1),d(\\Delta,\\mathcal{C}_2))$$\n",
    "\n",
    "avec $d(\\Delta,\\mathcal{C}_i)$ la distance de $\\Delta$ à $\\mathcal{C}_i$.\n",
    "\n",
    "**Question 2 :** On choisit de munir $\\mathcal{M}_n(\\mathbb{R})$ du produit scalaire $<X,Y>=tr(XY^T)$. On a alors $d(\\Delta,\\mathcal{C}_i)=\\Vert \\Delta - \\Pi_{\\mathcal{C}_i}(\\Delta)\\Vert_F$, avec $\\Vert \\Vert_F$ la norme de Frobenius, et $\\Pi_{\\mathcal{C}_i}(\\Delta)$ le projeté de $\\Delta$ sur $\\mathcal{C}_i$. Donner l'expression analytique des $\\Pi_{\\mathcal{C}_i}(\\Delta)$.\n",
    "\n",
    "**Question 3 :** Proposer un sous-gradient de $f$ en $\\Delta$.\n",
    "\n",
    "**Qestion 4 :** Résoudre le problème $ (\\mathcal{E})$ par l'algorithme du sous-gradient.\n"
   ]
  },
  {
   "cell_type": "code",
   "execution_count": null,
   "metadata": {},
   "outputs": [],
   "source": [
    "using LinearAlgebra, Random, Plots\n",
    "\n",
    "n=10\n",
    "nd=3\n",
    "\n",
    "#Construction de la matrice A\n",
    "tmp=randn(n,2*n)\n",
    "F=qr(tmp)\n",
    "P=F.Q[1:n,1:n]\n",
    "d=abs.(10*randn(n,))\n",
    "A=P*Diagonal(d)*transpose(P)\n",
    "\n",
    "#Indice des entrées connues\n",
    "Oi=randperm(n)[1:min(nd,n)]\n",
    "\n",
    "println(Oi)"
   ]
  },
  {
   "cell_type": "code",
   "execution_count": null,
   "metadata": {},
   "outputs": [],
   "source": []
  },
  {
   "cell_type": "code",
   "execution_count": null,
   "metadata": {},
   "outputs": [],
   "source": []
  },
  {
   "cell_type": "code",
   "execution_count": null,
   "metadata": {},
   "outputs": [],
   "source": [
    "\n"
   ]
  },
  {
   "cell_type": "code",
   "execution_count": null,
   "metadata": {
    "slideshow": {
     "slide_type": "slide"
    }
   },
   "outputs": [],
   "source": []
  },
  {
   "cell_type": "code",
   "execution_count": null,
   "metadata": {},
   "outputs": [],
   "source": []
  }
 ],
 "metadata": {
  "anaconda-cloud": {},
  "celltoolbar": "Slideshow",
  "kernelspec": {
   "display_name": "Julia 1.4.2",
   "language": "julia",
   "name": "julia-1.4"
  },
  "language_info": {
   "file_extension": ".jl",
   "mimetype": "application/julia",
   "name": "julia",
   "version": "1.4.2"
  }
 },
 "nbformat": 4,
 "nbformat_minor": 1
}

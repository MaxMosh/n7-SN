{
 "cells": [
  {
   "cell_type": "markdown",
   "metadata": {
    "slideshow": {
     "slide_type": "slide"
    }
   },
   "source": [
    "## Erreur inverse - Cas symétrique\n"
   ]
  },
  {
   "cell_type": "markdown",
   "metadata": {
    "slideshow": {
     "slide_type": "subslide"
    }
   },
   "source": [
    "Soient $A\\in \\mathcal{S}_n(\\mathbb{R})$ inversible, $b\\in\\mathbb{R}^n$ et $x\\in\\mathbb{R}^n$ solution de $$Ax=b.$$\n",
    "\n",
    "On dispose d'un algorithme permettant la résolution numérique d'un tel problème. L'exécution de celui-ci conduit à une solution numérique $\\tilde{x}$, entachée d'erreurs : $$A\\tilde{x}\\neq b. $$\n",
    "\n",
    "L'erreur inverse de cet algorithme, en norme de Frobenius, peut être obtenue depuis la solution du problème d'optimisation suivant : $$\\min_{\\Delta \\in \\mathcal{C}} \\Vert \\Delta \\Vert^2_F,$$\n",
    "\n",
    "avec $$\\mathcal{C}=\\left\\{ \\Delta \\in \\mathcal{S}_n(\\mathbb{R}) \\text{ t.q. } (A+\\Delta)\\tilde{x}=b\\right\\}.$$\n",
    "\n",
    "On s'intéresse à un problème plus simple qui consiste à chercher un élément de $\\mathcal{C}$, si ce dernier n'est pas vide :\n",
    "\n",
    "$$(\\mathcal{E})\\quad \\text{ Trouver }\\Delta \\in \\mathcal{S}_n\\ \\mathbb{R}\\ \\text{ t.q. } (A+\\Delta)\\tilde{x}=b. $$\n",
    "\n",
    "En écrivant $$\\mathcal{C}=\\mathcal{C}_1\\bigcap\\mathcal{C}_2,$$ avec $$\\mathcal{C}_1=\\mathcal{S}_n(\\mathbb{R}), \\quad \\mathcal{C}_2=\\left\\{\\Delta \\in \\mathcal{M}_n(\\mathbb{R}) \\text{ t.q. } (A+\\Delta)\\tilde{x}=b\\right\\},$$ on est amenés à chercher un élément sur l'intersection de deux convexes fermés non vides.\n",
    "\n",
    "**Question 1 :** Justifier que ces deux parties sont convexes, fermées et non vides.\n"
   ]
  },
  {
   "cell_type": "markdown",
   "metadata": {},
   "source": [
    "**Pour $\\mathcal{C_1}$ :**\n",
    "* Convexité : \\\n",
    "    \\\n",
    "    Soient $\\Delta_1,\\,\\Delta_2\\in\\mathcal{C}_1$ et $\\lambda\\in[0,1]$. \\\n",
    "    \\\n",
    "    On a : $\\left(\\lambda\\Delta_1 + (1-\\lambda)\\Delta_2\\right)_{ij} = (\\lambda\\Delta_1)_{ij} + ((1-\\lambda)\\Delta_2)_{ij} = \\lambda(\\Delta_1)_{ji} + (1-\\lambda)(\\Delta_2)_{ji} = \\left(\\lambda\\Delta_1 + (1-\\lambda)\\Delta_2\\right)_{ji}$ \\\n",
    "    \\\n",
    "    d'où $(\\lambda\\Delta_1 + \\displaystyle\\left(1 - \\lambda\\right)\\Delta_2)^{T} = \\lambda\\Delta_1 + \\displaystyle\\left(1 - \\lambda\\right)\\Delta_2 $ \\\n",
    "    \\\n",
    "    donc $\\lambda\\Delta_1 + (1-\\lambda)\\Delta_2 \\in \\mathcal{C}_1$ \\\n",
    "    \\\n",
    "    ainsi, $\\mathcal{C}_1$ est convexe.\n",
    "    \n",
    "* Fermé : \\\n",
    "    \\\n",
    "    De plus l'application $\\Delta \\mapsto \\Delta - \\Delta^T$ définie sur $\\mathcal{M}_n(\\mathbb{R})$ est linéaire en dimension finie \\\n",
    "    \\\n",
    "    donc continue donc $f^{-1}(\\{0\\}) = \\mathcal{S}_n(\\mathbb{R}) = \\mathcal{C}_1$ est fermé. \\\n",
    " * Non-vide : \\\n",
    "    \\\n",
    "    Enfin $\\mathcal{C}_1$ non vide car $0 \\in \\mathcal{C_1}$.\n",
    "\n",
    "\n",
    "**Pour $\\mathcal{C_2}$ :**\n",
    "* Convexité : \\\n",
    "    \\\n",
    "    Soient $\\Delta_1,\\,\\Delta_2\\in\\mathcal{C}_2$ et $\\lambda\\in[0,1]$. \\\n",
    "    \\\n",
    "    On a : $ \\left(\\underbrace{A}_{= \\lambda A + (1 - \\lambda) A} + \\left(\\lambda\\Delta_1 + (1 - \\lambda)\\Delta_2\\right)\\right)\\tilde{x} = \\lambda \\underbrace{(A + \\Delta_1) \\tilde{x}}_{= b} + (1 - \\lambda) \\underbrace{(A + \\Delta_2) \\tilde{x}}_{= b} = b$ \\\n",
    "    \\\n",
    "    donc $\\lambda\\Delta_1 + (1-\\lambda)\\Delta_2 \\in \\mathcal{C}_2$ \\\n",
    "    \\\n",
    "    ainsi, $\\mathcal{C}_2$ est convexe.\n",
    "    \n",
    "* Fermé : \\\n",
    "    \\\n",
    "    De plus l'application $\\Delta \\mapsto (A + \\Delta) \\tilde{x}$ définie sur $\\mathcal{M}_n(\\mathbb{R})$ est linéaire en dimension finie donc continue \\\n",
    "    \\\n",
    "    donc $f^{-1}(\\{b\\}) = \\mathcal{C}_2$ est fermé comme image réciproque du fermé $\\{b\\}$ par une fonction continue. \\\n",
    " * Non-vide : \\\n",
    "    \\\n",
    "    Enfin $\\mathcal{C}_2$ non vide car $0 \\in \\mathcal{C_2}$."
   ]
  },
  {
   "cell_type": "markdown",
   "metadata": {
    "slideshow": {
     "slide_type": "subslide"
    }
   },
   "source": [
    "On définit pour cela le problème d'optimisation suivant : \n",
    "$$ (\\mathcal{P})\\quad \\min_{\\Delta \\in \\mathcal{M}_n(\\mathbb{R})} f(\\Delta)=\\max(d(\\Delta,\\mathcal{C}_1),d(\\Delta,\\mathcal{C}_2))$$\n",
    "\n",
    "avec $d(\\Delta,\\mathcal{C}_i)$ la distance de $\\Delta$ à $\\mathcal{C}_i$.\n",
    "\n",
    "**Question 2 :** On choisit de munir $\\mathcal{M}_n(\\mathbb{R})$ du produit scalaire $<X,Y>=tr(XY^T)$. On a alors $d(\\Delta,\\mathcal{C}_i)=\\Vert \\Delta - \\Pi_{\\mathcal{C}_i}(\\Delta)\\Vert_F$, avec $\\Vert \\Vert_F$ la norme de Frobenius, et $\\Pi_{\\mathcal{C}_i}(\\Delta)$ le projeté de $\\Delta$ sur $\\mathcal{C}_i$. Donner l'expression analytique des $\\Pi_{\\mathcal{C}_i}(\\Delta)$.\n"
   ]
  },
  {
   "cell_type": "markdown",
   "metadata": {},
   "source": [
    "TODO : la faire"
   ]
  },
  {
   "cell_type": "markdown",
   "metadata": {},
   "source": [
    "**Question 3 :** Proposer un sous-gradient de $f$ en $\\Delta$, $\\forall \\Delta \\in \\mathcal{C}$."
   ]
  },
  {
   "cell_type": "markdown",
   "metadata": {},
   "source": [
    "Soit $\\Delta \\in \\mathcal{M}_n(\\mathbb{R})$.\n",
    "\n",
    "On pose : \n",
    "$$ D_{1} = \\left \\{ \\Delta ~ | ~ d(\\Delta,\\mathcal{C}_1)>d(\\Delta,\\mathcal{C}_2) \\right \\}$$\n",
    "$$ D_{2} = \\left \\{ \\Delta ~ | ~ d(\\Delta,\\mathcal{C}_1)<d(\\Delta,\\mathcal{C}_2) \\right \\}$$\n",
    "$$ D_{3} = \\left \\{ \\Delta ~ | ~ d(\\Delta,\\mathcal{C}_1)=d(\\Delta,\\mathcal{C}_2) \\right \\}$$\n",
    "\n",
    "\n",
    "\n",
    "$\\text{1}^{\\text{er}}$ cas : $\\Delta \\in D_1$ "
   ]
  },
  {
   "cell_type": "markdown",
   "metadata": {},
   "source": [
    "**Question 4 :** Résoudre le problème $ (\\mathcal{P})$ par l'algorithme du sous-gradient."
   ]
  }
 ],
 "metadata": {
  "anaconda-cloud": {},
  "celltoolbar": "Slideshow",
  "kernelspec": {
   "display_name": "Julia 1.4.2",
   "language": "julia",
   "name": "julia-1.4"
  },
  "language_info": {
   "file_extension": ".jl",
   "mimetype": "application/julia",
   "name": "julia",
   "version": "1.4.2"
  }
 },
 "nbformat": 4,
 "nbformat_minor": 1
}

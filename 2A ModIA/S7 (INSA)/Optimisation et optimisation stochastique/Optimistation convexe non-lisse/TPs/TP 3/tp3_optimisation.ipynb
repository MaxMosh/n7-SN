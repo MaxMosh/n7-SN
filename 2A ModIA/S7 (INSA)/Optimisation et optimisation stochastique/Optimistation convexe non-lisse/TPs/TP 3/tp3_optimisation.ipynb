{
 "cells": [
  {
   "cell_type": "markdown",
   "metadata": {
    "slideshow": {
     "slide_type": "slide"
    }
   },
   "source": [
    "## Erreur inverse - Cas symétrique\n"
   ]
  },
  {
   "cell_type": "markdown",
   "metadata": {
    "slideshow": {
     "slide_type": "subslide"
    }
   },
   "source": [
    "Soient $A\\in \\mathcal{S}_n(\\mathbb{R})$ inversible, $b\\in\\mathbb{R}^n$ et $x\\in\\mathbb{R}^n$ solution de $$Ax=b.$$\n",
    "\n",
    "On dispose d'un algorithme permettant la résolution numérique d'un tel problème. L'exécution de celui-ci conduit à une solution numérique $\\tilde{x}$, entachée d'erreurs : $$A\\tilde{x}\\neq b. $$\n",
    "\n",
    "L'erreur inverse de cet algorithme, en norme de Frobenius, peut être obtenue depuis la solution du problème d'optimisation suivant : $$\\min_{\\Delta \\in \\mathcal{C}} \\Vert \\Delta \\Vert^2_F,$$\n",
    "\n",
    "avec $$\\mathcal{C}=\\left\\{ \\Delta \\in \\mathcal{S}_n(\\mathbb{R}) \\mbox{ t.q. } (A+\\Delta)\\tilde{x}=b\\right\\}.$$\n",
    "\n",
    "On s'intéresse à un problème plus simple qui consiste à chercher un élément de $\\mathcal{C}$, si ce dernier n'est pas vide :\n",
    "\n",
    "$$\\hspace{5cm} (\\mathcal{E})\\quad \\mbox{ Trouver }\\Delta \\in \\mathcal{S}_n(\\mathbb{R}) \\mbox{ t.q. } (A+\\Delta)\\tilde{x}=b.$$\n",
    "\n",
    "En écrivant $$\\mathcal{C}=\\mathcal{C}_1\\bigcap\\mathcal{C}_2,$$ avec $$\\mathcal{C}_1=\\mathcal{S}_n(\\mathbb{R}), \\quad \\mathcal{C}_2=\\left\\{\\Delta \\in \\mathcal{M}_n(\\mathbb{R}) \\mbox{ t.q. } (A+\\Delta)\\tilde{x}=b\\right\\},$$ on est amenés à chercher un élément sur l'intersection de deux convexes fermés non vides.\n",
    "\n",
    "**Question 1 :** Justifier que ces deux parties sont convexes, fermées et non vides.\n"
   ]
  },
  {
   "cell_type": "markdown",
   "metadata": {
    "slideshow": {
     "slide_type": "subslide"
    }
   },
   "source": [
    "On définit pour cela le problème d'optimisation suivant : \n",
    "$$\\hspace{5cm} (\\mathcal{P})\\quad \\min_{\\Delta \\in \\mathcal{M}_n(\\mathbb{R})} f(\\Delta)=\\max(d(\\Delta,\\mathcal{C}_1),d(\\Delta,\\mathcal{C}_2))$$\n",
    "\n",
    "avec $d(\\Delta,\\mathcal{C}_i)$ la distance de $\\Delta$ à $\\mathcal{C}_i$.\n",
    "\n",
    "**Question 2 :** On choisit de munir $\\mathcal{M}_n(\\mathbb{R})$ du produit scalaire $<X,Y>=tr(XY^T)$. On a alors $d(\\Delta,\\mathcal{C}_i)=\\Vert \\Delta - \\Pi_{\\mathcal{C}_i}(\\Delta)\\Vert_F$, avec $\\Vert \\Vert_F$ la norme de Frobenius, et $\\Pi_{\\mathcal{C}_i}(\\Delta)$ le projeté de $\\Delta$ sur $\\mathcal{C}_i$. Donner l'expression analytique des $\\Pi_{\\mathcal{C}_i}(\\Delta)$.\n",
    "\n",
    "**Question 3 :** Proposer un sous-gradient de $f$ en $\\Delta$, $\\forall \\Delta \\in \\mathcal{C}$.\n",
    "\n",
    "**Qestion 4 :** Résoudre le problème $ (\\mathcal{P})$ par l'algorithme du sous-gradient.\n"
   ]
  },
  {
   "cell_type": "code",
   "execution_count": null,
   "metadata": {},
   "outputs": [],
   "source": []
  },
  {
   "cell_type": "code",
   "execution_count": null,
   "metadata": {},
   "outputs": [],
   "source": []
  },
  {
   "cell_type": "code",
   "execution_count": null,
   "metadata": {
    "slideshow": {
     "slide_type": "slide"
    }
   },
   "outputs": [],
   "source": []
  },
  {
   "cell_type": "code",
   "execution_count": null,
   "metadata": {},
   "outputs": [],
   "source": []
  }
 ],
 "metadata": {
  "anaconda-cloud": {},
  "celltoolbar": "Slideshow",
  "kernelspec": {
   "display_name": "Julia 1.4.2",
   "language": "julia",
   "name": "julia-1.4"
  },
  "language_info": {
   "file_extension": ".jl",
   "mimetype": "application/julia",
   "name": "julia",
   "version": "1.4.2"
  }
 },
 "nbformat": 4,
 "nbformat_minor": 1
}

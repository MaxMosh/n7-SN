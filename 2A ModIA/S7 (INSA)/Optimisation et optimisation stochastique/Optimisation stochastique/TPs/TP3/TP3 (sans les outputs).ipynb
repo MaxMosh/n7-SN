{
 "cells": [
  {
   "cell_type": "markdown",
   "metadata": {},
   "source": [
    "<div style=\"display: flex; align-items: center; padding: 20px;\">\n",
    "    <div style=\"flex-grow: 1;\">\n",
    "        <h2><strong>MOSHFEGHI Maxime - PHUNG Anh Minh</strong></h2>\n",
    "    </div>\n",
    "    <div style=\"flex-shrink: 0; width: 40%;\">\n",
    "        <img src=\"https://hal.insa-toulouse.fr/public/Logo_INSAToulouse_blanc.png\" alt=\"Logo INSA Toulouse\" style=\"width: 90%; height: auto;\">\n",
    "    </div>\n",
    "</div>"
   ]
  },
  {
   "cell_type": "markdown",
   "metadata": {},
   "source": [
    "# **<div align = \"center\"> TP 2: Image segmentation with Neural Network </div>**\n",
    "\n",
    "## **Objective:**\n",
    "- Introduction to Pytorch (see previous tutorial notebook)\n",
    "- Define a simple neural network\n",
    "- Define a training procedure\n",
    "- Compare difference optimization methods\n",
    "- Enhance your coding skills\n",
    "\n",
    "We consider an image as a function from $\\Omega$ to $\\mathbb{R}$, where $\\Omega$ is a discretization of the space $[0,1]^2$. In this notebook, we suppose that we can partition $\\Omega$ into $2$ regular domains $\\Omega_1$ and $\\Omega_2 = \\Omega /  \\Omega_1$.\n",
    "\n",
    "On each domain, we suppose that the image has different textures. We will generate these textures as stationary Gaussian processes:\n",
    "- We will first generate a Gaussian noise. \n",
    "- We will then convolve this noise with a filter which describes the covariance matrix of the process. \n",
    "\n"
   ]
  },
  {
   "attachments": {
    "image_partition1.png": {
     "image/png": "[encoded data removed]"
    },
    "image_processus1.png": {
     "image/png": "[encoded data removed]"
    }
   },
   "cell_type": "markdown",
   "metadata": {},
   "source": [
    "![image_processus1.png](attachment:image_processus1.png)\n",
    "![image_partition1.png](attachment:image_partition1.png)\n"
   ]
  },
  {
   "cell_type": "markdown",
   "metadata": {},
   "source": [
    "Above is an example of an image and its partition $\\Omega_1$ and $\\Omega_2$. The objective is from the image on the left, train a neural network to predict the mask on the right."
   ]
  },
  {
   "cell_type": "markdown",
   "metadata": {},
   "source": [
    "La dataset que l'on va étudier aura la structure suivante :\n",
    "\n",
    "$$\n",
    "(\\text{image}_i, \\Omega_1^i)_i\n",
    "$$\n",
    "\n",
    "Nous allons entraîner un modèle :\n",
    "\n",
    "$$\n",
    "f_\\theta(\\text{image}) = \\Omega_1\n",
    "$$\n",
    "en minimisant :\n",
    "$$\n",
    "\\min_\\theta \\mathbb{E}\\displaystyle\\left[ l\\left( f_\\theta(\\text{image}), \\Omega_1 \\right) \\right]\n",
    "$$\n",
    "où $l$ est la fonction perte (loss).\n",
    "\n",
    "$$\n",
    "f_\\theta(\\text{image}) \\simeq \\mathbb{P}(\\text{\"appartenir à } \\Omega_1 \\text{ pour chaque pixel\"}) \n",
    "$$\n",
    "\n",
    "Les images seront générés grâce à des gaussiennes qui permettront de créer une image de base, puis une partie floue dans l'image. On rapelle la fonction de répartition d'une gaussienne à 2 dimensions :\n",
    "\n",
    "$$\n",
    "g(x,y) = \\cfrac{1}{2\\pi \\sigma^2}\\exp\\displaystyle\\left(-\\cfrac{x^2 + y^2}{2 \\sigma^2}\\right)\n",
    "$$"
   ]
  },
  {
   "cell_type": "code",
   "execution_count": null,
   "metadata": {},
   "outputs": [],
   "source": [
    "import matplotlib.pyplot as plt                 # Importation de la bibliothèque matplotlib pour tracer des graphiques\n",
    "import torch                                    # Importation de la bibliothèque torch pour le calcul tensoriel                            \n",
    "import torch.optim as optim                     # Importation de la bibliothèque torch.optim pour les optimiseurs\n",
    "import torch.nn as nn                           # Importation de la bibliothèque torch.nn pour les réseaux de neurones    \n",
    "import torch.nn.functional as F                 # Importation de la bibliothèque torch.nn.functional pour les fonctions de coût\n",
    "import numpy as np                              # Importation de la bibliothèque numpy pour la manipulation de vecteurs et matrices\n",
    "from torch.optim import SGD, Adam, RMSprop      # Importation des optimiseurs SGD, Adam et RMSprop"
   ]
  },
  {
   "cell_type": "markdown",
   "metadata": {},
   "source": [
    "Define your device and data type"
   ]
  },
  {
   "cell_type": "code",
   "execution_count": null,
   "metadata": {},
   "outputs": [],
   "source": [
    "device = torch.device('cuda' if torch.cuda.is_available() else 'cpu')       # Utilisation du GPU si disponible, sinon CPU\n",
    "dtype = torch.float32                                                       # Utilisation de flottants 32-bit\n",
    "factory_kwargs = {'device': device, 'dtype': dtype}                         # Dictionnaire des paramètres pour le type de données et le type de processeur\n",
    "\n",
    "print(\"factory_kwargs: \", factory_kwargs)                                # Affichage des paramètres     "
   ]
  },
  {
   "cell_type": "code",
   "execution_count": null,
   "metadata": {},
   "outputs": [],
   "source": [
    "torch.manual_seed(42)                                    # Initialisation du générateur aléatoire pour la reproductibilité des résultats "
   ]
  },
  {
   "cell_type": "markdown",
   "metadata": {},
   "source": [
    "### **Generating data**"
   ]
  },
  {
   "cell_type": "markdown",
   "metadata": {},
   "source": [
    "The following function will generate a batch of data with shape `(batch_size, 1, image_size, image_size)`\n",
    "Take a look at this function and try to understand what it does. "
   ]
  },
  {
   "cell_type": "code",
   "execution_count": null,
   "metadata": {},
   "outputs": [],
   "source": [
    "def generate_data(batch_size: int,                                 # Fonction pour générer des données           \n",
    "                  image_size: int = 128,                            # Taille de l'image\n",
    "                  sigma1: float = 1.,                               # Ecart type du premier processus Gaussien\n",
    "                  sigma2: float = 0.2,                              # Ecart type du second processus Gaussien\n",
    "                  sigma: float = 100,                               # Ecart type du processus Gaussien de l'image\n",
    "                  **factory_kwargs) -> torch.Tensor:                # Paramètres pour le type de données et le type de processeur\n",
    "    \n",
    "    # Defining a grid directly on device, without the need of calling `.to(device)` method,\n",
    "    # which is time consuming.\n",
    "    xs = torch.linspace(-image_size/2, image_size/2, image_size, **factory_kwargs)      # Définition d'une grille sur l'axe des abscisses \n",
    "    ys = torch.linspace(-image_size/2, image_size/2, image_size, **factory_kwargs)      # Définition d'une grille sur l'axe des ordonnées\n",
    "\n",
    "    # The type of x,y below is automatically in device and dtype of x, y.\n",
    "    x, y = torch.meshgrid(xs, ys, indexing='xy')                                     # Définition d'une grille 2D\n",
    "    \n",
    "    # Defining 4 Gaussian\n",
    "    g = torch.exp(-(x**2 + y**2) / (2 * sigma**2))                                      # Définition d'une gaussienne  \n",
    "    g = g / torch.sum(g)                                                            # Normalisation de la gaussienne            \n",
    "    \n",
    "    g1 = torch.exp(-(x**2 + y**2) / (2 * sigma1**2))                                # Définition d'une gaussienne \n",
    "    g1 = g1 / torch.sum(g1)                                                         # Normalisation de la gaussienne      \n",
    "\n",
    "    g2 = torch.exp(-(x**2 + y**2) / (2 * sigma2**2))                                # Définition d'une gaussienne\n",
    "    g2 = g2 / torch.sum(g2)                                                         # Normalisation de la gaussienne\n",
    "\n",
    "    g3 = torch.exp(-(x**2 + y**2) / (2 * 1**2))                                     # Définition d'une gaussienne\n",
    "    g3 = g3 / torch.sum(g3)                                                         # Normalisation de la gaussienne \n",
    "    \n",
    "    # We define a random smooth partition\n",
    "    b = torch.randn(batch_size,1,image_size,image_size, **factory_kwargs)           # Définition d'un tenseur de nombres aléatoires \n",
    "    gp = F.conv2d(b, g[None,None], padding = 'same')  # Convolution                 # Définition d'un tenseur de nombres aléatoires convolué avec la gaussienne\n",
    "\n",
    "    omega_1 = gp > 0                                                # Définition d'une partition aléatoire \n",
    "    omega_2 = ~omega_1                                              # Définition d'une partition aléatoire\n",
    "    \n",
    "    # We define two Gaussian random processes with different statistics\n",
    "    b1 = torch.randn(batch_size,1,image_size,image_size, **factory_kwargs)          # Définition d'un tenseur de nombres aléatoires\n",
    "    gp1 = F.conv2d(b1, g1[None,None], padding = 'same')                             # Définition d'un tenseur de nombres aléatoires convolué avec la gaussienne\n",
    "    \n",
    "    b2 = torch.randn(batch_size,1,image_size,image_size, **factory_kwargs)          # Définition d'un tenseur de nombres aléatoires\n",
    "    gp2 = F.conv2d(b2, g2[None,None], padding = 'same')                             # Définition d'un tenseur de nombres aléatoires convolué avec la gaussienne\n",
    "    \n",
    "    # Now we put each process at the right place\n",
    "    image = gp1 * omega_1 + gp2 * omega_2                                           # Définition d'une image\n",
    "    # We smooth the result to avoid having a jump at the interfaces of the partition\n",
    "    image =  F.conv2d(image, g3[None,None], padding = 'same')                       # Définition d'une image convoluée avec la gaussienne\n",
    "\n",
    "    # We normalize the image in to [0,1]\n",
    "    image = normalize_to_01(image)                                                  # Normalisation de l'image\n",
    "    \n",
    "    return image, omega_1.to(**factory_kwargs)                                      # Retourne l'image et la partition\n",
    "    \n",
    "\n",
    "def normalize_to_01(input: torch.Tensor) -> torch.Tensor:                           # Fonction pour normaliser les données\n",
    "    input -= input.amin(dim = (-2, -1), keepdim=True)                               # Normalisation des données\n",
    "    input /= input.amax(dim = (-2, -1), keepdim=True)                               # Normalisation des données \n",
    "    return input"
   ]
  },
  {
   "cell_type": "markdown",
   "metadata": {},
   "source": [
    "Let's take a look at the data and its structure"
   ]
  },
  {
   "cell_type": "code",
   "execution_count": null,
   "metadata": {},
   "outputs": [],
   "source": [
    "image, mask = generate_data(batch_size = 1,                                   # Génération des données                      \n",
    "                            image_size=128,                                     # Taille de l'image\n",
    "                            sigma1=0.2,                                         # Ecart type du premier processus Gaussien \n",
    "                            sigma2=10,                                          # Ecart type du second processus Gaussien\n",
    "                            sigma=15, **factory_kwargs) #la tolérance           # Ecart type du processus Gaussien de l'image\n",
    "\n",
    "fig, axes = plt.subplots(1, 2, figsize=(10, 5))                                 # Création d'une figure\n",
    "axes[0].imshow(image[0].permute(1,2,0).detach().cpu().numpy())                  # Affichage de l'image\n",
    "axes[1].imshow(mask[0].permute(1,2,0).detach().cpu().numpy())                   # Affichage de la partition\n",
    "plt.show()                                                                      # Affichage de la figure"
   ]
  },
  {
   "cell_type": "code",
   "execution_count": null,
   "metadata": {},
   "outputs": [],
   "source": [
    "print(\"image.shape: \", image.shape)                                 # Affichage de la taille de l'image\n",
    "print(\"mask.shape: \", mask.shape)                                   # Affichage de la taille de la partition\n",
    "\n",
    "print(mask[0])                                                  # Affichage de la partition"
   ]
  },
  {
   "cell_type": "markdown",
   "metadata": {},
   "source": [
    "A more efficient way to generate a 2D Gaussian is in following, let have a look at this function and try to understand the difference."
   ]
  },
  {
   "cell_type": "markdown",
   "metadata": {},
   "source": [
    "### **Influence des paramètres `sigma1`, `sigma2` et `sigma`**"
   ]
  },
  {
   "cell_type": "code",
   "execution_count": null,
   "metadata": {},
   "outputs": [],
   "source": [
    "sigma1_liste = np.array([0.1, 0.5, 5, 20])\n",
    "sigma2_liste = np.array([1, 5, 10, 20])\n",
    "sigma_liste = np.array([1, 5, 10, 20])"
   ]
  },
  {
   "cell_type": "markdown",
   "metadata": {},
   "source": [
    "#### **Influence de `sigma1`**\n",
    "\n",
    "Les autres paramètres seront fixés à `sigma2` = 10 et `sigma` = 15."
   ]
  },
  {
   "cell_type": "code",
   "execution_count": null,
   "metadata": {},
   "outputs": [],
   "source": [
    "fig = plt.figure(figsize=(10, 8))\n",
    "fig.suptitle('Influence de sigma1', fontsize=16)\n",
    "\n",
    "\n",
    "for sig1 in sigma1_liste :\n",
    "    image, mask = generate_data(batch_size = 1, \n",
    "                                image_size=128,\n",
    "                                sigma1=sig1,\n",
    "                                sigma2=10, \n",
    "                                sigma=15, **factory_kwargs) #la tolérance\n",
    "    fig, axes = plt.subplots(1, 2, figsize=(10, 5))\n",
    "    axes[0].imshow(image[0].permute(1,2,0).detach().cpu().numpy())\n",
    "    axes[1].imshow(mask[0].permute(1,2,0).detach().cpu().numpy())\n",
    "    plt.suptitle(f\"Pour sigma1 = {sig1}\")\n",
    "    plt.show()"
   ]
  },
  {
   "cell_type": "markdown",
   "metadata": {},
   "source": [
    "**Commentaires :**\n",
    "\n",
    "Plus `sigma1` est grand, moins la partie de l'image (à gauche) correspondant à la partie jaune du masque est bruitée (on voit moins de petit point quand `sigma1` est grand). À l'oeil, on a tendance à mieux voir la différence entre la partie floue et celle qui ne l'est pas quand `sigma1` est petit."
   ]
  },
  {
   "cell_type": "markdown",
   "metadata": {},
   "source": [
    "#### **Influence de `sigma2`**\n",
    "\n",
    "Les autres paramètres seront fixés à `sigma1` = 0.2 et `sigma` = 15."
   ]
  },
  {
   "cell_type": "code",
   "execution_count": null,
   "metadata": {},
   "outputs": [],
   "source": [
    "fig = plt.figure(figsize=(10, 8))\n",
    "fig.suptitle('Influence de sigma1', fontsize=16)\n",
    "\n",
    "\n",
    "for sig2 in sigma2_liste :\n",
    "    image, mask = generate_data(batch_size = 1, \n",
    "                                image_size=128,\n",
    "                                sigma1=0.2,\n",
    "                                sigma2=sig2, \n",
    "                                sigma=15, **factory_kwargs) #la tolérance\n",
    "    fig, axes = plt.subplots(1, 2, figsize=(10, 5))\n",
    "    axes[0].imshow(image[0].permute(1,2,0).detach().cpu().numpy())\n",
    "    axes[1].imshow(mask[0].permute(1,2,0).detach().cpu().numpy())\n",
    "    plt.suptitle(f\"Pour sigma2 = {sig2}\")\n",
    "    plt.show()"
   ]
  },
  {
   "cell_type": "markdown",
   "metadata": {},
   "source": [
    "**Commentaires :**\n",
    "\n",
    "Plus `sigma2` est grand, mieux on arrive à faire la différence entre partie floue et partie non-floue. `sigma2` a donc une influence sur la force du floutage"
   ]
  },
  {
   "cell_type": "markdown",
   "metadata": {},
   "source": [
    "#### **Influence de `sigma`**\n",
    "\n",
    "Les autres paramètres seront fixés à `sigma1` = 0.2 et `sigma2` = 10."
   ]
  },
  {
   "cell_type": "code",
   "execution_count": null,
   "metadata": {},
   "outputs": [],
   "source": [
    "fig = plt.figure(figsize=(10, 8))\n",
    "fig.suptitle('Influence de sigma', fontsize=16)\n",
    "\n",
    "\n",
    "for sig in sigma_liste :\n",
    "    image, mask = generate_data(batch_size = 1, \n",
    "                                image_size=128,\n",
    "                                sigma1=0.2,\n",
    "                                sigma2=10, \n",
    "                                sigma=sig, **factory_kwargs) #la tolérance\n",
    "    fig, axes = plt.subplots(1, 2, figsize=(10, 5))\n",
    "    axes[0].imshow(image[0].permute(1,2,0).detach().cpu().numpy())\n",
    "    axes[1].imshow(mask[0].permute(1,2,0).detach().cpu().numpy())\n",
    "    plt.suptitle(f\"Pour sigma = {sig}\")\n",
    "    plt.show()"
   ]
  },
  {
   "cell_type": "markdown",
   "metadata": {},
   "source": [
    "**Commentaires :**\n",
    "\n",
    "Plus `sigma` est petit, plus il y a de discontinuité au sein de l'image entre partie floue et partie non-floue."
   ]
  },
  {
   "cell_type": "code",
   "execution_count": null,
   "metadata": {},
   "outputs": [],
   "source": [
    "def gaussian(image_size, sigma, **factory_kwargs):                                              # Fonction pour générer une gaussienne\n",
    "    linspace = torch.linspace(-image_size/2, image_size/2, image_size, **factory_kwargs)        # Définition d'une grille sur l'axe des abscisses et des ordonnées\n",
    "    distance = linspace[None,:] ** 2 + linspace[:,None] ** 2                                    # Calcul de la distance\n",
    "    \n",
    "    # Defining 4 Gaussian\n",
    "    g = torch.exp(-distance / (2 * sigma**2))                                               # Définition d'une gaussienne\n",
    "    g = g / torch.sum(g)                                                                    # Normalisation de la gaussienne\n",
    "\n",
    "    return g                                                                                # Retourne la gaussienne"
   ]
  },
  {
   "cell_type": "markdown",
   "metadata": {},
   "source": [
    "## **Define your neural network**"
   ]
  },
  {
   "cell_type": "code",
   "execution_count": null,
   "metadata": {},
   "outputs": [],
   "source": [
    "class MyFirtsCNN(nn.Module):                                            # Définition d'un réseau de neurones\n",
    "    def __init__(self, num_channels=16, kernel_size = 5, bias=True):    # Constructeur de la classe\n",
    "        super().__init__()                                              # Appel du constructeur de la classe mère \n",
    "\n",
    "        self.activation = nn.ReLU()                                     # Définition de la fonction d'activation\n",
    "        self.bn = nn.BatchNorm2d(num_channels)                          # Définition de la normalisation des données \n",
    "        self.bias = bias                                                # Initialisation du biais \n",
    "        self.kernel_size = kernel_size                                  # Initialisation de la taille du noyau                \n",
    "        self.pad = int((self.kernel_size - 1) / 2)                      # Initialisation du padding\n",
    "        self.conv1 = nn.Sequential(                                     # Définition de la première couche de convolution\n",
    "            nn.Conv2d(                                                  # Définition d'une couche de convolution\n",
    "                in_channels=1,                                          # Nombre de canaux en entrée \n",
    "                out_channels=num_channels,                              # Nombre de canaux en sortie\n",
    "                kernel_size=self.kernel_size,                           # Taille du noyau \n",
    "                stride=1,                                               # Pas de déplacement\n",
    "                padding=self.pad,                                       # Padding \n",
    "                bias=bias,                                              # Biais\n",
    "            ),\n",
    "            self.activation,                                            # Fonction d'activation\n",
    "            self.bn                                                     # Normalisation des données\n",
    "        )\n",
    "        self.conv2 = nn.Sequential(                                     # Définition de la deuxième couche de convolution\n",
    "            nn.Conv2d(                                                  # Définition d'une couche de convolution\n",
    "                in_channels=num_channels,                               # Nombre de canaux en entrée\n",
    "                out_channels=num_channels,                              # Nombre de canaux en sortie\n",
    "                kernel_size=self.kernel_size,                           # Taille du noyau\n",
    "                stride=1,                                               # Pas de déplacement\n",
    "                padding=self.pad,                                       # Padding\n",
    "                bias=self.bias,                                         # Biais\n",
    "            ),\n",
    "            self.activation,                            # Fonction d'activation \n",
    "            self.bn                                     # Normalisation des données\n",
    "        )\n",
    "        self.conv3 = nn.Sequential(                      # Définition de la troisième couche de convolution\n",
    "            nn.Conv2d(                                  # Définition d'une couche de convolution\n",
    "                in_channels=num_channels,               # Nombre de canaux en entrée\n",
    "                out_channels=num_channels,              # Nombre de canaux en sortie\n",
    "                kernel_size=self.kernel_size,           # Taille du noyau\n",
    "                stride=1,                               # Pas de déplacement\n",
    "                padding=self.pad,                       # Padding\n",
    "                bias=self.bias,                         # Biais\n",
    "            ),\n",
    "            self.activation,                            # Fonction d'activation\n",
    "            self.bn                                     # Normalisation des données\n",
    "        )\n",
    "\n",
    "        self.out = nn.Conv2d(                           # Définition de la couche de sortie\n",
    "                in_channels=num_channels,               # Nombre de canaux en entrée\n",
    "                out_channels=1,                         # Nombre de canaux en sortie\n",
    "                kernel_size=self.kernel_size,           # Taille du noyau\n",
    "                stride=1,                               # Pas de déplacement\n",
    "                padding=self.pad,                       # Padding\n",
    "                bias=self.bias,                         \n",
    "        )\n",
    "\n",
    "    def forward(self, x):                               # Fonction pour la propagation avant\n",
    "        x1 = self.conv1(x)                              # Propagation de l'entrée dans la première couche de convolution\n",
    "        x2 = self.conv2(x1)                             # Propagation de l'entrée dans la deuxième couche de convolution\n",
    "        x3 = self.conv3(x2)                              # Propagation de l'entrée dans la troisième couche de convolution    \n",
    "        output = torch.sigmoid(self.out(x3))            # Propagation de l'entrée dans la couche de sortie\n",
    "        return output                                   # Retourne la sortie\n"
   ]
  },
  {
   "cell_type": "markdown",
   "metadata": {},
   "source": [
    "### **Question: How many layers do we have in the network? What are the activation functions?**\n",
    "\n",
    "\n",
    "**Réponse :**\n",
    "\n",
    "Le réseau de neurones (`MyFirstCNN`) est constitué de 3 couches que l'on détaille ci-dessous. La fonction d'activation utilisée est la fonction ReLU.\n",
    "\n",
    "\n",
    "- 1. Convolutional Layer 1 (conv1):\n",
    "\n",
    "Input Channels: 1 (assuming grayscale images)\n",
    "Output Channels: num_channels\n",
    "Kernel Size: kernel_size\n",
    "Activation Function: ReLU\n",
    "Batch Normalization is applied after the ReLU activation.\n",
    "\n",
    "\n",
    "\n",
    "- 2. Convolutional Layer 2 (conv2):\n",
    "\n",
    "Input Channels: num_channels\n",
    "Output Channels: num_channels\n",
    "Kernel Size: kernel_size\n",
    "Activation Function: ReLU\n",
    "Batch Normalization is applied after the ReLU activation.\n",
    "\n",
    "\n",
    "\n",
    "- 3. Convolutional Layer 3 (conv3):\n",
    "\n",
    "Input Channels: num_channels\n",
    "Output Channels: num_channels\n",
    "Kernel Size: kernel_size\n",
    "Activation Function: ReLU\n",
    "Batch Normalization is applied after the ReLU activation."
   ]
  },
  {
   "cell_type": "markdown",
   "metadata": {},
   "source": [
    "### **Question : Explain why we have a `sigmoid` activation at the end of the network? Write the training optimization problem.**\n",
    "\n"
   ]
  },
  {
   "cell_type": "markdown",
   "metadata": {},
   "source": [
    "**Réponse :** \n",
    "\n",
    "La fonction d'activation sigmoïde est utilisée à la fin du réseau pour les problèmes de classification binaire afin d'écraser la sortie du réseau dans l'intervalle [0, 1]. \n",
    "\n",
    "Cette fonction est particulièrement adaptée lorsque l'objectif est d'interpréter la sortie comme une probabilité indiquant la probabilité d'appartenir à une classe. \n",
    "\n",
    "Dans notre cas, l'idée étant de détecter les parties floues et non floues, uitliser une fonction d'activation sigmoïde nous permet d'obtenir une probabilité de faire partie du domaine d'intérêt (floue ou non-floue, selon la manière dont elle est implémentée).\n",
    "\n",
    "Mathématiquement, elle est définie comme suit :\n",
    "$$\n",
    "\\text{sigmoid}(x) = \\frac{1}{1 + e^{-x}}\n",
    "\n",
    "$$"
   ]
  },
  {
   "cell_type": "code",
   "execution_count": null,
   "metadata": {},
   "outputs": [],
   "source": [
    "model = MyFirtsCNN(num_channels=16, kernel_size = 5)        # Instanciation du réseau de neurones"
   ]
  },
  {
   "cell_type": "markdown",
   "metadata": {},
   "source": [
    "Let see how many parameters you have in your model."
   ]
  },
  {
   "cell_type": "code",
   "execution_count": null,
   "metadata": {},
   "outputs": [],
   "source": [
    "def count_parameters(model):                                                        # Fonction pour compter le nombre de paramètres\n",
    "    return sum(p.numel() for p in model.parameters() if p.requires_grad)            # Retourne le nombre de paramètres\n",
    "\n",
    "print(\"Number of parameters: \", count_parameters(model))                            # Affichage du nombre de paramètres"
   ]
  },
  {
   "cell_type": "code",
   "execution_count": null,
   "metadata": {},
   "outputs": [],
   "source": [
    "\n",
    "# By default, the model (i.e., the trainable parameters) is stored in CPU\n",
    "print(next(model.parameters()).device)                                      # Affichage du type de processeur utilisé pour le modèle \n",
    "# You have to push your to GPU if you want to use GPU\n",
    "model = model.to(device)                                                    # Utilisation du GPU si disponible, sinon CPU \n",
    "print(next(model.parameters()).device)                                      # Affichage du type de processeur utilisé pour le modèle    \n"
   ]
  },
  {
   "cell_type": "markdown",
   "metadata": {},
   "source": [
    "### **Question: Verify your model output shape? The link with the input shape?**"
   ]
  },
  {
   "cell_type": "code",
   "execution_count": null,
   "metadata": {},
   "outputs": [],
   "source": [
    "print(\"Input shape: \", image.shape)                     # Affichage de la taille de l'entrée\n",
    "print(\"Output shape: \", model.forward(image).shape)     # Affichage de la taille de la sortie\n",
    "(model.forward(image) != model.forward(image)).sum()        # Affichage du nombre de valeurs différentes entre la sortie et l'entrée"
   ]
  },
  {
   "cell_type": "markdown",
   "metadata": {},
   "source": [
    "**Réponse :** \n",
    "\n",
    "L'input et l'output ont même taille : on a fait du 0-padding pour obtenir ces deux éléments de même taille."
   ]
  },
  {
   "cell_type": "markdown",
   "metadata": {},
   "source": [
    "## **Define your optimization algorithm**"
   ]
  },
  {
   "cell_type": "markdown",
   "metadata": {},
   "source": [
    "The optimization algorithms are defined in `torch.optim`. We need to pass all the trainable parameters to the optimizer, along with other hyperparameters such as the learning rate, ..."
   ]
  },
  {
   "cell_type": "code",
   "execution_count": null,
   "metadata": {},
   "outputs": [],
   "source": [
    "optimizer = torch.optim.SGD(model.parameters(), lr=0.001)           # Définition de l'optimiseur SGD "
   ]
  },
  {
   "cell_type": "markdown",
   "metadata": {},
   "source": [
    "## **Training the model**"
   ]
  },
  {
   "cell_type": "markdown",
   "metadata": {},
   "source": [
    "Define your training hyperparameters"
   ]
  },
  {
   "cell_type": "code",
   "execution_count": null,
   "metadata": {},
   "outputs": [],
   "source": [
    "from tqdm.auto import tqdm                          # Importation de la fonction tqdm pour afficher une barre de progression "
   ]
  },
  {
   "cell_type": "markdown",
   "metadata": {},
   "source": [
    "Below is an example of how to train a neural network. Look at these line of code carefully and understand what is does. "
   ]
  },
  {
   "cell_type": "code",
   "execution_count": null,
   "metadata": {},
   "outputs": [],
   "source": [
    "num_train_iteration = 10000                 # Nombre d'itérations\n",
    "batch_size = 8                              # Taille du batch\n",
    "display_prediction_every = 1000             # Affichage de la prédiction toutes les 1000 itérations \n",
    "image_size = 128                            # Taille de l'image\n",
    "sigma1 = 0.2                                # Ecart type du premier processus Gaussien \n",
    "sigma2 = 1.2                                # Ecart type du second processus Gaussien \n",
    "sigma = image_size / 5                      # Ecart type du processus Gaussien de l'image\n",
    "\n",
    "\n",
    "t = tqdm(range(num_train_iteration))        # Affichage de la barre de progression\n",
    "avg_loss = 0                                # Initialisation de la loss moyenne\n",
    "loss_tracking = []                          # Initialisation de la loss tracking \n",
    "\n",
    "for i in t:                            # Boucle d'itération\n",
    "    x, omega_1 = generate_data(batch_size, image_size, sigma1, sigma2, sigma, **factory_kwargs) # Génération des données \n",
    "\n",
    "    # Step 1: Réinitialise les gradients à zéro.\n",
    "    optimizer.zero_grad()\n",
    "\n",
    "    # Step 2: Passe les données à travers le modèle pour obtenir les prédictions.\n",
    "    predicted_omega_1 = model(x)\n",
    "\n",
    "    # Step 3: Calcule la loss entre les prédictions et les étiquettes réelles.\n",
    "    loss = torch.mean((predicted_omega_1 - omega_1) ** 2 )\n",
    "\n",
    "    # Step 4: calculer les gradients(Effectue la rétropropagation des gradients.)\n",
    "    loss.backward()\n",
    "\n",
    "    # Step 5: mettre à jour les paramètres(Applique une étape d'optimisation pour mettre à jour les paramètres du modèle.)\n",
    "    optimizer.step()\n",
    "\n",
    "    # Tracking \n",
    "    avg_loss += loss.item()         # Calcul de la loss moyenne\n",
    "    loss_tracking.append(avg_loss / (i + 1))        # Calcul de la loss tracking\n",
    "    t.set_description(f\"Iteration: {i + 1}, Loss: {avg_loss / (i + 1):.4e}\")        # Affichage de la loss moyenne\n",
    "\n",
    "    if (i + 1) % display_prediction_every == 0:                             # Affichage de la prédiction toutes les 1000 itérations\n",
    "        # Turn off the gradient tracking for better performance\n",
    "        # since we don't need to track the gradients for this step\n",
    "        with torch.no_grad():                                               # Désactivation du gradient pour une meilleure performance \n",
    "            fig, axes = plt.subplots(1, 3, figsize=(15, 5))                 # Création d'une figure \n",
    "            \n",
    "            axes[0].imshow(x[0,0].detach().cpu().numpy())                   # Affichage de l'image\n",
    "            axes[0].set_title(\"Input image\")                                # Affichage du titre de l'image \n",
    "\n",
    "            axes[1].imshow(omega_1[0,0].detach().cpu().numpy())             # Affichage de la partition\n",
    "            axes[1].set_title(\"True mask\")                                  # Affichage du titre de la partition\n",
    "\n",
    "            axes[2].imshow(predicted_omega_1[0,0].detach().cpu().numpy())       # Affichage de la prédiction     \n",
    "            axes[2].set_title(\"Predicted mask\")                                 # Affichage du titre de la prédiction\n",
    "            plt.suptitle(\"Iteration: {}\".format(i + 1))                         # Affichage du titre de la figure\n",
    "            plt.show()                                                # Affichage de la figure                          "
   ]
  },
  {
   "cell_type": "markdown",
   "metadata": {},
   "source": [
    "#### Question: What is the loss function used here? If you have any idea about the loss function, don't hesitate to change it.\n",
    "\n",
    "### Réponse: La fonction de perte utilisée semble être la Mean Squared Error (MSE) entre les prédictions et les étiquettes réelles.\n",
    "Mathématiquement, cela s'exprime comme suit : \n",
    "\n",
    "Si nous avons N prédictions $ y_{\\text{pred}}^{(i)} $ correspondantes à N étiquettes réelles $ y_{\\text{true}}^{(i)} $, alors la MSE est donnée par :\n",
    "\n",
    "\n",
    "$$\\text{MSE} = \\frac{1}{N} \\sum_{i=1}^{N} (y_{\\text{pred}}^{(i)} - y_{\\text{reel}}^{(i)})^2$$\n",
    "Cela représente la moyenne des carrés des différences entre chaque prédiction et sa valeur réelle."
   ]
  },
  {
   "cell_type": "markdown",
   "metadata": {},
   "source": [
    "See the evolution of the average loss over the training process."
   ]
  },
  {
   "cell_type": "code",
   "execution_count": null,
   "metadata": {},
   "outputs": [],
   "source": [
    "plt.plot(loss_tracking)             # Affichage de la loss tracking\n",
    "plt.xlabel(\"Iteration\")             # Affichage de l'axe des abscisses\n",
    "plt.ylabel(\"Loss\")                  # Affichage de l'axe des ordonnées\n",
    "\n",
    "plt.show()                          # Affichage de la figure"
   ]
  },
  {
   "cell_type": "markdown",
   "metadata": {},
   "source": [
    "If you are satisfied with the result, save your model:"
   ]
  },
  {
   "cell_type": "code",
   "execution_count": null,
   "metadata": {},
   "outputs": [],
   "source": [
    "state_dict = model.state_dict()             # Récupération des paramètres du modèle\n",
    "torch.save(state_dict, \"best_model.pt\")     # Sauvegarde des paramètres du modèle"
   ]
  },
  {
   "cell_type": "markdown",
   "metadata": {},
   "source": [
    "## Practical section: Train your best model\n",
    "See the influence of each parameter:\n",
    "**- `sigma1`, `sigma2` and `sigma` are parameters which difine the difficulty of the problem.**\n",
    "\n",
    "And\n",
    "\n",
    "**- Try different optimizers and learning rates (see `torch.optim` in [this link](https://pytorch.org/docs/stable/optim.html#algorithms) ). Compare the performance.**\n",
    "\n",
    "\n",
    "**Réponse :**\n",
    "Expérimentez avec différents optimiseurs disponibles dans PyTorch, tels que Adam, SGD, RMSProp, NAdam, etc. Chaque optimiseur a ses avantages selon la nature du problème.\n",
    "Comparez les performances des différents optimiseurs.\n",
    "\n",
    "\n",
    "\n",
    "**- What happens if the learning rate is too large? too small?**\n",
    "\n",
    "**Réponse :**\n",
    "- Un learning rate trop grand peut entraîner une divergence de la loss.\n",
    "- Les calculs effectués lors de la rétropropagation peuvent dépasser les limites numériques des représentations en virgule flottante \n",
    "- Il peut entraîner des oscillations autour du minimum global ou local de la fonction de perte. Au lieu de converger de manière régulière vers la solution optimale, l'algorithme peut sauter d'un côté à l'autre de la vallée de la loss, rendant la convergence inefficace voire impossible.\n",
    "En conclusion:\n",
    "Pour éviter ces problèmes, il est souvent recommandé de commencer par des learning rates plus petits et d'augmenter progressivement si la convergence est trop lente et d'ajuster dynamiquement le learning rate au fur et à mesure de l'entraînement en fonction de la performance du modèle.\n",
    "\n",
    "**Learning Rates:**\n",
    "- Essayez différentes valeurs de taux d'apprentissage pour chaque optimiseur.\n",
    "- Étudiez l'effet des taux d'apprentissage qui sont trop grands ou trop petits. Un taux d'apprentissage trop grand peut entraîner un dépassement, tandis qu'un taux d'apprentissage trop petit peut entraîner une convergence lente ou rester bloqué dans des minima locaux.\n",
    "\n",
    "\n",
    "\n",
    "\n",
    "\n",
    "**- How to evaluate the performance of your model?**\n",
    "\n",
    "**Réponse :**\n",
    "\n",
    "- Courbe de loss : Checker la courbe de perte d'entraînement. Une diminution de la perte indique que le modèle apprend et converge vers une solution. Cependant, soit prudent en cas de surapprentissage si la perte sur les données de validation commence à augmenter alors que la perte d'entraînement diminue. Évaluons le modèle sur un ensemble de données de validation séparé. Cela nous donne une indication de la capacité du modèle à généraliser sur des données non vues. Si la perte de validation est nettement supérieure à la perte d'entraînement, cela peut indiquer un surapprentissage.\n",
    "\n",
    "**- With a limit training time, try to train your best model.**"
   ]
  },
  {
   "cell_type": "markdown",
   "metadata": {},
   "source": [
    "### Optimizer SGD, Adam, RMSprop and NAdam in learning_rates 0.001 0.01 0.1."
   ]
  },
  {
   "cell_type": "markdown",
   "metadata": {},
   "source": [
    "#### Commentaires :\n",
    "\n",
    "Les sorties ci-dessous nous montrent que la fonction loss est la meilleure dans le cas de l'optimizer Adam avec un learning rate de 0.001. En effet, on obtient une loss de 0.003 avec Adam à itération finale. À titre de comparaison, la valeur de la fonction loss est deux fois plus grande avec le même optimizer mais avec un learning rate de 0.1. Autrement, en prenant d'optimizer SGD et en prenant le learling rate de 0.01, la fonction loss à l'itération finale est de 0.018, soit plus de 6 fois plus grande que la loss obtenue avec Adam."
   ]
  },
  {
   "cell_type": "code",
   "execution_count": null,
   "metadata": {},
   "outputs": [],
   "source": [
    "optimizers = [torch.optim.SGD, torch.optim.Adam, torch.optim.RMSprop, torch.optim.NAdam]            # Définition des optimiseurs à tester\n",
    "learning_rates = [0.001, 0.01, 0.1]                                                                 # Définition des learning rates à étudier\n",
    "for optimizer_class in optimizers:                                                                  # Boucle d'itération sur les optimiseurs à tester\n",
    "    for learning_rate in learning_rates:                                                            # Boucle d'itération sur les learning rates à tester\n",
    "        optimizer = optimizer_class(model.parameters(), lr=learning_rate)                           # Définition de l'optimiseur\n",
    "        print(\"Optimizer: \", optimizer)                                                             # Affichage de l'optimiseur\n",
    "        num_train_iteration = 10000                                                                 # Nombre d'itérations \n",
    "        batch_size = 8                                                                              # Taille du batch    \n",
    "        display_prediction_every = 1000                                                             # Affichage de la prédiction toutes les 1000 itérations                                                             \n",
    "        image_size = 128                                                                            # Taille de l'image\n",
    "        sigma1 = 0.2                                                                                # Ecart type du premier processus Gaussien\n",
    "        sigma2 = 1.2                                                                                # Ecart type du second processus Gaussien\n",
    "        sigma = image_size / 5                                                                  # Ecart type du processus Gaussien de l'image\n",
    "\n",
    "\n",
    "        t = tqdm(range(num_train_iteration))                                                    # Affichage de la barre de progression\n",
    "        avg_loss = 0                                                                            # Initialisation de la loss moyenne\n",
    "        loss_tracking = []                                                                      # Initialisation de la loss tracking\n",
    "\n",
    "        for i in t:                                                                # Boucle d'itération\n",
    "            x, omega_1 = generate_data(batch_size, image_size, sigma1, sigma2, sigma, **factory_kwargs)         # Génération des données\n",
    "\n",
    "            # Step 1: Réinitialise les gradients à zéro.\n",
    "            optimizer.zero_grad()\n",
    "\n",
    "            # Step 2: Passe les données à travers le modèle pour obtenir les prédictions.\n",
    "            predicted_omega_1 = model(x)\n",
    "\n",
    "            # Step 3: Calcule la loss entre les prédictions et les étiquettes réelles.\n",
    "            loss = torch.mean((predicted_omega_1 - omega_1) ** 2 )\n",
    "\n",
    "            # Step 4: calculer les gradients(Effectue la rétropropagation des gradients.)\n",
    "            loss.backward()\n",
    "\n",
    "            # Step 5: mettre à jour les paramètres(Applique une étape d'optimisation pour mettre à jour les paramètres du modèle.)\n",
    "            optimizer.step()\n",
    "\n",
    "            # Tracking \n",
    "            avg_loss += loss.item()                                                             # Calcul de la loss moyenne\n",
    "            loss_tracking.append(avg_loss / (i + 1))                                            # Calcul de la loss tracking             \n",
    "            t.set_description(f\"Iteration: {i + 1}, Loss: {avg_loss / (i + 1):.4e}\")            # Affichage de la loss moyenne\n",
    "\n",
    "            if (i + 1) % display_prediction_every == 0:                                         # Affichage de la prédiction toutes les 1000 itérations\n",
    "                # Turn off the gradient tracking for better performance\n",
    "                # since we don't need to track the gradients for this step\n",
    "                with torch.no_grad():                                                           # Désactivation du gradient pour une meilleure performance\n",
    "                    fig, axes = plt.subplots(1, 3, figsize=(15, 5))                             # Création d'une figure\n",
    "                    \n",
    "                    axes[0].imshow(x[0,0].detach().cpu().numpy())                               # Affichage de l'image\n",
    "                    axes[0].set_title(\"Input image\")                                            # Affichage du titre de l'image\n",
    "\n",
    "                    axes[1].imshow(omega_1[0,0].detach().cpu().numpy())                         # Affichage de la partition\n",
    "                    axes[1].set_title(\"True mask\")                                              # Affichage du titre de la partition\n",
    "\n",
    "                    axes[2].imshow(predicted_omega_1[0,0].detach().cpu().numpy())               # Affichage de la prédiction\n",
    "                    axes[2].set_title(\"Predicted mask\")                                         # Affichage du titre de la prédiction\n",
    "                    plt.suptitle(\"Iteration: {}\".format(i + 1))                                 # Affichage du titre de la figure\n",
    "                    plt.show()                                                                  # Affichage de la figure\n",
    "        # Imprimer la dernière valeur de perte pour chaque test\n",
    "        print(f\"Dernière valeur de perte pour {optimizer_class.__name__} avec learning rate {learning_rate}: {loss_tracking[-1]}\")      # Affichage de la dernière valeur de perte pour chaque test\n",
    "        plt.plot(loss_tracking)                                                                                                # Affichage de la loss tracking\n",
    "        plt.xlabel(\"Iteration\")                                                                                           # Affichage de l'axe des abscisses\n",
    "        plt.ylabel(\"Loss\")                                                                                          # Affichage de l'axe des ordonnées\n",
    "\n",
    "        plt.show()                                                                                        # Affichage de la figure"
   ]
  }
 ],
 "metadata": {
  "kernelspec": {
   "display_name": "Python 3 (ipykernel)",
   "language": "python",
   "name": "python3"
  },
  "language_info": {
   "codemirror_mode": {
    "name": "ipython",
    "version": 3
   },
   "file_extension": ".py",
   "mimetype": "text/x-python",
   "name": "python",
   "nbconvert_exporter": "python",
   "pygments_lexer": "ipython3",
   "version": "3.10.12"
  }
 },
 "nbformat": 4,
 "nbformat_minor": 4
}

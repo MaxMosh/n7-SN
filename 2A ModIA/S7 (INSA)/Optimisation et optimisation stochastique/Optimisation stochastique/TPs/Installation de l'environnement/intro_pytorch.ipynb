{
 "cells": [
  {
   "cell_type": "markdown",
   "metadata": {},
   "source": [
    "# Introduction to PyTorch\n"
   ]
  },
  {
   "cell_type": "code",
   "execution_count": 3,
   "metadata": {},
   "outputs": [
    {
     "name": "stderr",
     "output_type": "stream",
     "text": [
      "/tmp/ipykernel_35896/3937499902.py:11: DeprecationWarning: `set_matplotlib_formats` is deprecated since IPython 7.23, directly use `matplotlib_inline.backend_inline.set_matplotlib_formats()`\n",
      "  set_matplotlib_formats('svg', 'pdf') # For export\n"
     ]
    }
   ],
   "source": [
    "## Standard libraries\n",
    "import os\n",
    "import math\n",
    "import numpy as np \n",
    "import time\n",
    "\n",
    "## Imports for plotting\n",
    "import matplotlib.pyplot as plt\n",
    "%matplotlib inline \n",
    "from IPython.display import set_matplotlib_formats\n",
    "set_matplotlib_formats('svg', 'pdf') # For export\n",
    "from matplotlib.colors import to_rgba\n",
    "import seaborn as sns\n",
    "sns.set()\n",
    "\n",
    "## Progress bar\n",
    "from tqdm.notebook import tqdm"
   ]
  },
  {
   "cell_type": "markdown",
   "metadata": {},
   "source": [
    "## The Basics of PyTorch\n",
    "\n",
    "We will start with reviewing the very basic concepts of PyTorch. We recommend to be familiar with the `numpy` package, here is a [tutorial of `numpy`](https://numpy.org/devdocs/user/quickstart.html) to go through. \n",
    "\n",
    "So, let's start with importing PyTorch. The package is called `torch`, based on its original framework [Torch](http://torch.ch/). As a first step, we can check its version:"
   ]
  },
  {
   "cell_type": "code",
   "execution_count": 4,
   "metadata": {},
   "outputs": [
    {
     "name": "stdout",
     "output_type": "stream",
     "text": [
      "Using torch 2.1.2\n"
     ]
    }
   ],
   "source": [
    "import torch\n",
    "print(\"Using torch\", torch.__version__)"
   ]
  },
  {
   "cell_type": "markdown",
   "metadata": {},
   "source": [
    "As in every machine learning framework, PyTorch provides functions that are stochastic like generating random numbers. However, a very good practice is to setup your code to be reproducible with the exact same random numbers. This is why we set a seed below. "
   ]
  },
  {
   "cell_type": "code",
   "execution_count": 5,
   "metadata": {},
   "outputs": [
    {
     "data": {
      "text/plain": [
       "<torch._C.Generator at 0x7fd25b998190>"
      ]
     },
     "execution_count": 5,
     "metadata": {},
     "output_type": "execute_result"
    }
   ],
   "source": [
    "torch.manual_seed(42) # Setting the seed"
   ]
  },
  {
   "cell_type": "markdown",
   "metadata": {},
   "source": [
    "### Tensors\n",
    "\n",
    "Tensors are the PyTorch equivalent to Numpy arrays, with the addition to also have support for GPU acceleration (more on that later) and computation of the gradients.\n",
    "The name \"tensor\" is a generalization of concepts you already know. For instance, a vector is a 1-D tensor, and a matrix a 2-D tensor. When working with neural networks, we will use tensors of various shapes and number of dimensions.\n",
    "\n",
    "Most common functions you know from numpy can be used on tensors as well. Actually, since numpy arrays are so similar to tensors, we can convert most tensors to numpy arrays (and back) but we don't need it too often.\n",
    "\n",
    "#### Initialization\n",
    "\n",
    "Let's first start by looking at different ways of creating a tensor. There are many possible options, the simplest one is to call `torch.Tensor` passing the desired shape as input argument:"
   ]
  },
  {
   "cell_type": "code",
   "execution_count": 12,
   "metadata": {},
   "outputs": [
    {
     "name": "stdout",
     "output_type": "stream",
     "text": [
      "tensor([[[1.0703e+14, 7.0065e-45, 1.3439e-15, 4.5853e-41],\n",
      "         [1.4013e-45, 0.0000e+00, 3.8208e-13, 3.0644e-41],\n",
      "         [1.0060e+24, 4.5853e-41, 3.8208e-13, 3.0644e-41]],\n",
      "\n",
      "        [[1.3637e-19, 1.3563e-19, 1.1210e-44, 0.0000e+00],\n",
      "         [1.0842e-19, 4.8418e+30, 1.0498e+24, 4.5853e-41],\n",
      "         [0.0000e+00, 0.0000e+00, 0.0000e+00, 0.0000e+00]]])\n"
     ]
    }
   ],
   "source": [
    "x = torch.Tensor(2, 3, 4)\n",
    "print(x)"
   ]
  },
  {
   "cell_type": "markdown",
   "metadata": {},
   "source": [
    "The function `torch.Tensor` allocates memory for the desired tensor, but reuses any values that have already been in the memory. To directly assign values to the tensor during initialization, there are many alternatives including:\n",
    "\n",
    "* `torch.zeros`: Creates a tensor filled with zeros\n",
    "* `torch.ones`: Creates a tensor filled with ones\n",
    "* `torch.rand`: Creates a tensor with random values uniformly sampled between 0 and 1\n",
    "* `torch.randn`: Creates a tensor with random values sampled from a normal distribution with mean 0 and variance 1\n",
    "* `torch.arange`: Creates a tensor containing the values $N,N+1,N+2,...,M$\n",
    "* `torch.Tensor` (input list): Creates a tensor from the list elements you provide"
   ]
  },
  {
   "cell_type": "markdown",
   "metadata": {},
   "source": [
    "Some important `properties` of the `torch.Tensor`:\n",
    "- `Tensor.size()` or `Tensor.shape`: Returns the shape of a tensor\n",
    "- `Tensor.dtype`: Returns the data type of a tensor\n",
    "- `Tensor.device`: Returns the device on which the tensor is stored\n",
    "- `Tensor.numel()`: Returns the number of elements in a tensor \n",
    "- `Tensor.item()`: Returns the value of a tensor element\n",
    "- `Tensor.numpy()`: Returns a numpy array representation of a tensor\n",
    "- `Tensor.to(device)`: Sends a tensor to the specified device, `device` could be `torch.device('cuda')` or `torch.device('cpu')`\n",
    "- `Tensor.requires_grad`: Returns  a boolean indicating whether the tensor requires gradient computation or not \n",
    "- `Tensor.grad`: Returns the gradient of the tensor with respect to the current tensor, returns `None` if the tensor does not require gradient computation"
   ]
  },
  {
   "cell_type": "code",
   "execution_count": 10,
   "metadata": {},
   "outputs": [
    {
     "name": "stdout",
     "output_type": "stream",
     "text": [
      "tensor([[1., 2.],\n",
      "        [3., 4.]])\n",
      "tensor([[1, 2],\n",
      "        [3, 4]])\n"
     ]
    }
   ],
   "source": [
    "# Create a tensor from a (nested) list\n",
    "x = torch.Tensor([[1, 2], [3, 4]])\n",
    "print(x)\n",
    "# or equivalently, but torch.tensor infer the data type automatically, meanwhile torch.Tensor always return a FloatTensor\n",
    "x = torch.tensor([[1, 2], [3, 4]])\n",
    "print(x)"
   ]
  },
  {
   "cell_type": "code",
   "execution_count": 11,
   "metadata": {},
   "outputs": [
    {
     "name": "stdout",
     "output_type": "stream",
     "text": [
      "tensor([[[0.0702, 0.1675, 0.7116, 0.3917],\n",
      "         [0.3398, 0.2922, 0.0763, 0.0870],\n",
      "         [0.9999, 0.5545, 0.3213, 0.5210]],\n",
      "\n",
      "        [[0.2125, 0.9158, 0.5856, 0.6272],\n",
      "         [0.6056, 0.3627, 0.9225, 0.9289],\n",
      "         [0.5109, 0.2366, 0.6438, 0.6932]]])\n"
     ]
    }
   ],
   "source": [
    "# Create a tensor with random values between 0 and 1 with a uniform distribution, with the shape [2, 3, 4]\n",
    "x = torch.rand(2, 3, 4)\n",
    "print(x)"
   ]
  },
  {
   "cell_type": "markdown",
   "metadata": {},
   "source": [
    "You can obtain the shape of a tensor in the same way as in numpy (`x.shape`), or using the `.size` method:"
   ]
  },
  {
   "cell_type": "code",
   "execution_count": 12,
   "metadata": {},
   "outputs": [
    {
     "name": "stdout",
     "output_type": "stream",
     "text": [
      "Shape: torch.Size([2, 3, 4])\n",
      "Size: torch.Size([2, 3, 4])\n",
      "Size: 2 3 4\n"
     ]
    }
   ],
   "source": [
    "shape = x.shape\n",
    "print(\"Shape:\", x.shape)\n",
    "\n",
    "size = x.size()\n",
    "print(\"Size:\", size)\n",
    "dim1, dim2, dim3 = x.size()\n",
    "print(\"Size:\", dim1, dim2, dim3)"
   ]
  },
  {
   "cell_type": "markdown",
   "metadata": {},
   "source": [
    "#### Tensor on CPU and on GPU\n",
    "\n",
    "Numpy is a great framework, but it cannot utilize GPUs to accelerate its numerical computations. For modern deep neural networks, GPUs often provide speedups of 50x or greater, so unfortunately numpy won’t be enough for modern deep learning.\n",
    "\n",
    "A Tensor is an n-dimensional array, and PyTorch provides many functions for operating on these Tensors. Behind the scenes, Tensors can keep track of a computational graph and gradients, but they’re also useful as a generic tool for scientific computing.\n",
    "\n",
    "Also unlike numpy, PyTorch Tensors can utilize GPUs to accelerate their numeric computations. To run a PyTorch Tensor on GPU, you simply need to specify the correct device."
   ]
  },
  {
   "cell_type": "markdown",
   "metadata": {},
   "source": [
    "By default, Tensor are stored on CPU. To run a Tensor on GPU, you need to specify the correct device."
   ]
  },
  {
   "cell_type": "code",
   "execution_count": 18,
   "metadata": {},
   "outputs": [
    {
     "name": "stdout",
     "output_type": "stream",
     "text": [
      "tensor([[ 0.6501, -0.4684, -0.4431],\n",
      "        [ 0.7674, -0.5132, -1.1960],\n",
      "        [ 0.8768, -1.5062,  0.6604]])\n",
      "The tensor is on : cpu\n"
     ]
    }
   ],
   "source": [
    "x = torch.randn(3, 3)\n",
    "print(x)\n",
    "print(\"The tensor is on :\", x.device)"
   ]
  },
  {
   "cell_type": "markdown",
   "metadata": {},
   "source": [
    "Define the device on which you want to run computations. Unlike computations on CPU, computations on GPU are faster for simple operations, but they are slower for complex operations. So in general, when we perform computations on GPU, we limit to 32 bits (or event 16 bits) for faster computations. Remember that in deep learning, we don't need high-precision computations."
   ]
  },
  {
   "cell_type": "code",
   "execution_count": 19,
   "metadata": {},
   "outputs": [],
   "source": [
    "device = torch.device('cuda:0') if torch.cuda.is_available() else torch.device('cpu')\n",
    "dtype = torch.float32"
   ]
  },
  {
   "cell_type": "markdown",
   "metadata": {},
   "source": [
    "Now move your tensor to the GPU."
   ]
  },
  {
   "cell_type": "code",
   "execution_count": 20,
   "metadata": {},
   "outputs": [
    {
     "name": "stdout",
     "output_type": "stream",
     "text": [
      "tensor([[ 0.6501, -0.4684, -0.4431],\n",
      "        [ 0.7674, -0.5132, -1.1960],\n",
      "        [ 0.8768, -1.5062,  0.6604]], device='cuda:0')\n",
      "The tensor is on : cuda:0\n"
     ]
    }
   ],
   "source": [
    "x = x.to(device)\n",
    "print(x)\n",
    "print(\"The tensor is on :\", x.device)"
   ]
  },
  {
   "cell_type": "markdown",
   "metadata": {},
   "source": [
    "#### Tensor to Numpy, and Numpy to Tensor\n",
    "\n",
    "Tensors can be converted to numpy arrays, and numpy arrays back to tensors. To transform a numpy array into a tensor, we can use the function `torch.from_numpy`:"
   ]
  },
  {
   "cell_type": "code",
   "execution_count": 21,
   "metadata": {},
   "outputs": [
    {
     "name": "stdout",
     "output_type": "stream",
     "text": [
      "Numpy array: \n",
      " [[1 2]\n",
      " [3 4]]\n",
      "PyTorch tensor: \n",
      " tensor([[1, 2],\n",
      "        [3, 4]])\n"
     ]
    }
   ],
   "source": [
    "np_arr = np.array([[1, 2], [3, 4]])\n",
    "tensor = torch.from_numpy(np_arr)\n",
    "\n",
    "print(\"Numpy array: \\n\", np_arr)\n",
    "print(\"PyTorch tensor: \\n\", tensor)"
   ]
  },
  {
   "cell_type": "markdown",
   "metadata": {},
   "source": [
    "To transform a PyTorch tensor back to a numpy array, we can use the function `.numpy()` on tensors:"
   ]
  },
  {
   "cell_type": "code",
   "execution_count": 22,
   "metadata": {},
   "outputs": [
    {
     "name": "stdout",
     "output_type": "stream",
     "text": [
      "PyTorch tensor: tensor([0, 1, 2, 3])\n",
      "Numpy array: [0 1 2 3]\n"
     ]
    }
   ],
   "source": [
    "tensor = torch.arange(4)\n",
    "np_arr = tensor.numpy()\n",
    "\n",
    "print(\"PyTorch tensor:\", tensor)\n",
    "print(\"Numpy array:\", np_arr)"
   ]
  },
  {
   "cell_type": "markdown",
   "metadata": {},
   "source": [
    "The conversion of tensors to numpy require the tensor to be on the CPU, and not the GPU (more on GPU support in a later section). In case you have a tensor on GPU, you need to call `.cpu()` on the tensor beforehand. Hence, you get a line like `np_arr = tensor.cpu().numpy()`."
   ]
  },
  {
   "cell_type": "markdown",
   "metadata": {},
   "source": [
    "#### Operations\n",
    "\n",
    "Most operations that exist in numpy, also exist in PyTorch. A full list of operations can be found in the [PyTorch documentation](https://pytorch.org/docs/stable/tensors.html#), but we will review the most important ones here.\n",
    "\n",
    "The simplest operation is to add two tensors:"
   ]
  },
  {
   "cell_type": "code",
   "execution_count": 23,
   "metadata": {},
   "outputs": [
    {
     "name": "stdout",
     "output_type": "stream",
     "text": [
      "X1 tensor([[0.1871, 0.9297, 0.6260],\n",
      "        [0.5763, 0.5243, 0.6195]])\n",
      "X2 tensor([[0.5086, 0.1357, 0.8796],\n",
      "        [0.8887, 0.4281, 0.0675]])\n",
      "Y tensor([[0.6956, 1.0654, 1.5055],\n",
      "        [1.4651, 0.9524, 0.6870]])\n"
     ]
    }
   ],
   "source": [
    "x1 = torch.rand(2, 3)\n",
    "x2 = torch.rand(2, 3)\n",
    "y = x1 + x2\n",
    "\n",
    "print(\"X1\", x1)\n",
    "print(\"X2\", x2)\n",
    "print(\"Y\", y)"
   ]
  },
  {
   "cell_type": "markdown",
   "metadata": {},
   "source": [
    "Calling `x1 + x2` creates a new tensor containing the sum of the two inputs. However, we can also use in-place operations that are applied directly on the memory of a tensor. We therefore change the values of `x2` without the chance to re-accessing the values of `x2` before the operation. An example is shown below:"
   ]
  },
  {
   "cell_type": "code",
   "execution_count": 24,
   "metadata": {},
   "outputs": [
    {
     "name": "stdout",
     "output_type": "stream",
     "text": [
      "X1 (before) tensor([[0.0592, 0.9284, 0.7021],\n",
      "        [0.4182, 0.7295, 0.9049]])\n",
      "X2 (before) tensor([[0.1976, 0.0676, 0.2173],\n",
      "        [0.7173, 0.7519, 0.9988]])\n",
      "X1 (after) tensor([[0.0592, 0.9284, 0.7021],\n",
      "        [0.4182, 0.7295, 0.9049]])\n",
      "X2 (after) tensor([[0.2568, 0.9961, 0.9194],\n",
      "        [1.1355, 1.4814, 1.9037]])\n"
     ]
    }
   ],
   "source": [
    "x1 = torch.rand(2, 3)\n",
    "x2 = torch.rand(2, 3)\n",
    "print(\"X1 (before)\", x1)\n",
    "print(\"X2 (before)\", x2)\n",
    "\n",
    "x2.add_(x1)\n",
    "print(\"X1 (after)\", x1)\n",
    "print(\"X2 (after)\", x2)"
   ]
  },
  {
   "cell_type": "markdown",
   "metadata": {},
   "source": [
    "In-place operations are usually marked with a underscore postfix (e.g. \"add_\" instead of \"add\").\n",
    "\n",
    "Another common operation aims at changing the shape of a tensor. A tensor of size (2,3) can be re-organized to any other shape with the same number of elements (e.g. a tensor of size (6), or (3,2), ...). In PyTorch, this operation is called `view`:"
   ]
  },
  {
   "cell_type": "code",
   "execution_count": 25,
   "metadata": {},
   "outputs": [
    {
     "name": "stdout",
     "output_type": "stream",
     "text": [
      "X tensor([0, 1, 2, 3, 4, 5])\n"
     ]
    }
   ],
   "source": [
    "x = torch.arange(6)\n",
    "print(\"X\", x)"
   ]
  },
  {
   "cell_type": "code",
   "execution_count": 26,
   "metadata": {},
   "outputs": [
    {
     "name": "stdout",
     "output_type": "stream",
     "text": [
      "X tensor([[0, 1, 2],\n",
      "        [3, 4, 5]])\n"
     ]
    }
   ],
   "source": [
    "x = x.view(2, 3)\n",
    "print(\"X\", x)"
   ]
  },
  {
   "cell_type": "code",
   "execution_count": 27,
   "metadata": {},
   "outputs": [
    {
     "name": "stdout",
     "output_type": "stream",
     "text": [
      "X tensor([[0, 3],\n",
      "        [1, 4],\n",
      "        [2, 5]])\n"
     ]
    }
   ],
   "source": [
    "x = x.permute(1, 0) # Swapping dimension 0 and 1\n",
    "print(\"X\", x)"
   ]
  },
  {
   "cell_type": "markdown",
   "metadata": {},
   "source": [
    "Other commonly used operations include matrix multiplications, which are essential for neural networks. Quite often, we have an input vector $\\mathbf{x}$, which is transformed using a learned weight matrix $\\mathbf{W}$. There are multiple ways and functions to perform matrix multiplication, some of which we list below:\n",
    "\n",
    "* `torch.matmul`: Performs the matrix product over two tensors, where the specific behavior depends on the dimensions. If both inputs are matrices (2-dimensional tensors), it performs the standard matrix product. For higher dimensional inputs, the function supports broadcasting (for details see the [documentation](https://pytorch.org/docs/stable/generated/torch.matmul.html?highlight=matmul#torch.matmul)). Can also be written as `a @ b`, similar to numpy. \n",
    "* `torch.mm`: Performs the matrix product over two matrices, but doesn't support broadcasting (see [documentation](https://pytorch.org/docs/stable/generated/torch.mm.html?highlight=torch%20mm#torch.mm))\n",
    "* `torch.bmm`: Performs the matrix product with a support batch dimension. If the first tensor $T$ is of shape ($b\\times n\\times m$), and the second tensor $R$ ($b\\times m\\times p$), the output $O$ is of shape ($b\\times n\\times p$), and has been calculated by performing $b$ matrix multiplications of the submatrices of $T$ and $R$: $O_i = T_i @ R_i$\n",
    "* `torch.einsum`: Performs matrix multiplications and more (i.e. sums of products) using the Einstein summation convention. Explanation of the Einstein sum can be found in assignment 1.\n",
    "\n",
    "Usually, we use `torch.matmul` or `torch.bmm`. We can try a matrix multiplication with `torch.matmul` below."
   ]
  },
  {
   "cell_type": "code",
   "execution_count": 28,
   "metadata": {},
   "outputs": [
    {
     "name": "stdout",
     "output_type": "stream",
     "text": [
      "X tensor([[0, 1, 2],\n",
      "        [3, 4, 5]])\n"
     ]
    }
   ],
   "source": [
    "x = torch.arange(6)\n",
    "x = x.view(2, 3)\n",
    "print(\"X\", x)"
   ]
  },
  {
   "cell_type": "code",
   "execution_count": 29,
   "metadata": {},
   "outputs": [
    {
     "name": "stdout",
     "output_type": "stream",
     "text": [
      "W tensor([[0, 1, 2],\n",
      "        [3, 4, 5],\n",
      "        [6, 7, 8]])\n"
     ]
    }
   ],
   "source": [
    "W = torch.arange(9).view(3, 3) # We can also stack multiple operations in a single line\n",
    "print(\"W\", W)"
   ]
  },
  {
   "cell_type": "code",
   "execution_count": 30,
   "metadata": {},
   "outputs": [
    {
     "name": "stdout",
     "output_type": "stream",
     "text": [
      "h tensor([[15, 18, 21],\n",
      "        [42, 54, 66]])\n"
     ]
    }
   ],
   "source": [
    "h = torch.matmul(x, W) # Verify the result by calculating it by hand too!\n",
    "print(\"h\", h)"
   ]
  },
  {
   "cell_type": "markdown",
   "metadata": {},
   "source": [
    "#### Indexing\n",
    "\n",
    "We often have the situation where we need to select a part of a tensor. Indexing works just like in numpy, so let's try it:"
   ]
  },
  {
   "cell_type": "code",
   "execution_count": 31,
   "metadata": {},
   "outputs": [
    {
     "name": "stdout",
     "output_type": "stream",
     "text": [
      "X tensor([[ 0,  1,  2,  3],\n",
      "        [ 4,  5,  6,  7],\n",
      "        [ 8,  9, 10, 11]])\n"
     ]
    }
   ],
   "source": [
    "x = torch.arange(12).view(3, 4)\n",
    "print(\"X\", x)"
   ]
  },
  {
   "cell_type": "code",
   "execution_count": 32,
   "metadata": {},
   "outputs": [
    {
     "name": "stdout",
     "output_type": "stream",
     "text": [
      "tensor([1, 5, 9])\n"
     ]
    }
   ],
   "source": [
    "print(x[:, 1])   # Second column"
   ]
  },
  {
   "cell_type": "code",
   "execution_count": 33,
   "metadata": {},
   "outputs": [
    {
     "name": "stdout",
     "output_type": "stream",
     "text": [
      "tensor([0, 1, 2, 3])\n"
     ]
    }
   ],
   "source": [
    "print(x[0])      # First row"
   ]
  },
  {
   "cell_type": "code",
   "execution_count": 34,
   "metadata": {},
   "outputs": [
    {
     "name": "stdout",
     "output_type": "stream",
     "text": [
      "tensor([3, 7])\n"
     ]
    }
   ],
   "source": [
    "print(x[:2, -1]) # First two rows, last column"
   ]
  },
  {
   "cell_type": "code",
   "execution_count": 35,
   "metadata": {},
   "outputs": [
    {
     "name": "stdout",
     "output_type": "stream",
     "text": [
      "tensor([[ 4,  5,  6,  7],\n",
      "        [ 8,  9, 10, 11]])\n"
     ]
    }
   ],
   "source": [
    "print(x[1:3, :]) # Middle two rows"
   ]
  },
  {
   "cell_type": "markdown",
   "metadata": {},
   "source": [
    "### Dynamic Computation Graph and Backpropagation\n",
    "\n",
    "One of the main reasons for using PyTorch in Deep Learning projects is that we can automatically get **gradients/derivatives** of functions that we define. We will mainly use PyTorch for implementing neural networks, and they are just fancy functions. If we use weight matrices in our function that we want to learn, then those are called the **parameters** or simply the **weights**.\n",
    "\n",
    "If our neural network would output a single scalar value, we would talk about taking the **derivative**, but you will see that quite often we will have **multiple** output variables (\"values\"); in that case we talk about **gradients**. It's a more general term.\n",
    "\n",
    "Given an input $\\mathbf{x}$, we define our function by **manipulating** that input, usually by matrix-multiplications with weight matrices and additions with so-called bias vectors. As we manipulate our input, we are automatically creating a **computational graph**. This graph shows how to arrive at our output from our input. \n",
    "PyTorch is a **define-by-run** framework; this means that we can just do our manipulations, and PyTorch will keep track of that graph for us. Thus, we create a dynamic computation graph along the way.\n",
    "\n",
    "So, to recap: the only thing we have to do is to compute the **output**, and then we can ask PyTorch to automatically get the **gradients**. \n",
    "\n",
    "> **Note:  Why do we want gradients?** Review your lecture notes!\n",
    "\n",
    "The first thing we have to do is to specify which tensors require gradients. By default, when we create a tensor, it does not require gradients and its gradients is set to `None`."
   ]
  },
  {
   "cell_type": "code",
   "execution_count": 36,
   "metadata": {},
   "outputs": [
    {
     "name": "stdout",
     "output_type": "stream",
     "text": [
      "False\n",
      "None\n"
     ]
    }
   ],
   "source": [
    "x = torch.ones((3,))\n",
    "print(x.requires_grad)\n",
    "print(x.grad)"
   ]
  },
  {
   "cell_type": "markdown",
   "metadata": {},
   "source": [
    "We can change this for an existing tensor using the function `requires_grad_()` (underscore indicating that this is a in-place operation). Alternatively, when creating a tensor, you can pass the argument `requires_grad=True` to most initializers we have seen above."
   ]
  },
  {
   "cell_type": "code",
   "execution_count": 37,
   "metadata": {},
   "outputs": [
    {
     "name": "stdout",
     "output_type": "stream",
     "text": [
      "True\n"
     ]
    }
   ],
   "source": [
    "x = torch.ones((3,), requires_grad=True)\n",
    "print(x.requires_grad)"
   ]
  },
  {
   "cell_type": "markdown",
   "metadata": {},
   "source": [
    "or"
   ]
  },
  {
   "cell_type": "code",
   "execution_count": 24,
   "metadata": {},
   "outputs": [
    {
     "name": "stdout",
     "output_type": "stream",
     "text": [
      "True\n"
     ]
    }
   ],
   "source": [
    "x.requires_grad_(True)\n",
    "print(x.requires_grad)"
   ]
  },
  {
   "attachments": {},
   "cell_type": "markdown",
   "metadata": {},
   "source": [
    "In order to get familiar with the concept of a computation graph, we will create one for the following function:\n",
    "\n",
    "$$y = \\frac{1}{2}\\sum_{i = 1}^{2} (x_i - 2)^2 ,$$\n",
    "\n",
    "You could imagine that $x$ are our parameters, and we want to optimize (either maximize or minimize) the output $y$. For this, we want to obtain the gradients $\\partial y / \\partial \\mathbf{x}$. For our example, we'll use $\\mathbf{x}=[1,2]$ as our input.\n",
    "\n",
    "The analytical formula of the gradient $\\partial y / \\partial \\mathbf{x}$ is:\n",
    "$$\\partial y / \\partial \\mathbf{x} (\\mathbf{x}) = \\left( x_1 - 2, x_2 - 2\\right)^T$$"
   ]
  },
  {
   "cell_type": "code",
   "execution_count": 39,
   "metadata": {},
   "outputs": [
    {
     "name": "stdout",
     "output_type": "stream",
     "text": [
      "X tensor([1., 2.], device='cuda:0', requires_grad=True)\n"
     ]
    }
   ],
   "source": [
    "x = torch.tensor([1, 2], device=device, dtype=torch.float32, requires_grad=True) # Only float tensors can have gradients\n",
    "print(\"X\", x)"
   ]
  },
  {
   "cell_type": "markdown",
   "metadata": {},
   "source": [
    "Now let's build the computation graph step by step. You can combine multiple operations in a single line, but we will separate them here to get a better understanding of how each operation is added to the computation graph."
   ]
  },
  {
   "cell_type": "code",
   "execution_count": 40,
   "metadata": {},
   "outputs": [
    {
     "name": "stdout",
     "output_type": "stream",
     "text": [
      "Y tensor(0.5000, device='cuda:0', grad_fn=<MeanBackward0>)\n"
     ]
    }
   ],
   "source": [
    "a = x - 2\n",
    "b = a ** 2\n",
    "y = b.mean()\n",
    "print(\"Y\", y)"
   ]
  },
  {
   "cell_type": "markdown",
   "metadata": {},
   "source": [
    "Using the statements above, we have created a computation graph.\n",
    "\n",
    "We calculate $a$ based on the inputs $x$ and the constant $2$, $b$ is $a$ squared, and so on. \n",
    "\n",
    "Each node of the computation graph has automatically defined a function for calculating the gradients with respect to its inputs, `grad_fn`. You can see this when we printed the output tensor $y$.\n",
    "We can perform backpropagation on the computation graph by calling the function `backward()` on the last output, which effectively calculates the gradients for each tensor that has the property `requires_grad=True`:"
   ]
  },
  {
   "cell_type": "code",
   "execution_count": 41,
   "metadata": {},
   "outputs": [],
   "source": [
    "y.backward()"
   ]
  },
  {
   "cell_type": "markdown",
   "metadata": {},
   "source": [
    "`x.grad` will now contain the gradient $\\partial y/ \\partial \\mathcal{x}$, and this gradient indicates how a change in $\\mathbf{x}$ will affect output $y$ given the current input $\\mathbf{x}=[1,2]$:"
   ]
  },
  {
   "cell_type": "code",
   "execution_count": 42,
   "metadata": {},
   "outputs": [
    {
     "name": "stdout",
     "output_type": "stream",
     "text": [
      "tensor([-1.,  0.], device='cuda:0')\n"
     ]
    }
   ],
   "source": [
    "print(x.grad)"
   ]
  },
  {
   "cell_type": "markdown",
   "metadata": {},
   "source": [
    "Use can verify that the gradient computed with backpropagation is the same as the gradient computed with the analytical formula."
   ]
  },
  {
   "cell_type": "markdown",
   "metadata": {},
   "source": [
    "### GPU support\n",
    "\n",
    "A crucial feature of PyTorch is the support of GPUs, short for Graphics Processing Unit. A GPU can perform many thousands of small operations in parallel, making it very well suitable for performing large matrix operations in neural networks. When comparing GPUs to CPUs, we can list the following main differences (credit: [Kevin Krewell, 2009](https://blogs.nvidia.com/blog/2009/12/16/whats-the-difference-between-a-cpu-and-a-gpu/)) \n",
    "\n",
    "<center style=\"width: 100%\"><img src=\"comparison_CPU_GPU.png\" width=\"700px\"></center>\n",
    "\n",
    "CPUs and GPUs have both different advantages and disadvantages, which is why many computers contain both components and use them for different tasks. In case you are not familiar with GPUs, you can read up more details in this [NVIDIA blog post](https://blogs.nvidia.com/blog/2009/12/16/whats-the-difference-between-a-cpu-and-a-gpu/) or [here](https://www.intel.com/content/www/us/en/products/docs/processors/what-is-a-gpu.html). \n",
    "\n",
    "GPUs can accelerate the training of your network up to a factor of $100$ which is essential for large neural networks. PyTorch implements a lot of functionality for supporting GPUs (mostly those of NVIDIA due to the libraries [CUDA](https://developer.nvidia.com/cuda-zone) and [cuDNN](https://developer.nvidia.com/cudnn)). First, let's check whether you have a GPU available:"
   ]
  },
  {
   "cell_type": "code",
   "execution_count": 29,
   "metadata": {},
   "outputs": [
    {
     "name": "stdout",
     "output_type": "stream",
     "text": [
      "Is the GPU available? True\n"
     ]
    }
   ],
   "source": [
    "gpu_avail = torch.cuda.is_available()\n",
    "print(f\"Is the GPU available? {gpu_avail}\")"
   ]
  },
  {
   "cell_type": "markdown",
   "metadata": {},
   "source": [
    "If you have a GPU on your computer but the command above returns False, make sure you have the correct CUDA-version installed (see the instruction).  On Google Colab, make sure that you have selected a GPU in your runtime setup (in the menu, check under `Runtime -> Change runtime type`). \n",
    "\n",
    "By default, all tensors you create are stored on the CPU. We can push a tensor to the GPU by using the function `.to(...)`, or `.cuda()`. However, it is often a good practice to define a `device` object in your code which points to the GPU if you have one, and otherwise to the CPU. Then, you can write your code with respect to this device object, and it allows you to run the same code on both a CPU-only system, and one with a GPU. Let's try it below. We can specify the device as follows: "
   ]
  },
  {
   "cell_type": "code",
   "execution_count": 43,
   "metadata": {},
   "outputs": [
    {
     "name": "stdout",
     "output_type": "stream",
     "text": [
      "Device cuda\n"
     ]
    }
   ],
   "source": [
    "device = torch.device(\"cuda\") if torch.cuda.is_available() else torch.device(\"cpu\")\n",
    "print(\"Device\", device)"
   ]
  },
  {
   "cell_type": "markdown",
   "metadata": {},
   "source": [
    "Now let's create a tensor and push it to the device:"
   ]
  },
  {
   "cell_type": "code",
   "execution_count": 44,
   "metadata": {},
   "outputs": [
    {
     "name": "stdout",
     "output_type": "stream",
     "text": [
      "X tensor([[0., 0., 0.],\n",
      "        [0., 0., 0.]], device='cuda:0')\n"
     ]
    }
   ],
   "source": [
    "x = torch.zeros(2, 3)\n",
    "x = x.to(device)\n",
    "print(\"X\", x)"
   ]
  },
  {
   "cell_type": "markdown",
   "metadata": {},
   "source": [
    "In case you have a GPU, you should now see the attribute `device='cuda:0'` being printed next to your tensor. The zero next to cuda indicates that this is the zero-th GPU device on your computer. PyTorch also supports multi-GPU systems, but this you will only need once you have very big networks to train (if interested, see the [PyTorch documentation](https://pytorch.org/docs/stable/distributed.html#distributed-basics)). We can also compare the runtime of a large matrix multiplication on the CPU with a operation on the GPU:"
   ]
  },
  {
   "cell_type": "code",
   "execution_count": 46,
   "metadata": {},
   "outputs": [
    {
     "name": "stdout",
     "output_type": "stream",
     "text": [
      "CPU time: 1.46088s\n",
      "GPU time: 0.47437s\n"
     ]
    }
   ],
   "source": [
    "x = torch.randn(5000, 5000)\n",
    "\n",
    "## CPU version\n",
    "start_time = time.time()\n",
    "_ = torch.matmul(x, x)\n",
    "end_time = time.time()\n",
    "print(f\"CPU time: {(end_time - start_time):6.5f}s\")\n",
    "\n",
    "## GPU version\n",
    "x = x.to(device)\n",
    "_ = torch.matmul(x, x)  # First operation to 'burn in' GPU\n",
    "# CUDA is asynchronous, so we need to use different timing functions\n",
    "start = torch.cuda.Event(enable_timing=True)\n",
    "end = torch.cuda.Event(enable_timing=True)\n",
    "start.record()\n",
    "_ = torch.matmul(x, x)\n",
    "end.record()\n",
    "torch.cuda.synchronize()  # Waits for everything to finish running on the GPU\n",
    "print(f\"GPU time: {0.001 * start.elapsed_time(end):6.5f}s\")  # Milliseconds to seconds"
   ]
  },
  {
   "cell_type": "markdown",
   "metadata": {},
   "source": [
    "Depending on the size of the operation and the CPU/GPU in your system, the speedup of this operation can be >50x. As `matmul` operations are very common in neural networks, we can already see the great benefit of training a NN on a GPU. The time estimate can be relatively noisy here because we haven't run it for multiple times. Feel free to extend this, but it also takes longer to run.\n",
    "\n",
    "When generating random numbers, the seed between CPU and GPU is not synchronized. Hence, we need to set the seed on the GPU separately to ensure a reproducible code. Note that due to different GPU architectures, running the same code on different GPUs does not guarantee the same random numbers. Still, we don't want that our code gives us a different output every time we run it on the exact same hardware. Hence, we also set the seed on the GPU:"
   ]
  },
  {
   "cell_type": "code",
   "execution_count": 33,
   "metadata": {},
   "outputs": [],
   "source": [
    "# GPU operations have a separate seed we also want to set\n",
    "if torch.cuda.is_available(): \n",
    "    torch.cuda.manual_seed(42)\n",
    "    torch.cuda.manual_seed_all(42)\n",
    "    \n",
    "# Additionally, some operations on a GPU are implemented stochastic for efficiency\n",
    "# We want to ensure that all operations are deterministic on GPU (if used) for reproducibility\n",
    "torch.backends.cudnn.deterministic = True\n",
    "torch.backends.cudnn.benchmark = False"
   ]
  },
  {
   "cell_type": "markdown",
   "metadata": {},
   "source": [
    "## Example : linear model"
   ]
  },
  {
   "cell_type": "markdown",
   "metadata": {},
   "source": [
    "Consider our linear model in TD:\n",
    "$$Y = \\langle \\theta, X \\rangle + B$$\n",
    "wher $\\theta \\in \\mathbb{R}^d$ $X \\sim \\mathcal{N}(0, I_d)$ and $B \\sim \\mathcal{N}(0, \\sigma^2)$"
   ]
  },
  {
   "cell_type": "markdown",
   "metadata": {},
   "source": [
    "#### Generate data"
   ]
  },
  {
   "cell_type": "code",
   "execution_count": 68,
   "metadata": {},
   "outputs": [
    {
     "name": "stdout",
     "output_type": "stream",
     "text": [
      "torch.Size([5, 100]) torch.Size([100])\n",
      "cuda:0 cuda:0\n"
     ]
    }
   ],
   "source": [
    "from torch import Tensor\n",
    "factory_kwargs = {\"device\": device, \"dtype\": torch.float32}\n",
    "\n",
    "def generate_data(d: int, n: int, theta: Tensor, sigma: float, factory_kwargs = None) -> Tensor:\n",
    "    X = torch.randn(d, n, **factory_kwargs)\n",
    "    noise = torch.randn(n, **factory_kwargs) * sigma\n",
    "    Y = torch.matmul(X.permute(1,0), theta) + noise\n",
    "    return X, Y\n",
    "\n",
    "\n",
    "d = 5\n",
    "n = 100\n",
    "sigma = 3\n",
    "theta = torch.ones(d, **factory_kwargs)\n",
    "\n",
    "X, Y = generate_data(d, n, theta, sigma, factory_kwargs)\n",
    "\n",
    "print(X.shape, Y.shape)\n",
    "print(X.device, Y.device)"
   ]
  },
  {
   "cell_type": "markdown",
   "metadata": {},
   "source": [
    "Risk and empirical risk"
   ]
  },
  {
   "cell_type": "code",
   "execution_count": 69,
   "metadata": {},
   "outputs": [],
   "source": [
    "\n",
    "def E(w: Tensor, theta: Tensor, sigma: float):\n",
    "    return 0.5 * torch.sum((w - theta) ** 2) + 0.5 * sigma ** 2\n",
    "\n",
    "\n",
    "def En(w: Tensor, X: Tensor, Y: Tensor):\n",
    "    n = X.shape[1]\n",
    "    return 0.5 * torch.sum((torch.matmul(X.permute(1,0), w) - Y) ** 2) / n"
   ]
  },
  {
   "cell_type": "markdown",
   "metadata": {},
   "source": [
    "#### IT'S YOUR TURN! A VOUS DE JOUER!\n",
    "\n",
    "Some hints: \n",
    "\n",
    "- Compute the gradient (and stochastic gradient) by back-propagation using PyTorch \n",
    "\n",
    "- Use the `requires_grad=True` property of tensors to indicate that you want to calculate the gradient\n",
    "\n",
    "- Compute the loss (i.e., your empirical risk)\n",
    "\n",
    "- Use the `backward()` function to calculate the gradient\n",
    "\n",
    "- Perform your optimization algorithm\n",
    "\n",
    "- Follow questions from the TD/TP"
   ]
  },
  {
   "cell_type": "markdown",
   "metadata": {},
   "source": [
    "Your can also look at the PyTorch optimization package `torch.optim`, where you have many algorithms such as `Adam`, `SGD`, `RMSprop`, `Adadelta`, `Adagrad`, ...\n",
    "See the [PyTorch documentation](https://pytorch.org/docs/stable/optim.html) for more details."
   ]
  },
  {
   "cell_type": "markdown",
   "metadata": {},
   "source": [
    "## Neural network in PyTorch\n",
    "\n"
   ]
  },
  {
   "cell_type": "markdown",
   "metadata": {},
   "source": [
    "### The model\n",
    "\n",
    "The package `torch.nn` defines a series of useful classes like linear networks layers, activation functions, loss functions etc. A full list can be found [here](https://pytorch.org/docs/stable/nn.html). In case you need a certain network layer, check the documentation of the package first before writing the layer yourself as the package likely contains the code for it already. We import it below:"
   ]
  },
  {
   "cell_type": "code",
   "execution_count": 47,
   "metadata": {},
   "outputs": [],
   "source": [
    "import torch.nn as nn"
   ]
  },
  {
   "cell_type": "markdown",
   "metadata": {},
   "source": [
    "Additionally to `torch.nn`, there is also `torch.nn.functional`. It contains functions that are used in network layers. This is in contrast to `torch.nn` which defines them as `nn.Modules` (more on it below), and `torch.nn` actually uses a lot of functionalities from `torch.nn.functional`. Hence, the functional package is useful in many situations, and so we import it as well here."
   ]
  },
  {
   "cell_type": "code",
   "execution_count": 48,
   "metadata": {},
   "outputs": [],
   "source": [
    "import torch.nn.functional as F"
   ]
  },
  {
   "cell_type": "markdown",
   "metadata": {},
   "source": [
    "#### nn.Module\n",
    "\n",
    "In PyTorch, a neural network is built up out of modules. Modules can contain other modules, and a neural network is considered to be a module itself as well. The basic template of a module is as follows:"
   ]
  },
  {
   "cell_type": "code",
   "execution_count": 49,
   "metadata": {},
   "outputs": [],
   "source": [
    "class MyModule(nn.Module):\n",
    "    \n",
    "    def __init__(self):\n",
    "        super().__init__()\n",
    "        # Some init for my module\n",
    "        \n",
    "    def forward(self, x):\n",
    "        # Function for performing the calculation of the module.\n",
    "        pass"
   ]
  },
  {
   "cell_type": "markdown",
   "metadata": {},
   "source": [
    "The forward function is where the computation of the module is taken place, and is executed when you call the module (`nn = MyModule(); nn(x)`). In the init function, we usually create the parameters of the module, using `nn.Parameter`, or defining other modules that are used in the forward function. The backward calculation is done automatically, but could be overwritten as well if wanted.\n",
    "\n",
    "#### Simple classifier\n",
    "We can now make use of the pre-defined modules in the `torch.nn` package, and define our own small neural network. We will use a minimal network with a input layer, one hidden layer with tanh as activation function, and a output layer. In other words, our networks should look something like this:\n",
    "\n",
    "The input neurons are shown in blue, which represent the coordinates $x_1$ and $x_2$ of a data point. The hidden neurons including a tanh activation are shown in white, and the output neuron in red.\n",
    "In PyTorch, we can define this as follows:"
   ]
  },
  {
   "cell_type": "code",
   "execution_count": 50,
   "metadata": {},
   "outputs": [],
   "source": [
    "class SimpleClassifier(nn.Module):\n",
    "\n",
    "    def __init__(self, num_inputs, num_hidden, num_outputs):\n",
    "        super().__init__()\n",
    "        # Initialize the modules we need to build the network\n",
    "        self.linear1 = nn.Linear(num_inputs, num_hidden)\n",
    "        self.act_fn = nn.Tanh()\n",
    "        self.linear2 = nn.Linear(num_hidden, num_outputs)\n",
    "\n",
    "    def forward(self, x):\n",
    "        # Perform the calculation of the model to determine the prediction\n",
    "        x = self.linear1(x)\n",
    "        x = self.act_fn(x)\n",
    "        x = self.linear2(x)\n",
    "        return x"
   ]
  },
  {
   "cell_type": "markdown",
   "metadata": {},
   "source": [
    "For the examples in this notebook, we will use a tiny neural network with two input neurons and four hidden neurons. As we perform binary classification, we will use a single output neuron. Note that we do not apply a sigmoid on the output yet. This is because other functions, especially the loss, are more efficient and precise to calculate on the original outputs instead of the sigmoid output. We will discuss the detailed reason later."
   ]
  },
  {
   "cell_type": "code",
   "execution_count": 51,
   "metadata": {},
   "outputs": [
    {
     "name": "stdout",
     "output_type": "stream",
     "text": [
      "SimpleClassifier(\n",
      "  (linear1): Linear(in_features=2, out_features=4, bias=True)\n",
      "  (act_fn): Tanh()\n",
      "  (linear2): Linear(in_features=4, out_features=1, bias=True)\n",
      ")\n"
     ]
    }
   ],
   "source": [
    "model = SimpleClassifier(num_inputs=2, num_hidden=4, num_outputs=1)\n",
    "# Printing a module shows all its submodules\n",
    "print(model)"
   ]
  },
  {
   "cell_type": "markdown",
   "metadata": {},
   "source": [
    "Printing the model lists all submodules it contains. The parameters of a module can be obtained by using its `parameters()` functions, or `named_parameters()` to get a name to each parameter object. For our small neural network, we have the following parameters:"
   ]
  },
  {
   "cell_type": "code",
   "execution_count": 52,
   "metadata": {},
   "outputs": [
    {
     "name": "stdout",
     "output_type": "stream",
     "text": [
      "Parameter linear1.weight, shape torch.Size([4, 2])\n",
      "Parameter linear1.bias, shape torch.Size([4])\n",
      "Parameter linear2.weight, shape torch.Size([1, 4])\n",
      "Parameter linear2.bias, shape torch.Size([1])\n"
     ]
    }
   ],
   "source": [
    "for name, param in model.named_parameters():\n",
    "    print(f\"Parameter {name}, shape {param.shape}\")"
   ]
  },
  {
   "cell_type": "markdown",
   "metadata": {},
   "source": [
    "Each linear layer has a weight matrix of the shape `[output, input]`, and a bias of the shape `[output]`. The tanh activation function does not have any parameters. Note that parameters are only registered for `nn.Module` objects that are direct object attributes, i.e. `self.a = ...`. If you define a list of modules, the parameters of those are not registered for the outer module and can cause some issues when you try to optimize your module. There are alternatives, like `nn.ModuleList`, `nn.ModuleDict` and `nn.Sequential`, that allow you to have different data structures of modules. We will use them in a few later tutorials and explain them there. "
   ]
  },
  {
   "cell_type": "markdown",
   "metadata": {},
   "source": [
    "### The data\n",
    "\n",
    "PyTorch also provides a few functionalities to load the training and test data efficiently, summarized in the package `torch.utils.data`."
   ]
  },
  {
   "cell_type": "code",
   "execution_count": 53,
   "metadata": {},
   "outputs": [],
   "source": [
    "import torch.utils.data as data"
   ]
  },
  {
   "cell_type": "markdown",
   "metadata": {},
   "source": [
    "The data package defines two classes which are the standard interface for handling data in PyTorch: `data.Dataset`, and `data.DataLoader`. The dataset class provides an uniform interface to access the training/test data, while the data loader makes sure to efficiently load and stack the data points from the dataset into batches during training."
   ]
  },
  {
   "cell_type": "markdown",
   "metadata": {},
   "source": [
    "#### The dataset class\n",
    "\n",
    "The dataset class summarizes the basic functionality of a dataset in a natural way. To define a dataset in PyTorch, we simply specify two functions: `__getitem__`, and `__len__`. The get-item function has to return the $i$-th data point in the dataset, while the len function returns the size of the dataset. For the XOR dataset, we can define the dataset class as follows:"
   ]
  },
  {
   "cell_type": "code",
   "execution_count": 54,
   "metadata": {},
   "outputs": [],
   "source": [
    "class XORDataset(data.Dataset):\n",
    "\n",
    "    def __init__(self, size, std=0.1):\n",
    "        \"\"\"\n",
    "        Inputs:\n",
    "            size - Number of data points we want to generate\n",
    "            std - Standard deviation of the noise (see generate_continuous_xor function)\n",
    "        \"\"\"\n",
    "        super().__init__()\n",
    "        self.size = size\n",
    "        self.std = std\n",
    "        self.generate_continuous_xor()\n",
    "\n",
    "    def generate_continuous_xor(self):\n",
    "        # Each data point in the XOR dataset has two variables, x and y, that can be either 0 or 1\n",
    "        # The label is their XOR combination, i.e. 1 if only x or only y is 1 while the other is 0.\n",
    "        # If x=y, the label is 0.\n",
    "        data = torch.randint(low=0, high=2, size=(self.size, 2), dtype=torch.float32)\n",
    "        label = (data.sum(dim=1) == 1).to(torch.long)\n",
    "        # To make it slightly more challenging, we add a bit of gaussian noise to the data points.\n",
    "        data += self.std * torch.randn(data.shape)\n",
    "\n",
    "        self.data = data\n",
    "        self.label = label\n",
    "\n",
    "    def __len__(self):\n",
    "        # Number of data point we have. Alternatively self.data.shape[0], or self.label.shape[0]\n",
    "        return self.size\n",
    "\n",
    "    def __getitem__(self, idx):\n",
    "        # Return the idx-th data point of the dataset\n",
    "        # If we have multiple things to return (data point and label), we can return them as tuple\n",
    "        data_point = self.data[idx]\n",
    "        data_label = self.label[idx]\n",
    "        return data_point, data_label"
   ]
  },
  {
   "cell_type": "markdown",
   "metadata": {},
   "source": [
    "Let's try to create such a dataset and inspect it:"
   ]
  },
  {
   "cell_type": "code",
   "execution_count": 55,
   "metadata": {},
   "outputs": [
    {
     "name": "stdout",
     "output_type": "stream",
     "text": [
      "Size of dataset: 200\n",
      "Data point 0: (tensor([0.8820, 0.1293]), tensor(1))\n"
     ]
    }
   ],
   "source": [
    "dataset = XORDataset(size=200)\n",
    "print(\"Size of dataset:\", len(dataset))\n",
    "print(\"Data point 0:\", dataset[0])"
   ]
  },
  {
   "cell_type": "markdown",
   "metadata": {},
   "source": [
    "To better relate to the dataset, we visualize the samples below. "
   ]
  },
  {
   "cell_type": "code",
   "execution_count": 56,
   "metadata": {},
   "outputs": [],
   "source": [
    "def visualize_samples(data, label):\n",
    "    if isinstance(data, torch.Tensor):\n",
    "        data = data.cpu().numpy()\n",
    "    if isinstance(label, torch.Tensor):\n",
    "        label = label.cpu().numpy()\n",
    "    data_0 = data[label == 0]\n",
    "    data_1 = data[label == 1]\n",
    "    \n",
    "    plt.figure(figsize=(4,4))\n",
    "    plt.scatter(data_0[:,0], data_0[:,1], edgecolor=\"#333\", label=\"Class 0\")\n",
    "    plt.scatter(data_1[:,0], data_1[:,1], edgecolor=\"#333\", label=\"Class 1\")\n",
    "    plt.title(\"Dataset samples\")\n",
    "    plt.ylabel(r\"$x_2$\")\n",
    "    plt.xlabel(r\"$x_1$\")\n",
    "    plt.legend()"
   ]
  },
  {
   "cell_type": "code",
   "execution_count": 57,
   "metadata": {},
   "outputs": [
    {
     "data": {
      "application/pdf": "[encoded data removed]",
      "image/svg+xml": [
       "<?xml version=\"1.0\" encoding=\"utf-8\" standalone=\"no\"?>\n",
       "<!DOCTYPE svg PUBLIC \"-//W3C//DTD SVG 1.1//EN\"\n",
       "  \"http://www.w3.org/Graphics/SVG/1.1/DTD/svg11.dtd\">\n",
       "<svg xmlns:xlink=\"http://www.w3.org/1999/xlink\" width=\"289.424844pt\" height=\"287.037813pt\" viewBox=\"0 0 289.424844 287.037813\" xmlns=\"http://www.w3.org/2000/svg\" version=\"1.1\">\n",
       " <metadata>\n",
       "  <rdf:RDF xmlns:dc=\"http://purl.org/dc/elements/1.1/\" xmlns:cc=\"http://creativecommons.org/ns#\" xmlns:rdf=\"http://www.w3.org/1999/02/22-rdf-syntax-ns#\">\n",
       "   <cc:Work>\n",
       "    <dc:type rdf:resource=\"http://purl.org/dc/dcmitype/StillImage\"/>\n",
       "    <dc:date>2024-01-15T22:02:47.049128</dc:date>\n",
       "    <dc:format>image/svg+xml</dc:format>\n",
       "    <dc:creator>\n",
       "     <cc:Agent>\n",
       "      <dc:title>Matplotlib v3.8.2, https://matplotlib.org/</dc:title>\n",
       "     </cc:Agent>\n",
       "    </dc:creator>\n",
       "   </cc:Work>\n",
       "  </rdf:RDF>\n",
       " </metadata>\n",
       " <defs>\n",
       "  <style type=\"text/css\">*{stroke-linejoin: round; stroke-linecap: butt}</style>\n",
       " </defs>\n",
       " <g id=\"figure_1\">\n",
       "  <g id=\"patch_1\">\n",
       "   <path d=\"M 0 287.037813 \n",
       "L 289.424844 287.037813 \n",
       "L 289.424844 0 \n",
       "L 0 0 \n",
       "z\n",
       "\" style=\"fill: #ffffff\"/>\n",
       "  </g>\n",
       "  <g id=\"axes_1\">\n",
       "   <g id=\"patch_2\">\n",
       "    <path d=\"M 59.024844 244.078125 \n",
       "L 282.224844 244.078125 \n",
       "L 282.224844 22.318125 \n",
       "L 59.024844 22.318125 \n",
       "z\n",
       "\" style=\"fill: #eaeaf2\"/>\n",
       "   </g>\n",
       "   <g id=\"matplotlib.axis_1\">\n",
       "    <g id=\"xtick_1\">\n",
       "     <g id=\"line2d_1\">\n",
       "      <path d=\"M 100.931586 244.078125 \n",
       "L 100.931586 22.318125 \n",
       "\" clip-path=\"url(#p02970aec45)\" style=\"fill: none; stroke: #ffffff; stroke-linecap: round\"/>\n",
       "     </g>\n",
       "     <g id=\"text_1\">\n",
       "      <!-- 0.0 -->\n",
       "      <g style=\"fill: #262626\" transform=\"translate(92.184867 261.936406) scale(0.11 -0.11)\">\n",
       "       <defs>\n",
       "        <path id=\"DejaVuSans-30\" d=\"M 2034 4250 \n",
       "Q 1547 4250 1301 3770 \n",
       "Q 1056 3291 1056 2328 \n",
       "Q 1056 1369 1301 889 \n",
       "Q 1547 409 2034 409 \n",
       "Q 2525 409 2770 889 \n",
       "Q 3016 1369 3016 2328 \n",
       "Q 3016 3291 2770 3770 \n",
       "Q 2525 4250 2034 4250 \n",
       "z\n",
       "M 2034 4750 \n",
       "Q 2819 4750 3233 4129 \n",
       "Q 3647 3509 3647 2328 \n",
       "Q 3647 1150 3233 529 \n",
       "Q 2819 -91 2034 -91 \n",
       "Q 1250 -91 836 529 \n",
       "Q 422 1150 422 2328 \n",
       "Q 422 3509 836 4129 \n",
       "Q 1250 4750 2034 4750 \n",
       "z\n",
       "\" transform=\"scale(0.015625)\"/>\n",
       "        <path id=\"DejaVuSans-2e\" d=\"M 684 794 \n",
       "L 1344 794 \n",
       "L 1344 0 \n",
       "L 684 0 \n",
       "L 684 794 \n",
       "z\n",
       "\" transform=\"scale(0.015625)\"/>\n",
       "       </defs>\n",
       "       <use xlink:href=\"#DejaVuSans-30\"/>\n",
       "       <use xlink:href=\"#DejaVuSans-2e\" x=\"63.623047\"/>\n",
       "       <use xlink:href=\"#DejaVuSans-30\" x=\"95.410156\"/>\n",
       "      </g>\n",
       "     </g>\n",
       "    </g>\n",
       "    <g id=\"xtick_2\">\n",
       "     <g id=\"line2d_2\">\n",
       "      <path d=\"M 168.217912 244.078125 \n",
       "L 168.217912 22.318125 \n",
       "\" clip-path=\"url(#p02970aec45)\" style=\"fill: none; stroke: #ffffff; stroke-linecap: round\"/>\n",
       "     </g>\n",
       "     <g id=\"text_2\">\n",
       "      <!-- 0.5 -->\n",
       "      <g style=\"fill: #262626\" transform=\"translate(159.471193 261.936406) scale(0.11 -0.11)\">\n",
       "       <defs>\n",
       "        <path id=\"DejaVuSans-35\" d=\"M 691 4666 \n",
       "L 3169 4666 \n",
       "L 3169 4134 \n",
       "L 1269 4134 \n",
       "L 1269 2991 \n",
       "Q 1406 3038 1543 3061 \n",
       "Q 1681 3084 1819 3084 \n",
       "Q 2600 3084 3056 2656 \n",
       "Q 3513 2228 3513 1497 \n",
       "Q 3513 744 3044 326 \n",
       "Q 2575 -91 1722 -91 \n",
       "Q 1428 -91 1123 -41 \n",
       "Q 819 9 494 109 \n",
       "L 494 744 \n",
       "Q 775 591 1075 516 \n",
       "Q 1375 441 1709 441 \n",
       "Q 2250 441 2565 725 \n",
       "Q 2881 1009 2881 1497 \n",
       "Q 2881 1984 2565 2268 \n",
       "Q 2250 2553 1709 2553 \n",
       "Q 1456 2553 1204 2497 \n",
       "Q 953 2441 691 2322 \n",
       "L 691 4666 \n",
       "z\n",
       "\" transform=\"scale(0.015625)\"/>\n",
       "       </defs>\n",
       "       <use xlink:href=\"#DejaVuSans-30\"/>\n",
       "       <use xlink:href=\"#DejaVuSans-2e\" x=\"63.623047\"/>\n",
       "       <use xlink:href=\"#DejaVuSans-35\" x=\"95.410156\"/>\n",
       "      </g>\n",
       "     </g>\n",
       "    </g>\n",
       "    <g id=\"xtick_3\">\n",
       "     <g id=\"line2d_3\">\n",
       "      <path d=\"M 235.504237 244.078125 \n",
       "L 235.504237 22.318125 \n",
       "\" clip-path=\"url(#p02970aec45)\" style=\"fill: none; stroke: #ffffff; stroke-linecap: round\"/>\n",
       "     </g>\n",
       "     <g id=\"text_3\">\n",
       "      <!-- 1.0 -->\n",
       "      <g style=\"fill: #262626\" transform=\"translate(226.757519 261.936406) scale(0.11 -0.11)\">\n",
       "       <defs>\n",
       "        <path id=\"DejaVuSans-31\" d=\"M 794 531 \n",
       "L 1825 531 \n",
       "L 1825 4091 \n",
       "L 703 3866 \n",
       "L 703 4441 \n",
       "L 1819 4666 \n",
       "L 2450 4666 \n",
       "L 2450 531 \n",
       "L 3481 531 \n",
       "L 3481 0 \n",
       "L 794 0 \n",
       "L 794 531 \n",
       "z\n",
       "\" transform=\"scale(0.015625)\"/>\n",
       "       </defs>\n",
       "       <use xlink:href=\"#DejaVuSans-31\"/>\n",
       "       <use xlink:href=\"#DejaVuSans-2e\" x=\"63.623047\"/>\n",
       "       <use xlink:href=\"#DejaVuSans-30\" x=\"95.410156\"/>\n",
       "      </g>\n",
       "     </g>\n",
       "    </g>\n",
       "    <g id=\"text_4\">\n",
       "     <!-- $x_1$ -->\n",
       "     <g style=\"fill: #262626\" transform=\"translate(164.204844 277.342188) scale(0.12 -0.12)\">\n",
       "      <defs>\n",
       "       <path id=\"DejaVuSans-Oblique-78\" d=\"M 3841 3500 \n",
       "L 2234 1784 \n",
       "L 3219 0 \n",
       "L 2559 0 \n",
       "L 1819 1388 \n",
       "L 531 0 \n",
       "L -166 0 \n",
       "L 1556 1844 \n",
       "L 641 3500 \n",
       "L 1300 3500 \n",
       "L 1972 2234 \n",
       "L 3144 3500 \n",
       "L 3841 3500 \n",
       "z\n",
       "\" transform=\"scale(0.015625)\"/>\n",
       "      </defs>\n",
       "      <use xlink:href=\"#DejaVuSans-Oblique-78\" transform=\"translate(0 0.3125)\"/>\n",
       "      <use xlink:href=\"#DejaVuSans-31\" transform=\"translate(59.179688 -16.09375) scale(0.7)\"/>\n",
       "     </g>\n",
       "    </g>\n",
       "   </g>\n",
       "   <g id=\"matplotlib.axis_2\">\n",
       "    <g id=\"ytick_1\">\n",
       "     <g id=\"line2d_4\">\n",
       "      <path d=\"M 59.024844 229.979528 \n",
       "L 282.224844 229.979528 \n",
       "\" clip-path=\"url(#p02970aec45)\" style=\"fill: none; stroke: #ffffff; stroke-linecap: round\"/>\n",
       "     </g>\n",
       "     <g id=\"text_5\">\n",
       "      <!-- −0.2 -->\n",
       "      <g style=\"fill: #262626\" transform=\"translate(22.81375 234.158669) scale(0.11 -0.11)\">\n",
       "       <defs>\n",
       "        <path id=\"DejaVuSans-2212\" d=\"M 678 2272 \n",
       "L 4684 2272 \n",
       "L 4684 1741 \n",
       "L 678 1741 \n",
       "L 678 2272 \n",
       "z\n",
       "\" transform=\"scale(0.015625)\"/>\n",
       "        <path id=\"DejaVuSans-32\" d=\"M 1228 531 \n",
       "L 3431 531 \n",
       "L 3431 0 \n",
       "L 469 0 \n",
       "L 469 531 \n",
       "Q 828 903 1448 1529 \n",
       "Q 2069 2156 2228 2338 \n",
       "Q 2531 2678 2651 2914 \n",
       "Q 2772 3150 2772 3378 \n",
       "Q 2772 3750 2511 3984 \n",
       "Q 2250 4219 1831 4219 \n",
       "Q 1534 4219 1204 4116 \n",
       "Q 875 4013 500 3803 \n",
       "L 500 4441 \n",
       "Q 881 4594 1212 4672 \n",
       "Q 1544 4750 1819 4750 \n",
       "Q 2544 4750 2975 4387 \n",
       "Q 3406 4025 3406 3419 \n",
       "Q 3406 3131 3298 2873 \n",
       "Q 3191 2616 2906 2266 \n",
       "Q 2828 2175 2409 1742 \n",
       "Q 1991 1309 1228 531 \n",
       "z\n",
       "\" transform=\"scale(0.015625)\"/>\n",
       "       </defs>\n",
       "       <use xlink:href=\"#DejaVuSans-2212\"/>\n",
       "       <use xlink:href=\"#DejaVuSans-30\" x=\"83.789062\"/>\n",
       "       <use xlink:href=\"#DejaVuSans-2e\" x=\"147.412109\"/>\n",
       "       <use xlink:href=\"#DejaVuSans-32\" x=\"179.199219\"/>\n",
       "      </g>\n",
       "     </g>\n",
       "    </g>\n",
       "    <g id=\"ytick_2\">\n",
       "     <g id=\"line2d_5\">\n",
       "      <path d=\"M 59.024844 201.717845 \n",
       "L 282.224844 201.717845 \n",
       "\" clip-path=\"url(#p02970aec45)\" style=\"fill: none; stroke: #ffffff; stroke-linecap: round\"/>\n",
       "     </g>\n",
       "     <g id=\"text_6\">\n",
       "      <!-- 0.0 -->\n",
       "      <g style=\"fill: #262626\" transform=\"translate(32.031406 205.896985) scale(0.11 -0.11)\">\n",
       "       <use xlink:href=\"#DejaVuSans-30\"/>\n",
       "       <use xlink:href=\"#DejaVuSans-2e\" x=\"63.623047\"/>\n",
       "       <use xlink:href=\"#DejaVuSans-30\" x=\"95.410156\"/>\n",
       "      </g>\n",
       "     </g>\n",
       "    </g>\n",
       "    <g id=\"ytick_3\">\n",
       "     <g id=\"line2d_6\">\n",
       "      <path d=\"M 59.024844 173.456161 \n",
       "L 282.224844 173.456161 \n",
       "\" clip-path=\"url(#p02970aec45)\" style=\"fill: none; stroke: #ffffff; stroke-linecap: round\"/>\n",
       "     </g>\n",
       "     <g id=\"text_7\">\n",
       "      <!-- 0.2 -->\n",
       "      <g style=\"fill: #262626\" transform=\"translate(32.031406 177.635302) scale(0.11 -0.11)\">\n",
       "       <use xlink:href=\"#DejaVuSans-30\"/>\n",
       "       <use xlink:href=\"#DejaVuSans-2e\" x=\"63.623047\"/>\n",
       "       <use xlink:href=\"#DejaVuSans-32\" x=\"95.410156\"/>\n",
       "      </g>\n",
       "     </g>\n",
       "    </g>\n",
       "    <g id=\"ytick_4\">\n",
       "     <g id=\"line2d_7\">\n",
       "      <path d=\"M 59.024844 145.194478 \n",
       "L 282.224844 145.194478 \n",
       "\" clip-path=\"url(#p02970aec45)\" style=\"fill: none; stroke: #ffffff; stroke-linecap: round\"/>\n",
       "     </g>\n",
       "     <g id=\"text_8\">\n",
       "      <!-- 0.4 -->\n",
       "      <g style=\"fill: #262626\" transform=\"translate(32.031406 149.373618) scale(0.11 -0.11)\">\n",
       "       <defs>\n",
       "        <path id=\"DejaVuSans-34\" d=\"M 2419 4116 \n",
       "L 825 1625 \n",
       "L 2419 1625 \n",
       "L 2419 4116 \n",
       "z\n",
       "M 2253 4666 \n",
       "L 3047 4666 \n",
       "L 3047 1625 \n",
       "L 3713 1625 \n",
       "L 3713 1100 \n",
       "L 3047 1100 \n",
       "L 3047 0 \n",
       "L 2419 0 \n",
       "L 2419 1100 \n",
       "L 313 1100 \n",
       "L 313 1709 \n",
       "L 2253 4666 \n",
       "z\n",
       "\" transform=\"scale(0.015625)\"/>\n",
       "       </defs>\n",
       "       <use xlink:href=\"#DejaVuSans-30\"/>\n",
       "       <use xlink:href=\"#DejaVuSans-2e\" x=\"63.623047\"/>\n",
       "       <use xlink:href=\"#DejaVuSans-34\" x=\"95.410156\"/>\n",
       "      </g>\n",
       "     </g>\n",
       "    </g>\n",
       "    <g id=\"ytick_5\">\n",
       "     <g id=\"line2d_8\">\n",
       "      <path d=\"M 59.024844 116.932794 \n",
       "L 282.224844 116.932794 \n",
       "\" clip-path=\"url(#p02970aec45)\" style=\"fill: none; stroke: #ffffff; stroke-linecap: round\"/>\n",
       "     </g>\n",
       "     <g id=\"text_9\">\n",
       "      <!-- 0.6 -->\n",
       "      <g style=\"fill: #262626\" transform=\"translate(32.031406 121.111935) scale(0.11 -0.11)\">\n",
       "       <defs>\n",
       "        <path id=\"DejaVuSans-36\" d=\"M 2113 2584 \n",
       "Q 1688 2584 1439 2293 \n",
       "Q 1191 2003 1191 1497 \n",
       "Q 1191 994 1439 701 \n",
       "Q 1688 409 2113 409 \n",
       "Q 2538 409 2786 701 \n",
       "Q 3034 994 3034 1497 \n",
       "Q 3034 2003 2786 2293 \n",
       "Q 2538 2584 2113 2584 \n",
       "z\n",
       "M 3366 4563 \n",
       "L 3366 3988 \n",
       "Q 3128 4100 2886 4159 \n",
       "Q 2644 4219 2406 4219 \n",
       "Q 1781 4219 1451 3797 \n",
       "Q 1122 3375 1075 2522 \n",
       "Q 1259 2794 1537 2939 \n",
       "Q 1816 3084 2150 3084 \n",
       "Q 2853 3084 3261 2657 \n",
       "Q 3669 2231 3669 1497 \n",
       "Q 3669 778 3244 343 \n",
       "Q 2819 -91 2113 -91 \n",
       "Q 1303 -91 875 529 \n",
       "Q 447 1150 447 2328 \n",
       "Q 447 3434 972 4092 \n",
       "Q 1497 4750 2381 4750 \n",
       "Q 2619 4750 2861 4703 \n",
       "Q 3103 4656 3366 4563 \n",
       "z\n",
       "\" transform=\"scale(0.015625)\"/>\n",
       "       </defs>\n",
       "       <use xlink:href=\"#DejaVuSans-30\"/>\n",
       "       <use xlink:href=\"#DejaVuSans-2e\" x=\"63.623047\"/>\n",
       "       <use xlink:href=\"#DejaVuSans-36\" x=\"95.410156\"/>\n",
       "      </g>\n",
       "     </g>\n",
       "    </g>\n",
       "    <g id=\"ytick_6\">\n",
       "     <g id=\"line2d_9\">\n",
       "      <path d=\"M 59.024844 88.671111 \n",
       "L 282.224844 88.671111 \n",
       "\" clip-path=\"url(#p02970aec45)\" style=\"fill: none; stroke: #ffffff; stroke-linecap: round\"/>\n",
       "     </g>\n",
       "     <g id=\"text_10\">\n",
       "      <!-- 0.8 -->\n",
       "      <g style=\"fill: #262626\" transform=\"translate(32.031406 92.850251) scale(0.11 -0.11)\">\n",
       "       <defs>\n",
       "        <path id=\"DejaVuSans-38\" d=\"M 2034 2216 \n",
       "Q 1584 2216 1326 1975 \n",
       "Q 1069 1734 1069 1313 \n",
       "Q 1069 891 1326 650 \n",
       "Q 1584 409 2034 409 \n",
       "Q 2484 409 2743 651 \n",
       "Q 3003 894 3003 1313 \n",
       "Q 3003 1734 2745 1975 \n",
       "Q 2488 2216 2034 2216 \n",
       "z\n",
       "M 1403 2484 \n",
       "Q 997 2584 770 2862 \n",
       "Q 544 3141 544 3541 \n",
       "Q 544 4100 942 4425 \n",
       "Q 1341 4750 2034 4750 \n",
       "Q 2731 4750 3128 4425 \n",
       "Q 3525 4100 3525 3541 \n",
       "Q 3525 3141 3298 2862 \n",
       "Q 3072 2584 2669 2484 \n",
       "Q 3125 2378 3379 2068 \n",
       "Q 3634 1759 3634 1313 \n",
       "Q 3634 634 3220 271 \n",
       "Q 2806 -91 2034 -91 \n",
       "Q 1263 -91 848 271 \n",
       "Q 434 634 434 1313 \n",
       "Q 434 1759 690 2068 \n",
       "Q 947 2378 1403 2484 \n",
       "z\n",
       "M 1172 3481 \n",
       "Q 1172 3119 1398 2916 \n",
       "Q 1625 2713 2034 2713 \n",
       "Q 2441 2713 2670 2916 \n",
       "Q 2900 3119 2900 3481 \n",
       "Q 2900 3844 2670 4047 \n",
       "Q 2441 4250 2034 4250 \n",
       "Q 1625 4250 1398 4047 \n",
       "Q 1172 3844 1172 3481 \n",
       "z\n",
       "\" transform=\"scale(0.015625)\"/>\n",
       "       </defs>\n",
       "       <use xlink:href=\"#DejaVuSans-30\"/>\n",
       "       <use xlink:href=\"#DejaVuSans-2e\" x=\"63.623047\"/>\n",
       "       <use xlink:href=\"#DejaVuSans-38\" x=\"95.410156\"/>\n",
       "      </g>\n",
       "     </g>\n",
       "    </g>\n",
       "    <g id=\"ytick_7\">\n",
       "     <g id=\"line2d_10\">\n",
       "      <path d=\"M 59.024844 60.409427 \n",
       "L 282.224844 60.409427 \n",
       "\" clip-path=\"url(#p02970aec45)\" style=\"fill: none; stroke: #ffffff; stroke-linecap: round\"/>\n",
       "     </g>\n",
       "     <g id=\"text_11\">\n",
       "      <!-- 1.0 -->\n",
       "      <g style=\"fill: #262626\" transform=\"translate(32.031406 64.588568) scale(0.11 -0.11)\">\n",
       "       <use xlink:href=\"#DejaVuSans-31\"/>\n",
       "       <use xlink:href=\"#DejaVuSans-2e\" x=\"63.623047\"/>\n",
       "       <use xlink:href=\"#DejaVuSans-30\" x=\"95.410156\"/>\n",
       "      </g>\n",
       "     </g>\n",
       "    </g>\n",
       "    <g id=\"ytick_8\">\n",
       "     <g id=\"line2d_11\">\n",
       "      <path d=\"M 59.024844 32.147744 \n",
       "L 282.224844 32.147744 \n",
       "\" clip-path=\"url(#p02970aec45)\" style=\"fill: none; stroke: #ffffff; stroke-linecap: round\"/>\n",
       "     </g>\n",
       "     <g id=\"text_12\">\n",
       "      <!-- 1.2 -->\n",
       "      <g style=\"fill: #262626\" transform=\"translate(32.031406 36.326884) scale(0.11 -0.11)\">\n",
       "       <use xlink:href=\"#DejaVuSans-31\"/>\n",
       "       <use xlink:href=\"#DejaVuSans-2e\" x=\"63.623047\"/>\n",
       "       <use xlink:href=\"#DejaVuSans-32\" x=\"95.410156\"/>\n",
       "      </g>\n",
       "     </g>\n",
       "    </g>\n",
       "    <g id=\"text_13\">\n",
       "     <!-- $x_2$ -->\n",
       "     <g style=\"fill: #262626\" transform=\"translate(16.318125 139.618125) rotate(-90) scale(0.12 -0.12)\">\n",
       "      <use xlink:href=\"#DejaVuSans-Oblique-78\" transform=\"translate(0 0.3125)\"/>\n",
       "      <use xlink:href=\"#DejaVuSans-32\" transform=\"translate(59.179688 -16.09375) scale(0.7)\"/>\n",
       "     </g>\n",
       "    </g>\n",
       "   </g>\n",
       "   <g id=\"PathCollection_1\">\n",
       "    <defs>\n",
       "     <path id=\"m1e67f59aa6\" d=\"M 0 3 \n",
       "C 0.795609 3 1.55874 2.683901 2.12132 2.12132 \n",
       "C 2.683901 1.55874 3 0.795609 3 0 \n",
       "C 3 -0.795609 2.683901 -1.55874 2.12132 -2.12132 \n",
       "C 1.55874 -2.683901 0.795609 -3 0 -3 \n",
       "C -0.795609 -3 -1.55874 -2.683901 -2.12132 -2.12132 \n",
       "C -2.683901 -1.55874 -3 -0.795609 -3 0 \n",
       "C -3 0.795609 -2.683901 1.55874 -2.12132 2.12132 \n",
       "C -1.55874 2.683901 -0.795609 3 0 3 \n",
       "z\n",
       "\" style=\"stroke: #333333\"/>\n",
       "    </defs>\n",
       "    <g clip-path=\"url(#p02970aec45)\">\n",
       "     <use xlink:href=\"#m1e67f59aa6\" x=\"102.109695\" y=\"207.374983\" style=\"fill: #4c72b0; stroke: #333333\"/>\n",
       "     <use xlink:href=\"#m1e67f59aa6\" x=\"237.550418\" y=\"60.927285\" style=\"fill: #4c72b0; stroke: #333333\"/>\n",
       "     <use xlink:href=\"#m1e67f59aa6\" x=\"108.029103\" y=\"226.575102\" style=\"fill: #4c72b0; stroke: #333333\"/>\n",
       "     <use xlink:href=\"#m1e67f59aa6\" x=\"237.674602\" y=\"72.230852\" style=\"fill: #4c72b0; stroke: #333333\"/>\n",
       "     <use xlink:href=\"#m1e67f59aa6\" x=\"238.623568\" y=\"50.106064\" style=\"fill: #4c72b0; stroke: #333333\"/>\n",
       "     <use xlink:href=\"#m1e67f59aa6\" x=\"101.109784\" y=\"189.115028\" style=\"fill: #4c72b0; stroke: #333333\"/>\n",
       "     <use xlink:href=\"#m1e67f59aa6\" x=\"103.196544\" y=\"180.389436\" style=\"fill: #4c72b0; stroke: #333333\"/>\n",
       "     <use xlink:href=\"#m1e67f59aa6\" x=\"228.038371\" y=\"46.711944\" style=\"fill: #4c72b0; stroke: #333333\"/>\n",
       "     <use xlink:href=\"#m1e67f59aa6\" x=\"110.812734\" y=\"195.297799\" style=\"fill: #4c72b0; stroke: #333333\"/>\n",
       "     <use xlink:href=\"#m1e67f59aa6\" x=\"137.443583\" y=\"174.762834\" style=\"fill: #4c72b0; stroke: #333333\"/>\n",
       "     <use xlink:href=\"#m1e67f59aa6\" x=\"232.560169\" y=\"50.593466\" style=\"fill: #4c72b0; stroke: #333333\"/>\n",
       "     <use xlink:href=\"#m1e67f59aa6\" x=\"229.39332\" y=\"53.655044\" style=\"fill: #4c72b0; stroke: #333333\"/>\n",
       "     <use xlink:href=\"#m1e67f59aa6\" x=\"99.955584\" y=\"203.586757\" style=\"fill: #4c72b0; stroke: #333333\"/>\n",
       "     <use xlink:href=\"#m1e67f59aa6\" x=\"238.718026\" y=\"70.81237\" style=\"fill: #4c72b0; stroke: #333333\"/>\n",
       "     <use xlink:href=\"#m1e67f59aa6\" x=\"210.254219\" y=\"82.248148\" style=\"fill: #4c72b0; stroke: #333333\"/>\n",
       "     <use xlink:href=\"#m1e67f59aa6\" x=\"238.593874\" y=\"61.800552\" style=\"fill: #4c72b0; stroke: #333333\"/>\n",
       "     <use xlink:href=\"#m1e67f59aa6\" x=\"250.069773\" y=\"78.863697\" style=\"fill: #4c72b0; stroke: #333333\"/>\n",
       "     <use xlink:href=\"#m1e67f59aa6\" x=\"93.348642\" y=\"162.107286\" style=\"fill: #4c72b0; stroke: #333333\"/>\n",
       "     <use xlink:href=\"#m1e67f59aa6\" x=\"91.093286\" y=\"191.539399\" style=\"fill: #4c72b0; stroke: #333333\"/>\n",
       "     <use xlink:href=\"#m1e67f59aa6\" x=\"227.699918\" y=\"60.572329\" style=\"fill: #4c72b0; stroke: #333333\"/>\n",
       "     <use xlink:href=\"#m1e67f59aa6\" x=\"100.94159\" y=\"205.929547\" style=\"fill: #4c72b0; stroke: #333333\"/>\n",
       "     <use xlink:href=\"#m1e67f59aa6\" x=\"108.515628\" y=\"206.766055\" style=\"fill: #4c72b0; stroke: #333333\"/>\n",
       "     <use xlink:href=\"#m1e67f59aa6\" x=\"88.531283\" y=\"210.920816\" style=\"fill: #4c72b0; stroke: #333333\"/>\n",
       "     <use xlink:href=\"#m1e67f59aa6\" x=\"220.077519\" y=\"88.558709\" style=\"fill: #4c72b0; stroke: #333333\"/>\n",
       "     <use xlink:href=\"#m1e67f59aa6\" x=\"113.679075\" y=\"208.34991\" style=\"fill: #4c72b0; stroke: #333333\"/>\n",
       "     <use xlink:href=\"#m1e67f59aa6\" x=\"100.641057\" y=\"200.177302\" style=\"fill: #4c72b0; stroke: #333333\"/>\n",
       "     <use xlink:href=\"#m1e67f59aa6\" x=\"237.100608\" y=\"55.651866\" style=\"fill: #4c72b0; stroke: #333333\"/>\n",
       "     <use xlink:href=\"#m1e67f59aa6\" x=\"92.419325\" y=\"178.005897\" style=\"fill: #4c72b0; stroke: #333333\"/>\n",
       "     <use xlink:href=\"#m1e67f59aa6\" x=\"250.352294\" y=\"70.117309\" style=\"fill: #4c72b0; stroke: #333333\"/>\n",
       "     <use xlink:href=\"#m1e67f59aa6\" x=\"104.868571\" y=\"208.675199\" style=\"fill: #4c72b0; stroke: #333333\"/>\n",
       "     <use xlink:href=\"#m1e67f59aa6\" x=\"121.906361\" y=\"170.904748\" style=\"fill: #4c72b0; stroke: #333333\"/>\n",
       "     <use xlink:href=\"#m1e67f59aa6\" x=\"228.385992\" y=\"60.105943\" style=\"fill: #4c72b0; stroke: #333333\"/>\n",
       "     <use xlink:href=\"#m1e67f59aa6\" x=\"84.96395\" y=\"201.860936\" style=\"fill: #4c72b0; stroke: #333333\"/>\n",
       "     <use xlink:href=\"#m1e67f59aa6\" x=\"250.062955\" y=\"44.780633\" style=\"fill: #4c72b0; stroke: #333333\"/>\n",
       "     <use xlink:href=\"#m1e67f59aa6\" x=\"106.074653\" y=\"218.267727\" style=\"fill: #4c72b0; stroke: #333333\"/>\n",
       "     <use xlink:href=\"#m1e67f59aa6\" x=\"232.413718\" y=\"43.982284\" style=\"fill: #4c72b0; stroke: #333333\"/>\n",
       "     <use xlink:href=\"#m1e67f59aa6\" x=\"232.419614\" y=\"44.099123\" style=\"fill: #4c72b0; stroke: #333333\"/>\n",
       "     <use xlink:href=\"#m1e67f59aa6\" x=\"122.468726\" y=\"202.238509\" style=\"fill: #4c72b0; stroke: #333333\"/>\n",
       "     <use xlink:href=\"#m1e67f59aa6\" x=\"209.580875\" y=\"71.679919\" style=\"fill: #4c72b0; stroke: #333333\"/>\n",
       "     <use xlink:href=\"#m1e67f59aa6\" x=\"253.897933\" y=\"81.633675\" style=\"fill: #4c72b0; stroke: #333333\"/>\n",
       "     <use xlink:href=\"#m1e67f59aa6\" x=\"226.793897\" y=\"85.783946\" style=\"fill: #4c72b0; stroke: #333333\"/>\n",
       "     <use xlink:href=\"#m1e67f59aa6\" x=\"117.328168\" y=\"193.391319\" style=\"fill: #4c72b0; stroke: #333333\"/>\n",
       "     <use xlink:href=\"#m1e67f59aa6\" x=\"73.437555\" y=\"212.498519\" style=\"fill: #4c72b0; stroke: #333333\"/>\n",
       "     <use xlink:href=\"#m1e67f59aa6\" x=\"72.623011\" y=\"199.530921\" style=\"fill: #4c72b0; stroke: #333333\"/>\n",
       "     <use xlink:href=\"#m1e67f59aa6\" x=\"234.632964\" y=\"43.227347\" style=\"fill: #4c72b0; stroke: #333333\"/>\n",
       "     <use xlink:href=\"#m1e67f59aa6\" x=\"267.22404\" y=\"60.572717\" style=\"fill: #4c72b0; stroke: #333333\"/>\n",
       "     <use xlink:href=\"#m1e67f59aa6\" x=\"212.24239\" y=\"60.631751\" style=\"fill: #4c72b0; stroke: #333333\"/>\n",
       "     <use xlink:href=\"#m1e67f59aa6\" x=\"76.819398\" y=\"211.44183\" style=\"fill: #4c72b0; stroke: #333333\"/>\n",
       "     <use xlink:href=\"#m1e67f59aa6\" x=\"124.180505\" y=\"219.525641\" style=\"fill: #4c72b0; stroke: #333333\"/>\n",
       "     <use xlink:href=\"#m1e67f59aa6\" x=\"235.087218\" y=\"68.42916\" style=\"fill: #4c72b0; stroke: #333333\"/>\n",
       "     <use xlink:href=\"#m1e67f59aa6\" x=\"227.329445\" y=\"55.479219\" style=\"fill: #4c72b0; stroke: #333333\"/>\n",
       "     <use xlink:href=\"#m1e67f59aa6\" x=\"107.341353\" y=\"211.694488\" style=\"fill: #4c72b0; stroke: #333333\"/>\n",
       "     <use xlink:href=\"#m1e67f59aa6\" x=\"109.851226\" y=\"215.994494\" style=\"fill: #4c72b0; stroke: #333333\"/>\n",
       "     <use xlink:href=\"#m1e67f59aa6\" x=\"108.624257\" y=\"178.919368\" style=\"fill: #4c72b0; stroke: #333333\"/>\n",
       "     <use xlink:href=\"#m1e67f59aa6\" x=\"88.524068\" y=\"199.311623\" style=\"fill: #4c72b0; stroke: #333333\"/>\n",
       "     <use xlink:href=\"#m1e67f59aa6\" x=\"232.469409\" y=\"48.653985\" style=\"fill: #4c72b0; stroke: #333333\"/>\n",
       "     <use xlink:href=\"#m1e67f59aa6\" x=\"229.515282\" y=\"48.89905\" style=\"fill: #4c72b0; stroke: #333333\"/>\n",
       "     <use xlink:href=\"#m1e67f59aa6\" x=\"107.853052\" y=\"203.549228\" style=\"fill: #4c72b0; stroke: #333333\"/>\n",
       "     <use xlink:href=\"#m1e67f59aa6\" x=\"79.962779\" y=\"189.696868\" style=\"fill: #4c72b0; stroke: #333333\"/>\n",
       "     <use xlink:href=\"#m1e67f59aa6\" x=\"102.017647\" y=\"210.694129\" style=\"fill: #4c72b0; stroke: #333333\"/>\n",
       "     <use xlink:href=\"#m1e67f59aa6\" x=\"246.858295\" y=\"63.248201\" style=\"fill: #4c72b0; stroke: #333333\"/>\n",
       "     <use xlink:href=\"#m1e67f59aa6\" x=\"240.177699\" y=\"57.030248\" style=\"fill: #4c72b0; stroke: #333333\"/>\n",
       "     <use xlink:href=\"#m1e67f59aa6\" x=\"118.802758\" y=\"195.278245\" style=\"fill: #4c72b0; stroke: #333333\"/>\n",
       "     <use xlink:href=\"#m1e67f59aa6\" x=\"90.256706\" y=\"218.296345\" style=\"fill: #4c72b0; stroke: #333333\"/>\n",
       "     <use xlink:href=\"#m1e67f59aa6\" x=\"253.592776\" y=\"80.879158\" style=\"fill: #4c72b0; stroke: #333333\"/>\n",
       "     <use xlink:href=\"#m1e67f59aa6\" x=\"251.488378\" y=\"57.664489\" style=\"fill: #4c72b0; stroke: #333333\"/>\n",
       "     <use xlink:href=\"#m1e67f59aa6\" x=\"203.661535\" y=\"36.321423\" style=\"fill: #4c72b0; stroke: #333333\"/>\n",
       "     <use xlink:href=\"#m1e67f59aa6\" x=\"90.900593\" y=\"222.746923\" style=\"fill: #4c72b0; stroke: #333333\"/>\n",
       "     <use xlink:href=\"#m1e67f59aa6\" x=\"100.378109\" y=\"195.527437\" style=\"fill: #4c72b0; stroke: #333333\"/>\n",
       "     <use xlink:href=\"#m1e67f59aa6\" x=\"227.302566\" y=\"61.468776\" style=\"fill: #4c72b0; stroke: #333333\"/>\n",
       "     <use xlink:href=\"#m1e67f59aa6\" x=\"90.863042\" y=\"218.915161\" style=\"fill: #4c72b0; stroke: #333333\"/>\n",
       "     <use xlink:href=\"#m1e67f59aa6\" x=\"103.234334\" y=\"196.358474\" style=\"fill: #4c72b0; stroke: #333333\"/>\n",
       "     <use xlink:href=\"#m1e67f59aa6\" x=\"109.546461\" y=\"184.892118\" style=\"fill: #4c72b0; stroke: #333333\"/>\n",
       "     <use xlink:href=\"#m1e67f59aa6\" x=\"103.96363\" y=\"219.740485\" style=\"fill: #4c72b0; stroke: #333333\"/>\n",
       "     <use xlink:href=\"#m1e67f59aa6\" x=\"230.712167\" y=\"56.371025\" style=\"fill: #4c72b0; stroke: #333333\"/>\n",
       "     <use xlink:href=\"#m1e67f59aa6\" x=\"228.790755\" y=\"58.625361\" style=\"fill: #4c72b0; stroke: #333333\"/>\n",
       "     <use xlink:href=\"#m1e67f59aa6\" x=\"225.833155\" y=\"43.658569\" style=\"fill: #4c72b0; stroke: #333333\"/>\n",
       "     <use xlink:href=\"#m1e67f59aa6\" x=\"100.067327\" y=\"220.475719\" style=\"fill: #4c72b0; stroke: #333333\"/>\n",
       "     <use xlink:href=\"#m1e67f59aa6\" x=\"256.86236\" y=\"67.059959\" style=\"fill: #4c72b0; stroke: #333333\"/>\n",
       "     <use xlink:href=\"#m1e67f59aa6\" x=\"238.435232\" y=\"47.170944\" style=\"fill: #4c72b0; stroke: #333333\"/>\n",
       "     <use xlink:href=\"#m1e67f59aa6\" x=\"108.316008\" y=\"192.250343\" style=\"fill: #4c72b0; stroke: #333333\"/>\n",
       "     <use xlink:href=\"#m1e67f59aa6\" x=\"240.248446\" y=\"82.955734\" style=\"fill: #4c72b0; stroke: #333333\"/>\n",
       "     <use xlink:href=\"#m1e67f59aa6\" x=\"219.411795\" y=\"51.729511\" style=\"fill: #4c72b0; stroke: #333333\"/>\n",
       "     <use xlink:href=\"#m1e67f59aa6\" x=\"245.487271\" y=\"75.90244\" style=\"fill: #4c72b0; stroke: #333333\"/>\n",
       "     <use xlink:href=\"#m1e67f59aa6\" x=\"111.271335\" y=\"218.91805\" style=\"fill: #4c72b0; stroke: #333333\"/>\n",
       "     <use xlink:href=\"#m1e67f59aa6\" x=\"237.964037\" y=\"70.494281\" style=\"fill: #4c72b0; stroke: #333333\"/>\n",
       "     <use xlink:href=\"#m1e67f59aa6\" x=\"109.503537\" y=\"202.465195\" style=\"fill: #4c72b0; stroke: #333333\"/>\n",
       "     <use xlink:href=\"#m1e67f59aa6\" x=\"227.34629\" y=\"63.158753\" style=\"fill: #4c72b0; stroke: #333333\"/>\n",
       "     <use xlink:href=\"#m1e67f59aa6\" x=\"235.017233\" y=\"77.135169\" style=\"fill: #4c72b0; stroke: #333333\"/>\n",
       "     <use xlink:href=\"#m1e67f59aa6\" x=\"243.473063\" y=\"58.680125\" style=\"fill: #4c72b0; stroke: #333333\"/>\n",
       "     <use xlink:href=\"#m1e67f59aa6\" x=\"90.627471\" y=\"199.096488\" style=\"fill: #4c72b0; stroke: #333333\"/>\n",
       "     <use xlink:href=\"#m1e67f59aa6\" x=\"226.463698\" y=\"42.600787\" style=\"fill: #4c72b0; stroke: #333333\"/>\n",
       "     <use xlink:href=\"#m1e67f59aa6\" x=\"121.527554\" y=\"196.802556\" style=\"fill: #4c72b0; stroke: #333333\"/>\n",
       "     <use xlink:href=\"#m1e67f59aa6\" x=\"119.72489\" y=\"212.951633\" style=\"fill: #4c72b0; stroke: #333333\"/>\n",
       "     <use xlink:href=\"#m1e67f59aa6\" x=\"114.432542\" y=\"194.959566\" style=\"fill: #4c72b0; stroke: #333333\"/>\n",
       "     <use xlink:href=\"#m1e67f59aa6\" x=\"106.466108\" y=\"230.296462\" style=\"fill: #4c72b0; stroke: #333333\"/>\n",
       "     <use xlink:href=\"#m1e67f59aa6\" x=\"98.955792\" y=\"198.571771\" style=\"fill: #4c72b0; stroke: #333333\"/>\n",
       "     <use xlink:href=\"#m1e67f59aa6\" x=\"104.284478\" y=\"211.395033\" style=\"fill: #4c72b0; stroke: #333333\"/>\n",
       "     <use xlink:href=\"#m1e67f59aa6\" x=\"94.933949\" y=\"230.073774\" style=\"fill: #4c72b0; stroke: #333333\"/>\n",
       "     <use xlink:href=\"#m1e67f59aa6\" x=\"102.243895\" y=\"220.521601\" style=\"fill: #4c72b0; stroke: #333333\"/>\n",
       "     <use xlink:href=\"#m1e67f59aa6\" x=\"119.625479\" y=\"198.428973\" style=\"fill: #4c72b0; stroke: #333333\"/>\n",
       "     <use xlink:href=\"#m1e67f59aa6\" x=\"113.824414\" y=\"205.935998\" style=\"fill: #4c72b0; stroke: #333333\"/>\n",
       "     <use xlink:href=\"#m1e67f59aa6\" x=\"254.183839\" y=\"59.645191\" style=\"fill: #4c72b0; stroke: #333333\"/>\n",
       "     <use xlink:href=\"#m1e67f59aa6\" x=\"85.805495\" y=\"211.399754\" style=\"fill: #4c72b0; stroke: #333333\"/>\n",
       "     <use xlink:href=\"#m1e67f59aa6\" x=\"120.699496\" y=\"213.793738\" style=\"fill: #4c72b0; stroke: #333333\"/>\n",
       "     <use xlink:href=\"#m1e67f59aa6\" x=\"104.438109\" y=\"206.39619\" style=\"fill: #4c72b0; stroke: #333333\"/>\n",
       "     <use xlink:href=\"#m1e67f59aa6\" x=\"116.203063\" y=\"192.849956\" style=\"fill: #4c72b0; stroke: #333333\"/>\n",
       "    </g>\n",
       "   </g>\n",
       "   <g id=\"PathCollection_2\">\n",
       "    <defs>\n",
       "     <path id=\"m5df88fe04f\" d=\"M 0 3 \n",
       "C 0.795609 3 1.55874 2.683901 2.12132 2.12132 \n",
       "C 2.683901 1.55874 3 0.795609 3 0 \n",
       "C 3 -0.795609 2.683901 -1.55874 2.12132 -2.12132 \n",
       "C 1.55874 -2.683901 0.795609 -3 0 -3 \n",
       "C -0.795609 -3 -1.55874 -2.683901 -2.12132 -2.12132 \n",
       "C -2.683901 -1.55874 -3 -0.795609 -3 0 \n",
       "C -3 0.795609 -2.683901 1.55874 -2.12132 2.12132 \n",
       "C -1.55874 2.683901 -0.795609 3 0 3 \n",
       "z\n",
       "\" style=\"stroke: #333333\"/>\n",
       "    </defs>\n",
       "    <g clip-path=\"url(#p02970aec45)\">\n",
       "     <use xlink:href=\"#m5df88fe04f\" x=\"219.620145\" y=\"183.450471\" style=\"fill: #dd8452; stroke: #333333\"/>\n",
       "     <use xlink:href=\"#m5df88fe04f\" x=\"249.478036\" y=\"211.512053\" style=\"fill: #dd8452; stroke: #333333\"/>\n",
       "     <use xlink:href=\"#m5df88fe04f\" x=\"245.852314\" y=\"217.33622\" style=\"fill: #dd8452; stroke: #333333\"/>\n",
       "     <use xlink:href=\"#m5df88fe04f\" x=\"240.136166\" y=\"215.243809\" style=\"fill: #dd8452; stroke: #333333\"/>\n",
       "     <use xlink:href=\"#m5df88fe04f\" x=\"100.736603\" y=\"86.600117\" style=\"fill: #dd8452; stroke: #333333\"/>\n",
       "     <use xlink:href=\"#m5df88fe04f\" x=\"230.139857\" y=\"189.350749\" style=\"fill: #dd8452; stroke: #333333\"/>\n",
       "     <use xlink:href=\"#m5df88fe04f\" x=\"233.674251\" y=\"205.051257\" style=\"fill: #dd8452; stroke: #333333\"/>\n",
       "     <use xlink:href=\"#m5df88fe04f\" x=\"235.303131\" y=\"220.489405\" style=\"fill: #dd8452; stroke: #333333\"/>\n",
       "     <use xlink:href=\"#m5df88fe04f\" x=\"225.311708\" y=\"185.725783\" style=\"fill: #dd8452; stroke: #333333\"/>\n",
       "     <use xlink:href=\"#m5df88fe04f\" x=\"223.105818\" y=\"227.227499\" style=\"fill: #dd8452; stroke: #333333\"/>\n",
       "     <use xlink:href=\"#m5df88fe04f\" x=\"90.980867\" y=\"77.805005\" style=\"fill: #dd8452; stroke: #333333\"/>\n",
       "     <use xlink:href=\"#m5df88fe04f\" x=\"99.495656\" y=\"57.401097\" style=\"fill: #dd8452; stroke: #333333\"/>\n",
       "     <use xlink:href=\"#m5df88fe04f\" x=\"251.936665\" y=\"219.397907\" style=\"fill: #dd8452; stroke: #333333\"/>\n",
       "     <use xlink:href=\"#m5df88fe04f\" x=\"226.216678\" y=\"205.919519\" style=\"fill: #dd8452; stroke: #333333\"/>\n",
       "     <use xlink:href=\"#m5df88fe04f\" x=\"96.185346\" y=\"57.070491\" style=\"fill: #dd8452; stroke: #333333\"/>\n",
       "     <use xlink:href=\"#m5df88fe04f\" x=\"86.842115\" y=\"55.180805\" style=\"fill: #dd8452; stroke: #333333\"/>\n",
       "     <use xlink:href=\"#m5df88fe04f\" x=\"238.569426\" y=\"209.106177\" style=\"fill: #dd8452; stroke: #333333\"/>\n",
       "     <use xlink:href=\"#m5df88fe04f\" x=\"226.322044\" y=\"209.173046\" style=\"fill: #dd8452; stroke: #333333\"/>\n",
       "     <use xlink:href=\"#m5df88fe04f\" x=\"226.887086\" y=\"212.818064\" style=\"fill: #dd8452; stroke: #333333\"/>\n",
       "     <use xlink:href=\"#m5df88fe04f\" x=\"272.079389\" y=\"185.415237\" style=\"fill: #dd8452; stroke: #333333\"/>\n",
       "     <use xlink:href=\"#m5df88fe04f\" x=\"119.144547\" y=\"45.914707\" style=\"fill: #dd8452; stroke: #333333\"/>\n",
       "     <use xlink:href=\"#m5df88fe04f\" x=\"239.426534\" y=\"173.784153\" style=\"fill: #dd8452; stroke: #333333\"/>\n",
       "     <use xlink:href=\"#m5df88fe04f\" x=\"240.94149\" y=\"216.530135\" style=\"fill: #dd8452; stroke: #333333\"/>\n",
       "     <use xlink:href=\"#m5df88fe04f\" x=\"255.851117\" y=\"210.686132\" style=\"fill: #dd8452; stroke: #333333\"/>\n",
       "     <use xlink:href=\"#m5df88fe04f\" x=\"231.647145\" y=\"190.120155\" style=\"fill: #dd8452; stroke: #333333\"/>\n",
       "     <use xlink:href=\"#m5df88fe04f\" x=\"244.055174\" y=\"190.431041\" style=\"fill: #dd8452; stroke: #333333\"/>\n",
       "     <use xlink:href=\"#m5df88fe04f\" x=\"223.771854\" y=\"195.963756\" style=\"fill: #dd8452; stroke: #333333\"/>\n",
       "     <use xlink:href=\"#m5df88fe04f\" x=\"226.08092\" y=\"221.733993\" style=\"fill: #dd8452; stroke: #333333\"/>\n",
       "     <use xlink:href=\"#m5df88fe04f\" x=\"86.832542\" y=\"73.947116\" style=\"fill: #dd8452; stroke: #333333\"/>\n",
       "     <use xlink:href=\"#m5df88fe04f\" x=\"114.310282\" y=\"72.017852\" style=\"fill: #dd8452; stroke: #333333\"/>\n",
       "     <use xlink:href=\"#m5df88fe04f\" x=\"218.215536\" y=\"198.662322\" style=\"fill: #dd8452; stroke: #333333\"/>\n",
       "     <use xlink:href=\"#m5df88fe04f\" x=\"96.195045\" y=\"45.788553\" style=\"fill: #dd8452; stroke: #333333\"/>\n",
       "     <use xlink:href=\"#m5df88fe04f\" x=\"137.677913\" y=\"63.700775\" style=\"fill: #dd8452; stroke: #333333\"/>\n",
       "     <use xlink:href=\"#m5df88fe04f\" x=\"92.9047\" y=\"82.654313\" style=\"fill: #dd8452; stroke: #333333\"/>\n",
       "     <use xlink:href=\"#m5df88fe04f\" x=\"253.267486\" y=\"219.462631\" style=\"fill: #dd8452; stroke: #333333\"/>\n",
       "     <use xlink:href=\"#m5df88fe04f\" x=\"90.096257\" y=\"69.097277\" style=\"fill: #dd8452; stroke: #333333\"/>\n",
       "     <use xlink:href=\"#m5df88fe04f\" x=\"89.701091\" y=\"67.660923\" style=\"fill: #dd8452; stroke: #333333\"/>\n",
       "     <use xlink:href=\"#m5df88fe04f\" x=\"237.281982\" y=\"197.88404\" style=\"fill: #dd8452; stroke: #333333\"/>\n",
       "     <use xlink:href=\"#m5df88fe04f\" x=\"107.075746\" y=\"50.245257\" style=\"fill: #dd8452; stroke: #333333\"/>\n",
       "     <use xlink:href=\"#m5df88fe04f\" x=\"106.064417\" y=\"47.995655\" style=\"fill: #dd8452; stroke: #333333\"/>\n",
       "     <use xlink:href=\"#m5df88fe04f\" x=\"109.633073\" y=\"67.447324\" style=\"fill: #dd8452; stroke: #333333\"/>\n",
       "     <use xlink:href=\"#m5df88fe04f\" x=\"123.207675\" y=\"82.835552\" style=\"fill: #dd8452; stroke: #333333\"/>\n",
       "     <use xlink:href=\"#m5df88fe04f\" x=\"242.394281\" y=\"226.153154\" style=\"fill: #dd8452; stroke: #333333\"/>\n",
       "     <use xlink:href=\"#m5df88fe04f\" x=\"96.336175\" y=\"57.536229\" style=\"fill: #dd8452; stroke: #333333\"/>\n",
       "     <use xlink:href=\"#m5df88fe04f\" x=\"216.602923\" y=\"212.256408\" style=\"fill: #dd8452; stroke: #333333\"/>\n",
       "     <use xlink:href=\"#m5df88fe04f\" x=\"241.866537\" y=\"195.239401\" style=\"fill: #dd8452; stroke: #333333\"/>\n",
       "     <use xlink:href=\"#m5df88fe04f\" x=\"98.631218\" y=\"60.889627\" style=\"fill: #dd8452; stroke: #333333\"/>\n",
       "     <use xlink:href=\"#m5df88fe04f\" x=\"221.942028\" y=\"222.767144\" style=\"fill: #dd8452; stroke: #333333\"/>\n",
       "     <use xlink:href=\"#m5df88fe04f\" x=\"76.510941\" y=\"94.357729\" style=\"fill: #dd8452; stroke: #333333\"/>\n",
       "     <use xlink:href=\"#m5df88fe04f\" x=\"219.098392\" y=\"198.513625\" style=\"fill: #dd8452; stroke: #333333\"/>\n",
       "     <use xlink:href=\"#m5df88fe04f\" x=\"71.180139\" y=\"83.431209\" style=\"fill: #dd8452; stroke: #333333\"/>\n",
       "     <use xlink:href=\"#m5df88fe04f\" x=\"95.232031\" y=\"74.66913\" style=\"fill: #dd8452; stroke: #333333\"/>\n",
       "     <use xlink:href=\"#m5df88fe04f\" x=\"244.219222\" y=\"211.709103\" style=\"fill: #dd8452; stroke: #333333\"/>\n",
       "     <use xlink:href=\"#m5df88fe04f\" x=\"122.245959\" y=\"69.864099\" style=\"fill: #dd8452; stroke: #333333\"/>\n",
       "     <use xlink:href=\"#m5df88fe04f\" x=\"84.38585\" y=\"50.31188\" style=\"fill: #dd8452; stroke: #333333\"/>\n",
       "     <use xlink:href=\"#m5df88fe04f\" x=\"245.392862\" y=\"221.30582\" style=\"fill: #dd8452; stroke: #333333\"/>\n",
       "     <use xlink:href=\"#m5df88fe04f\" x=\"250.245821\" y=\"207.826797\" style=\"fill: #dd8452; stroke: #333333\"/>\n",
       "     <use xlink:href=\"#m5df88fe04f\" x=\"231.549391\" y=\"210.822581\" style=\"fill: #dd8452; stroke: #333333\"/>\n",
       "     <use xlink:href=\"#m5df88fe04f\" x=\"219.586047\" y=\"184.351822\" style=\"fill: #dd8452; stroke: #333333\"/>\n",
       "     <use xlink:href=\"#m5df88fe04f\" x=\"89.559558\" y=\"38.381837\" style=\"fill: #dd8452; stroke: #333333\"/>\n",
       "     <use xlink:href=\"#m5df88fe04f\" x=\"226.150111\" y=\"205.905974\" style=\"fill: #dd8452; stroke: #333333\"/>\n",
       "     <use xlink:href=\"#m5df88fe04f\" x=\"99.986677\" y=\"57.467703\" style=\"fill: #dd8452; stroke: #333333\"/>\n",
       "     <use xlink:href=\"#m5df88fe04f\" x=\"109.299894\" y=\"46.903222\" style=\"fill: #dd8452; stroke: #333333\"/>\n",
       "     <use xlink:href=\"#m5df88fe04f\" x=\"95.37231\" y=\"81.058434\" style=\"fill: #dd8452; stroke: #333333\"/>\n",
       "     <use xlink:href=\"#m5df88fe04f\" x=\"227.519081\" y=\"221.520886\" style=\"fill: #dd8452; stroke: #333333\"/>\n",
       "     <use xlink:href=\"#m5df88fe04f\" x=\"116.558319\" y=\"82.740772\" style=\"fill: #dd8452; stroke: #333333\"/>\n",
       "     <use xlink:href=\"#m5df88fe04f\" x=\"230.464249\" y=\"193.536849\" style=\"fill: #dd8452; stroke: #333333\"/>\n",
       "     <use xlink:href=\"#m5df88fe04f\" x=\"251.765381\" y=\"206.188448\" style=\"fill: #dd8452; stroke: #333333\"/>\n",
       "     <use xlink:href=\"#m5df88fe04f\" x=\"111.800388\" y=\"41.869853\" style=\"fill: #dd8452; stroke: #333333\"/>\n",
       "     <use xlink:href=\"#m5df88fe04f\" x=\"69.170298\" y=\"38.293163\" style=\"fill: #dd8452; stroke: #333333\"/>\n",
       "     <use xlink:href=\"#m5df88fe04f\" x=\"122.261263\" y=\"78.994888\" style=\"fill: #dd8452; stroke: #333333\"/>\n",
       "     <use xlink:href=\"#m5df88fe04f\" x=\"235.224363\" y=\"205.755884\" style=\"fill: #dd8452; stroke: #333333\"/>\n",
       "     <use xlink:href=\"#m5df88fe04f\" x=\"246.441949\" y=\"188.725438\" style=\"fill: #dd8452; stroke: #333333\"/>\n",
       "     <use xlink:href=\"#m5df88fe04f\" x=\"242.231773\" y=\"190.652382\" style=\"fill: #dd8452; stroke: #333333\"/>\n",
       "     <use xlink:href=\"#m5df88fe04f\" x=\"98.890654\" y=\"67.49236\" style=\"fill: #dd8452; stroke: #333333\"/>\n",
       "     <use xlink:href=\"#m5df88fe04f\" x=\"226.2219\" y=\"194.834228\" style=\"fill: #dd8452; stroke: #333333\"/>\n",
       "     <use xlink:href=\"#m5df88fe04f\" x=\"83.949856\" y=\"70.777484\" style=\"fill: #dd8452; stroke: #333333\"/>\n",
       "     <use xlink:href=\"#m5df88fe04f\" x=\"127.125211\" y=\"35.26664\" style=\"fill: #dd8452; stroke: #333333\"/>\n",
       "     <use xlink:href=\"#m5df88fe04f\" x=\"257.307999\" y=\"217.177557\" style=\"fill: #dd8452; stroke: #333333\"/>\n",
       "     <use xlink:href=\"#m5df88fe04f\" x=\"250.009422\" y=\"196.42503\" style=\"fill: #dd8452; stroke: #333333\"/>\n",
       "     <use xlink:href=\"#m5df88fe04f\" x=\"111.311364\" y=\"56.072998\" style=\"fill: #dd8452; stroke: #333333\"/>\n",
       "     <use xlink:href=\"#m5df88fe04f\" x=\"77.71882\" y=\"44.684294\" style=\"fill: #dd8452; stroke: #333333\"/>\n",
       "     <use xlink:href=\"#m5df88fe04f\" x=\"88.779929\" y=\"52.819215\" style=\"fill: #dd8452; stroke: #333333\"/>\n",
       "     <use xlink:href=\"#m5df88fe04f\" x=\"82.840426\" y=\"58.455442\" style=\"fill: #dd8452; stroke: #333333\"/>\n",
       "     <use xlink:href=\"#m5df88fe04f\" x=\"104.711381\" y=\"43.905049\" style=\"fill: #dd8452; stroke: #333333\"/>\n",
       "     <use xlink:href=\"#m5df88fe04f\" x=\"240.003801\" y=\"173.922895\" style=\"fill: #dd8452; stroke: #333333\"/>\n",
       "     <use xlink:href=\"#m5df88fe04f\" x=\"249.758504\" y=\"233.998125\" style=\"fill: #dd8452; stroke: #333333\"/>\n",
       "     <use xlink:href=\"#m5df88fe04f\" x=\"92.887683\" y=\"32.398125\" style=\"fill: #dd8452; stroke: #333333\"/>\n",
       "     <use xlink:href=\"#m5df88fe04f\" x=\"94.130435\" y=\"72.803331\" style=\"fill: #dd8452; stroke: #333333\"/>\n",
       "     <use xlink:href=\"#m5df88fe04f\" x=\"104.238912\" y=\"53.568729\" style=\"fill: #dd8452; stroke: #333333\"/>\n",
       "     <use xlink:href=\"#m5df88fe04f\" x=\"224.702597\" y=\"192.954245\" style=\"fill: #dd8452; stroke: #333333\"/>\n",
       "     <use xlink:href=\"#m5df88fe04f\" x=\"83.372301\" y=\"73.853448\" style=\"fill: #dd8452; stroke: #333333\"/>\n",
       "     <use xlink:href=\"#m5df88fe04f\" x=\"96.330805\" y=\"68.629383\" style=\"fill: #dd8452; stroke: #333333\"/>\n",
       "    </g>\n",
       "   </g>\n",
       "   <g id=\"patch_3\">\n",
       "    <path d=\"M 59.024844 244.078125 \n",
       "L 59.024844 22.318125 \n",
       "\" style=\"fill: none; stroke: #ffffff; stroke-width: 1.25; stroke-linejoin: miter; stroke-linecap: square\"/>\n",
       "   </g>\n",
       "   <g id=\"patch_4\">\n",
       "    <path d=\"M 282.224844 244.078125 \n",
       "L 282.224844 22.318125 \n",
       "\" style=\"fill: none; stroke: #ffffff; stroke-width: 1.25; stroke-linejoin: miter; stroke-linecap: square\"/>\n",
       "   </g>\n",
       "   <g id=\"patch_5\">\n",
       "    <path d=\"M 59.024844 244.078125 \n",
       "L 282.224844 244.078125 \n",
       "\" style=\"fill: none; stroke: #ffffff; stroke-width: 1.25; stroke-linejoin: miter; stroke-linecap: square\"/>\n",
       "   </g>\n",
       "   <g id=\"patch_6\">\n",
       "    <path d=\"M 59.024844 22.318125 \n",
       "L 282.224844 22.318125 \n",
       "\" style=\"fill: none; stroke: #ffffff; stroke-width: 1.25; stroke-linejoin: miter; stroke-linecap: square\"/>\n",
       "   </g>\n",
       "   <g id=\"text_14\">\n",
       "    <!-- Dataset samples -->\n",
       "    <g style=\"fill: #262626\" transform=\"translate(120.282031 16.318125) scale(0.12 -0.12)\">\n",
       "     <defs>\n",
       "      <path id=\"DejaVuSans-44\" d=\"M 1259 4147 \n",
       "L 1259 519 \n",
       "L 2022 519 \n",
       "Q 2988 519 3436 956 \n",
       "Q 3884 1394 3884 2338 \n",
       "Q 3884 3275 3436 3711 \n",
       "Q 2988 4147 2022 4147 \n",
       "L 1259 4147 \n",
       "z\n",
       "M 628 4666 \n",
       "L 1925 4666 \n",
       "Q 3281 4666 3915 4102 \n",
       "Q 4550 3538 4550 2338 \n",
       "Q 4550 1131 3912 565 \n",
       "Q 3275 0 1925 0 \n",
       "L 628 0 \n",
       "L 628 4666 \n",
       "z\n",
       "\" transform=\"scale(0.015625)\"/>\n",
       "      <path id=\"DejaVuSans-61\" d=\"M 2194 1759 \n",
       "Q 1497 1759 1228 1600 \n",
       "Q 959 1441 959 1056 \n",
       "Q 959 750 1161 570 \n",
       "Q 1363 391 1709 391 \n",
       "Q 2188 391 2477 730 \n",
       "Q 2766 1069 2766 1631 \n",
       "L 2766 1759 \n",
       "L 2194 1759 \n",
       "z\n",
       "M 3341 1997 \n",
       "L 3341 0 \n",
       "L 2766 0 \n",
       "L 2766 531 \n",
       "Q 2569 213 2275 61 \n",
       "Q 1981 -91 1556 -91 \n",
       "Q 1019 -91 701 211 \n",
       "Q 384 513 384 1019 \n",
       "Q 384 1609 779 1909 \n",
       "Q 1175 2209 1959 2209 \n",
       "L 2766 2209 \n",
       "L 2766 2266 \n",
       "Q 2766 2663 2505 2880 \n",
       "Q 2244 3097 1772 3097 \n",
       "Q 1472 3097 1187 3025 \n",
       "Q 903 2953 641 2809 \n",
       "L 641 3341 \n",
       "Q 956 3463 1253 3523 \n",
       "Q 1550 3584 1831 3584 \n",
       "Q 2591 3584 2966 3190 \n",
       "Q 3341 2797 3341 1997 \n",
       "z\n",
       "\" transform=\"scale(0.015625)\"/>\n",
       "      <path id=\"DejaVuSans-74\" d=\"M 1172 4494 \n",
       "L 1172 3500 \n",
       "L 2356 3500 \n",
       "L 2356 3053 \n",
       "L 1172 3053 \n",
       "L 1172 1153 \n",
       "Q 1172 725 1289 603 \n",
       "Q 1406 481 1766 481 \n",
       "L 2356 481 \n",
       "L 2356 0 \n",
       "L 1766 0 \n",
       "Q 1100 0 847 248 \n",
       "Q 594 497 594 1153 \n",
       "L 594 3053 \n",
       "L 172 3053 \n",
       "L 172 3500 \n",
       "L 594 3500 \n",
       "L 594 4494 \n",
       "L 1172 4494 \n",
       "z\n",
       "\" transform=\"scale(0.015625)\"/>\n",
       "      <path id=\"DejaVuSans-73\" d=\"M 2834 3397 \n",
       "L 2834 2853 \n",
       "Q 2591 2978 2328 3040 \n",
       "Q 2066 3103 1784 3103 \n",
       "Q 1356 3103 1142 2972 \n",
       "Q 928 2841 928 2578 \n",
       "Q 928 2378 1081 2264 \n",
       "Q 1234 2150 1697 2047 \n",
       "L 1894 2003 \n",
       "Q 2506 1872 2764 1633 \n",
       "Q 3022 1394 3022 966 \n",
       "Q 3022 478 2636 193 \n",
       "Q 2250 -91 1575 -91 \n",
       "Q 1294 -91 989 -36 \n",
       "Q 684 19 347 128 \n",
       "L 347 722 \n",
       "Q 666 556 975 473 \n",
       "Q 1284 391 1588 391 \n",
       "Q 1994 391 2212 530 \n",
       "Q 2431 669 2431 922 \n",
       "Q 2431 1156 2273 1281 \n",
       "Q 2116 1406 1581 1522 \n",
       "L 1381 1569 \n",
       "Q 847 1681 609 1914 \n",
       "Q 372 2147 372 2553 \n",
       "Q 372 3047 722 3315 \n",
       "Q 1072 3584 1716 3584 \n",
       "Q 2034 3584 2315 3537 \n",
       "Q 2597 3491 2834 3397 \n",
       "z\n",
       "\" transform=\"scale(0.015625)\"/>\n",
       "      <path id=\"DejaVuSans-65\" d=\"M 3597 1894 \n",
       "L 3597 1613 \n",
       "L 953 1613 \n",
       "Q 991 1019 1311 708 \n",
       "Q 1631 397 2203 397 \n",
       "Q 2534 397 2845 478 \n",
       "Q 3156 559 3463 722 \n",
       "L 3463 178 \n",
       "Q 3153 47 2828 -22 \n",
       "Q 2503 -91 2169 -91 \n",
       "Q 1331 -91 842 396 \n",
       "Q 353 884 353 1716 \n",
       "Q 353 2575 817 3079 \n",
       "Q 1281 3584 2069 3584 \n",
       "Q 2775 3584 3186 3129 \n",
       "Q 3597 2675 3597 1894 \n",
       "z\n",
       "M 3022 2063 \n",
       "Q 3016 2534 2758 2815 \n",
       "Q 2500 3097 2075 3097 \n",
       "Q 1594 3097 1305 2825 \n",
       "Q 1016 2553 972 2059 \n",
       "L 3022 2063 \n",
       "z\n",
       "\" transform=\"scale(0.015625)\"/>\n",
       "      <path id=\"DejaVuSans-20\" transform=\"scale(0.015625)\"/>\n",
       "      <path id=\"DejaVuSans-6d\" d=\"M 3328 2828 \n",
       "Q 3544 3216 3844 3400 \n",
       "Q 4144 3584 4550 3584 \n",
       "Q 5097 3584 5394 3201 \n",
       "Q 5691 2819 5691 2113 \n",
       "L 5691 0 \n",
       "L 5113 0 \n",
       "L 5113 2094 \n",
       "Q 5113 2597 4934 2840 \n",
       "Q 4756 3084 4391 3084 \n",
       "Q 3944 3084 3684 2787 \n",
       "Q 3425 2491 3425 1978 \n",
       "L 3425 0 \n",
       "L 2847 0 \n",
       "L 2847 2094 \n",
       "Q 2847 2600 2669 2842 \n",
       "Q 2491 3084 2119 3084 \n",
       "Q 1678 3084 1418 2786 \n",
       "Q 1159 2488 1159 1978 \n",
       "L 1159 0 \n",
       "L 581 0 \n",
       "L 581 3500 \n",
       "L 1159 3500 \n",
       "L 1159 2956 \n",
       "Q 1356 3278 1631 3431 \n",
       "Q 1906 3584 2284 3584 \n",
       "Q 2666 3584 2933 3390 \n",
       "Q 3200 3197 3328 2828 \n",
       "z\n",
       "\" transform=\"scale(0.015625)\"/>\n",
       "      <path id=\"DejaVuSans-70\" d=\"M 1159 525 \n",
       "L 1159 -1331 \n",
       "L 581 -1331 \n",
       "L 581 3500 \n",
       "L 1159 3500 \n",
       "L 1159 2969 \n",
       "Q 1341 3281 1617 3432 \n",
       "Q 1894 3584 2278 3584 \n",
       "Q 2916 3584 3314 3078 \n",
       "Q 3713 2572 3713 1747 \n",
       "Q 3713 922 3314 415 \n",
       "Q 2916 -91 2278 -91 \n",
       "Q 1894 -91 1617 61 \n",
       "Q 1341 213 1159 525 \n",
       "z\n",
       "M 3116 1747 \n",
       "Q 3116 2381 2855 2742 \n",
       "Q 2594 3103 2138 3103 \n",
       "Q 1681 3103 1420 2742 \n",
       "Q 1159 2381 1159 1747 \n",
       "Q 1159 1113 1420 752 \n",
       "Q 1681 391 2138 391 \n",
       "Q 2594 391 2855 752 \n",
       "Q 3116 1113 3116 1747 \n",
       "z\n",
       "\" transform=\"scale(0.015625)\"/>\n",
       "      <path id=\"DejaVuSans-6c\" d=\"M 603 4863 \n",
       "L 1178 4863 \n",
       "L 1178 0 \n",
       "L 603 0 \n",
       "L 603 4863 \n",
       "z\n",
       "\" transform=\"scale(0.015625)\"/>\n",
       "     </defs>\n",
       "     <use xlink:href=\"#DejaVuSans-44\"/>\n",
       "     <use xlink:href=\"#DejaVuSans-61\" x=\"77.001953\"/>\n",
       "     <use xlink:href=\"#DejaVuSans-74\" x=\"138.28125\"/>\n",
       "     <use xlink:href=\"#DejaVuSans-61\" x=\"177.490234\"/>\n",
       "     <use xlink:href=\"#DejaVuSans-73\" x=\"238.769531\"/>\n",
       "     <use xlink:href=\"#DejaVuSans-65\" x=\"290.869141\"/>\n",
       "     <use xlink:href=\"#DejaVuSans-74\" x=\"352.392578\"/>\n",
       "     <use xlink:href=\"#DejaVuSans-20\" x=\"391.601562\"/>\n",
       "     <use xlink:href=\"#DejaVuSans-73\" x=\"423.388672\"/>\n",
       "     <use xlink:href=\"#DejaVuSans-61\" x=\"475.488281\"/>\n",
       "     <use xlink:href=\"#DejaVuSans-6d\" x=\"536.767578\"/>\n",
       "     <use xlink:href=\"#DejaVuSans-70\" x=\"634.179688\"/>\n",
       "     <use xlink:href=\"#DejaVuSans-6c\" x=\"697.65625\"/>\n",
       "     <use xlink:href=\"#DejaVuSans-65\" x=\"725.439453\"/>\n",
       "     <use xlink:href=\"#DejaVuSans-73\" x=\"786.962891\"/>\n",
       "    </g>\n",
       "   </g>\n",
       "   <g id=\"legend_1\">\n",
       "    <g id=\"patch_7\">\n",
       "     <path d=\"M 199.891562 150.994063 \n",
       "L 274.524844 150.994063 \n",
       "Q 276.724844 150.994063 276.724844 148.794063 \n",
       "L 276.724844 117.602188 \n",
       "Q 276.724844 115.402188 274.524844 115.402188 \n",
       "L 199.891562 115.402188 \n",
       "Q 197.691562 115.402188 197.691562 117.602188 \n",
       "L 197.691562 148.794063 \n",
       "Q 197.691562 150.994063 199.891562 150.994063 \n",
       "z\n",
       "\" style=\"fill: #eaeaf2; opacity: 0.8; stroke: #cccccc; stroke-linejoin: miter\"/>\n",
       "    </g>\n",
       "    <g id=\"PathCollection_3\">\n",
       "     <g>\n",
       "      <use xlink:href=\"#m1e67f59aa6\" x=\"213.091562\" y=\"125.272969\" style=\"fill: #4c72b0; stroke: #333333\"/>\n",
       "     </g>\n",
       "    </g>\n",
       "    <g id=\"text_15\">\n",
       "     <!-- Class 0 -->\n",
       "     <g style=\"fill: #262626\" transform=\"translate(232.891562 128.160469) scale(0.11 -0.11)\">\n",
       "      <defs>\n",
       "       <path id=\"DejaVuSans-43\" d=\"M 4122 4306 \n",
       "L 4122 3641 \n",
       "Q 3803 3938 3442 4084 \n",
       "Q 3081 4231 2675 4231 \n",
       "Q 1875 4231 1450 3742 \n",
       "Q 1025 3253 1025 2328 \n",
       "Q 1025 1406 1450 917 \n",
       "Q 1875 428 2675 428 \n",
       "Q 3081 428 3442 575 \n",
       "Q 3803 722 4122 1019 \n",
       "L 4122 359 \n",
       "Q 3791 134 3420 21 \n",
       "Q 3050 -91 2638 -91 \n",
       "Q 1578 -91 968 557 \n",
       "Q 359 1206 359 2328 \n",
       "Q 359 3453 968 4101 \n",
       "Q 1578 4750 2638 4750 \n",
       "Q 3056 4750 3426 4639 \n",
       "Q 3797 4528 4122 4306 \n",
       "z\n",
       "\" transform=\"scale(0.015625)\"/>\n",
       "      </defs>\n",
       "      <use xlink:href=\"#DejaVuSans-43\"/>\n",
       "      <use xlink:href=\"#DejaVuSans-6c\" x=\"69.824219\"/>\n",
       "      <use xlink:href=\"#DejaVuSans-61\" x=\"97.607422\"/>\n",
       "      <use xlink:href=\"#DejaVuSans-73\" x=\"158.886719\"/>\n",
       "      <use xlink:href=\"#DejaVuSans-73\" x=\"210.986328\"/>\n",
       "      <use xlink:href=\"#DejaVuSans-20\" x=\"263.085938\"/>\n",
       "      <use xlink:href=\"#DejaVuSans-30\" x=\"294.873047\"/>\n",
       "     </g>\n",
       "    </g>\n",
       "    <g id=\"PathCollection_4\">\n",
       "     <g>\n",
       "      <use xlink:href=\"#m5df88fe04f\" x=\"213.091562\" y=\"141.418906\" style=\"fill: #dd8452; stroke: #333333\"/>\n",
       "     </g>\n",
       "    </g>\n",
       "    <g id=\"text_16\">\n",
       "     <!-- Class 1 -->\n",
       "     <g style=\"fill: #262626\" transform=\"translate(232.891562 144.306406) scale(0.11 -0.11)\">\n",
       "      <use xlink:href=\"#DejaVuSans-43\"/>\n",
       "      <use xlink:href=\"#DejaVuSans-6c\" x=\"69.824219\"/>\n",
       "      <use xlink:href=\"#DejaVuSans-61\" x=\"97.607422\"/>\n",
       "      <use xlink:href=\"#DejaVuSans-73\" x=\"158.886719\"/>\n",
       "      <use xlink:href=\"#DejaVuSans-73\" x=\"210.986328\"/>\n",
       "      <use xlink:href=\"#DejaVuSans-20\" x=\"263.085938\"/>\n",
       "      <use xlink:href=\"#DejaVuSans-31\" x=\"294.873047\"/>\n",
       "     </g>\n",
       "    </g>\n",
       "   </g>\n",
       "  </g>\n",
       " </g>\n",
       " <defs>\n",
       "  <clipPath id=\"p02970aec45\">\n",
       "   <rect x=\"59.024844\" y=\"22.318125\" width=\"223.2\" height=\"221.76\"/>\n",
       "  </clipPath>\n",
       " </defs>\n",
       "</svg>\n"
      ],
      "text/plain": [
       "<Figure size 400x400 with 1 Axes>"
      ]
     },
     "metadata": {},
     "output_type": "display_data"
    }
   ],
   "source": [
    "visualize_samples(dataset.data, dataset.label)\n",
    "plt.show()"
   ]
  },
  {
   "cell_type": "markdown",
   "metadata": {},
   "source": [
    "#### The data loader class\n",
    "\n",
    "The class `torch.utils.data.DataLoader` represents a Python iterable over a dataset with support for automatic batching, multi-process data loading and many more features. The data loader communicates with the dataset using the function `__getitem__`, and stacks its outputs as tensors over the first dimension to form a batch.\n",
    "In contrast to the dataset class, we usually don't have to define our own data loader class, but can just create an object of it with the dataset as input. Additionally, we can configure our data loader with the following input arguments (only a selection, see full list [here](https://pytorch.org/docs/stable/data.html#torch.utils.data.DataLoader)):\n",
    "\n",
    "* `batch_size`: Number of samples to stack per batch\n",
    "* `shuffle`: If True, the data is returned in a random order. This is important during training for introducing stochasticity. \n",
    "* `num_workers`: Number of subprocesses to use for data loading. The default, 0, means that the data will be loaded in the main process which can slow down training for datasets where loading a data point takes a considerable amount of time (e.g. large images). More workers are recommended for those, but can cause issues on Windows computers. For tiny datasets as ours, 0 workers are usually faster.\n",
    "* `pin_memory`: If True, the data loader will copy Tensors into CUDA pinned memory before returning them. This can save some time for large data points on GPUs. Usually a good practice to use for a training set, but not necessarily for validation and test to save memory on the GPU.\n",
    "* `drop_last`: If True, the last batch is dropped in case it is smaller than the specified batch size. This occurs when the dataset size is not a multiple of the batch size. Only potentially helpful during training to keep a consistent batch size.\n",
    "\n",
    "Let's create a simple data loader below:"
   ]
  },
  {
   "cell_type": "code",
   "execution_count": 58,
   "metadata": {},
   "outputs": [],
   "source": [
    "data_loader = data.DataLoader(dataset, batch_size=8, shuffle=True)"
   ]
  },
  {
   "cell_type": "code",
   "execution_count": 59,
   "metadata": {},
   "outputs": [
    {
     "name": "stdout",
     "output_type": "stream",
     "text": [
      "Data inputs torch.Size([8, 2]) \n",
      " tensor([[ 1.1344,  0.8551],\n",
      "        [ 0.1600, -0.0037],\n",
      "        [ 0.9407, -0.1401],\n",
      "        [ 0.8817,  0.1229],\n",
      "        [-0.1725,  1.1113],\n",
      "        [ 0.9964,  0.8816],\n",
      "        [ 0.9128,  0.0407],\n",
      "        [ 0.0281,  1.1168]])\n",
      "Data labels torch.Size([8]) \n",
      " tensor([0, 0, 1, 1, 1, 0, 1, 1])\n"
     ]
    }
   ],
   "source": [
    "# next(iter(...)) catches the first batch of the data loader\n",
    "# If shuffle is True, this will return a different batch every time we run this cell\n",
    "# For iterating over the whole dataset, we can simple use \"for batch in data_loader: ...\"\n",
    "data_inputs, data_labels = next(iter(data_loader))\n",
    "\n",
    "# The shape of the outputs are [batch_size, d_1,...,d_N] where d_1,...,d_N are the \n",
    "# dimensions of the data point returned from the dataset class\n",
    "print(\"Data inputs\", data_inputs.shape, \"\\n\", data_inputs)\n",
    "print(\"Data labels\", data_labels.shape, \"\\n\", data_labels)"
   ]
  },
  {
   "cell_type": "markdown",
   "metadata": {},
   "source": [
    "### Optimization\n",
    "\n",
    "After defining the model and the dataset, it is time to prepare the optimization of the model. During training, we will perform the following steps:\n",
    "\n",
    "1. Get a batch from the data loader\n",
    "2. Obtain the predictions from the model for the batch\n",
    "3. Calculate the loss based on the difference between predictions and labels\n",
    "4. Backpropagation: calculate the gradients for every parameter with respect to the loss\n",
    "5. Update the parameters of the model in the direction of the gradients\n",
    "\n",
    "We have seen how we can do step 1, 2 and 4 in PyTorch. Now, we will look at step 3 and 5."
   ]
  },
  {
   "cell_type": "markdown",
   "metadata": {},
   "source": [
    "#### Loss modules\n",
    "\n",
    "We can calculate the loss for a batch by simply performing a few tensor operations as those are automatically added to the computation graph. For instance, for binary classification, we can use Binary Cross Entropy (BCE) which is defined as follows:\n",
    "\n",
    "$$\\mathcal{L}_{BCE} = -\\sum_i \\left[ y_i \\log x_i + (1 - y_i) \\log (1 - x_i) \\right]$$\n",
    "\n",
    "where $y$ are our labels, and $x$ our predictions, both in the range of $[0,1]$. However, PyTorch already provides a list of predefined loss functions which we can use (see [here](https://pytorch.org/docs/stable/nn.html#loss-functions) for a full list). For instance, for BCE, PyTorch has two modules: `nn.BCELoss()`, `nn.BCEWithLogitsLoss()`. While `nn.BCELoss` expects the inputs $x$ to be in the range $[0,1]$, i.e. the output of a sigmoid, `nn.BCEWithLogitsLoss` combines a sigmoid layer and the BCE loss in a single class. This version is numerically more stable than using a plain Sigmoid followed by a BCE loss because of the logarithms applied in the loss function. Hence, it is adviced to use loss functions applied on \"logits\" where possible (remember to not apply a sigmoid on the output of the model in this case!). For our model defined above, we therefore use the module `nn.BCEWithLogitsLoss`. "
   ]
  },
  {
   "cell_type": "code",
   "execution_count": 60,
   "metadata": {},
   "outputs": [],
   "source": [
    "loss_module = nn.BCEWithLogitsLoss()"
   ]
  },
  {
   "cell_type": "markdown",
   "metadata": {},
   "source": [
    "#### Stochastic Gradient Descent\n",
    "\n",
    "For updating the parameters, PyTorch provides the package `torch.optim` that has most popular optimizers implemented. We will discuss the specific optimizers and their differences later in the course, but will for now use the simplest of them: `torch.optim.SGD`. Stochastic Gradient Descent updates parameters by multiplying the gradients with a small constant, called learning rate, and subtracting those from the parameters (hence minimizing the loss). Therefore, we slowly move towards the direction of minimizing the loss. A good default value of the learning rate for a small network as ours is 0.1. "
   ]
  },
  {
   "cell_type": "code",
   "execution_count": 61,
   "metadata": {},
   "outputs": [],
   "source": [
    "# Input to the optimizer are the parameters of the model: model.parameters()\n",
    "optimizer = torch.optim.SGD(model.parameters(), lr=0.1)"
   ]
  },
  {
   "cell_type": "markdown",
   "metadata": {},
   "source": [
    "The optimizer provides two useful functions: `optimizer.step()`, and `optimizer.zero_grad()`. The step function updates the parameters based on the gradients as explained above. The function `optimizer.zero_grad()` sets the gradients of all parameters to zero. While this function seems less relevant at first, it is a crucial pre-step before performing backpropagation. If we call the `backward` function on the loss while the parameter gradients are non-zero from the previous batch, the new gradients would actually be added to the previous ones instead of overwriting them. This is done because a parameter might occur multiple times in a computation graph, and we need to sum the gradients in this case instead of replacing them. Hence, remember to call `optimizer.zero_grad()` before calculating the gradients of a batch."
   ]
  },
  {
   "cell_type": "markdown",
   "metadata": {},
   "source": [
    "### Training\n",
    "\n",
    "Finally, we are ready to train our model. As a first step, we create a slightly larger dataset and specify a data loader with a larger batch size. "
   ]
  },
  {
   "cell_type": "code",
   "execution_count": 62,
   "metadata": {},
   "outputs": [],
   "source": [
    "train_dataset = XORDataset(size=2500)\n",
    "train_data_loader = data.DataLoader(train_dataset, batch_size=128, shuffle=True)"
   ]
  },
  {
   "attachments": {},
   "cell_type": "markdown",
   "metadata": {},
   "source": [
    "Now, we can write a small training function. Remember our five steps: load a batch, obtain the predictions, calculate the loss, backpropagate, and update. Additionally, we have to push all data and model parameters to the device of our choice (GPU if available). For the tiny neural network we have, communicating the data to the GPU actually takes much more time than we could save from running the operation on CPU. For large networks, the communication time is significantly smaller than the actual runtime making a GPU crucial in these cases. Still, to practice, we will push the data to GPU here. "
   ]
  },
  {
   "cell_type": "code",
   "execution_count": 63,
   "metadata": {},
   "outputs": [
    {
     "data": {
      "text/plain": [
       "SimpleClassifier(\n",
       "  (linear1): Linear(in_features=2, out_features=4, bias=True)\n",
       "  (act_fn): Tanh()\n",
       "  (linear2): Linear(in_features=4, out_features=1, bias=True)\n",
       ")"
      ]
     },
     "execution_count": 63,
     "metadata": {},
     "output_type": "execute_result"
    }
   ],
   "source": [
    "# Push model to device. Has to be only done once\n",
    "model.to(device)"
   ]
  },
  {
   "cell_type": "markdown",
   "metadata": {},
   "source": [
    "In addition, we set our model to training mode. This is done by calling `model.train()`. There exist certain modules that need to perform a different forward step during training than during testing (e.g. BatchNorm and Dropout), and we can switch between them using `model.train()` and `model.eval()`."
   ]
  },
  {
   "cell_type": "code",
   "execution_count": 64,
   "metadata": {},
   "outputs": [],
   "source": [
    "def train_model(model, optimizer, data_loader, loss_module, num_epochs=100):\n",
    "    # Set model to train mode\n",
    "    model.train() \n",
    "    \n",
    "    # Training loop\n",
    "    for epoch in tqdm(range(num_epochs)):\n",
    "        for data_inputs, data_labels in data_loader:\n",
    "            \n",
    "            ## Step 1: Move input data to device (only strictly necessary if we use GPU)\n",
    "            data_inputs = data_inputs.to(device)\n",
    "            data_labels = data_labels.to(device)\n",
    "            \n",
    "            ## Step 2: Run the model on the input data\n",
    "            preds = model(data_inputs)\n",
    "            preds = preds.squeeze(dim=1) # Output is [Batch size, 1], but we want [Batch size]\n",
    "            \n",
    "            ## Step 3: Calculate the loss\n",
    "            loss = loss_module(preds, data_labels.float())\n",
    "            \n",
    "            ## Step 4: Perform backpropagation\n",
    "            # Before calculating the gradients, we need to ensure that they are all zero. \n",
    "            # The gradients would not be overwritten, but actually added to the existing ones.\n",
    "            optimizer.zero_grad() \n",
    "            # Perform backpropagation\n",
    "            loss.backward()\n",
    "            \n",
    "            ## Step 5: Update the parameters\n",
    "            optimizer.step()"
   ]
  },
  {
   "cell_type": "code",
   "execution_count": 66,
   "metadata": {},
   "outputs": [
    {
     "ename": "ImportError",
     "evalue": "IProgress not found. Please update jupyter and ipywidgets. See https://ipywidgets.readthedocs.io/en/stable/user_install.html",
     "output_type": "error",
     "traceback": [
      "\u001b[0;31m---------------------------------------------------------------------------\u001b[0m",
      "\u001b[0;31mImportError\u001b[0m                               Traceback (most recent call last)",
      "Cell \u001b[0;32mIn[66], line 1\u001b[0m\n\u001b[0;32m----> 1\u001b[0m \u001b[43mtrain_model\u001b[49m\u001b[43m(\u001b[49m\u001b[43mmodel\u001b[49m\u001b[43m,\u001b[49m\u001b[43m \u001b[49m\u001b[43moptimizer\u001b[49m\u001b[43m,\u001b[49m\u001b[43m \u001b[49m\u001b[43mtrain_data_loader\u001b[49m\u001b[43m,\u001b[49m\u001b[43m \u001b[49m\u001b[43mloss_module\u001b[49m\u001b[43m)\u001b[49m\n",
      "Cell \u001b[0;32mIn[64], line 6\u001b[0m, in \u001b[0;36mtrain_model\u001b[0;34m(model, optimizer, data_loader, loss_module, num_epochs)\u001b[0m\n\u001b[1;32m      3\u001b[0m model\u001b[38;5;241m.\u001b[39mtrain() \n\u001b[1;32m      5\u001b[0m \u001b[38;5;66;03m# Training loop\u001b[39;00m\n\u001b[0;32m----> 6\u001b[0m \u001b[38;5;28;01mfor\u001b[39;00m epoch \u001b[38;5;129;01min\u001b[39;00m \u001b[43mtqdm\u001b[49m\u001b[43m(\u001b[49m\u001b[38;5;28;43mrange\u001b[39;49m\u001b[43m(\u001b[49m\u001b[43mnum_epochs\u001b[49m\u001b[43m)\u001b[49m\u001b[43m)\u001b[49m:\n\u001b[1;32m      7\u001b[0m     \u001b[38;5;28;01mfor\u001b[39;00m data_inputs, data_labels \u001b[38;5;129;01min\u001b[39;00m data_loader:\n\u001b[1;32m      8\u001b[0m         \n\u001b[1;32m      9\u001b[0m         \u001b[38;5;66;03m## Step 1: Move input data to device (only strictly necessary if we use GPU)\u001b[39;00m\n\u001b[1;32m     10\u001b[0m         data_inputs \u001b[38;5;241m=\u001b[39m data_inputs\u001b[38;5;241m.\u001b[39mto(device)\n",
      "File \u001b[0;32m~/miniforge3/envs/dev/lib/python3.10/site-packages/tqdm/notebook.py:233\u001b[0m, in \u001b[0;36mtqdm_notebook.__init__\u001b[0;34m(self, *args, **kwargs)\u001b[0m\n\u001b[1;32m    231\u001b[0m unit_scale \u001b[38;5;241m=\u001b[39m \u001b[38;5;241m1\u001b[39m \u001b[38;5;28;01mif\u001b[39;00m \u001b[38;5;28mself\u001b[39m\u001b[38;5;241m.\u001b[39munit_scale \u001b[38;5;129;01mis\u001b[39;00m \u001b[38;5;28;01mTrue\u001b[39;00m \u001b[38;5;28;01melse\u001b[39;00m \u001b[38;5;28mself\u001b[39m\u001b[38;5;241m.\u001b[39munit_scale \u001b[38;5;129;01mor\u001b[39;00m \u001b[38;5;241m1\u001b[39m\n\u001b[1;32m    232\u001b[0m total \u001b[38;5;241m=\u001b[39m \u001b[38;5;28mself\u001b[39m\u001b[38;5;241m.\u001b[39mtotal \u001b[38;5;241m*\u001b[39m unit_scale \u001b[38;5;28;01mif\u001b[39;00m \u001b[38;5;28mself\u001b[39m\u001b[38;5;241m.\u001b[39mtotal \u001b[38;5;28;01melse\u001b[39;00m \u001b[38;5;28mself\u001b[39m\u001b[38;5;241m.\u001b[39mtotal\n\u001b[0;32m--> 233\u001b[0m \u001b[38;5;28mself\u001b[39m\u001b[38;5;241m.\u001b[39mcontainer \u001b[38;5;241m=\u001b[39m \u001b[38;5;28;43mself\u001b[39;49m\u001b[38;5;241;43m.\u001b[39;49m\u001b[43mstatus_printer\u001b[49m\u001b[43m(\u001b[49m\u001b[38;5;28;43mself\u001b[39;49m\u001b[38;5;241;43m.\u001b[39;49m\u001b[43mfp\u001b[49m\u001b[43m,\u001b[49m\u001b[43m \u001b[49m\u001b[43mtotal\u001b[49m\u001b[43m,\u001b[49m\u001b[43m \u001b[49m\u001b[38;5;28;43mself\u001b[39;49m\u001b[38;5;241;43m.\u001b[39;49m\u001b[43mdesc\u001b[49m\u001b[43m,\u001b[49m\u001b[43m \u001b[49m\u001b[38;5;28;43mself\u001b[39;49m\u001b[38;5;241;43m.\u001b[39;49m\u001b[43mncols\u001b[49m\u001b[43m)\u001b[49m\n\u001b[1;32m    234\u001b[0m \u001b[38;5;28mself\u001b[39m\u001b[38;5;241m.\u001b[39mcontainer\u001b[38;5;241m.\u001b[39mpbar \u001b[38;5;241m=\u001b[39m proxy(\u001b[38;5;28mself\u001b[39m)\n\u001b[1;32m    235\u001b[0m \u001b[38;5;28mself\u001b[39m\u001b[38;5;241m.\u001b[39mdisplayed \u001b[38;5;241m=\u001b[39m \u001b[38;5;28;01mFalse\u001b[39;00m\n",
      "File \u001b[0;32m~/miniforge3/envs/dev/lib/python3.10/site-packages/tqdm/notebook.py:108\u001b[0m, in \u001b[0;36mtqdm_notebook.status_printer\u001b[0;34m(_, total, desc, ncols)\u001b[0m\n\u001b[1;32m     99\u001b[0m \u001b[38;5;66;03m# Fallback to text bar if there's no total\u001b[39;00m\n\u001b[1;32m    100\u001b[0m \u001b[38;5;66;03m# DEPRECATED: replaced with an 'info' style bar\u001b[39;00m\n\u001b[1;32m    101\u001b[0m \u001b[38;5;66;03m# if not total:\u001b[39;00m\n\u001b[0;32m   (...)\u001b[0m\n\u001b[1;32m    105\u001b[0m \n\u001b[1;32m    106\u001b[0m \u001b[38;5;66;03m# Prepare IPython progress bar\u001b[39;00m\n\u001b[1;32m    107\u001b[0m \u001b[38;5;28;01mif\u001b[39;00m IProgress \u001b[38;5;129;01mis\u001b[39;00m \u001b[38;5;28;01mNone\u001b[39;00m:  \u001b[38;5;66;03m# #187 #451 #558 #872\u001b[39;00m\n\u001b[0;32m--> 108\u001b[0m     \u001b[38;5;28;01mraise\u001b[39;00m \u001b[38;5;167;01mImportError\u001b[39;00m(WARN_NOIPYW)\n\u001b[1;32m    109\u001b[0m \u001b[38;5;28;01mif\u001b[39;00m total:\n\u001b[1;32m    110\u001b[0m     pbar \u001b[38;5;241m=\u001b[39m IProgress(\u001b[38;5;28mmin\u001b[39m\u001b[38;5;241m=\u001b[39m\u001b[38;5;241m0\u001b[39m, \u001b[38;5;28mmax\u001b[39m\u001b[38;5;241m=\u001b[39mtotal)\n",
      "\u001b[0;31mImportError\u001b[0m: IProgress not found. Please update jupyter and ipywidgets. See https://ipywidgets.readthedocs.io/en/stable/user_install.html"
     ]
    }
   ],
   "source": [
    "train_model(model, optimizer, train_data_loader, loss_module)"
   ]
  },
  {
   "cell_type": "markdown",
   "metadata": {},
   "source": [
    "#### Saving a model\n",
    "\n",
    "After finish training a model, we save the model to disk so that we can load the same weights at a later time. For this, we extract the so-called `state_dict` from the model which contains all learnable parameters. For our simple model, the state dict contains the following entries:"
   ]
  },
  {
   "cell_type": "code",
   "execution_count": 53,
   "metadata": {},
   "outputs": [
    {
     "name": "stdout",
     "output_type": "stream",
     "text": [
      "OrderedDict([('linear1.weight', tensor([[-2.6034, -3.3292],\n",
      "        [ 1.9774, -2.4076],\n",
      "        [-2.5968, -1.5908],\n",
      "        [-0.5717, -0.8101]], device='cuda:0')), ('linear1.bias', tensor([ 1.4459, -1.3992,  2.9882, -0.1375], device='cuda:0')), ('linear2.weight', tensor([[-4.4623,  3.0885,  4.4030, -0.1377]], device='cuda:0')), ('linear2.bias', tensor([-1.6853], device='cuda:0'))])\n"
     ]
    }
   ],
   "source": [
    "state_dict = model.state_dict()\n",
    "print(state_dict)"
   ]
  },
  {
   "cell_type": "markdown",
   "metadata": {},
   "source": [
    "To save the state dictionary, we can use `torch.save`:"
   ]
  },
  {
   "cell_type": "code",
   "execution_count": 54,
   "metadata": {},
   "outputs": [],
   "source": [
    "# torch.save(object, filename). For the filename, any extension can be used\n",
    "torch.save(state_dict, \"our_model.tar\")"
   ]
  },
  {
   "cell_type": "markdown",
   "metadata": {},
   "source": [
    "To load a model from a state dict, we use the function `torch.load` to load the state dict from the disk, and the module function `load_state_dict` to overwrite our parameters with the new values:"
   ]
  },
  {
   "cell_type": "code",
   "execution_count": 55,
   "metadata": {},
   "outputs": [
    {
     "name": "stdout",
     "output_type": "stream",
     "text": [
      "Original model\n",
      " OrderedDict([('linear1.weight', tensor([[-2.6034, -3.3292],\n",
      "        [ 1.9774, -2.4076],\n",
      "        [-2.5968, -1.5908],\n",
      "        [-0.5717, -0.8101]], device='cuda:0')), ('linear1.bias', tensor([ 1.4459, -1.3992,  2.9882, -0.1375], device='cuda:0')), ('linear2.weight', tensor([[-4.4623,  3.0885,  4.4030, -0.1377]], device='cuda:0')), ('linear2.bias', tensor([-1.6853], device='cuda:0'))])\n",
      "\n",
      "Loaded model\n",
      " OrderedDict([('linear1.weight', tensor([[-2.6034, -3.3292],\n",
      "        [ 1.9774, -2.4076],\n",
      "        [-2.5968, -1.5908],\n",
      "        [-0.5717, -0.8101]])), ('linear1.bias', tensor([ 1.4459, -1.3992,  2.9882, -0.1375])), ('linear2.weight', tensor([[-4.4623,  3.0885,  4.4030, -0.1377]])), ('linear2.bias', tensor([-1.6853]))])\n"
     ]
    }
   ],
   "source": [
    "# Load state dict from the disk (make sure it is the same name as above)\n",
    "state_dict = torch.load(\"our_model.tar\")\n",
    "\n",
    "# Create a new model and load the state\n",
    "new_model = SimpleClassifier(num_inputs=2, num_hidden=4, num_outputs=1)\n",
    "new_model.load_state_dict(state_dict)\n",
    "\n",
    "# Verify that the parameters are the same\n",
    "print(\"Original model\\n\", model.state_dict())\n",
    "print(\"\\nLoaded model\\n\", new_model.state_dict())"
   ]
  },
  {
   "cell_type": "markdown",
   "metadata": {},
   "source": [
    "A detailed tutorial on saving and loading models in PyTorch can be found [here](https://pytorch.org/tutorials/beginner/saving_loading_models.html)."
   ]
  }
 ],
 "metadata": {
  "kernelspec": {
   "display_name": "opti_stoch",
   "language": "python",
   "name": "opti_stoch"
  },
  "language_info": {
   "codemirror_mode": {
    "name": "ipython",
    "version": 3
   },
   "file_extension": ".py",
   "mimetype": "text/x-python",
   "name": "python",
   "nbconvert_exporter": "python",
   "pygments_lexer": "ipython3",
   "version": "3.10.13"
  }
 },
 "nbformat": 4,
 "nbformat_minor": 4
}

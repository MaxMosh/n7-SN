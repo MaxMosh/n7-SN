{
 "cells": [
  {
   "cell_type": "markdown",
   "metadata": {},
   "source": [
    "# Correspondence analysis"
   ]
  },
  {
   "cell_type": "markdown",
   "metadata": {},
   "source": [
    "Author: O. Roustant, INSA Toulouse. April 2022.\n",
    "\n",
    "This notebook aims at illustrating the course of correspondence analysis. It is complementary to the course slides."
   ]
  },
  {
   "cell_type": "markdown",
   "metadata": {},
   "source": [
    "# Illustration on the velib data\n",
    "\n",
    "We consider the ‘Vélib’ data set, related to the bike sharing system of Paris. The data are loading profiles of the bike stations over one week, collected every hour, from the period Monday 2nd Sept. - Sunday 7th Sept., 2014. The loading profile of a station, or simply loading, is defined as the ratio of number of available bikes divided by the number of bike docks. A loading of 1 means that the station is fully loaded, i.e. all bikes are available. A loading of 0 means that the station is empty, all bikes have been rent.\n",
    "\n",
    "From the viewpoint of data analysis, the individuals are the stations. The variables are the 168 time steps (hours in the week). The aim is to detect clusters in the data, corresponding to common customer usages. This clustering should then be used to predict the loading profile."
   ]
  },
  {
   "cell_type": "code",
   "execution_count": 1,
   "metadata": {},
   "outputs": [
    {
     "name": "stderr",
     "output_type": "stream",
     "text": [
      "Warning message in readChar(con, 5L, useBytes = TRUE):\n",
      "“impossible d'ouvrir le fichier compressé 'velib.RData', cause probable : 'Aucun fichier ou dossier de ce type'”\n"
     ]
    },
    {
     "ename": "ERROR",
     "evalue": "Error in readChar(con, 5L, useBytes = TRUE): impossible d'ouvrir la connexion\n",
     "output_type": "error",
     "traceback": [
      "Error in readChar(con, 5L, useBytes = TRUE): impossible d'ouvrir la connexion\nTraceback:\n",
      "1. load(\"velib.RData\")",
      "2. readChar(con, 5L, useBytes = TRUE)"
     ]
    }
   ],
   "source": [
    "rm(list = ls())   # erase everything, start from scratch!\n",
    "\n",
    "load(\"velib.RData\")"
   ]
  },
  {
   "cell_type": "code",
   "execution_count": null,
   "metadata": {},
   "outputs": [],
   "source": [
    "# data preparation\n",
    "x <- as.matrix(velib$data)\n",
    "colnames(x) <- 1:ncol(x)\n",
    "rownames(x) <- velib$names\n",
    "\n",
    "n <- nrow(x)\n",
    "stations <- 1:n \n",
    "coord <- velib$position[stations,]\n",
    "\n",
    "# select exactly 7 days of data (we remove the first 13 dates)\n",
    "dates <- 14:181\n",
    "x <- x[stations, dates]\n",
    "colnames(x) <- 1:length(dates)"
   ]
  },
  {
   "cell_type": "code",
   "execution_count": null,
   "metadata": {},
   "outputs": [],
   "source": [
    "timeTick <- 1 + 24*(0:6)  # vector corresponding to the beginning of days\n",
    "par(mfrow = c(1, 1))\n",
    "\n",
    "options(repr.plot.width = 15, repr.plot.height = 6)\n",
    "\n",
    "plot(x[1, ], col = \"blue\", type = \"l\", ylim = c(0, 1), \n",
    "     xlab = \"Time\", ylab = \"Loading\", main = rownames(x)[1])\n",
    "abline(v = timeTick, lty = \"dotted\")\n"
   ]
  },
  {
   "cell_type": "code",
   "execution_count": null,
   "metadata": {},
   "outputs": [],
   "source": [
    "# From now on, we use numbers instead of station names, \n",
    "# in order to simplify printing\n",
    "rownames(x) <- 1:nrow(x)"
   ]
  },
  {
   "cell_type": "markdown",
   "metadata": {},
   "source": [
    "## Basic clustering"
   ]
  },
  {
   "cell_type": "code",
   "execution_count": 2,
   "metadata": {},
   "outputs": [
    {
     "ename": "ERROR",
     "evalue": "Error in eval(expr, envir, enclos): objet 'x' introuvable\n",
     "output_type": "error",
     "traceback": [
      "Error in eval(expr, envir, enclos): objet 'x' introuvable\nTraceback:\n",
      "1. hclust(dist(x), method = \"ward.D2\")",
      "2. dist(x)",
      "3. as.matrix(x)"
     ]
    }
   ],
   "source": [
    "# hierarchical clustering\n",
    "hc <- hclust(dist(x), method = \"ward.D2\")\n",
    "plot(hc, xlab = \"ward linkage\", sub = \"\", cex.lab = 2, cex.main = 2)\n",
    "plot(rev(hc$height)[1:15], xlab = \"Number of classes\", ylab = \"height\", \n",
    "     cex.lab = 2, cex.main = 2, cex.axis = 2, cex = 2, pch = 19)\n"
   ]
  },
  {
   "cell_type": "code",
   "execution_count": null,
   "metadata": {},
   "outputs": [],
   "source": [
    "# let us choose K clusters\n",
    "K <- 5\n",
    "reshc <- cutree(hc, k = K)"
   ]
  },
  {
   "cell_type": "code",
   "execution_count": null,
   "metadata": {},
   "outputs": [],
   "source": [
    "# k-means \n",
    "K2 <- 6\n",
    "km <- kmeans(x, centers = K2, nstart = 20)\n",
    "reskm <- km$cluster"
   ]
  },
  {
   "cell_type": "code",
   "execution_count": null,
   "metadata": {},
   "outputs": [],
   "source": [
    "# Comparison with a contingency table\n",
    "tab <- table(reskm, reshc)\n",
    "rownames(tab) <- paste(\"km\", 1:K2, sep = \"\")\n",
    "colnames(tab) <- paste(\"hc\", 1:K, sep = \"\")\n",
    "tab"
   ]
  },
  {
   "cell_type": "markdown",
   "metadata": {},
   "source": [
    "## Correspondence analysis"
   ]
  },
  {
   "cell_type": "markdown",
   "metadata": {},
   "source": [
    "In order to compare the clustering results, we use correspondence analysis, which is composed of two PCAs with the chi2 metric: one on the \"profile rows\", the other on the \"profile columns\". "
   ]
  },
  {
   "cell_type": "markdown",
   "metadata": {},
   "source": [
    "Let us build the profile rows: for each row, compute the percentage (with respect to the sum of the row values)."
   ]
  },
  {
   "cell_type": "code",
   "execution_count": null,
   "metadata": {},
   "outputs": [],
   "source": [
    "cat(\"Contingency table:\\n\")\n",
    "tab\n",
    "rowProf <- tab\n",
    "for (i in 1:nrow(tab)){\n",
    "    rowProf[i, ] <- tab[i, ] / sum(tab[i, ])\n",
    "}\n",
    "cat(\"\\nRow profile table:\\n\\n\")\n",
    "print(rowProf, digits = 2);\n",
    "\n",
    "cat(\"\\nColumn frequencies (inverse weights for chi2 distance):\\n\")\n",
    "rowSums(rowProf)\n",
    "colsum <- colSums(tab) / sum(tab)\n",
    "colsum"
   ]
  },
  {
   "cell_type": "markdown",
   "metadata": {},
   "source": [
    "Let us compute the chi2 distance between the first two rows: sum of squares weighted by the inverse of the column sum. Hence the coordinates associated with the fewest individuals have the largest weight."
   ]
  },
  {
   "cell_type": "code",
   "execution_count": null,
   "metadata": {},
   "outputs": [],
   "source": [
    "for (i in 2:K){\n",
    "    chi2Dist2 <- sum((rowProf[1, ] - rowProf[i, ])^2 / colsum)\n",
    "    cat(\"\\nsquared Chi2 distance between rows 1 and\", i, \":\", chi2Dist2)\n",
    "}"
   ]
  },
  {
   "cell_type": "markdown",
   "metadata": {},
   "source": [
    "Do the same for the columns"
   ]
  },
  {
   "cell_type": "code",
   "execution_count": null,
   "metadata": {},
   "outputs": [],
   "source": [
    "colProf <- tab\n",
    "for (j in 1:ncol(tab)){\n",
    "    colProf[, j] <- tab[, j] / sum(tab[, j])\n",
    "}\n",
    "tab; print(colProf, digits = 2)\n",
    "rowSum <- rowSums(tab)\n",
    "rowSum"
   ]
  },
  {
   "cell_type": "markdown",
   "metadata": {},
   "source": [
    "Let us now perform a PCA of the row profiles with the chi2 metric, and a PCA of the colum profiles with the chi2 metric. We plot them simultaneously on the first PCA coordinates. Explain why they correspond. Interpret the results."
   ]
  },
  {
   "cell_type": "code",
   "execution_count": null,
   "metadata": {},
   "outputs": [],
   "source": [
    "library(FactoMineR)\n",
    "ca <- CA(tab)\n",
    "ca"
   ]
  },
  {
   "cell_type": "markdown",
   "metadata": {},
   "source": [
    "# Sociological data\n",
    "\n",
    "We consider the dataset studied by the sociologist Pierre Bourdieu, presented in the textbook of Xavier Gendre,\n",
    "\n",
    "https://www.math.univ-toulouse.fr/~xgendre/\n",
    "\n",
    "about 8869 students. We know the parent job:\n",
    "\n",
    "    EAG : Exploitant agricole\n",
    "    SAG : Salarié agricole\n",
    "    PT : Patron\n",
    "    PLCS : Profession libérale & cadre supérieur\n",
    "    CM : Cadre moyen\n",
    "    EMP : Employé\n",
    "    OUV : Ouvrier\n",
    "    OTH : Autre\n",
    "\n",
    "and the kind of studies of children:\n",
    "\n",
    "    DR : Droit\n",
    "    SCE : Sciences économiques\n",
    "    LET : Lettres\n",
    "    SC : Sciences\n",
    "    MD : Médecine ou dentaire\n",
    "    PH : Pharmacie\n",
    "    PD : Pluridisciplinaire\n",
    "    IUT : Institut Universitaire de Technologie\n",
    "\n",
    "We want to investigate if there is a social reproductibility, i.e. if there is a link between the parent job and the kind of studies of the children."
   ]
  },
  {
   "cell_type": "markdown",
   "metadata": {},
   "source": [
    "**Q** Do a correspondence analysis. Conclusions?\n",
    "\n",
    "**Q** Some levels have small frequencies. What consequence on the results? How to gather levels? Redo the correspondence analysis with the new levels."
   ]
  },
  {
   "cell_type": "markdown",
   "metadata": {},
   "source": [
    "**R** Some clusters seem to be linked, like MD and PCLS or IUT and EAG. MD and PCLS can means that doctors make baby doctors.\n",
    "\n",
    "**R** In the case of PH whis has small frequencies, the correspondence analysis factor map show it quite far away from the other datas. By gathering MD and PH (which can seem logical because they are both health jobs), the MDPH level is now near the initial MD position, and so MDPH and PCLS seem linked."
   ]
  },
  {
   "cell_type": "code",
   "execution_count": null,
   "metadata": {},
   "outputs": [],
   "source": [
    "T <- read.table(\"dataBourdieu.dat\")\n",
    "T"
   ]
  },
  {
   "cell_type": "code",
   "execution_count": null,
   "metadata": {},
   "outputs": [],
   "source": [
    "CA(T)"
   ]
  },
  {
   "cell_type": "code",
   "execution_count": null,
   "metadata": {},
   "outputs": [],
   "source": [
    "# Example for the levels Pharmacie and Medecine: \n",
    "T2 <- T\n",
    "T2 <- cbind(T, MDPH = T[, \"MD\"] + T[, \"PH\"])  # gather levels MD and PH (columns 5 and 6)\n",
    "T2 <- T2[, -c(5,6)]  # delete corresponding columns\n",
    "T2"
   ]
  },
  {
   "cell_type": "code",
   "execution_count": null,
   "metadata": {
    "scrolled": false
   },
   "outputs": [],
   "source": [
    "CA(T2)"
   ]
  },
  {
   "cell_type": "code",
   "execution_count": null,
   "metadata": {},
   "outputs": [],
   "source": [
    "# Example for the levels Droit and Sciences économiques: \n",
    "T3 <- T2\n",
    "T3 <- cbind(T2, DRSCE = T2[, \"DR\"] + T2[, \"SCE\"])  # gather levels MD and PH (columns 5 and 6)\n",
    "T3 <- T3[, -c(1,2)]  # delete corresponding columns\n",
    "T3"
   ]
  },
  {
   "cell_type": "code",
   "execution_count": null,
   "metadata": {},
   "outputs": [],
   "source": [
    "CA(T3)"
   ]
  }
 ],
 "metadata": {
  "kernelspec": {
   "display_name": "R",
   "language": "R",
   "name": "ir"
  },
  "language_info": {
   "codemirror_mode": "r",
   "file_extension": ".r",
   "mimetype": "text/x-r-source",
   "name": "R",
   "pygments_lexer": "r",
   "version": "4.3.1"
  },
  "toc": {
   "base_numbering": 1,
   "nav_menu": {},
   "number_sections": true,
   "sideBar": true,
   "skip_h1_title": false,
   "title_cell": "Table of Contents",
   "title_sidebar": "Contents",
   "toc_cell": false,
   "toc_position": {},
   "toc_section_display": true,
   "toc_window_display": false
  }
 },
 "nbformat": 4,
 "nbformat_minor": 4
}
